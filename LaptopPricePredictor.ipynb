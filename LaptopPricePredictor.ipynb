{
<<<<<<< HEAD
  "nbformat": 4,
  "nbformat_minor": 0,
  "metadata": {
    "colab": {
      "provenance": []
    },
    "kernelspec": {
      "name": "python3",
      "display_name": "Python 3"
    },
    "language_info": {
      "name": "python"
    }
  },
  "cells": [
    {
      "cell_type": "code",
      "execution_count": 1,
      "metadata": {
        "id": "D9YDDA7G73d0"
      },
      "outputs": [],
      "source": [
        "import numpy as np\n",
        "import pandas as pd"
      ]
    },
    {
      "cell_type": "code",
      "source": [
        "import matplotlib.pyplot as plt"
      ],
      "metadata": {
        "id": "soJtYKXYLV_L"
      },
      "execution_count": 2,
      "outputs": []
    },
    {
      "cell_type": "code",
      "source": [
        "df = pd.read_csv(\"/content/laptop_data.csv\")"
      ],
      "metadata": {
        "id": "M3mjxvzh9joo"
      },
      "execution_count": 3,
      "outputs": []
    },
    {
      "cell_type": "code",
      "source": [
        "df.head()"
      ],
      "metadata": {
        "colab": {
          "base_uri": "https://localhost:8080/",
          "height": 389
        },
        "id": "CJXAITLQ9wsU",
        "outputId": "1300bb77-9d52-4bc0-b5f5-6cef43782fd6"
      },
      "execution_count": 4,
      "outputs": [
        {
          "output_type": "execute_result",
          "data": {
            "text/plain": [
              "   Unnamed: 0 Company   TypeName  Inches                    ScreenResolution  \\\n",
              "0           0   Apple  Ultrabook    13.3  IPS Panel Retina Display 2560x1600   \n",
              "1           1   Apple  Ultrabook    13.3                            1440x900   \n",
              "2           2      HP   Notebook    15.6                   Full HD 1920x1080   \n",
              "3           3   Apple  Ultrabook    15.4  IPS Panel Retina Display 2880x1800   \n",
              "4           4   Apple  Ultrabook    13.3  IPS Panel Retina Display 2560x1600   \n",
              "\n",
              "                          Cpu   Ram               Memory  \\\n",
              "0        Intel Core i5 2.3GHz   8GB            128GB SSD   \n",
              "1        Intel Core i5 1.8GHz   8GB  128GB Flash Storage   \n",
              "2  Intel Core i5 7200U 2.5GHz   8GB            256GB SSD   \n",
              "3        Intel Core i7 2.7GHz  16GB            512GB SSD   \n",
              "4        Intel Core i5 3.1GHz   8GB            256GB SSD   \n",
              "\n",
              "                            Gpu  OpSys  Weight        Price  \n",
              "0  Intel Iris Plus Graphics 640  macOS  1.37kg   71378.6832  \n",
              "1        Intel HD Graphics 6000  macOS  1.34kg   47895.5232  \n",
              "2         Intel HD Graphics 620  No OS  1.86kg   30636.0000  \n",
              "3            AMD Radeon Pro 455  macOS  1.83kg  135195.3360  \n",
              "4  Intel Iris Plus Graphics 650  macOS  1.37kg   96095.8080  "
            ],
            "text/html": [
              "\n",
              "  <div id=\"df-64d8a2cb-7559-44c3-bd2c-48457f389089\">\n",
              "    <div class=\"colab-df-container\">\n",
              "      <div>\n",
              "<style scoped>\n",
              "    .dataframe tbody tr th:only-of-type {\n",
              "        vertical-align: middle;\n",
              "    }\n",
              "\n",
              "    .dataframe tbody tr th {\n",
              "        vertical-align: top;\n",
              "    }\n",
              "\n",
              "    .dataframe thead th {\n",
              "        text-align: right;\n",
              "    }\n",
              "</style>\n",
              "<table border=\"1\" class=\"dataframe\">\n",
              "  <thead>\n",
              "    <tr style=\"text-align: right;\">\n",
              "      <th></th>\n",
              "      <th>Unnamed: 0</th>\n",
              "      <th>Company</th>\n",
              "      <th>TypeName</th>\n",
              "      <th>Inches</th>\n",
              "      <th>ScreenResolution</th>\n",
              "      <th>Cpu</th>\n",
              "      <th>Ram</th>\n",
              "      <th>Memory</th>\n",
              "      <th>Gpu</th>\n",
              "      <th>OpSys</th>\n",
              "      <th>Weight</th>\n",
              "      <th>Price</th>\n",
              "    </tr>\n",
              "  </thead>\n",
              "  <tbody>\n",
              "    <tr>\n",
              "      <th>0</th>\n",
              "      <td>0</td>\n",
              "      <td>Apple</td>\n",
              "      <td>Ultrabook</td>\n",
              "      <td>13.3</td>\n",
              "      <td>IPS Panel Retina Display 2560x1600</td>\n",
              "      <td>Intel Core i5 2.3GHz</td>\n",
              "      <td>8GB</td>\n",
              "      <td>128GB SSD</td>\n",
              "      <td>Intel Iris Plus Graphics 640</td>\n",
              "      <td>macOS</td>\n",
              "      <td>1.37kg</td>\n",
              "      <td>71378.6832</td>\n",
              "    </tr>\n",
              "    <tr>\n",
              "      <th>1</th>\n",
              "      <td>1</td>\n",
              "      <td>Apple</td>\n",
              "      <td>Ultrabook</td>\n",
              "      <td>13.3</td>\n",
              "      <td>1440x900</td>\n",
              "      <td>Intel Core i5 1.8GHz</td>\n",
              "      <td>8GB</td>\n",
              "      <td>128GB Flash Storage</td>\n",
              "      <td>Intel HD Graphics 6000</td>\n",
              "      <td>macOS</td>\n",
              "      <td>1.34kg</td>\n",
              "      <td>47895.5232</td>\n",
              "    </tr>\n",
              "    <tr>\n",
              "      <th>2</th>\n",
              "      <td>2</td>\n",
              "      <td>HP</td>\n",
              "      <td>Notebook</td>\n",
              "      <td>15.6</td>\n",
              "      <td>Full HD 1920x1080</td>\n",
              "      <td>Intel Core i5 7200U 2.5GHz</td>\n",
              "      <td>8GB</td>\n",
              "      <td>256GB SSD</td>\n",
              "      <td>Intel HD Graphics 620</td>\n",
              "      <td>No OS</td>\n",
              "      <td>1.86kg</td>\n",
              "      <td>30636.0000</td>\n",
              "    </tr>\n",
              "    <tr>\n",
              "      <th>3</th>\n",
              "      <td>3</td>\n",
              "      <td>Apple</td>\n",
              "      <td>Ultrabook</td>\n",
              "      <td>15.4</td>\n",
              "      <td>IPS Panel Retina Display 2880x1800</td>\n",
              "      <td>Intel Core i7 2.7GHz</td>\n",
              "      <td>16GB</td>\n",
              "      <td>512GB SSD</td>\n",
              "      <td>AMD Radeon Pro 455</td>\n",
              "      <td>macOS</td>\n",
              "      <td>1.83kg</td>\n",
              "      <td>135195.3360</td>\n",
              "    </tr>\n",
              "    <tr>\n",
              "      <th>4</th>\n",
              "      <td>4</td>\n",
              "      <td>Apple</td>\n",
              "      <td>Ultrabook</td>\n",
              "      <td>13.3</td>\n",
              "      <td>IPS Panel Retina Display 2560x1600</td>\n",
              "      <td>Intel Core i5 3.1GHz</td>\n",
              "      <td>8GB</td>\n",
              "      <td>256GB SSD</td>\n",
              "      <td>Intel Iris Plus Graphics 650</td>\n",
              "      <td>macOS</td>\n",
              "      <td>1.37kg</td>\n",
              "      <td>96095.8080</td>\n",
              "    </tr>\n",
              "  </tbody>\n",
              "</table>\n",
              "</div>\n",
              "      <button class=\"colab-df-convert\" onclick=\"convertToInteractive('df-64d8a2cb-7559-44c3-bd2c-48457f389089')\"\n",
              "              title=\"Convert this dataframe to an interactive table.\"\n",
              "              style=\"display:none;\">\n",
              "        \n",
              "  <svg xmlns=\"http://www.w3.org/2000/svg\" height=\"24px\"viewBox=\"0 0 24 24\"\n",
              "       width=\"24px\">\n",
              "    <path d=\"M0 0h24v24H0V0z\" fill=\"none\"/>\n",
              "    <path d=\"M18.56 5.44l.94 2.06.94-2.06 2.06-.94-2.06-.94-.94-2.06-.94 2.06-2.06.94zm-11 1L8.5 8.5l.94-2.06 2.06-.94-2.06-.94L8.5 2.5l-.94 2.06-2.06.94zm10 10l.94 2.06.94-2.06 2.06-.94-2.06-.94-.94-2.06-.94 2.06-2.06.94z\"/><path d=\"M17.41 7.96l-1.37-1.37c-.4-.4-.92-.59-1.43-.59-.52 0-1.04.2-1.43.59L10.3 9.45l-7.72 7.72c-.78.78-.78 2.05 0 2.83L4 21.41c.39.39.9.59 1.41.59.51 0 1.02-.2 1.41-.59l7.78-7.78 2.81-2.81c.8-.78.8-2.07 0-2.86zM5.41 20L4 18.59l7.72-7.72 1.47 1.35L5.41 20z\"/>\n",
              "  </svg>\n",
              "      </button>\n",
              "      \n",
              "  <style>\n",
              "    .colab-df-container {\n",
              "      display:flex;\n",
              "      flex-wrap:wrap;\n",
              "      gap: 12px;\n",
              "    }\n",
              "\n",
              "    .colab-df-convert {\n",
              "      background-color: #E8F0FE;\n",
              "      border: none;\n",
              "      border-radius: 50%;\n",
              "      cursor: pointer;\n",
              "      display: none;\n",
              "      fill: #1967D2;\n",
              "      height: 32px;\n",
              "      padding: 0 0 0 0;\n",
              "      width: 32px;\n",
              "    }\n",
              "\n",
              "    .colab-df-convert:hover {\n",
              "      background-color: #E2EBFA;\n",
              "      box-shadow: 0px 1px 2px rgba(60, 64, 67, 0.3), 0px 1px 3px 1px rgba(60, 64, 67, 0.15);\n",
              "      fill: #174EA6;\n",
              "    }\n",
              "\n",
              "    [theme=dark] .colab-df-convert {\n",
              "      background-color: #3B4455;\n",
              "      fill: #D2E3FC;\n",
              "    }\n",
              "\n",
              "    [theme=dark] .colab-df-convert:hover {\n",
              "      background-color: #434B5C;\n",
              "      box-shadow: 0px 1px 3px 1px rgba(0, 0, 0, 0.15);\n",
              "      filter: drop-shadow(0px 1px 2px rgba(0, 0, 0, 0.3));\n",
              "      fill: #FFFFFF;\n",
              "    }\n",
              "  </style>\n",
              "\n",
              "      <script>\n",
              "        const buttonEl =\n",
              "          document.querySelector('#df-64d8a2cb-7559-44c3-bd2c-48457f389089 button.colab-df-convert');\n",
              "        buttonEl.style.display =\n",
              "          google.colab.kernel.accessAllowed ? 'block' : 'none';\n",
              "\n",
              "        async function convertToInteractive(key) {\n",
              "          const element = document.querySelector('#df-64d8a2cb-7559-44c3-bd2c-48457f389089');\n",
              "          const dataTable =\n",
              "            await google.colab.kernel.invokeFunction('convertToInteractive',\n",
              "                                                     [key], {});\n",
              "          if (!dataTable) return;\n",
              "\n",
              "          const docLinkHtml = 'Like what you see? Visit the ' +\n",
              "            '<a target=\"_blank\" href=https://colab.research.google.com/notebooks/data_table.ipynb>data table notebook</a>'\n",
              "            + ' to learn more about interactive tables.';\n",
              "          element.innerHTML = '';\n",
              "          dataTable['output_type'] = 'display_data';\n",
              "          await google.colab.output.renderOutput(dataTable, element);\n",
              "          const docLink = document.createElement('div');\n",
              "          docLink.innerHTML = docLinkHtml;\n",
              "          element.appendChild(docLink);\n",
              "        }\n",
              "      </script>\n",
              "    </div>\n",
              "  </div>\n",
              "  "
            ]
          },
          "metadata": {},
          "execution_count": 4
        }
      ]
    },
    {
      "cell_type": "code",
      "source": [
        "df['Price'] = df['Price'] * 1.6\n"
      ],
      "metadata": {
        "id": "FQqfUsXr9xvY"
      },
      "execution_count": 5,
      "outputs": []
    },
    {
      "cell_type": "code",
      "source": [
        "df.head()"
      ],
      "metadata": {
        "colab": {
          "base_uri": "https://localhost:8080/",
          "height": 406
        },
        "id": "jtGairK6N04-",
        "outputId": "ee0b30d2-de28-4583-e032-70db3f810908"
      },
      "execution_count": 6,
      "outputs": [
        {
          "output_type": "execute_result",
          "data": {
            "text/plain": [
              "   Unnamed: 0 Company   TypeName  Inches                    ScreenResolution  \\\n",
              "0           0   Apple  Ultrabook    13.3  IPS Panel Retina Display 2560x1600   \n",
              "1           1   Apple  Ultrabook    13.3                            1440x900   \n",
              "2           2      HP   Notebook    15.6                   Full HD 1920x1080   \n",
              "3           3   Apple  Ultrabook    15.4  IPS Panel Retina Display 2880x1800   \n",
              "4           4   Apple  Ultrabook    13.3  IPS Panel Retina Display 2560x1600   \n",
              "\n",
              "                          Cpu   Ram               Memory  \\\n",
              "0        Intel Core i5 2.3GHz   8GB            128GB SSD   \n",
              "1        Intel Core i5 1.8GHz   8GB  128GB Flash Storage   \n",
              "2  Intel Core i5 7200U 2.5GHz   8GB            256GB SSD   \n",
              "3        Intel Core i7 2.7GHz  16GB            512GB SSD   \n",
              "4        Intel Core i5 3.1GHz   8GB            256GB SSD   \n",
              "\n",
              "                            Gpu  OpSys  Weight         Price  \n",
              "0  Intel Iris Plus Graphics 640  macOS  1.37kg  114205.89312  \n",
              "1        Intel HD Graphics 6000  macOS  1.34kg   76632.83712  \n",
              "2         Intel HD Graphics 620  No OS  1.86kg   49017.60000  \n",
              "3            AMD Radeon Pro 455  macOS  1.83kg  216312.53760  \n",
              "4  Intel Iris Plus Graphics 650  macOS  1.37kg  153753.29280  "
            ],
            "text/html": [
              "\n",
              "  <div id=\"df-7ba91235-61ad-43b8-91a9-c83e57fad3ff\">\n",
              "    <div class=\"colab-df-container\">\n",
              "      <div>\n",
              "<style scoped>\n",
              "    .dataframe tbody tr th:only-of-type {\n",
              "        vertical-align: middle;\n",
              "    }\n",
              "\n",
              "    .dataframe tbody tr th {\n",
              "        vertical-align: top;\n",
              "    }\n",
              "\n",
              "    .dataframe thead th {\n",
              "        text-align: right;\n",
              "    }\n",
              "</style>\n",
              "<table border=\"1\" class=\"dataframe\">\n",
              "  <thead>\n",
              "    <tr style=\"text-align: right;\">\n",
              "      <th></th>\n",
              "      <th>Unnamed: 0</th>\n",
              "      <th>Company</th>\n",
              "      <th>TypeName</th>\n",
              "      <th>Inches</th>\n",
              "      <th>ScreenResolution</th>\n",
              "      <th>Cpu</th>\n",
              "      <th>Ram</th>\n",
              "      <th>Memory</th>\n",
              "      <th>Gpu</th>\n",
              "      <th>OpSys</th>\n",
              "      <th>Weight</th>\n",
              "      <th>Price</th>\n",
              "    </tr>\n",
              "  </thead>\n",
              "  <tbody>\n",
              "    <tr>\n",
              "      <th>0</th>\n",
              "      <td>0</td>\n",
              "      <td>Apple</td>\n",
              "      <td>Ultrabook</td>\n",
              "      <td>13.3</td>\n",
              "      <td>IPS Panel Retina Display 2560x1600</td>\n",
              "      <td>Intel Core i5 2.3GHz</td>\n",
              "      <td>8GB</td>\n",
              "      <td>128GB SSD</td>\n",
              "      <td>Intel Iris Plus Graphics 640</td>\n",
              "      <td>macOS</td>\n",
              "      <td>1.37kg</td>\n",
              "      <td>114205.89312</td>\n",
              "    </tr>\n",
              "    <tr>\n",
              "      <th>1</th>\n",
              "      <td>1</td>\n",
              "      <td>Apple</td>\n",
              "      <td>Ultrabook</td>\n",
              "      <td>13.3</td>\n",
              "      <td>1440x900</td>\n",
              "      <td>Intel Core i5 1.8GHz</td>\n",
              "      <td>8GB</td>\n",
              "      <td>128GB Flash Storage</td>\n",
              "      <td>Intel HD Graphics 6000</td>\n",
              "      <td>macOS</td>\n",
              "      <td>1.34kg</td>\n",
              "      <td>76632.83712</td>\n",
              "    </tr>\n",
              "    <tr>\n",
              "      <th>2</th>\n",
              "      <td>2</td>\n",
              "      <td>HP</td>\n",
              "      <td>Notebook</td>\n",
              "      <td>15.6</td>\n",
              "      <td>Full HD 1920x1080</td>\n",
              "      <td>Intel Core i5 7200U 2.5GHz</td>\n",
              "      <td>8GB</td>\n",
              "      <td>256GB SSD</td>\n",
              "      <td>Intel HD Graphics 620</td>\n",
              "      <td>No OS</td>\n",
              "      <td>1.86kg</td>\n",
              "      <td>49017.60000</td>\n",
              "    </tr>\n",
              "    <tr>\n",
              "      <th>3</th>\n",
              "      <td>3</td>\n",
              "      <td>Apple</td>\n",
              "      <td>Ultrabook</td>\n",
              "      <td>15.4</td>\n",
              "      <td>IPS Panel Retina Display 2880x1800</td>\n",
              "      <td>Intel Core i7 2.7GHz</td>\n",
              "      <td>16GB</td>\n",
              "      <td>512GB SSD</td>\n",
              "      <td>AMD Radeon Pro 455</td>\n",
              "      <td>macOS</td>\n",
              "      <td>1.83kg</td>\n",
              "      <td>216312.53760</td>\n",
              "    </tr>\n",
              "    <tr>\n",
              "      <th>4</th>\n",
              "      <td>4</td>\n",
              "      <td>Apple</td>\n",
              "      <td>Ultrabook</td>\n",
              "      <td>13.3</td>\n",
              "      <td>IPS Panel Retina Display 2560x1600</td>\n",
              "      <td>Intel Core i5 3.1GHz</td>\n",
              "      <td>8GB</td>\n",
              "      <td>256GB SSD</td>\n",
              "      <td>Intel Iris Plus Graphics 650</td>\n",
              "      <td>macOS</td>\n",
              "      <td>1.37kg</td>\n",
              "      <td>153753.29280</td>\n",
              "    </tr>\n",
              "  </tbody>\n",
              "</table>\n",
              "</div>\n",
              "      <button class=\"colab-df-convert\" onclick=\"convertToInteractive('df-7ba91235-61ad-43b8-91a9-c83e57fad3ff')\"\n",
              "              title=\"Convert this dataframe to an interactive table.\"\n",
              "              style=\"display:none;\">\n",
              "        \n",
              "  <svg xmlns=\"http://www.w3.org/2000/svg\" height=\"24px\"viewBox=\"0 0 24 24\"\n",
              "       width=\"24px\">\n",
              "    <path d=\"M0 0h24v24H0V0z\" fill=\"none\"/>\n",
              "    <path d=\"M18.56 5.44l.94 2.06.94-2.06 2.06-.94-2.06-.94-.94-2.06-.94 2.06-2.06.94zm-11 1L8.5 8.5l.94-2.06 2.06-.94-2.06-.94L8.5 2.5l-.94 2.06-2.06.94zm10 10l.94 2.06.94-2.06 2.06-.94-2.06-.94-.94-2.06-.94 2.06-2.06.94z\"/><path d=\"M17.41 7.96l-1.37-1.37c-.4-.4-.92-.59-1.43-.59-.52 0-1.04.2-1.43.59L10.3 9.45l-7.72 7.72c-.78.78-.78 2.05 0 2.83L4 21.41c.39.39.9.59 1.41.59.51 0 1.02-.2 1.41-.59l7.78-7.78 2.81-2.81c.8-.78.8-2.07 0-2.86zM5.41 20L4 18.59l7.72-7.72 1.47 1.35L5.41 20z\"/>\n",
              "  </svg>\n",
              "      </button>\n",
              "      \n",
              "  <style>\n",
              "    .colab-df-container {\n",
              "      display:flex;\n",
              "      flex-wrap:wrap;\n",
              "      gap: 12px;\n",
              "    }\n",
              "\n",
              "    .colab-df-convert {\n",
              "      background-color: #E8F0FE;\n",
              "      border: none;\n",
              "      border-radius: 50%;\n",
              "      cursor: pointer;\n",
              "      display: none;\n",
              "      fill: #1967D2;\n",
              "      height: 32px;\n",
              "      padding: 0 0 0 0;\n",
              "      width: 32px;\n",
              "    }\n",
              "\n",
              "    .colab-df-convert:hover {\n",
              "      background-color: #E2EBFA;\n",
              "      box-shadow: 0px 1px 2px rgba(60, 64, 67, 0.3), 0px 1px 3px 1px rgba(60, 64, 67, 0.15);\n",
              "      fill: #174EA6;\n",
              "    }\n",
              "\n",
              "    [theme=dark] .colab-df-convert {\n",
              "      background-color: #3B4455;\n",
              "      fill: #D2E3FC;\n",
              "    }\n",
              "\n",
              "    [theme=dark] .colab-df-convert:hover {\n",
              "      background-color: #434B5C;\n",
              "      box-shadow: 0px 1px 3px 1px rgba(0, 0, 0, 0.15);\n",
              "      filter: drop-shadow(0px 1px 2px rgba(0, 0, 0, 0.3));\n",
              "      fill: #FFFFFF;\n",
              "    }\n",
              "  </style>\n",
              "\n",
              "      <script>\n",
              "        const buttonEl =\n",
              "          document.querySelector('#df-7ba91235-61ad-43b8-91a9-c83e57fad3ff button.colab-df-convert');\n",
              "        buttonEl.style.display =\n",
              "          google.colab.kernel.accessAllowed ? 'block' : 'none';\n",
              "\n",
              "        async function convertToInteractive(key) {\n",
              "          const element = document.querySelector('#df-7ba91235-61ad-43b8-91a9-c83e57fad3ff');\n",
              "          const dataTable =\n",
              "            await google.colab.kernel.invokeFunction('convertToInteractive',\n",
              "                                                     [key], {});\n",
              "          if (!dataTable) return;\n",
              "\n",
              "          const docLinkHtml = 'Like what you see? Visit the ' +\n",
              "            '<a target=\"_blank\" href=https://colab.research.google.com/notebooks/data_table.ipynb>data table notebook</a>'\n",
              "            + ' to learn more about interactive tables.';\n",
              "          element.innerHTML = '';\n",
              "          dataTable['output_type'] = 'display_data';\n",
              "          await google.colab.output.renderOutput(dataTable, element);\n",
              "          const docLink = document.createElement('div');\n",
              "          docLink.innerHTML = docLinkHtml;\n",
              "          element.appendChild(docLink);\n",
              "        }\n",
              "      </script>\n",
              "    </div>\n",
              "  </div>\n",
              "  "
            ]
          },
          "metadata": {},
          "execution_count": 6
        }
      ]
    },
    {
      "cell_type": "code",
      "source": [
        "df.rename(columns = {'Price' : 'Price_NRS'}, inplace = True)"
      ],
      "metadata": {
        "id": "SBYSIw5CN2c1"
      },
      "execution_count": 7,
      "outputs": []
    },
    {
      "cell_type": "code",
      "source": [
        "df.info()"
      ],
      "metadata": {
        "colab": {
          "base_uri": "https://localhost:8080/"
        },
        "id": "RFaruW5iO4zO",
        "outputId": "cf3b871c-85d7-4523-8637-118dec14bf54"
      },
      "execution_count": 8,
      "outputs": [
        {
          "output_type": "stream",
          "name": "stdout",
          "text": [
            "<class 'pandas.core.frame.DataFrame'>\n",
            "RangeIndex: 1303 entries, 0 to 1302\n",
            "Data columns (total 12 columns):\n",
            " #   Column            Non-Null Count  Dtype  \n",
            "---  ------            --------------  -----  \n",
            " 0   Unnamed: 0        1303 non-null   int64  \n",
            " 1   Company           1303 non-null   object \n",
            " 2   TypeName          1303 non-null   object \n",
            " 3   Inches            1303 non-null   float64\n",
            " 4   ScreenResolution  1303 non-null   object \n",
            " 5   Cpu               1303 non-null   object \n",
            " 6   Ram               1303 non-null   object \n",
            " 7   Memory            1303 non-null   object \n",
            " 8   Gpu               1303 non-null   object \n",
            " 9   OpSys             1303 non-null   object \n",
            " 10  Weight            1303 non-null   object \n",
            " 11  Price_NRS         1303 non-null   float64\n",
            "dtypes: float64(2), int64(1), object(9)\n",
            "memory usage: 122.3+ KB\n"
          ]
        }
      ]
    },
    {
      "cell_type": "code",
      "source": [
        "df.duplicated().sum()"
      ],
      "metadata": {
        "colab": {
          "base_uri": "https://localhost:8080/"
        },
        "id": "cHRCG_k7PBZl",
        "outputId": "57b54321-ce03-483a-9230-3529b72d1a74"
      },
      "execution_count": 9,
      "outputs": [
        {
          "output_type": "execute_result",
          "data": {
            "text/plain": [
              "0"
            ]
          },
          "metadata": {},
          "execution_count": 9
        }
      ]
    },
    {
      "cell_type": "code",
      "source": [
        "df.isnull().sum()"
      ],
      "metadata": {
        "colab": {
          "base_uri": "https://localhost:8080/"
        },
        "id": "VlDgcV-1Pt6N",
        "outputId": "853d90c3-ea18-4bd9-c67d-b7691fb8e10c"
      },
      "execution_count": 10,
      "outputs": [
        {
          "output_type": "execute_result",
          "data": {
            "text/plain": [
              "Unnamed: 0          0\n",
              "Company             0\n",
              "TypeName            0\n",
              "Inches              0\n",
              "ScreenResolution    0\n",
              "Cpu                 0\n",
              "Ram                 0\n",
              "Memory              0\n",
              "Gpu                 0\n",
              "OpSys               0\n",
              "Weight              0\n",
              "Price_NRS           0\n",
              "dtype: int64"
            ]
          },
          "metadata": {},
          "execution_count": 10
        }
      ]
    },
    {
      "cell_type": "code",
      "source": [
        "df['Ram'] = df['Ram'].str.replace('GB', '')"
      ],
      "metadata": {
        "id": "1sxbXAj3PzTF"
      },
      "execution_count": 11,
      "outputs": []
    },
    {
      "cell_type": "code",
      "source": [
        "df['Weight'] = df['Weight'].str.replace('kg', '')"
      ],
      "metadata": {
        "id": "shG-a5m2Q9ak"
      },
      "execution_count": 12,
      "outputs": []
    },
    {
      "cell_type": "code",
      "source": [
        "df.head()"
      ],
      "metadata": {
        "colab": {
          "base_uri": "https://localhost:8080/",
          "height": 389
        },
        "id": "y83RX9B8RH3F",
        "outputId": "998152db-d57b-49e0-e739-aa23019bbbf6"
      },
      "execution_count": 13,
      "outputs": [
        {
          "output_type": "execute_result",
          "data": {
            "text/plain": [
              "   Unnamed: 0 Company   TypeName  Inches                    ScreenResolution  \\\n",
              "0           0   Apple  Ultrabook    13.3  IPS Panel Retina Display 2560x1600   \n",
              "1           1   Apple  Ultrabook    13.3                            1440x900   \n",
              "2           2      HP   Notebook    15.6                   Full HD 1920x1080   \n",
              "3           3   Apple  Ultrabook    15.4  IPS Panel Retina Display 2880x1800   \n",
              "4           4   Apple  Ultrabook    13.3  IPS Panel Retina Display 2560x1600   \n",
              "\n",
              "                          Cpu Ram               Memory  \\\n",
              "0        Intel Core i5 2.3GHz   8            128GB SSD   \n",
              "1        Intel Core i5 1.8GHz   8  128GB Flash Storage   \n",
              "2  Intel Core i5 7200U 2.5GHz   8            256GB SSD   \n",
              "3        Intel Core i7 2.7GHz  16            512GB SSD   \n",
              "4        Intel Core i5 3.1GHz   8            256GB SSD   \n",
              "\n",
              "                            Gpu  OpSys Weight     Price_NRS  \n",
              "0  Intel Iris Plus Graphics 640  macOS   1.37  114205.89312  \n",
              "1        Intel HD Graphics 6000  macOS   1.34   76632.83712  \n",
              "2         Intel HD Graphics 620  No OS   1.86   49017.60000  \n",
              "3            AMD Radeon Pro 455  macOS   1.83  216312.53760  \n",
              "4  Intel Iris Plus Graphics 650  macOS   1.37  153753.29280  "
            ],
            "text/html": [
              "\n",
              "  <div id=\"df-5b90698e-c1ff-4692-9f6e-89554a20c60b\">\n",
              "    <div class=\"colab-df-container\">\n",
              "      <div>\n",
              "<style scoped>\n",
              "    .dataframe tbody tr th:only-of-type {\n",
              "        vertical-align: middle;\n",
              "    }\n",
              "\n",
              "    .dataframe tbody tr th {\n",
              "        vertical-align: top;\n",
              "    }\n",
              "\n",
              "    .dataframe thead th {\n",
              "        text-align: right;\n",
              "    }\n",
              "</style>\n",
              "<table border=\"1\" class=\"dataframe\">\n",
              "  <thead>\n",
              "    <tr style=\"text-align: right;\">\n",
              "      <th></th>\n",
              "      <th>Unnamed: 0</th>\n",
              "      <th>Company</th>\n",
              "      <th>TypeName</th>\n",
              "      <th>Inches</th>\n",
              "      <th>ScreenResolution</th>\n",
              "      <th>Cpu</th>\n",
              "      <th>Ram</th>\n",
              "      <th>Memory</th>\n",
              "      <th>Gpu</th>\n",
              "      <th>OpSys</th>\n",
              "      <th>Weight</th>\n",
              "      <th>Price_NRS</th>\n",
              "    </tr>\n",
              "  </thead>\n",
              "  <tbody>\n",
              "    <tr>\n",
              "      <th>0</th>\n",
              "      <td>0</td>\n",
              "      <td>Apple</td>\n",
              "      <td>Ultrabook</td>\n",
              "      <td>13.3</td>\n",
              "      <td>IPS Panel Retina Display 2560x1600</td>\n",
              "      <td>Intel Core i5 2.3GHz</td>\n",
              "      <td>8</td>\n",
              "      <td>128GB SSD</td>\n",
              "      <td>Intel Iris Plus Graphics 640</td>\n",
              "      <td>macOS</td>\n",
              "      <td>1.37</td>\n",
              "      <td>114205.89312</td>\n",
              "    </tr>\n",
              "    <tr>\n",
              "      <th>1</th>\n",
              "      <td>1</td>\n",
              "      <td>Apple</td>\n",
              "      <td>Ultrabook</td>\n",
              "      <td>13.3</td>\n",
              "      <td>1440x900</td>\n",
              "      <td>Intel Core i5 1.8GHz</td>\n",
              "      <td>8</td>\n",
              "      <td>128GB Flash Storage</td>\n",
              "      <td>Intel HD Graphics 6000</td>\n",
              "      <td>macOS</td>\n",
              "      <td>1.34</td>\n",
              "      <td>76632.83712</td>\n",
              "    </tr>\n",
              "    <tr>\n",
              "      <th>2</th>\n",
              "      <td>2</td>\n",
              "      <td>HP</td>\n",
              "      <td>Notebook</td>\n",
              "      <td>15.6</td>\n",
              "      <td>Full HD 1920x1080</td>\n",
              "      <td>Intel Core i5 7200U 2.5GHz</td>\n",
              "      <td>8</td>\n",
              "      <td>256GB SSD</td>\n",
              "      <td>Intel HD Graphics 620</td>\n",
              "      <td>No OS</td>\n",
              "      <td>1.86</td>\n",
              "      <td>49017.60000</td>\n",
              "    </tr>\n",
              "    <tr>\n",
              "      <th>3</th>\n",
              "      <td>3</td>\n",
              "      <td>Apple</td>\n",
              "      <td>Ultrabook</td>\n",
              "      <td>15.4</td>\n",
              "      <td>IPS Panel Retina Display 2880x1800</td>\n",
              "      <td>Intel Core i7 2.7GHz</td>\n",
              "      <td>16</td>\n",
              "      <td>512GB SSD</td>\n",
              "      <td>AMD Radeon Pro 455</td>\n",
              "      <td>macOS</td>\n",
              "      <td>1.83</td>\n",
              "      <td>216312.53760</td>\n",
              "    </tr>\n",
              "    <tr>\n",
              "      <th>4</th>\n",
              "      <td>4</td>\n",
              "      <td>Apple</td>\n",
              "      <td>Ultrabook</td>\n",
              "      <td>13.3</td>\n",
              "      <td>IPS Panel Retina Display 2560x1600</td>\n",
              "      <td>Intel Core i5 3.1GHz</td>\n",
              "      <td>8</td>\n",
              "      <td>256GB SSD</td>\n",
              "      <td>Intel Iris Plus Graphics 650</td>\n",
              "      <td>macOS</td>\n",
              "      <td>1.37</td>\n",
              "      <td>153753.29280</td>\n",
              "    </tr>\n",
              "  </tbody>\n",
              "</table>\n",
              "</div>\n",
              "      <button class=\"colab-df-convert\" onclick=\"convertToInteractive('df-5b90698e-c1ff-4692-9f6e-89554a20c60b')\"\n",
              "              title=\"Convert this dataframe to an interactive table.\"\n",
              "              style=\"display:none;\">\n",
              "        \n",
              "  <svg xmlns=\"http://www.w3.org/2000/svg\" height=\"24px\"viewBox=\"0 0 24 24\"\n",
              "       width=\"24px\">\n",
              "    <path d=\"M0 0h24v24H0V0z\" fill=\"none\"/>\n",
              "    <path d=\"M18.56 5.44l.94 2.06.94-2.06 2.06-.94-2.06-.94-.94-2.06-.94 2.06-2.06.94zm-11 1L8.5 8.5l.94-2.06 2.06-.94-2.06-.94L8.5 2.5l-.94 2.06-2.06.94zm10 10l.94 2.06.94-2.06 2.06-.94-2.06-.94-.94-2.06-.94 2.06-2.06.94z\"/><path d=\"M17.41 7.96l-1.37-1.37c-.4-.4-.92-.59-1.43-.59-.52 0-1.04.2-1.43.59L10.3 9.45l-7.72 7.72c-.78.78-.78 2.05 0 2.83L4 21.41c.39.39.9.59 1.41.59.51 0 1.02-.2 1.41-.59l7.78-7.78 2.81-2.81c.8-.78.8-2.07 0-2.86zM5.41 20L4 18.59l7.72-7.72 1.47 1.35L5.41 20z\"/>\n",
              "  </svg>\n",
              "      </button>\n",
              "      \n",
              "  <style>\n",
              "    .colab-df-container {\n",
              "      display:flex;\n",
              "      flex-wrap:wrap;\n",
              "      gap: 12px;\n",
              "    }\n",
              "\n",
              "    .colab-df-convert {\n",
              "      background-color: #E8F0FE;\n",
              "      border: none;\n",
              "      border-radius: 50%;\n",
              "      cursor: pointer;\n",
              "      display: none;\n",
              "      fill: #1967D2;\n",
              "      height: 32px;\n",
              "      padding: 0 0 0 0;\n",
              "      width: 32px;\n",
              "    }\n",
              "\n",
              "    .colab-df-convert:hover {\n",
              "      background-color: #E2EBFA;\n",
              "      box-shadow: 0px 1px 2px rgba(60, 64, 67, 0.3), 0px 1px 3px 1px rgba(60, 64, 67, 0.15);\n",
              "      fill: #174EA6;\n",
              "    }\n",
              "\n",
              "    [theme=dark] .colab-df-convert {\n",
              "      background-color: #3B4455;\n",
              "      fill: #D2E3FC;\n",
              "    }\n",
              "\n",
              "    [theme=dark] .colab-df-convert:hover {\n",
              "      background-color: #434B5C;\n",
              "      box-shadow: 0px 1px 3px 1px rgba(0, 0, 0, 0.15);\n",
              "      filter: drop-shadow(0px 1px 2px rgba(0, 0, 0, 0.3));\n",
              "      fill: #FFFFFF;\n",
              "    }\n",
              "  </style>\n",
              "\n",
              "      <script>\n",
              "        const buttonEl =\n",
              "          document.querySelector('#df-5b90698e-c1ff-4692-9f6e-89554a20c60b button.colab-df-convert');\n",
              "        buttonEl.style.display =\n",
              "          google.colab.kernel.accessAllowed ? 'block' : 'none';\n",
              "\n",
              "        async function convertToInteractive(key) {\n",
              "          const element = document.querySelector('#df-5b90698e-c1ff-4692-9f6e-89554a20c60b');\n",
              "          const dataTable =\n",
              "            await google.colab.kernel.invokeFunction('convertToInteractive',\n",
              "                                                     [key], {});\n",
              "          if (!dataTable) return;\n",
              "\n",
              "          const docLinkHtml = 'Like what you see? Visit the ' +\n",
              "            '<a target=\"_blank\" href=https://colab.research.google.com/notebooks/data_table.ipynb>data table notebook</a>'\n",
              "            + ' to learn more about interactive tables.';\n",
              "          element.innerHTML = '';\n",
              "          dataTable['output_type'] = 'display_data';\n",
              "          await google.colab.output.renderOutput(dataTable, element);\n",
              "          const docLink = document.createElement('div');\n",
              "          docLink.innerHTML = docLinkHtml;\n",
              "          element.appendChild(docLink);\n",
              "        }\n",
              "      </script>\n",
              "    </div>\n",
              "  </div>\n",
              "  "
            ]
          },
          "metadata": {},
          "execution_count": 13
        }
      ]
    },
    {
      "cell_type": "code",
      "source": [
        "df['Ram'] = df['Ram'].astype('int32')\n",
        "df['Weight'] = df['Weight'].astype('float32')"
      ],
      "metadata": {
        "id": "MAXVHq15RJu8"
      },
      "execution_count": 14,
      "outputs": []
    },
    {
      "cell_type": "code",
      "source": [
        "df.info()"
      ],
      "metadata": {
        "colab": {
          "base_uri": "https://localhost:8080/"
        },
        "id": "eQ-C3usPRWyN",
        "outputId": "8519cade-de4a-4661-b6d0-1bb4aa935aaf"
      },
      "execution_count": 15,
      "outputs": [
        {
          "output_type": "stream",
          "name": "stdout",
          "text": [
            "<class 'pandas.core.frame.DataFrame'>\n",
            "RangeIndex: 1303 entries, 0 to 1302\n",
            "Data columns (total 12 columns):\n",
            " #   Column            Non-Null Count  Dtype  \n",
            "---  ------            --------------  -----  \n",
            " 0   Unnamed: 0        1303 non-null   int64  \n",
            " 1   Company           1303 non-null   object \n",
            " 2   TypeName          1303 non-null   object \n",
            " 3   Inches            1303 non-null   float64\n",
            " 4   ScreenResolution  1303 non-null   object \n",
            " 5   Cpu               1303 non-null   object \n",
            " 6   Ram               1303 non-null   int32  \n",
            " 7   Memory            1303 non-null   object \n",
            " 8   Gpu               1303 non-null   object \n",
            " 9   OpSys             1303 non-null   object \n",
            " 10  Weight            1303 non-null   float32\n",
            " 11  Price_NRS         1303 non-null   float64\n",
            "dtypes: float32(1), float64(2), int32(1), int64(1), object(7)\n",
            "memory usage: 112.1+ KB\n"
          ]
        }
      ]
    },
    {
      "cell_type": "code",
      "source": [
        "import seaborn as sns"
      ],
      "metadata": {
        "id": "LX3N2wGgRb-w"
      },
      "execution_count": 16,
      "outputs": []
    },
    {
      "cell_type": "code",
      "source": [
        "sns.distplot(df['Price_NRS'])"
      ],
      "metadata": {
        "colab": {
          "base_uri": "https://localhost:8080/",
          "height": 363
        },
        "id": "tkRx6IVJRg0I",
        "outputId": "4ac254a2-4e7b-4fbb-9f8e-a8cd3123d0a6"
      },
      "execution_count": 17,
      "outputs": [
        {
          "output_type": "stream",
          "name": "stderr",
          "text": [
            "/usr/local/lib/python3.8/dist-packages/seaborn/distributions.py:2619: FutureWarning: `distplot` is a deprecated function and will be removed in a future version. Please adapt your code to use either `displot` (a figure-level function with similar flexibility) or `histplot` (an axes-level function for histograms).\n",
            "  warnings.warn(msg, FutureWarning)\n"
          ]
        },
        {
          "output_type": "execute_result",
          "data": {
            "text/plain": [
              "<matplotlib.axes._subplots.AxesSubplot at 0x7f673229ae80>"
            ]
          },
          "metadata": {},
          "execution_count": 17
        },
        {
          "output_type": "display_data",
          "data": {
            "text/plain": [
              "<Figure size 432x288 with 1 Axes>"
            ],
            "image/png": "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\n"
          },
          "metadata": {
            "needs_background": "light"
          }
        }
      ]
    },
    {
      "cell_type": "code",
      "source": [
        "df['Company'].value_counts().plot(kind='bar')"
      ],
      "metadata": {
        "colab": {
          "base_uri": "https://localhost:8080/",
          "height": 324
        },
        "id": "KsIxlqyCRqWG",
        "outputId": "64e498cf-0d70-4719-f59b-62b4c8c6c682"
      },
      "execution_count": 18,
      "outputs": [
        {
          "output_type": "execute_result",
          "data": {
            "text/plain": [
              "<matplotlib.axes._subplots.AxesSubplot at 0x7f672fc2e0d0>"
            ]
          },
          "metadata": {},
          "execution_count": 18
        },
        {
          "output_type": "display_data",
          "data": {
            "text/plain": [
              "<Figure size 432x288 with 1 Axes>"
            ],
            "image/png": "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\n"
          },
          "metadata": {
            "needs_background": "light"
          }
        }
      ]
    },
    {
      "cell_type": "code",
      "source": [
        "df.groupby('Company')['Price_NRS'].mean()"
      ],
      "metadata": {
        "colab": {
          "base_uri": "https://localhost:8080/"
        },
        "id": "69byBA-TRxRW",
        "outputId": "3be1679c-89c4-4e07-ac93-75672f39eb51"
      },
      "execution_count": 19,
      "outputs": [
        {
          "output_type": "execute_result",
          "data": {
            "text/plain": [
              "Company\n",
              "Acer          53431.385550\n",
              "Apple        133344.799817\n",
              "Asus          94128.230206\n",
              "Chuwi         26793.162240\n",
              "Dell         101110.009251\n",
              "Fujitsu       62145.792000\n",
              "Google       143017.728000\n",
              "HP            91025.670755\n",
              "Huawei       121393.152000\n",
              "LG           178935.552000\n",
              "Lenovo        92612.101120\n",
              "MSI          147385.961813\n",
              "Mediacom      25148.160000\n",
              "Microsoft    137446.060800\n",
              "Razer        285251.986286\n",
              "Samsung      120493.312000\n",
              "Toshiba      108078.480000\n",
              "Vero          18535.046400\n",
              "Xiaomi        96625.411200\n",
              "Name: Price_NRS, dtype: float64"
            ]
          },
          "metadata": {},
          "execution_count": 19
        }
      ]
    },
    {
      "cell_type": "code",
      "source": [
        "df.groupby('Company')['Price_NRS'].mean().plot(kind=\"bar\")"
      ],
      "metadata": {
        "colab": {
          "base_uri": "https://localhost:8080/",
          "height": 338
        },
        "id": "z-pb5CQOSl4M",
        "outputId": "2afeac52-988d-43f7-9383-247074ea25fc"
      },
      "execution_count": 20,
      "outputs": [
        {
          "output_type": "execute_result",
          "data": {
            "text/plain": [
              "<matplotlib.axes._subplots.AxesSubplot at 0x7f672fbdcca0>"
            ]
          },
          "metadata": {},
          "execution_count": 20
        },
        {
          "output_type": "display_data",
          "data": {
            "text/plain": [
              "<Figure size 432x288 with 1 Axes>"
            ],
            "image/png": "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\n"
          },
          "metadata": {
            "needs_background": "light"
          }
        }
      ]
    },
    {
      "cell_type": "code",
      "source": [
        "df['TypeName'].value_counts().plot(kind='bar')"
      ],
      "metadata": {
        "colab": {
          "base_uri": "https://localhost:8080/",
          "height": 361
        },
        "id": "hJtxnFlzS3xt",
        "outputId": "5e79f03d-a3bc-40a8-b1db-ff70f01226f1"
      },
      "execution_count": 21,
      "outputs": [
        {
          "output_type": "execute_result",
          "data": {
            "text/plain": [
              "<matplotlib.axes._subplots.AxesSubplot at 0x7f672fb03d60>"
            ]
          },
          "metadata": {},
          "execution_count": 21
        },
        {
          "output_type": "display_data",
          "data": {
            "text/plain": [
              "<Figure size 432x288 with 1 Axes>"
            ],
            "image/png": "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\n"
          },
          "metadata": {
            "needs_background": "light"
          }
        }
      ]
    },
    {
      "cell_type": "code",
      "source": [
        "df.groupby('TypeName')['Price_NRS'].mean().plot(kind=\"bar\")"
      ],
      "metadata": {
        "colab": {
          "base_uri": "https://localhost:8080/",
          "height": 375
        },
        "id": "X17cN-RwUsjU",
        "outputId": "63adfc5e-d2f5-420d-c04d-57793d9e7caf"
      },
      "execution_count": 22,
      "outputs": [
        {
          "output_type": "execute_result",
          "data": {
            "text/plain": [
              "<matplotlib.axes._subplots.AxesSubplot at 0x7f672fafd790>"
            ]
          },
          "metadata": {},
          "execution_count": 22
        },
        {
          "output_type": "display_data",
          "data": {
            "text/plain": [
              "<Figure size 432x288 with 1 Axes>"
            ],
            "image/png": "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\n"
          },
          "metadata": {
            "needs_background": "light"
          }
        }
      ]
    },
    {
      "cell_type": "code",
      "source": [
        "sns.distplot(df['Inches'])"
      ],
      "metadata": {
        "colab": {
          "base_uri": "https://localhost:8080/",
          "height": 351
        },
        "id": "_vj9Npf_VBv1",
        "outputId": "134d700c-0be4-46db-aaaa-785cab97d26b"
      },
      "execution_count": 23,
      "outputs": [
        {
          "output_type": "stream",
          "name": "stderr",
          "text": [
            "/usr/local/lib/python3.8/dist-packages/seaborn/distributions.py:2619: FutureWarning: `distplot` is a deprecated function and will be removed in a future version. Please adapt your code to use either `displot` (a figure-level function with similar flexibility) or `histplot` (an axes-level function for histograms).\n",
            "  warnings.warn(msg, FutureWarning)\n"
          ]
        },
        {
          "output_type": "execute_result",
          "data": {
            "text/plain": [
              "<matplotlib.axes._subplots.AxesSubplot at 0x7f6739a7ef40>"
            ]
          },
          "metadata": {},
          "execution_count": 23
        },
        {
          "output_type": "display_data",
          "data": {
            "text/plain": [
              "<Figure size 432x288 with 1 Axes>"
            ],
            "image/png": "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\n"
          },
          "metadata": {
            "needs_background": "light"
          }
        }
      ]
    },
    {
      "cell_type": "code",
      "source": [
        "sns.scatterplot(x = df['Inches'], y= df['Price_NRS'])"
      ],
      "metadata": {
        "colab": {
          "base_uri": "https://localhost:8080/",
          "height": 296
        },
        "id": "yEeCAPx4w3I2",
        "outputId": "e756e280-b17a-47f2-a482-7449befd71bc"
      },
      "execution_count": 24,
      "outputs": [
        {
          "output_type": "execute_result",
          "data": {
            "text/plain": [
              "<matplotlib.axes._subplots.AxesSubplot at 0x7f672f97eb20>"
            ]
          },
          "metadata": {},
          "execution_count": 24
        },
        {
          "output_type": "display_data",
          "data": {
            "text/plain": [
              "<Figure size 432x288 with 1 Axes>"
            ],
            "image/png": "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\n"
          },
          "metadata": {
            "needs_background": "light"
          }
        }
      ]
    },
    {
      "cell_type": "code",
      "source": [
        "df['ScreenResolution'].value_counts()"
      ],
      "metadata": {
        "colab": {
          "base_uri": "https://localhost:8080/"
        },
        "id": "WPa08_PI8PVi",
        "outputId": "fdf831ef-c064-43d7-fcad-d6e1de9e9a04"
      },
      "execution_count": 25,
      "outputs": [
        {
          "output_type": "execute_result",
          "data": {
            "text/plain": [
              "Full HD 1920x1080                                507\n",
              "1366x768                                         281\n",
              "IPS Panel Full HD 1920x1080                      230\n",
              "IPS Panel Full HD / Touchscreen 1920x1080         53\n",
              "Full HD / Touchscreen 1920x1080                   47\n",
              "1600x900                                          23\n",
              "Touchscreen 1366x768                              16\n",
              "Quad HD+ / Touchscreen 3200x1800                  15\n",
              "IPS Panel 4K Ultra HD 3840x2160                   12\n",
              "IPS Panel 4K Ultra HD / Touchscreen 3840x2160     11\n",
              "4K Ultra HD / Touchscreen 3840x2160               10\n",
              "4K Ultra HD 3840x2160                              7\n",
              "Touchscreen 2560x1440                              7\n",
              "IPS Panel 1366x768                                 7\n",
              "IPS Panel Quad HD+ / Touchscreen 3200x1800         6\n",
              "IPS Panel Retina Display 2560x1600                 6\n",
              "IPS Panel Retina Display 2304x1440                 6\n",
              "Touchscreen 2256x1504                              6\n",
              "IPS Panel Touchscreen 2560x1440                    5\n",
              "IPS Panel Retina Display 2880x1800                 4\n",
              "IPS Panel Touchscreen 1920x1200                    4\n",
              "1440x900                                           4\n",
              "IPS Panel 2560x1440                                4\n",
              "IPS Panel Quad HD+ 2560x1440                       3\n",
              "Quad HD+ 3200x1800                                 3\n",
              "1920x1080                                          3\n",
              "Touchscreen 2400x1600                              3\n",
              "2560x1440                                          3\n",
              "IPS Panel Touchscreen 1366x768                     3\n",
              "IPS Panel Touchscreen / 4K Ultra HD 3840x2160      2\n",
              "IPS Panel Full HD 2160x1440                        2\n",
              "IPS Panel Quad HD+ 3200x1800                       2\n",
              "IPS Panel Retina Display 2736x1824                 1\n",
              "IPS Panel Full HD 1920x1200                        1\n",
              "IPS Panel Full HD 2560x1440                        1\n",
              "IPS Panel Full HD 1366x768                         1\n",
              "Touchscreen / Full HD 1920x1080                    1\n",
              "Touchscreen / Quad HD+ 3200x1800                   1\n",
              "Touchscreen / 4K Ultra HD 3840x2160                1\n",
              "IPS Panel Touchscreen 2400x1600                    1\n",
              "Name: ScreenResolution, dtype: int64"
            ]
          },
          "metadata": {},
          "execution_count": 25
        }
      ]
    },
    {
      "cell_type": "code",
      "source": [
        "df['TouchScreen'] = df['ScreenResolution'].apply(lambda x: 1 if 'Touchscreen' in x else 0)\n",
        "df['IPS'] = df['ScreenResolution'].apply(lambda x: 1 if 'IPS' in x else 0)"
      ],
      "metadata": {
        "id": "Pt3arJxh8fIJ"
      },
      "execution_count": 26,
      "outputs": []
    },
    {
      "cell_type": "code",
      "source": [
        "df.tail()"
      ],
      "metadata": {
        "colab": {
          "base_uri": "https://localhost:8080/",
          "height": 617
        },
        "id": "YGkwUicj8-S-",
        "outputId": "59abf700-c851-46a7-cd0a-ea1baf09f97b"
      },
      "execution_count": 27,
      "outputs": [
        {
          "output_type": "execute_result",
          "data": {
            "text/plain": [
              "      Unnamed: 0 Company            TypeName  Inches  \\\n",
              "1298        1298  Lenovo  2 in 1 Convertible    14.0   \n",
              "1299        1299  Lenovo  2 in 1 Convertible    13.3   \n",
              "1300        1300  Lenovo            Notebook    14.0   \n",
              "1301        1301      HP            Notebook    15.6   \n",
              "1302        1302    Asus            Notebook    15.6   \n",
              "\n",
              "                                ScreenResolution  \\\n",
              "1298   IPS Panel Full HD / Touchscreen 1920x1080   \n",
              "1299  IPS Panel Quad HD+ / Touchscreen 3200x1800   \n",
              "1300                                    1366x768   \n",
              "1301                                    1366x768   \n",
              "1302                                    1366x768   \n",
              "\n",
              "                                       Cpu  Ram              Memory  \\\n",
              "1298            Intel Core i7 6500U 2.5GHz    4           128GB SSD   \n",
              "1299            Intel Core i7 6500U 2.5GHz   16           512GB SSD   \n",
              "1300  Intel Celeron Dual Core N3050 1.6GHz    2  64GB Flash Storage   \n",
              "1301            Intel Core i7 6500U 2.5GHz    6             1TB HDD   \n",
              "1302  Intel Celeron Dual Core N3050 1.6GHz    4           500GB HDD   \n",
              "\n",
              "                        Gpu       OpSys  Weight   Price_NRS  TouchScreen  IPS  \n",
              "1298  Intel HD Graphics 520  Windows 10    1.80   54388.224            1    1  \n",
              "1299  Intel HD Graphics 520  Windows 10    1.30  127786.752            1    1  \n",
              "1300      Intel HD Graphics  Windows 10    1.50   19521.792            0    0  \n",
              "1301     AMD Radeon R5 M330  Windows 10    2.19   65129.472            0    0  \n",
              "1302      Intel HD Graphics  Windows 10    2.20   31456.512            0    0  "
            ],
            "text/html": [
              "\n",
              "  <div id=\"df-000b831b-cc74-46d2-8312-9dcb5c3ea930\">\n",
              "    <div class=\"colab-df-container\">\n",
              "      <div>\n",
              "<style scoped>\n",
              "    .dataframe tbody tr th:only-of-type {\n",
              "        vertical-align: middle;\n",
              "    }\n",
              "\n",
              "    .dataframe tbody tr th {\n",
              "        vertical-align: top;\n",
              "    }\n",
              "\n",
              "    .dataframe thead th {\n",
              "        text-align: right;\n",
              "    }\n",
              "</style>\n",
              "<table border=\"1\" class=\"dataframe\">\n",
              "  <thead>\n",
              "    <tr style=\"text-align: right;\">\n",
              "      <th></th>\n",
              "      <th>Unnamed: 0</th>\n",
              "      <th>Company</th>\n",
              "      <th>TypeName</th>\n",
              "      <th>Inches</th>\n",
              "      <th>ScreenResolution</th>\n",
              "      <th>Cpu</th>\n",
              "      <th>Ram</th>\n",
              "      <th>Memory</th>\n",
              "      <th>Gpu</th>\n",
              "      <th>OpSys</th>\n",
              "      <th>Weight</th>\n",
              "      <th>Price_NRS</th>\n",
              "      <th>TouchScreen</th>\n",
              "      <th>IPS</th>\n",
              "    </tr>\n",
              "  </thead>\n",
              "  <tbody>\n",
              "    <tr>\n",
              "      <th>1298</th>\n",
              "      <td>1298</td>\n",
              "      <td>Lenovo</td>\n",
              "      <td>2 in 1 Convertible</td>\n",
              "      <td>14.0</td>\n",
              "      <td>IPS Panel Full HD / Touchscreen 1920x1080</td>\n",
              "      <td>Intel Core i7 6500U 2.5GHz</td>\n",
              "      <td>4</td>\n",
              "      <td>128GB SSD</td>\n",
              "      <td>Intel HD Graphics 520</td>\n",
              "      <td>Windows 10</td>\n",
              "      <td>1.80</td>\n",
              "      <td>54388.224</td>\n",
              "      <td>1</td>\n",
              "      <td>1</td>\n",
              "    </tr>\n",
              "    <tr>\n",
              "      <th>1299</th>\n",
              "      <td>1299</td>\n",
              "      <td>Lenovo</td>\n",
              "      <td>2 in 1 Convertible</td>\n",
              "      <td>13.3</td>\n",
              "      <td>IPS Panel Quad HD+ / Touchscreen 3200x1800</td>\n",
              "      <td>Intel Core i7 6500U 2.5GHz</td>\n",
              "      <td>16</td>\n",
              "      <td>512GB SSD</td>\n",
              "      <td>Intel HD Graphics 520</td>\n",
              "      <td>Windows 10</td>\n",
              "      <td>1.30</td>\n",
              "      <td>127786.752</td>\n",
              "      <td>1</td>\n",
              "      <td>1</td>\n",
              "    </tr>\n",
              "    <tr>\n",
              "      <th>1300</th>\n",
              "      <td>1300</td>\n",
              "      <td>Lenovo</td>\n",
              "      <td>Notebook</td>\n",
              "      <td>14.0</td>\n",
              "      <td>1366x768</td>\n",
              "      <td>Intel Celeron Dual Core N3050 1.6GHz</td>\n",
              "      <td>2</td>\n",
              "      <td>64GB Flash Storage</td>\n",
              "      <td>Intel HD Graphics</td>\n",
              "      <td>Windows 10</td>\n",
              "      <td>1.50</td>\n",
              "      <td>19521.792</td>\n",
              "      <td>0</td>\n",
              "      <td>0</td>\n",
              "    </tr>\n",
              "    <tr>\n",
              "      <th>1301</th>\n",
              "      <td>1301</td>\n",
              "      <td>HP</td>\n",
              "      <td>Notebook</td>\n",
              "      <td>15.6</td>\n",
              "      <td>1366x768</td>\n",
              "      <td>Intel Core i7 6500U 2.5GHz</td>\n",
              "      <td>6</td>\n",
              "      <td>1TB HDD</td>\n",
              "      <td>AMD Radeon R5 M330</td>\n",
              "      <td>Windows 10</td>\n",
              "      <td>2.19</td>\n",
              "      <td>65129.472</td>\n",
              "      <td>0</td>\n",
              "      <td>0</td>\n",
              "    </tr>\n",
              "    <tr>\n",
              "      <th>1302</th>\n",
              "      <td>1302</td>\n",
              "      <td>Asus</td>\n",
              "      <td>Notebook</td>\n",
              "      <td>15.6</td>\n",
              "      <td>1366x768</td>\n",
              "      <td>Intel Celeron Dual Core N3050 1.6GHz</td>\n",
              "      <td>4</td>\n",
              "      <td>500GB HDD</td>\n",
              "      <td>Intel HD Graphics</td>\n",
              "      <td>Windows 10</td>\n",
              "      <td>2.20</td>\n",
              "      <td>31456.512</td>\n",
              "      <td>0</td>\n",
              "      <td>0</td>\n",
              "    </tr>\n",
              "  </tbody>\n",
              "</table>\n",
              "</div>\n",
              "      <button class=\"colab-df-convert\" onclick=\"convertToInteractive('df-000b831b-cc74-46d2-8312-9dcb5c3ea930')\"\n",
              "              title=\"Convert this dataframe to an interactive table.\"\n",
              "              style=\"display:none;\">\n",
              "        \n",
              "  <svg xmlns=\"http://www.w3.org/2000/svg\" height=\"24px\"viewBox=\"0 0 24 24\"\n",
              "       width=\"24px\">\n",
              "    <path d=\"M0 0h24v24H0V0z\" fill=\"none\"/>\n",
              "    <path d=\"M18.56 5.44l.94 2.06.94-2.06 2.06-.94-2.06-.94-.94-2.06-.94 2.06-2.06.94zm-11 1L8.5 8.5l.94-2.06 2.06-.94-2.06-.94L8.5 2.5l-.94 2.06-2.06.94zm10 10l.94 2.06.94-2.06 2.06-.94-2.06-.94-.94-2.06-.94 2.06-2.06.94z\"/><path d=\"M17.41 7.96l-1.37-1.37c-.4-.4-.92-.59-1.43-.59-.52 0-1.04.2-1.43.59L10.3 9.45l-7.72 7.72c-.78.78-.78 2.05 0 2.83L4 21.41c.39.39.9.59 1.41.59.51 0 1.02-.2 1.41-.59l7.78-7.78 2.81-2.81c.8-.78.8-2.07 0-2.86zM5.41 20L4 18.59l7.72-7.72 1.47 1.35L5.41 20z\"/>\n",
              "  </svg>\n",
              "      </button>\n",
              "      \n",
              "  <style>\n",
              "    .colab-df-container {\n",
              "      display:flex;\n",
              "      flex-wrap:wrap;\n",
              "      gap: 12px;\n",
              "    }\n",
              "\n",
              "    .colab-df-convert {\n",
              "      background-color: #E8F0FE;\n",
              "      border: none;\n",
              "      border-radius: 50%;\n",
              "      cursor: pointer;\n",
              "      display: none;\n",
              "      fill: #1967D2;\n",
              "      height: 32px;\n",
              "      padding: 0 0 0 0;\n",
              "      width: 32px;\n",
              "    }\n",
              "\n",
              "    .colab-df-convert:hover {\n",
              "      background-color: #E2EBFA;\n",
              "      box-shadow: 0px 1px 2px rgba(60, 64, 67, 0.3), 0px 1px 3px 1px rgba(60, 64, 67, 0.15);\n",
              "      fill: #174EA6;\n",
              "    }\n",
              "\n",
              "    [theme=dark] .colab-df-convert {\n",
              "      background-color: #3B4455;\n",
              "      fill: #D2E3FC;\n",
              "    }\n",
              "\n",
              "    [theme=dark] .colab-df-convert:hover {\n",
              "      background-color: #434B5C;\n",
              "      box-shadow: 0px 1px 3px 1px rgba(0, 0, 0, 0.15);\n",
              "      filter: drop-shadow(0px 1px 2px rgba(0, 0, 0, 0.3));\n",
              "      fill: #FFFFFF;\n",
              "    }\n",
              "  </style>\n",
              "\n",
              "      <script>\n",
              "        const buttonEl =\n",
              "          document.querySelector('#df-000b831b-cc74-46d2-8312-9dcb5c3ea930 button.colab-df-convert');\n",
              "        buttonEl.style.display =\n",
              "          google.colab.kernel.accessAllowed ? 'block' : 'none';\n",
              "\n",
              "        async function convertToInteractive(key) {\n",
              "          const element = document.querySelector('#df-000b831b-cc74-46d2-8312-9dcb5c3ea930');\n",
              "          const dataTable =\n",
              "            await google.colab.kernel.invokeFunction('convertToInteractive',\n",
              "                                                     [key], {});\n",
              "          if (!dataTable) return;\n",
              "\n",
              "          const docLinkHtml = 'Like what you see? Visit the ' +\n",
              "            '<a target=\"_blank\" href=https://colab.research.google.com/notebooks/data_table.ipynb>data table notebook</a>'\n",
              "            + ' to learn more about interactive tables.';\n",
              "          element.innerHTML = '';\n",
              "          dataTable['output_type'] = 'display_data';\n",
              "          await google.colab.output.renderOutput(dataTable, element);\n",
              "          const docLink = document.createElement('div');\n",
              "          docLink.innerHTML = docLinkHtml;\n",
              "          element.appendChild(docLink);\n",
              "        }\n",
              "      </script>\n",
              "    </div>\n",
              "  </div>\n",
              "  "
            ]
          },
          "metadata": {},
          "execution_count": 27
        }
      ]
    },
    {
      "cell_type": "code",
      "source": [
        "df['TouchScreen'].value_counts().plot(kind='bar')"
      ],
      "metadata": {
        "colab": {
          "base_uri": "https://localhost:8080/",
          "height": 279
        },
        "id": "dSDDntAY8_S9",
        "outputId": "8409eb86-8a6e-40ce-c64f-8254fd1e671d"
      },
      "execution_count": 28,
      "outputs": [
        {
          "output_type": "execute_result",
          "data": {
            "text/plain": [
              "<matplotlib.axes._subplots.AxesSubplot at 0x7f672f94fe80>"
            ]
          },
          "metadata": {},
          "execution_count": 28
        },
        {
          "output_type": "display_data",
          "data": {
            "text/plain": [
              "<Figure size 432x288 with 1 Axes>"
            ],
            "image/png": "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\n"
          },
          "metadata": {
            "needs_background": "light"
          }
        }
      ]
    },
    {
      "cell_type": "code",
      "source": [
        "df.groupby('TouchScreen')['Price_NRS'].mean().plot(kind = 'bar')"
      ],
      "metadata": {
        "colab": {
          "base_uri": "https://localhost:8080/",
          "height": 293
        },
        "id": "_ayUugZF9Hgu",
        "outputId": "fe91ae66-e4ae-4a72-d41b-fd8fbfbd945b"
      },
      "execution_count": 29,
      "outputs": [
        {
          "output_type": "execute_result",
          "data": {
            "text/plain": [
              "<matplotlib.axes._subplots.AxesSubplot at 0x7f672f8a7700>"
            ]
          },
          "metadata": {},
          "execution_count": 29
        },
        {
          "output_type": "display_data",
          "data": {
            "text/plain": [
              "<Figure size 432x288 with 1 Axes>"
            ],
            "image/png": "iVBORw0KGgoAAAANSUhEUgAAAYkAAAEDCAYAAADA9vgDAAAABHNCSVQICAgIfAhkiAAAAAlwSFlzAAALEgAACxIB0t1+/AAAADh0RVh0U29mdHdhcmUAbWF0cGxvdGxpYiB2ZXJzaW9uMy4yLjIsIGh0dHA6Ly9tYXRwbG90bGliLm9yZy+WH4yJAAATiklEQVR4nO3df6ye5X3f8fdndiBpUGJ+HFFq09oSXjJD2hUsQhatykIEJqlqpJIMVhWXoXhboGu7aQ1snbwlQQpaNBYqwoqCg4miOIRlwmqgngdJsx81cAgUMJRwxI9gD8IpdsjSKCGm3/3xXGd5cjiXj30ec47r835Jj577/l7Xdd/Xg8z5+L7v6zlOVSFJ0kz+1kJPQJJ05DIkJEldhoQkqcuQkCR1GRKSpC5DQpLUtXShJ3C4nXTSSbVy5cqFnoYk/Y3ywAMP/GVVjU2vH3UhsXLlSsbHxxd6GpL0N0qSZ2eqe7tJktRlSEiSugwJSVKXISFJ6jIkJEldhoQkqcuQkCR1GRKSpK6j7st0kkaz8qqvLvQUjirPfPIDCz2FkXglIUnqmjUkkmxO8mKSR4dq/yHJXyR5OMl/TbJsqO3qJBNJnkhy/lB9XatNJLlqqL4qyb2t/qUkx7T6sW1/orWvPFwfWpJ0cA7mSuIWYN202g7gjKr6ReBbwNUASdYAFwOntzGfSbIkyRLgBuACYA1wSesLcC1wXVWdBuwDLm/1y4F9rX5d6ydJmkezhkRVfQPYO63236pqf9vdCaxo2+uBrVX1o6p6GpgAzm6viap6qqpeAbYC65MEeC9wexu/Bbhw6Fhb2vbtwLmtvyRpnhyOZxL/GLirbS8Hnhtq291qvfqJwHeHAmeq/lPHau0vt/6SpHkyUkgk+TfAfuALh2c6c57HxiTjScYnJycXciqSdFSZc0gk+S3gV4HfqKpq5T3AqUPdVrRar/4SsCzJ0mn1nzpWa39r6/8aVXVTVa2tqrVjY6/5NzMkSXM0p5BIsg74feDXquoHQ03bgIvbyqRVwGrgPuB+YHVbyXQMg4fb21q4fA24qI3fANwxdKwNbfsi4J6hMJIkzYNZv0yX5IvAe4CTkuwGNjFYzXQssKM9S95ZVf+0qnYluQ14jMFtqCuq6tV2nCuB7cASYHNV7Wqn+CiwNckngAeBm1v9ZuDzSSYYPDi/+DB8XknSIZg1JKrqkhnKN89Qm+p/DXDNDPU7gTtnqD/FYPXT9PoPgQ/ONj9J0uvHb1xLkroMCUlSlyEhSeoyJCRJXYaEJKnLkJAkdRkSkqQuQ0KS1GVISJK6DAlJUpchIUnqMiQkSV2GhCSpy5CQJHUZEpKkLkNCktRlSEiSugwJSVKXISFJ6jIkJEldhoQkqcuQkCR1GRKSpC5DQpLUZUhIkrpmDYkkm5O8mOTRodoJSXYkebK9H9/qSXJ9kokkDyc5c2jMhtb/ySQbhupnJXmkjbk+SQ50DknS/DmYK4lbgHXTalcBd1fVauDutg9wAbC6vTYCN8LgBz6wCXgncDawaeiH/o3Ah4fGrZvlHJKkeTJrSFTVN4C908rrgS1tewtw4VD91hrYCSxLcgpwPrCjqvZW1T5gB7Cutb2lqnZWVQG3TjvWTOeQJM2TuT6TOLmqnm/bLwAnt+3lwHND/Xa32oHqu2eoH+gcr5FkY5LxJOOTk5Nz+DiSpJmM/OC6XQHUYZjLnM9RVTdV1dqqWjs2NvZ6TkWSFpW5hsR32q0i2vuLrb4HOHWo34pWO1B9xQz1A51DkjRP5hoS24CpFUobgDuG6pe2VU7nAC+3W0bbgfOSHN8eWJ8HbG9t30tyTlvVdOm0Y810DknSPFk6W4ckXwTeA5yUZDeDVUqfBG5LcjnwLPCh1v1O4P3ABPAD4DKAqtqb5OPA/a3fx6pq6mH4RxisoHoTcFd7cYBzSJLmyawhUVWXdJrOnaFvAVd0jrMZ2DxDfRw4Y4b6SzOdQ5I0f/zGtSSpy5CQJHUZEpKkLkNCktRlSEiSugwJSVKXISFJ6jIkJEldhoQkqWvWb1zr9bHyqq8u9BSOKs988gMLPQXpqOSVhCSpy5CQJHUZEpKkLkNCktRlSEiSugwJSVKXISFJ6jIkJEldhoQkqcuQkCR1GRKSpC5DQpLUZUhIkroMCUlS10ghkeT3kuxK8miSLyZ5Y5JVSe5NMpHkS0mOaX2PbfsTrX3l0HGubvUnkpw/VF/XahNJrhplrpKkQzfnkEiyHPjnwNqqOgNYAlwMXAtcV1WnAfuAy9uQy4F9rX5d60eSNW3c6cA64DNJliRZAtwAXACsAS5pfSVJ82TU201LgTclWQr8DPA88F7g9ta+Bbiwba9v+7T2c5Ok1bdW1Y+q6mlgAji7vSaq6qmqegXY2vpKkubJnEOiqvYAnwK+zSAcXgYeAL5bVftbt93A8ra9HHiujd3f+p84XJ82pleXJM2TUW43Hc/gb/argJ8D3szgdtG8S7IxyXiS8cnJyYWYgiQdlUa53fQ+4OmqmqyqHwNfAd4NLGu3nwBWAHva9h7gVIDW/lbgpeH6tDG9+mtU1U1Vtbaq1o6NjY3wkSRJw0YJiW8D5yT5mfZs4VzgMeBrwEWtzwbgjra9re3T2u+pqmr1i9vqp1XAauA+4H5gdVstdQyDh9vbRpivJOkQLZ29y8yq6t4ktwPfBPYDDwI3AV8Ftib5RKvd3IbcDHw+yQSwl8EPfapqV5LbGATMfuCKqnoVIMmVwHYGK6c2V9Wuuc5XknTo5hwSAFW1Cdg0rfwUg5VJ0/v+EPhg5zjXANfMUL8TuHOUOUqS5s5vXEuSugwJSVKXISFJ6jIkJEldhoQkqcuQkCR1GRKSpC5DQpLUZUhIkroMCUlSlyEhSeoyJCRJXYaEJKnLkJAkdRkSkqQuQ0KS1GVISJK6DAlJUpchIUnqMiQkSV2GhCSpy5CQJHUZEpKkLkNCktRlSEiSukYKiSTLktye5C+SPJ7kXUlOSLIjyZPt/fjWN0muTzKR5OEkZw4dZ0Pr/2SSDUP1s5I80sZcnySjzFeSdGhGvZL4NPAnVfV24JeAx4GrgLurajVwd9sHuABY3V4bgRsBkpwAbALeCZwNbJoKltbnw0Pj1o04X0nSIZhzSCR5K/ArwM0AVfVKVX0XWA9sad22ABe27fXArTWwE1iW5BTgfGBHVe2tqn3ADmBda3tLVe2sqgJuHTqWJGkejHIlsQqYBD6X5MEkn03yZuDkqnq+9XkBOLltLweeGxq/u9UOVN89Q12SNE9GCYmlwJnAjVX1y8Bf8ZNbSwC0K4Aa4RwHJcnGJONJxicnJ1/v00nSojFKSOwGdlfVvW3/dgah8Z12q4j2/mJr3wOcOjR+RasdqL5ihvprVNVNVbW2qtaOjY2N8JEkScPmHBJV9QLwXJK3tdK5wGPANmBqhdIG4I62vQ24tK1yOgd4ud2W2g6cl+T49sD6PGB7a/teknPaqqZLh44lSZoHS0cc/9vAF5IcAzwFXMYgeG5LcjnwLPCh1vdO4P3ABPCD1peq2pvk48D9rd/Hqmpv2/4IcAvwJuCu9pIkzZORQqKqHgLWztB07gx9C7iic5zNwOYZ6uPAGaPMUZI0d37jWpLUZUhIkroMCUlSlyEhSeoyJCRJXYaEJKnLkJAkdRkSkqQuQ0KS1GVISJK6DAlJUpchIUnqMiQkSV2GhCSpy5CQJHUZEpKkLkNCktRlSEiSugwJSVKXISFJ6jIkJEldhoQkqcuQkCR1GRKSpK6RQyLJkiQPJvnjtr8qyb1JJpJ8KckxrX5s259o7SuHjnF1qz+R5Pyh+rpWm0hy1ahzlSQdmsNxJfE7wOND+9cC11XVacA+4PJWvxzY1+rXtX4kWQNcDJwOrAM+04JnCXADcAGwBrik9ZUkzZORQiLJCuADwGfbfoD3Are3LluAC9v2+rZPaz+39V8PbK2qH1XV08AEcHZ7TVTVU1X1CrC19ZUkzZNRryT+E/D7wF+3/ROB71bV/ra/G1jetpcDzwG09pdb//9fnzamV5ckzZM5h0SSXwVerKoHDuN85jqXjUnGk4xPTk4u9HQk6agxypXEu4FfS/IMg1tB7wU+DSxLsrT1WQHsadt7gFMBWvtbgZeG69PG9OqvUVU3VdXaqlo7NjY2wkeSJA2bc0hU1dVVtaKqVjJ48HxPVf0G8DXgotZtA3BH297W9mnt91RVtfrFbfXTKmA1cB9wP7C6rZY6pp1j21znK0k6dEtn73LIPgpsTfIJ4EHg5la/Gfh8kglgL4Mf+lTVriS3AY8B+4ErqupVgCRXAtuBJcDmqtr1OsxXktRxWEKiqr4OfL1tP8VgZdL0Pj8EPtgZfw1wzQz1O4E7D8ccJUmHzm9cS5K6DAlJUpchIUnqMiQkSV2GhCSpy5CQJHUZEpKkLkNCktRlSEiSugwJSVKXISFJ6jIkJEldhoQkqcuQkCR1GRKSpC5DQpLUZUhIkroMCUlSlyEhSeoyJCRJXYaEJKnLkJAkdRkSkqQuQ0KS1GVISJK65hwSSU5N8rUkjyXZleR3Wv2EJDuSPNnej2/1JLk+yUSSh5OcOXSsDa3/k0k2DNXPSvJIG3N9kozyYSVJh2aUK4n9wL+sqjXAOcAVSdYAVwF3V9Vq4O62D3ABsLq9NgI3wiBUgE3AO4GzgU1TwdL6fHho3LoR5itJOkRzDomqer6qvtm2/y/wOLAcWA9sad22ABe27fXArTWwE1iW5BTgfGBHVe2tqn3ADmBda3tLVe2sqgJuHTqWJGkeHJZnEklWAr8M3AucXFXPt6YXgJPb9nLguaFhu1vtQPXdM9QlSfNk5JBIchzwX4DfrarvDbe1K4Aa9RwHMYeNScaTjE9OTr7ep5OkRWOkkEjyBgYB8YWq+korf6fdKqK9v9jqe4BTh4avaLUD1VfMUH+NqrqpqtZW1dqxsbFRPpIkacgoq5sC3Aw8XlX/cahpGzC1QmkDcMdQ/dK2yukc4OV2W2o7cF6S49sD6/OA7a3te0nOaee6dOhYkqR5sHSEse8GfhN4JMlDrfavgU8CtyW5HHgW+FBruxN4PzAB/AC4DKCq9ib5OHB/6/exqtrbtj8C3AK8CbirvSRJ82TOIVFV/xPofW/h3Bn6F3BF51ibgc0z1MeBM+Y6R0nSaPzGtSSpy5CQJHUZEpKkLkNCktRlSEiSugwJSVKXISFJ6jIkJEldhoQkqcuQkCR1GRKSpC5DQpLUZUhIkroMCUlSlyEhSeoyJCRJXYaEJKnLkJAkdRkSkqQuQ0KS1GVISJK6DAlJUpchIUnqMiQkSV2GhCSp64gPiSTrkjyRZCLJVQs9H0laTI7okEiyBLgBuABYA1ySZM3CzkqSFo8jOiSAs4GJqnqqql4BtgLrF3hOkrRoLF3oCcxiOfDc0P5u4J3TOyXZCGxsu99P8sQ8zG2xOAn4y4WexGxy7ULPQAvAP5uH1y/MVDzSQ+KgVNVNwE0LPY+jUZLxqlq70POQpvPP5vw40m837QFOHdpf0WqSpHlwpIfE/cDqJKuSHANcDGxb4DlJ0qJxRN9uqqr9Sa4EtgNLgM1VtWuBp7XYeBtPRyr/bM6DVNVCz0GSdIQ60m83SZIWkCEhSeoyJCRJXUf0g2vNryRvZ/CN9uWttAfYVlWPL9ysJC0kryQEQJKPMvi1JwHua68AX/QXK+pIluSyhZ7D0czVTQIgybeA06vqx9PqxwC7qmr1wsxMOrAk366qn1/oeRytvN2kKX8N/Bzw7LT6Ka1NWjBJHu41ASfP51wWG0NCU34XuDvJk/zklyr+PHAacOWCzUoaOBk4H9g3rR7gf8//dBYPQ0IAVNWfJPnbDH49+/CD6/ur6tWFm5kEwB8Dx1XVQ9Mbknx9/qezePhMQpLU5eomSVKXISFJ6vKZhBaVJCcCd7fdnwVeBSbb/tntn8md67G/X1XHzVB/G/BHwDLgWOB/VNXG6f2kI5HPJLRoJfl3wPer6lOH6Xi9kNgOfKaq7mj776iqRw7ymEtcOKCF5O0mLXpJzk3yYJJHkmxOcmyrP5PkpLa9dmoVTZLjknyu9X84ya8PHeuaJH+eZGeSqfX7pzD499kBmAqIJEuSfCrJo+04vz103muTfBP4YJLzkvxZkm8m+XKS41q/s5L8aZIHkmxPckqrf72Nvy/Jt5L8/df7v6GOXoaEFrs3ArcA/7Cq3sHgFuw/m2XMvwVerqp3VNUvAve0+puBnVX1S8A3gA+3+nXAPUnuSvJ7SZa1+kZgJfB323G+MHSOl6rqTOC/A38AvK/tjwP/IskbgD8ELqqqs4DNwDVD45dW1dkMvv+y6eD/c0g/zZDQYrcEeLqqvtX2twC/MsuY9wE3TO1U1dQXvF5hsJ4f4AEGAUBVfQ74O8CXgfcAO9vVyvuAP6qq/a3f3qFzfKm9nwOsAf5XkoeADcAvAG8DzgB2tPofMPg34Kd8Zfo8pLnwwbXUt5+f/EXqjQfR/8f1k4d8rzL0/1dV/R8Gf9vfnORRBj/gD+Sv2nuAHVV1yXBjkncw+J1a7+qM/9FM85AOlVcSWuxeBVYmOa3t/ybwp237GeCstv3rQ2N2AFdM7SQ5/kAnSLKu3R4iyc8CJzL4NvsO4J8kWdraTphh+E7g3VPzS/Lm9s34J4CxJO9q9TckOf2gPrF0CAwJLXY/BC4DvpzkEQa/zPA/t7Z/D3w6yTiDMJnyCeD49sD5z4F/MMs5zgOm+m4H/lVVvQB8Fvg28HBr+0fTB1bVJPBbDH5l+8PAnwFvb0t1LwKubWMfAv7eIX96aRYugZUkdXklIUnqMiQkSV2GhCSpy5CQJHUZEpKkLkNCktRlSEiSugwJSVLX/wPx35VPlKEOywAAAABJRU5ErkJggg==\n"
          },
          "metadata": {
            "needs_background": "light"
          }
        }
      ]
    },
    {
      "cell_type": "code",
      "source": [
        "sns.barplot(x= df['TouchScreen'], y= df['Price_NRS'])"
      ],
      "metadata": {
        "colab": {
          "base_uri": "https://localhost:8080/",
          "height": 296
        },
        "id": "ZPRqoEiH9aNl",
        "outputId": "0d294883-f83f-45ac-8a65-55c98ebb69dd"
      },
      "execution_count": 30,
      "outputs": [
        {
          "output_type": "execute_result",
          "data": {
            "text/plain": [
              "<matplotlib.axes._subplots.AxesSubplot at 0x7f672f875e20>"
            ]
          },
          "metadata": {},
          "execution_count": 30
        },
        {
          "output_type": "display_data",
          "data": {
            "text/plain": [
              "<Figure size 432x288 with 1 Axes>"
            ],
            "image/png": "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\n"
          },
          "metadata": {
            "needs_background": "light"
          }
        }
      ]
    },
    {
      "cell_type": "code",
      "source": [
        "df.info()"
      ],
      "metadata": {
        "id": "6fs_pzoI9m4_",
        "colab": {
          "base_uri": "https://localhost:8080/"
        },
        "outputId": "4c1896f0-c8bd-4d8f-97a5-497cbe747579"
      },
      "execution_count": 31,
      "outputs": [
        {
          "output_type": "stream",
          "name": "stdout",
          "text": [
            "<class 'pandas.core.frame.DataFrame'>\n",
            "RangeIndex: 1303 entries, 0 to 1302\n",
            "Data columns (total 14 columns):\n",
            " #   Column            Non-Null Count  Dtype  \n",
            "---  ------            --------------  -----  \n",
            " 0   Unnamed: 0        1303 non-null   int64  \n",
            " 1   Company           1303 non-null   object \n",
            " 2   TypeName          1303 non-null   object \n",
            " 3   Inches            1303 non-null   float64\n",
            " 4   ScreenResolution  1303 non-null   object \n",
            " 5   Cpu               1303 non-null   object \n",
            " 6   Ram               1303 non-null   int32  \n",
            " 7   Memory            1303 non-null   object \n",
            " 8   Gpu               1303 non-null   object \n",
            " 9   OpSys             1303 non-null   object \n",
            " 10  Weight            1303 non-null   float32\n",
            " 11  Price_NRS         1303 non-null   float64\n",
            " 12  TouchScreen       1303 non-null   int64  \n",
            " 13  IPS               1303 non-null   int64  \n",
            "dtypes: float32(1), float64(2), int32(1), int64(3), object(7)\n",
            "memory usage: 132.5+ KB\n"
          ]
        }
      ]
    },
    {
      "cell_type": "code",
      "source": [
        "def ppi(vec):\n",
        "  res = vec[0]\n",
        "  inches = vec[1]\n",
        "  y = (res.split(\" \")[-1]).split('x')[-1]\n",
        "  x = (res.split(\" \")[-1]).split('x')[-2]\n",
        "  return ((float(x)**2 + float(y)**2)**0.5) / (inches)\n"
      ],
      "metadata": {
        "id": "Fx5XpGiYAGSu"
      },
      "execution_count": 32,
      "outputs": []
    },
    {
      "cell_type": "code",
      "source": [
        "df['ppi'] = df[['ScreenResolution', 'Inches']].apply(ppi, axis = 1)"
      ],
      "metadata": {
        "id": "UOu60z_TDSAJ"
      },
      "execution_count": 33,
      "outputs": []
    },
    {
      "cell_type": "code",
      "source": [
        "df.head()"
      ],
      "metadata": {
        "colab": {
          "base_uri": "https://localhost:8080/",
          "height": 513
        },
        "id": "QnwyQuIlEo1y",
        "outputId": "e0dfacf8-666c-4294-e80e-79f63db0cd9a"
      },
      "execution_count": 34,
      "outputs": [
        {
          "output_type": "execute_result",
          "data": {
            "text/plain": [
              "   Unnamed: 0 Company   TypeName  Inches                    ScreenResolution  \\\n",
              "0           0   Apple  Ultrabook    13.3  IPS Panel Retina Display 2560x1600   \n",
              "1           1   Apple  Ultrabook    13.3                            1440x900   \n",
              "2           2      HP   Notebook    15.6                   Full HD 1920x1080   \n",
              "3           3   Apple  Ultrabook    15.4  IPS Panel Retina Display 2880x1800   \n",
              "4           4   Apple  Ultrabook    13.3  IPS Panel Retina Display 2560x1600   \n",
              "\n",
              "                          Cpu  Ram               Memory  \\\n",
              "0        Intel Core i5 2.3GHz    8            128GB SSD   \n",
              "1        Intel Core i5 1.8GHz    8  128GB Flash Storage   \n",
              "2  Intel Core i5 7200U 2.5GHz    8            256GB SSD   \n",
              "3        Intel Core i7 2.7GHz   16            512GB SSD   \n",
              "4        Intel Core i5 3.1GHz    8            256GB SSD   \n",
              "\n",
              "                            Gpu  OpSys  Weight     Price_NRS  TouchScreen  \\\n",
              "0  Intel Iris Plus Graphics 640  macOS    1.37  114205.89312            0   \n",
              "1        Intel HD Graphics 6000  macOS    1.34   76632.83712            0   \n",
              "2         Intel HD Graphics 620  No OS    1.86   49017.60000            0   \n",
              "3            AMD Radeon Pro 455  macOS    1.83  216312.53760            0   \n",
              "4  Intel Iris Plus Graphics 650  macOS    1.37  153753.29280            0   \n",
              "\n",
              "   IPS         ppi  \n",
              "0    1  226.983005  \n",
              "1    0  127.677940  \n",
              "2    0  141.211998  \n",
              "3    1  220.534624  \n",
              "4    1  226.983005  "
            ],
            "text/html": [
              "\n",
              "  <div id=\"df-edf1a566-9aac-4fd4-8bf4-1cc0612a3f82\">\n",
              "    <div class=\"colab-df-container\">\n",
              "      <div>\n",
              "<style scoped>\n",
              "    .dataframe tbody tr th:only-of-type {\n",
              "        vertical-align: middle;\n",
              "    }\n",
              "\n",
              "    .dataframe tbody tr th {\n",
              "        vertical-align: top;\n",
              "    }\n",
              "\n",
              "    .dataframe thead th {\n",
              "        text-align: right;\n",
              "    }\n",
              "</style>\n",
              "<table border=\"1\" class=\"dataframe\">\n",
              "  <thead>\n",
              "    <tr style=\"text-align: right;\">\n",
              "      <th></th>\n",
              "      <th>Unnamed: 0</th>\n",
              "      <th>Company</th>\n",
              "      <th>TypeName</th>\n",
              "      <th>Inches</th>\n",
              "      <th>ScreenResolution</th>\n",
              "      <th>Cpu</th>\n",
              "      <th>Ram</th>\n",
              "      <th>Memory</th>\n",
              "      <th>Gpu</th>\n",
              "      <th>OpSys</th>\n",
              "      <th>Weight</th>\n",
              "      <th>Price_NRS</th>\n",
              "      <th>TouchScreen</th>\n",
              "      <th>IPS</th>\n",
              "      <th>ppi</th>\n",
              "    </tr>\n",
              "  </thead>\n",
              "  <tbody>\n",
              "    <tr>\n",
              "      <th>0</th>\n",
              "      <td>0</td>\n",
              "      <td>Apple</td>\n",
              "      <td>Ultrabook</td>\n",
              "      <td>13.3</td>\n",
              "      <td>IPS Panel Retina Display 2560x1600</td>\n",
              "      <td>Intel Core i5 2.3GHz</td>\n",
              "      <td>8</td>\n",
              "      <td>128GB SSD</td>\n",
              "      <td>Intel Iris Plus Graphics 640</td>\n",
              "      <td>macOS</td>\n",
              "      <td>1.37</td>\n",
              "      <td>114205.89312</td>\n",
              "      <td>0</td>\n",
              "      <td>1</td>\n",
              "      <td>226.983005</td>\n",
              "    </tr>\n",
              "    <tr>\n",
              "      <th>1</th>\n",
              "      <td>1</td>\n",
              "      <td>Apple</td>\n",
              "      <td>Ultrabook</td>\n",
              "      <td>13.3</td>\n",
              "      <td>1440x900</td>\n",
              "      <td>Intel Core i5 1.8GHz</td>\n",
              "      <td>8</td>\n",
              "      <td>128GB Flash Storage</td>\n",
              "      <td>Intel HD Graphics 6000</td>\n",
              "      <td>macOS</td>\n",
              "      <td>1.34</td>\n",
              "      <td>76632.83712</td>\n",
              "      <td>0</td>\n",
              "      <td>0</td>\n",
              "      <td>127.677940</td>\n",
              "    </tr>\n",
              "    <tr>\n",
              "      <th>2</th>\n",
              "      <td>2</td>\n",
              "      <td>HP</td>\n",
              "      <td>Notebook</td>\n",
              "      <td>15.6</td>\n",
              "      <td>Full HD 1920x1080</td>\n",
              "      <td>Intel Core i5 7200U 2.5GHz</td>\n",
              "      <td>8</td>\n",
              "      <td>256GB SSD</td>\n",
              "      <td>Intel HD Graphics 620</td>\n",
              "      <td>No OS</td>\n",
              "      <td>1.86</td>\n",
              "      <td>49017.60000</td>\n",
              "      <td>0</td>\n",
              "      <td>0</td>\n",
              "      <td>141.211998</td>\n",
              "    </tr>\n",
              "    <tr>\n",
              "      <th>3</th>\n",
              "      <td>3</td>\n",
              "      <td>Apple</td>\n",
              "      <td>Ultrabook</td>\n",
              "      <td>15.4</td>\n",
              "      <td>IPS Panel Retina Display 2880x1800</td>\n",
              "      <td>Intel Core i7 2.7GHz</td>\n",
              "      <td>16</td>\n",
              "      <td>512GB SSD</td>\n",
              "      <td>AMD Radeon Pro 455</td>\n",
              "      <td>macOS</td>\n",
              "      <td>1.83</td>\n",
              "      <td>216312.53760</td>\n",
              "      <td>0</td>\n",
              "      <td>1</td>\n",
              "      <td>220.534624</td>\n",
              "    </tr>\n",
              "    <tr>\n",
              "      <th>4</th>\n",
              "      <td>4</td>\n",
              "      <td>Apple</td>\n",
              "      <td>Ultrabook</td>\n",
              "      <td>13.3</td>\n",
              "      <td>IPS Panel Retina Display 2560x1600</td>\n",
              "      <td>Intel Core i5 3.1GHz</td>\n",
              "      <td>8</td>\n",
              "      <td>256GB SSD</td>\n",
              "      <td>Intel Iris Plus Graphics 650</td>\n",
              "      <td>macOS</td>\n",
              "      <td>1.37</td>\n",
              "      <td>153753.29280</td>\n",
              "      <td>0</td>\n",
              "      <td>1</td>\n",
              "      <td>226.983005</td>\n",
              "    </tr>\n",
              "  </tbody>\n",
              "</table>\n",
              "</div>\n",
              "      <button class=\"colab-df-convert\" onclick=\"convertToInteractive('df-edf1a566-9aac-4fd4-8bf4-1cc0612a3f82')\"\n",
              "              title=\"Convert this dataframe to an interactive table.\"\n",
              "              style=\"display:none;\">\n",
              "        \n",
              "  <svg xmlns=\"http://www.w3.org/2000/svg\" height=\"24px\"viewBox=\"0 0 24 24\"\n",
              "       width=\"24px\">\n",
              "    <path d=\"M0 0h24v24H0V0z\" fill=\"none\"/>\n",
              "    <path d=\"M18.56 5.44l.94 2.06.94-2.06 2.06-.94-2.06-.94-.94-2.06-.94 2.06-2.06.94zm-11 1L8.5 8.5l.94-2.06 2.06-.94-2.06-.94L8.5 2.5l-.94 2.06-2.06.94zm10 10l.94 2.06.94-2.06 2.06-.94-2.06-.94-.94-2.06-.94 2.06-2.06.94z\"/><path d=\"M17.41 7.96l-1.37-1.37c-.4-.4-.92-.59-1.43-.59-.52 0-1.04.2-1.43.59L10.3 9.45l-7.72 7.72c-.78.78-.78 2.05 0 2.83L4 21.41c.39.39.9.59 1.41.59.51 0 1.02-.2 1.41-.59l7.78-7.78 2.81-2.81c.8-.78.8-2.07 0-2.86zM5.41 20L4 18.59l7.72-7.72 1.47 1.35L5.41 20z\"/>\n",
              "  </svg>\n",
              "      </button>\n",
              "      \n",
              "  <style>\n",
              "    .colab-df-container {\n",
              "      display:flex;\n",
              "      flex-wrap:wrap;\n",
              "      gap: 12px;\n",
              "    }\n",
              "\n",
              "    .colab-df-convert {\n",
              "      background-color: #E8F0FE;\n",
              "      border: none;\n",
              "      border-radius: 50%;\n",
              "      cursor: pointer;\n",
              "      display: none;\n",
              "      fill: #1967D2;\n",
              "      height: 32px;\n",
              "      padding: 0 0 0 0;\n",
              "      width: 32px;\n",
              "    }\n",
              "\n",
              "    .colab-df-convert:hover {\n",
              "      background-color: #E2EBFA;\n",
              "      box-shadow: 0px 1px 2px rgba(60, 64, 67, 0.3), 0px 1px 3px 1px rgba(60, 64, 67, 0.15);\n",
              "      fill: #174EA6;\n",
              "    }\n",
              "\n",
              "    [theme=dark] .colab-df-convert {\n",
              "      background-color: #3B4455;\n",
              "      fill: #D2E3FC;\n",
              "    }\n",
              "\n",
              "    [theme=dark] .colab-df-convert:hover {\n",
              "      background-color: #434B5C;\n",
              "      box-shadow: 0px 1px 3px 1px rgba(0, 0, 0, 0.15);\n",
              "      filter: drop-shadow(0px 1px 2px rgba(0, 0, 0, 0.3));\n",
              "      fill: #FFFFFF;\n",
              "    }\n",
              "  </style>\n",
              "\n",
              "      <script>\n",
              "        const buttonEl =\n",
              "          document.querySelector('#df-edf1a566-9aac-4fd4-8bf4-1cc0612a3f82 button.colab-df-convert');\n",
              "        buttonEl.style.display =\n",
              "          google.colab.kernel.accessAllowed ? 'block' : 'none';\n",
              "\n",
              "        async function convertToInteractive(key) {\n",
              "          const element = document.querySelector('#df-edf1a566-9aac-4fd4-8bf4-1cc0612a3f82');\n",
              "          const dataTable =\n",
              "            await google.colab.kernel.invokeFunction('convertToInteractive',\n",
              "                                                     [key], {});\n",
              "          if (!dataTable) return;\n",
              "\n",
              "          const docLinkHtml = 'Like what you see? Visit the ' +\n",
              "            '<a target=\"_blank\" href=https://colab.research.google.com/notebooks/data_table.ipynb>data table notebook</a>'\n",
              "            + ' to learn more about interactive tables.';\n",
              "          element.innerHTML = '';\n",
              "          dataTable['output_type'] = 'display_data';\n",
              "          await google.colab.output.renderOutput(dataTable, element);\n",
              "          const docLink = document.createElement('div');\n",
              "          docLink.innerHTML = docLinkHtml;\n",
              "          element.appendChild(docLink);\n",
              "        }\n",
              "      </script>\n",
              "    </div>\n",
              "  </div>\n",
              "  "
            ]
          },
          "metadata": {},
          "execution_count": 34
        }
      ]
    },
    {
      "cell_type": "markdown",
      "source": [],
      "metadata": {
        "id": "FhA8fQcRPdBD"
      }
    },
    {
      "cell_type": "code",
      "source": [
        "df.drop(columns = [\"ScreenResolution\"], inplace=True)\n"
      ],
      "metadata": {
        "id": "Fk4oJ2RJGQjx"
      },
      "execution_count": 35,
      "outputs": []
    },
    {
      "cell_type": "code",
      "source": [
        "df.head()"
      ],
      "metadata": {
        "colab": {
          "base_uri": "https://localhost:8080/",
          "height": 476
        },
        "id": "zYRrtgOvGYMB",
        "outputId": "dd310fdb-f5e9-48f2-87d5-972db2f47f59"
      },
      "execution_count": 36,
      "outputs": [
        {
          "output_type": "execute_result",
          "data": {
            "text/plain": [
              "   Unnamed: 0 Company   TypeName  Inches                         Cpu  Ram  \\\n",
              "0           0   Apple  Ultrabook    13.3        Intel Core i5 2.3GHz    8   \n",
              "1           1   Apple  Ultrabook    13.3        Intel Core i5 1.8GHz    8   \n",
              "2           2      HP   Notebook    15.6  Intel Core i5 7200U 2.5GHz    8   \n",
              "3           3   Apple  Ultrabook    15.4        Intel Core i7 2.7GHz   16   \n",
              "4           4   Apple  Ultrabook    13.3        Intel Core i5 3.1GHz    8   \n",
              "\n",
              "                Memory                           Gpu  OpSys  Weight  \\\n",
              "0            128GB SSD  Intel Iris Plus Graphics 640  macOS    1.37   \n",
              "1  128GB Flash Storage        Intel HD Graphics 6000  macOS    1.34   \n",
              "2            256GB SSD         Intel HD Graphics 620  No OS    1.86   \n",
              "3            512GB SSD            AMD Radeon Pro 455  macOS    1.83   \n",
              "4            256GB SSD  Intel Iris Plus Graphics 650  macOS    1.37   \n",
              "\n",
              "      Price_NRS  TouchScreen  IPS         ppi  \n",
              "0  114205.89312            0    1  226.983005  \n",
              "1   76632.83712            0    0  127.677940  \n",
              "2   49017.60000            0    0  141.211998  \n",
              "3  216312.53760            0    1  220.534624  \n",
              "4  153753.29280            0    1  226.983005  "
            ],
            "text/html": [
              "\n",
              "  <div id=\"df-c2e2f7fb-1f11-4496-a21e-1deb79293921\">\n",
              "    <div class=\"colab-df-container\">\n",
              "      <div>\n",
              "<style scoped>\n",
              "    .dataframe tbody tr th:only-of-type {\n",
              "        vertical-align: middle;\n",
              "    }\n",
              "\n",
              "    .dataframe tbody tr th {\n",
              "        vertical-align: top;\n",
              "    }\n",
              "\n",
              "    .dataframe thead th {\n",
              "        text-align: right;\n",
              "    }\n",
              "</style>\n",
              "<table border=\"1\" class=\"dataframe\">\n",
              "  <thead>\n",
              "    <tr style=\"text-align: right;\">\n",
              "      <th></th>\n",
              "      <th>Unnamed: 0</th>\n",
              "      <th>Company</th>\n",
              "      <th>TypeName</th>\n",
              "      <th>Inches</th>\n",
              "      <th>Cpu</th>\n",
              "      <th>Ram</th>\n",
              "      <th>Memory</th>\n",
              "      <th>Gpu</th>\n",
              "      <th>OpSys</th>\n",
              "      <th>Weight</th>\n",
              "      <th>Price_NRS</th>\n",
              "      <th>TouchScreen</th>\n",
              "      <th>IPS</th>\n",
              "      <th>ppi</th>\n",
              "    </tr>\n",
              "  </thead>\n",
              "  <tbody>\n",
              "    <tr>\n",
              "      <th>0</th>\n",
              "      <td>0</td>\n",
              "      <td>Apple</td>\n",
              "      <td>Ultrabook</td>\n",
              "      <td>13.3</td>\n",
              "      <td>Intel Core i5 2.3GHz</td>\n",
              "      <td>8</td>\n",
              "      <td>128GB SSD</td>\n",
              "      <td>Intel Iris Plus Graphics 640</td>\n",
              "      <td>macOS</td>\n",
              "      <td>1.37</td>\n",
              "      <td>114205.89312</td>\n",
              "      <td>0</td>\n",
              "      <td>1</td>\n",
              "      <td>226.983005</td>\n",
              "    </tr>\n",
              "    <tr>\n",
              "      <th>1</th>\n",
              "      <td>1</td>\n",
              "      <td>Apple</td>\n",
              "      <td>Ultrabook</td>\n",
              "      <td>13.3</td>\n",
              "      <td>Intel Core i5 1.8GHz</td>\n",
              "      <td>8</td>\n",
              "      <td>128GB Flash Storage</td>\n",
              "      <td>Intel HD Graphics 6000</td>\n",
              "      <td>macOS</td>\n",
              "      <td>1.34</td>\n",
              "      <td>76632.83712</td>\n",
              "      <td>0</td>\n",
              "      <td>0</td>\n",
              "      <td>127.677940</td>\n",
              "    </tr>\n",
              "    <tr>\n",
              "      <th>2</th>\n",
              "      <td>2</td>\n",
              "      <td>HP</td>\n",
              "      <td>Notebook</td>\n",
              "      <td>15.6</td>\n",
              "      <td>Intel Core i5 7200U 2.5GHz</td>\n",
              "      <td>8</td>\n",
              "      <td>256GB SSD</td>\n",
              "      <td>Intel HD Graphics 620</td>\n",
              "      <td>No OS</td>\n",
              "      <td>1.86</td>\n",
              "      <td>49017.60000</td>\n",
              "      <td>0</td>\n",
              "      <td>0</td>\n",
              "      <td>141.211998</td>\n",
              "    </tr>\n",
              "    <tr>\n",
              "      <th>3</th>\n",
              "      <td>3</td>\n",
              "      <td>Apple</td>\n",
              "      <td>Ultrabook</td>\n",
              "      <td>15.4</td>\n",
              "      <td>Intel Core i7 2.7GHz</td>\n",
              "      <td>16</td>\n",
              "      <td>512GB SSD</td>\n",
              "      <td>AMD Radeon Pro 455</td>\n",
              "      <td>macOS</td>\n",
              "      <td>1.83</td>\n",
              "      <td>216312.53760</td>\n",
              "      <td>0</td>\n",
              "      <td>1</td>\n",
              "      <td>220.534624</td>\n",
              "    </tr>\n",
              "    <tr>\n",
              "      <th>4</th>\n",
              "      <td>4</td>\n",
              "      <td>Apple</td>\n",
              "      <td>Ultrabook</td>\n",
              "      <td>13.3</td>\n",
              "      <td>Intel Core i5 3.1GHz</td>\n",
              "      <td>8</td>\n",
              "      <td>256GB SSD</td>\n",
              "      <td>Intel Iris Plus Graphics 650</td>\n",
              "      <td>macOS</td>\n",
              "      <td>1.37</td>\n",
              "      <td>153753.29280</td>\n",
              "      <td>0</td>\n",
              "      <td>1</td>\n",
              "      <td>226.983005</td>\n",
              "    </tr>\n",
              "  </tbody>\n",
              "</table>\n",
              "</div>\n",
              "      <button class=\"colab-df-convert\" onclick=\"convertToInteractive('df-c2e2f7fb-1f11-4496-a21e-1deb79293921')\"\n",
              "              title=\"Convert this dataframe to an interactive table.\"\n",
              "              style=\"display:none;\">\n",
              "        \n",
              "  <svg xmlns=\"http://www.w3.org/2000/svg\" height=\"24px\"viewBox=\"0 0 24 24\"\n",
              "       width=\"24px\">\n",
              "    <path d=\"M0 0h24v24H0V0z\" fill=\"none\"/>\n",
              "    <path d=\"M18.56 5.44l.94 2.06.94-2.06 2.06-.94-2.06-.94-.94-2.06-.94 2.06-2.06.94zm-11 1L8.5 8.5l.94-2.06 2.06-.94-2.06-.94L8.5 2.5l-.94 2.06-2.06.94zm10 10l.94 2.06.94-2.06 2.06-.94-2.06-.94-.94-2.06-.94 2.06-2.06.94z\"/><path d=\"M17.41 7.96l-1.37-1.37c-.4-.4-.92-.59-1.43-.59-.52 0-1.04.2-1.43.59L10.3 9.45l-7.72 7.72c-.78.78-.78 2.05 0 2.83L4 21.41c.39.39.9.59 1.41.59.51 0 1.02-.2 1.41-.59l7.78-7.78 2.81-2.81c.8-.78.8-2.07 0-2.86zM5.41 20L4 18.59l7.72-7.72 1.47 1.35L5.41 20z\"/>\n",
              "  </svg>\n",
              "      </button>\n",
              "      \n",
              "  <style>\n",
              "    .colab-df-container {\n",
              "      display:flex;\n",
              "      flex-wrap:wrap;\n",
              "      gap: 12px;\n",
              "    }\n",
              "\n",
              "    .colab-df-convert {\n",
              "      background-color: #E8F0FE;\n",
              "      border: none;\n",
              "      border-radius: 50%;\n",
              "      cursor: pointer;\n",
              "      display: none;\n",
              "      fill: #1967D2;\n",
              "      height: 32px;\n",
              "      padding: 0 0 0 0;\n",
              "      width: 32px;\n",
              "    }\n",
              "\n",
              "    .colab-df-convert:hover {\n",
              "      background-color: #E2EBFA;\n",
              "      box-shadow: 0px 1px 2px rgba(60, 64, 67, 0.3), 0px 1px 3px 1px rgba(60, 64, 67, 0.15);\n",
              "      fill: #174EA6;\n",
              "    }\n",
              "\n",
              "    [theme=dark] .colab-df-convert {\n",
              "      background-color: #3B4455;\n",
              "      fill: #D2E3FC;\n",
              "    }\n",
              "\n",
              "    [theme=dark] .colab-df-convert:hover {\n",
              "      background-color: #434B5C;\n",
              "      box-shadow: 0px 1px 3px 1px rgba(0, 0, 0, 0.15);\n",
              "      filter: drop-shadow(0px 1px 2px rgba(0, 0, 0, 0.3));\n",
              "      fill: #FFFFFF;\n",
              "    }\n",
              "  </style>\n",
              "\n",
              "      <script>\n",
              "        const buttonEl =\n",
              "          document.querySelector('#df-c2e2f7fb-1f11-4496-a21e-1deb79293921 button.colab-df-convert');\n",
              "        buttonEl.style.display =\n",
              "          google.colab.kernel.accessAllowed ? 'block' : 'none';\n",
              "\n",
              "        async function convertToInteractive(key) {\n",
              "          const element = document.querySelector('#df-c2e2f7fb-1f11-4496-a21e-1deb79293921');\n",
              "          const dataTable =\n",
              "            await google.colab.kernel.invokeFunction('convertToInteractive',\n",
              "                                                     [key], {});\n",
              "          if (!dataTable) return;\n",
              "\n",
              "          const docLinkHtml = 'Like what you see? Visit the ' +\n",
              "            '<a target=\"_blank\" href=https://colab.research.google.com/notebooks/data_table.ipynb>data table notebook</a>'\n",
              "            + ' to learn more about interactive tables.';\n",
              "          element.innerHTML = '';\n",
              "          dataTable['output_type'] = 'display_data';\n",
              "          await google.colab.output.renderOutput(dataTable, element);\n",
              "          const docLink = document.createElement('div');\n",
              "          docLink.innerHTML = docLinkHtml;\n",
              "          element.appendChild(docLink);\n",
              "        }\n",
              "      </script>\n",
              "    </div>\n",
              "  </div>\n",
              "  "
            ]
          },
          "metadata": {},
          "execution_count": 36
        }
      ]
    },
    {
      "cell_type": "code",
      "source": [
        "df.drop(columns = [\"Unnamed: 0\"], inplace=True)"
      ],
      "metadata": {
        "id": "fV90x0wEGjLJ"
      },
      "execution_count": 37,
      "outputs": []
    },
    {
      "cell_type": "code",
      "source": [
        "df.head()"
      ],
      "metadata": {
        "colab": {
          "base_uri": "https://localhost:8080/",
          "height": 372
        },
        "id": "EoZhzLSUGrbo",
        "outputId": "95b1a357-c1f3-4d2b-9e95-109944066168"
      },
      "execution_count": 38,
      "outputs": [
        {
          "output_type": "execute_result",
          "data": {
            "text/plain": [
              "  Company   TypeName  Inches                         Cpu  Ram  \\\n",
              "0   Apple  Ultrabook    13.3        Intel Core i5 2.3GHz    8   \n",
              "1   Apple  Ultrabook    13.3        Intel Core i5 1.8GHz    8   \n",
              "2      HP   Notebook    15.6  Intel Core i5 7200U 2.5GHz    8   \n",
              "3   Apple  Ultrabook    15.4        Intel Core i7 2.7GHz   16   \n",
              "4   Apple  Ultrabook    13.3        Intel Core i5 3.1GHz    8   \n",
              "\n",
              "                Memory                           Gpu  OpSys  Weight  \\\n",
              "0            128GB SSD  Intel Iris Plus Graphics 640  macOS    1.37   \n",
              "1  128GB Flash Storage        Intel HD Graphics 6000  macOS    1.34   \n",
              "2            256GB SSD         Intel HD Graphics 620  No OS    1.86   \n",
              "3            512GB SSD            AMD Radeon Pro 455  macOS    1.83   \n",
              "4            256GB SSD  Intel Iris Plus Graphics 650  macOS    1.37   \n",
              "\n",
              "      Price_NRS  TouchScreen  IPS         ppi  \n",
              "0  114205.89312            0    1  226.983005  \n",
              "1   76632.83712            0    0  127.677940  \n",
              "2   49017.60000            0    0  141.211998  \n",
              "3  216312.53760            0    1  220.534624  \n",
              "4  153753.29280            0    1  226.983005  "
            ],
            "text/html": [
              "\n",
              "  <div id=\"df-d8e69fb2-7fdb-44c6-a899-14e3b88e8564\">\n",
              "    <div class=\"colab-df-container\">\n",
              "      <div>\n",
              "<style scoped>\n",
              "    .dataframe tbody tr th:only-of-type {\n",
              "        vertical-align: middle;\n",
              "    }\n",
              "\n",
              "    .dataframe tbody tr th {\n",
              "        vertical-align: top;\n",
              "    }\n",
              "\n",
              "    .dataframe thead th {\n",
              "        text-align: right;\n",
              "    }\n",
              "</style>\n",
              "<table border=\"1\" class=\"dataframe\">\n",
              "  <thead>\n",
              "    <tr style=\"text-align: right;\">\n",
              "      <th></th>\n",
              "      <th>Company</th>\n",
              "      <th>TypeName</th>\n",
              "      <th>Inches</th>\n",
              "      <th>Cpu</th>\n",
              "      <th>Ram</th>\n",
              "      <th>Memory</th>\n",
              "      <th>Gpu</th>\n",
              "      <th>OpSys</th>\n",
              "      <th>Weight</th>\n",
              "      <th>Price_NRS</th>\n",
              "      <th>TouchScreen</th>\n",
              "      <th>IPS</th>\n",
              "      <th>ppi</th>\n",
              "    </tr>\n",
              "  </thead>\n",
              "  <tbody>\n",
              "    <tr>\n",
              "      <th>0</th>\n",
              "      <td>Apple</td>\n",
              "      <td>Ultrabook</td>\n",
              "      <td>13.3</td>\n",
              "      <td>Intel Core i5 2.3GHz</td>\n",
              "      <td>8</td>\n",
              "      <td>128GB SSD</td>\n",
              "      <td>Intel Iris Plus Graphics 640</td>\n",
              "      <td>macOS</td>\n",
              "      <td>1.37</td>\n",
              "      <td>114205.89312</td>\n",
              "      <td>0</td>\n",
              "      <td>1</td>\n",
              "      <td>226.983005</td>\n",
              "    </tr>\n",
              "    <tr>\n",
              "      <th>1</th>\n",
              "      <td>Apple</td>\n",
              "      <td>Ultrabook</td>\n",
              "      <td>13.3</td>\n",
              "      <td>Intel Core i5 1.8GHz</td>\n",
              "      <td>8</td>\n",
              "      <td>128GB Flash Storage</td>\n",
              "      <td>Intel HD Graphics 6000</td>\n",
              "      <td>macOS</td>\n",
              "      <td>1.34</td>\n",
              "      <td>76632.83712</td>\n",
              "      <td>0</td>\n",
              "      <td>0</td>\n",
              "      <td>127.677940</td>\n",
              "    </tr>\n",
              "    <tr>\n",
              "      <th>2</th>\n",
              "      <td>HP</td>\n",
              "      <td>Notebook</td>\n",
              "      <td>15.6</td>\n",
              "      <td>Intel Core i5 7200U 2.5GHz</td>\n",
              "      <td>8</td>\n",
              "      <td>256GB SSD</td>\n",
              "      <td>Intel HD Graphics 620</td>\n",
              "      <td>No OS</td>\n",
              "      <td>1.86</td>\n",
              "      <td>49017.60000</td>\n",
              "      <td>0</td>\n",
              "      <td>0</td>\n",
              "      <td>141.211998</td>\n",
              "    </tr>\n",
              "    <tr>\n",
              "      <th>3</th>\n",
              "      <td>Apple</td>\n",
              "      <td>Ultrabook</td>\n",
              "      <td>15.4</td>\n",
              "      <td>Intel Core i7 2.7GHz</td>\n",
              "      <td>16</td>\n",
              "      <td>512GB SSD</td>\n",
              "      <td>AMD Radeon Pro 455</td>\n",
              "      <td>macOS</td>\n",
              "      <td>1.83</td>\n",
              "      <td>216312.53760</td>\n",
              "      <td>0</td>\n",
              "      <td>1</td>\n",
              "      <td>220.534624</td>\n",
              "    </tr>\n",
              "    <tr>\n",
              "      <th>4</th>\n",
              "      <td>Apple</td>\n",
              "      <td>Ultrabook</td>\n",
              "      <td>13.3</td>\n",
              "      <td>Intel Core i5 3.1GHz</td>\n",
              "      <td>8</td>\n",
              "      <td>256GB SSD</td>\n",
              "      <td>Intel Iris Plus Graphics 650</td>\n",
              "      <td>macOS</td>\n",
              "      <td>1.37</td>\n",
              "      <td>153753.29280</td>\n",
              "      <td>0</td>\n",
              "      <td>1</td>\n",
              "      <td>226.983005</td>\n",
              "    </tr>\n",
              "  </tbody>\n",
              "</table>\n",
              "</div>\n",
              "      <button class=\"colab-df-convert\" onclick=\"convertToInteractive('df-d8e69fb2-7fdb-44c6-a899-14e3b88e8564')\"\n",
              "              title=\"Convert this dataframe to an interactive table.\"\n",
              "              style=\"display:none;\">\n",
              "        \n",
              "  <svg xmlns=\"http://www.w3.org/2000/svg\" height=\"24px\"viewBox=\"0 0 24 24\"\n",
              "       width=\"24px\">\n",
              "    <path d=\"M0 0h24v24H0V0z\" fill=\"none\"/>\n",
              "    <path d=\"M18.56 5.44l.94 2.06.94-2.06 2.06-.94-2.06-.94-.94-2.06-.94 2.06-2.06.94zm-11 1L8.5 8.5l.94-2.06 2.06-.94-2.06-.94L8.5 2.5l-.94 2.06-2.06.94zm10 10l.94 2.06.94-2.06 2.06-.94-2.06-.94-.94-2.06-.94 2.06-2.06.94z\"/><path d=\"M17.41 7.96l-1.37-1.37c-.4-.4-.92-.59-1.43-.59-.52 0-1.04.2-1.43.59L10.3 9.45l-7.72 7.72c-.78.78-.78 2.05 0 2.83L4 21.41c.39.39.9.59 1.41.59.51 0 1.02-.2 1.41-.59l7.78-7.78 2.81-2.81c.8-.78.8-2.07 0-2.86zM5.41 20L4 18.59l7.72-7.72 1.47 1.35L5.41 20z\"/>\n",
              "  </svg>\n",
              "      </button>\n",
              "      \n",
              "  <style>\n",
              "    .colab-df-container {\n",
              "      display:flex;\n",
              "      flex-wrap:wrap;\n",
              "      gap: 12px;\n",
              "    }\n",
              "\n",
              "    .colab-df-convert {\n",
              "      background-color: #E8F0FE;\n",
              "      border: none;\n",
              "      border-radius: 50%;\n",
              "      cursor: pointer;\n",
              "      display: none;\n",
              "      fill: #1967D2;\n",
              "      height: 32px;\n",
              "      padding: 0 0 0 0;\n",
              "      width: 32px;\n",
              "    }\n",
              "\n",
              "    .colab-df-convert:hover {\n",
              "      background-color: #E2EBFA;\n",
              "      box-shadow: 0px 1px 2px rgba(60, 64, 67, 0.3), 0px 1px 3px 1px rgba(60, 64, 67, 0.15);\n",
              "      fill: #174EA6;\n",
              "    }\n",
              "\n",
              "    [theme=dark] .colab-df-convert {\n",
              "      background-color: #3B4455;\n",
              "      fill: #D2E3FC;\n",
              "    }\n",
              "\n",
              "    [theme=dark] .colab-df-convert:hover {\n",
              "      background-color: #434B5C;\n",
              "      box-shadow: 0px 1px 3px 1px rgba(0, 0, 0, 0.15);\n",
              "      filter: drop-shadow(0px 1px 2px rgba(0, 0, 0, 0.3));\n",
              "      fill: #FFFFFF;\n",
              "    }\n",
              "  </style>\n",
              "\n",
              "      <script>\n",
              "        const buttonEl =\n",
              "          document.querySelector('#df-d8e69fb2-7fdb-44c6-a899-14e3b88e8564 button.colab-df-convert');\n",
              "        buttonEl.style.display =\n",
              "          google.colab.kernel.accessAllowed ? 'block' : 'none';\n",
              "\n",
              "        async function convertToInteractive(key) {\n",
              "          const element = document.querySelector('#df-d8e69fb2-7fdb-44c6-a899-14e3b88e8564');\n",
              "          const dataTable =\n",
              "            await google.colab.kernel.invokeFunction('convertToInteractive',\n",
              "                                                     [key], {});\n",
              "          if (!dataTable) return;\n",
              "\n",
              "          const docLinkHtml = 'Like what you see? Visit the ' +\n",
              "            '<a target=\"_blank\" href=https://colab.research.google.com/notebooks/data_table.ipynb>data table notebook</a>'\n",
              "            + ' to learn more about interactive tables.';\n",
              "          element.innerHTML = '';\n",
              "          dataTable['output_type'] = 'display_data';\n",
              "          await google.colab.output.renderOutput(dataTable, element);\n",
              "          const docLink = document.createElement('div');\n",
              "          docLink.innerHTML = docLinkHtml;\n",
              "          element.appendChild(docLink);\n",
              "        }\n",
              "      </script>\n",
              "    </div>\n",
              "  </div>\n",
              "  "
            ]
          },
          "metadata": {},
          "execution_count": 38
        }
      ]
    },
    {
      "cell_type": "code",
      "source": [
        "df.corr()['Price_NRS']"
      ],
      "metadata": {
        "colab": {
          "base_uri": "https://localhost:8080/"
        },
        "id": "vVVuP_1hGs-p",
        "outputId": "56446b40-8448-4ab6-c05e-a4c522624555"
      },
      "execution_count": 39,
      "outputs": [
        {
          "output_type": "execute_result",
          "data": {
            "text/plain": [
              "Inches         0.068197\n",
              "Ram            0.743007\n",
              "Weight         0.210370\n",
              "Price_NRS      1.000000\n",
              "TouchScreen    0.191226\n",
              "IPS            0.252208\n",
              "ppi            0.473487\n",
              "Name: Price_NRS, dtype: float64"
            ]
          },
          "metadata": {},
          "execution_count": 39
        }
      ]
    },
    {
      "cell_type": "code",
      "source": [
        "df[\"Cpu\"].value_counts()"
      ],
      "metadata": {
        "colab": {
          "base_uri": "https://localhost:8080/"
        },
        "id": "HZ2tIlNJSWwv",
        "outputId": "05016975-928e-4de1-9261-b4ed504f77ad"
      },
      "execution_count": 40,
      "outputs": [
        {
          "output_type": "execute_result",
          "data": {
            "text/plain": [
              "Intel Core i5 7200U 2.5GHz       190\n",
              "Intel Core i7 7700HQ 2.8GHz      146\n",
              "Intel Core i7 7500U 2.7GHz       134\n",
              "Intel Core i7 8550U 1.8GHz        73\n",
              "Intel Core i5 8250U 1.6GHz        72\n",
              "                                ... \n",
              "Intel Core M M3-6Y30 0.9GHz        1\n",
              "AMD A9-Series 9420 2.9GHz          1\n",
              "Intel Core i3 6006U 2.2GHz         1\n",
              "AMD A6-Series 7310 2GHz            1\n",
              "Intel Xeon E3-1535M v6 3.1GHz      1\n",
              "Name: Cpu, Length: 118, dtype: int64"
            ]
          },
          "metadata": {},
          "execution_count": 40
        }
      ]
    },
    {
      "cell_type": "code",
      "source": [
        "info = \"Intel Core i5 7200U 2.5GHz\"\n",
        "info = \" \".join(info.split(\" \")[0:3])\n",
        "info"
      ],
      "metadata": {
        "colab": {
          "base_uri": "https://localhost:8080/",
          "height": 35
        },
        "id": "t1IpW8hEJjG8",
        "outputId": "2cc5c10d-e36f-4a42-8f9e-d5d83980f975"
      },
      "execution_count": 41,
      "outputs": [
        {
          "output_type": "execute_result",
          "data": {
            "text/plain": [
              "'Intel Core i5'"
            ],
            "application/vnd.google.colaboratory.intrinsic+json": {
              "type": "string"
            }
          },
          "metadata": {},
          "execution_count": 41
        }
      ]
    },
    {
      "cell_type": "code",
      "source": [
        "def classify_cpu(info):\n",
        "  info = \" \".join(info.split(\" \")[0:3])\n",
        "  if info == 'Intel Core i5' or info == 'Intel Core i7' or info == 'Intel Core i3':\n",
        "    return info\n",
        "  elif 'Intel' in info:\n",
        "    return \"Other Intel Processor\"\n",
        "  else:\n",
        "    return \"AMD Processor\""
      ],
      "metadata": {
        "id": "OnyenhMnYrxh"
      },
      "execution_count": 42,
      "outputs": []
    },
    {
      "cell_type": "code",
      "source": [
        "df['CPU Brand'] = df['Cpu'].apply(classify_cpu)"
      ],
      "metadata": {
        "id": "qvt9tUvAKMqt"
      },
      "execution_count": 43,
      "outputs": []
    },
    {
      "cell_type": "code",
      "source": [
        "df.head()"
      ],
      "metadata": {
        "colab": {
          "base_uri": "https://localhost:8080/",
          "height": 476
        },
        "id": "rclWFH0UKUKb",
        "outputId": "83b92a13-2922-4506-e8c0-32c96d3abc87"
      },
      "execution_count": 44,
      "outputs": [
        {
          "output_type": "execute_result",
          "data": {
            "text/plain": [
              "  Company   TypeName  Inches                         Cpu  Ram  \\\n",
              "0   Apple  Ultrabook    13.3        Intel Core i5 2.3GHz    8   \n",
              "1   Apple  Ultrabook    13.3        Intel Core i5 1.8GHz    8   \n",
              "2      HP   Notebook    15.6  Intel Core i5 7200U 2.5GHz    8   \n",
              "3   Apple  Ultrabook    15.4        Intel Core i7 2.7GHz   16   \n",
              "4   Apple  Ultrabook    13.3        Intel Core i5 3.1GHz    8   \n",
              "\n",
              "                Memory                           Gpu  OpSys  Weight  \\\n",
              "0            128GB SSD  Intel Iris Plus Graphics 640  macOS    1.37   \n",
              "1  128GB Flash Storage        Intel HD Graphics 6000  macOS    1.34   \n",
              "2            256GB SSD         Intel HD Graphics 620  No OS    1.86   \n",
              "3            512GB SSD            AMD Radeon Pro 455  macOS    1.83   \n",
              "4            256GB SSD  Intel Iris Plus Graphics 650  macOS    1.37   \n",
              "\n",
              "      Price_NRS  TouchScreen  IPS         ppi      CPU Brand  \n",
              "0  114205.89312            0    1  226.983005  Intel Core i5  \n",
              "1   76632.83712            0    0  127.677940  Intel Core i5  \n",
              "2   49017.60000            0    0  141.211998  Intel Core i5  \n",
              "3  216312.53760            0    1  220.534624  Intel Core i7  \n",
              "4  153753.29280            0    1  226.983005  Intel Core i5  "
            ],
            "text/html": [
              "\n",
              "  <div id=\"df-6fd90718-cb38-4760-9fa2-9b0a2cc6cd71\">\n",
              "    <div class=\"colab-df-container\">\n",
              "      <div>\n",
              "<style scoped>\n",
              "    .dataframe tbody tr th:only-of-type {\n",
              "        vertical-align: middle;\n",
              "    }\n",
              "\n",
              "    .dataframe tbody tr th {\n",
              "        vertical-align: top;\n",
              "    }\n",
              "\n",
              "    .dataframe thead th {\n",
              "        text-align: right;\n",
              "    }\n",
              "</style>\n",
              "<table border=\"1\" class=\"dataframe\">\n",
              "  <thead>\n",
              "    <tr style=\"text-align: right;\">\n",
              "      <th></th>\n",
              "      <th>Company</th>\n",
              "      <th>TypeName</th>\n",
              "      <th>Inches</th>\n",
              "      <th>Cpu</th>\n",
              "      <th>Ram</th>\n",
              "      <th>Memory</th>\n",
              "      <th>Gpu</th>\n",
              "      <th>OpSys</th>\n",
              "      <th>Weight</th>\n",
              "      <th>Price_NRS</th>\n",
              "      <th>TouchScreen</th>\n",
              "      <th>IPS</th>\n",
              "      <th>ppi</th>\n",
              "      <th>CPU Brand</th>\n",
              "    </tr>\n",
              "  </thead>\n",
              "  <tbody>\n",
              "    <tr>\n",
              "      <th>0</th>\n",
              "      <td>Apple</td>\n",
              "      <td>Ultrabook</td>\n",
              "      <td>13.3</td>\n",
              "      <td>Intel Core i5 2.3GHz</td>\n",
              "      <td>8</td>\n",
              "      <td>128GB SSD</td>\n",
              "      <td>Intel Iris Plus Graphics 640</td>\n",
              "      <td>macOS</td>\n",
              "      <td>1.37</td>\n",
              "      <td>114205.89312</td>\n",
              "      <td>0</td>\n",
              "      <td>1</td>\n",
              "      <td>226.983005</td>\n",
              "      <td>Intel Core i5</td>\n",
              "    </tr>\n",
              "    <tr>\n",
              "      <th>1</th>\n",
              "      <td>Apple</td>\n",
              "      <td>Ultrabook</td>\n",
              "      <td>13.3</td>\n",
              "      <td>Intel Core i5 1.8GHz</td>\n",
              "      <td>8</td>\n",
              "      <td>128GB Flash Storage</td>\n",
              "      <td>Intel HD Graphics 6000</td>\n",
              "      <td>macOS</td>\n",
              "      <td>1.34</td>\n",
              "      <td>76632.83712</td>\n",
              "      <td>0</td>\n",
              "      <td>0</td>\n",
              "      <td>127.677940</td>\n",
              "      <td>Intel Core i5</td>\n",
              "    </tr>\n",
              "    <tr>\n",
              "      <th>2</th>\n",
              "      <td>HP</td>\n",
              "      <td>Notebook</td>\n",
              "      <td>15.6</td>\n",
              "      <td>Intel Core i5 7200U 2.5GHz</td>\n",
              "      <td>8</td>\n",
              "      <td>256GB SSD</td>\n",
              "      <td>Intel HD Graphics 620</td>\n",
              "      <td>No OS</td>\n",
              "      <td>1.86</td>\n",
              "      <td>49017.60000</td>\n",
              "      <td>0</td>\n",
              "      <td>0</td>\n",
              "      <td>141.211998</td>\n",
              "      <td>Intel Core i5</td>\n",
              "    </tr>\n",
              "    <tr>\n",
              "      <th>3</th>\n",
              "      <td>Apple</td>\n",
              "      <td>Ultrabook</td>\n",
              "      <td>15.4</td>\n",
              "      <td>Intel Core i7 2.7GHz</td>\n",
              "      <td>16</td>\n",
              "      <td>512GB SSD</td>\n",
              "      <td>AMD Radeon Pro 455</td>\n",
              "      <td>macOS</td>\n",
              "      <td>1.83</td>\n",
              "      <td>216312.53760</td>\n",
              "      <td>0</td>\n",
              "      <td>1</td>\n",
              "      <td>220.534624</td>\n",
              "      <td>Intel Core i7</td>\n",
              "    </tr>\n",
              "    <tr>\n",
              "      <th>4</th>\n",
              "      <td>Apple</td>\n",
              "      <td>Ultrabook</td>\n",
              "      <td>13.3</td>\n",
              "      <td>Intel Core i5 3.1GHz</td>\n",
              "      <td>8</td>\n",
              "      <td>256GB SSD</td>\n",
              "      <td>Intel Iris Plus Graphics 650</td>\n",
              "      <td>macOS</td>\n",
              "      <td>1.37</td>\n",
              "      <td>153753.29280</td>\n",
              "      <td>0</td>\n",
              "      <td>1</td>\n",
              "      <td>226.983005</td>\n",
              "      <td>Intel Core i5</td>\n",
              "    </tr>\n",
              "  </tbody>\n",
              "</table>\n",
              "</div>\n",
              "      <button class=\"colab-df-convert\" onclick=\"convertToInteractive('df-6fd90718-cb38-4760-9fa2-9b0a2cc6cd71')\"\n",
              "              title=\"Convert this dataframe to an interactive table.\"\n",
              "              style=\"display:none;\">\n",
              "        \n",
              "  <svg xmlns=\"http://www.w3.org/2000/svg\" height=\"24px\"viewBox=\"0 0 24 24\"\n",
              "       width=\"24px\">\n",
              "    <path d=\"M0 0h24v24H0V0z\" fill=\"none\"/>\n",
              "    <path d=\"M18.56 5.44l.94 2.06.94-2.06 2.06-.94-2.06-.94-.94-2.06-.94 2.06-2.06.94zm-11 1L8.5 8.5l.94-2.06 2.06-.94-2.06-.94L8.5 2.5l-.94 2.06-2.06.94zm10 10l.94 2.06.94-2.06 2.06-.94-2.06-.94-.94-2.06-.94 2.06-2.06.94z\"/><path d=\"M17.41 7.96l-1.37-1.37c-.4-.4-.92-.59-1.43-.59-.52 0-1.04.2-1.43.59L10.3 9.45l-7.72 7.72c-.78.78-.78 2.05 0 2.83L4 21.41c.39.39.9.59 1.41.59.51 0 1.02-.2 1.41-.59l7.78-7.78 2.81-2.81c.8-.78.8-2.07 0-2.86zM5.41 20L4 18.59l7.72-7.72 1.47 1.35L5.41 20z\"/>\n",
              "  </svg>\n",
              "      </button>\n",
              "      \n",
              "  <style>\n",
              "    .colab-df-container {\n",
              "      display:flex;\n",
              "      flex-wrap:wrap;\n",
              "      gap: 12px;\n",
              "    }\n",
              "\n",
              "    .colab-df-convert {\n",
              "      background-color: #E8F0FE;\n",
              "      border: none;\n",
              "      border-radius: 50%;\n",
              "      cursor: pointer;\n",
              "      display: none;\n",
              "      fill: #1967D2;\n",
              "      height: 32px;\n",
              "      padding: 0 0 0 0;\n",
              "      width: 32px;\n",
              "    }\n",
              "\n",
              "    .colab-df-convert:hover {\n",
              "      background-color: #E2EBFA;\n",
              "      box-shadow: 0px 1px 2px rgba(60, 64, 67, 0.3), 0px 1px 3px 1px rgba(60, 64, 67, 0.15);\n",
              "      fill: #174EA6;\n",
              "    }\n",
              "\n",
              "    [theme=dark] .colab-df-convert {\n",
              "      background-color: #3B4455;\n",
              "      fill: #D2E3FC;\n",
              "    }\n",
              "\n",
              "    [theme=dark] .colab-df-convert:hover {\n",
              "      background-color: #434B5C;\n",
              "      box-shadow: 0px 1px 3px 1px rgba(0, 0, 0, 0.15);\n",
              "      filter: drop-shadow(0px 1px 2px rgba(0, 0, 0, 0.3));\n",
              "      fill: #FFFFFF;\n",
              "    }\n",
              "  </style>\n",
              "\n",
              "      <script>\n",
              "        const buttonEl =\n",
              "          document.querySelector('#df-6fd90718-cb38-4760-9fa2-9b0a2cc6cd71 button.colab-df-convert');\n",
              "        buttonEl.style.display =\n",
              "          google.colab.kernel.accessAllowed ? 'block' : 'none';\n",
              "\n",
              "        async function convertToInteractive(key) {\n",
              "          const element = document.querySelector('#df-6fd90718-cb38-4760-9fa2-9b0a2cc6cd71');\n",
              "          const dataTable =\n",
              "            await google.colab.kernel.invokeFunction('convertToInteractive',\n",
              "                                                     [key], {});\n",
              "          if (!dataTable) return;\n",
              "\n",
              "          const docLinkHtml = 'Like what you see? Visit the ' +\n",
              "            '<a target=\"_blank\" href=https://colab.research.google.com/notebooks/data_table.ipynb>data table notebook</a>'\n",
              "            + ' to learn more about interactive tables.';\n",
              "          element.innerHTML = '';\n",
              "          dataTable['output_type'] = 'display_data';\n",
              "          await google.colab.output.renderOutput(dataTable, element);\n",
              "          const docLink = document.createElement('div');\n",
              "          docLink.innerHTML = docLinkHtml;\n",
              "          element.appendChild(docLink);\n",
              "        }\n",
              "      </script>\n",
              "    </div>\n",
              "  </div>\n",
              "  "
            ]
          },
          "metadata": {},
          "execution_count": 44
        }
      ]
    },
    {
      "cell_type": "code",
      "source": [
        "df.drop(columns = ['Cpu'], inplace = True)"
      ],
      "metadata": {
        "id": "dfKTpvRWKVXb"
      },
      "execution_count": 45,
      "outputs": []
    },
    {
      "cell_type": "code",
      "source": [
        "\n",
        "df.head()"
      ],
      "metadata": {
        "colab": {
          "base_uri": "https://localhost:8080/",
          "height": 354
        },
        "id": "WDaJovYuKcz7",
        "outputId": "9d2e495c-3bdf-400c-805e-38424ca3853c"
      },
      "execution_count": 46,
      "outputs": [
        {
          "output_type": "execute_result",
          "data": {
            "text/plain": [
              "  Company   TypeName  Inches  Ram               Memory  \\\n",
              "0   Apple  Ultrabook    13.3    8            128GB SSD   \n",
              "1   Apple  Ultrabook    13.3    8  128GB Flash Storage   \n",
              "2      HP   Notebook    15.6    8            256GB SSD   \n",
              "3   Apple  Ultrabook    15.4   16            512GB SSD   \n",
              "4   Apple  Ultrabook    13.3    8            256GB SSD   \n",
              "\n",
              "                            Gpu  OpSys  Weight     Price_NRS  TouchScreen  \\\n",
              "0  Intel Iris Plus Graphics 640  macOS    1.37  114205.89312            0   \n",
              "1        Intel HD Graphics 6000  macOS    1.34   76632.83712            0   \n",
              "2         Intel HD Graphics 620  No OS    1.86   49017.60000            0   \n",
              "3            AMD Radeon Pro 455  macOS    1.83  216312.53760            0   \n",
              "4  Intel Iris Plus Graphics 650  macOS    1.37  153753.29280            0   \n",
              "\n",
              "   IPS         ppi      CPU Brand  \n",
              "0    1  226.983005  Intel Core i5  \n",
              "1    0  127.677940  Intel Core i5  \n",
              "2    0  141.211998  Intel Core i5  \n",
              "3    1  220.534624  Intel Core i7  \n",
              "4    1  226.983005  Intel Core i5  "
            ],
            "text/html": [
              "\n",
              "  <div id=\"df-66be6f30-d30d-4ffb-bbd5-420861833f5e\">\n",
              "    <div class=\"colab-df-container\">\n",
              "      <div>\n",
              "<style scoped>\n",
              "    .dataframe tbody tr th:only-of-type {\n",
              "        vertical-align: middle;\n",
              "    }\n",
              "\n",
              "    .dataframe tbody tr th {\n",
              "        vertical-align: top;\n",
              "    }\n",
              "\n",
              "    .dataframe thead th {\n",
              "        text-align: right;\n",
              "    }\n",
              "</style>\n",
              "<table border=\"1\" class=\"dataframe\">\n",
              "  <thead>\n",
              "    <tr style=\"text-align: right;\">\n",
              "      <th></th>\n",
              "      <th>Company</th>\n",
              "      <th>TypeName</th>\n",
              "      <th>Inches</th>\n",
              "      <th>Ram</th>\n",
              "      <th>Memory</th>\n",
              "      <th>Gpu</th>\n",
              "      <th>OpSys</th>\n",
              "      <th>Weight</th>\n",
              "      <th>Price_NRS</th>\n",
              "      <th>TouchScreen</th>\n",
              "      <th>IPS</th>\n",
              "      <th>ppi</th>\n",
              "      <th>CPU Brand</th>\n",
              "    </tr>\n",
              "  </thead>\n",
              "  <tbody>\n",
              "    <tr>\n",
              "      <th>0</th>\n",
              "      <td>Apple</td>\n",
              "      <td>Ultrabook</td>\n",
              "      <td>13.3</td>\n",
              "      <td>8</td>\n",
              "      <td>128GB SSD</td>\n",
              "      <td>Intel Iris Plus Graphics 640</td>\n",
              "      <td>macOS</td>\n",
              "      <td>1.37</td>\n",
              "      <td>114205.89312</td>\n",
              "      <td>0</td>\n",
              "      <td>1</td>\n",
              "      <td>226.983005</td>\n",
              "      <td>Intel Core i5</td>\n",
              "    </tr>\n",
              "    <tr>\n",
              "      <th>1</th>\n",
              "      <td>Apple</td>\n",
              "      <td>Ultrabook</td>\n",
              "      <td>13.3</td>\n",
              "      <td>8</td>\n",
              "      <td>128GB Flash Storage</td>\n",
              "      <td>Intel HD Graphics 6000</td>\n",
              "      <td>macOS</td>\n",
              "      <td>1.34</td>\n",
              "      <td>76632.83712</td>\n",
              "      <td>0</td>\n",
              "      <td>0</td>\n",
              "      <td>127.677940</td>\n",
              "      <td>Intel Core i5</td>\n",
              "    </tr>\n",
              "    <tr>\n",
              "      <th>2</th>\n",
              "      <td>HP</td>\n",
              "      <td>Notebook</td>\n",
              "      <td>15.6</td>\n",
              "      <td>8</td>\n",
              "      <td>256GB SSD</td>\n",
              "      <td>Intel HD Graphics 620</td>\n",
              "      <td>No OS</td>\n",
              "      <td>1.86</td>\n",
              "      <td>49017.60000</td>\n",
              "      <td>0</td>\n",
              "      <td>0</td>\n",
              "      <td>141.211998</td>\n",
              "      <td>Intel Core i5</td>\n",
              "    </tr>\n",
              "    <tr>\n",
              "      <th>3</th>\n",
              "      <td>Apple</td>\n",
              "      <td>Ultrabook</td>\n",
              "      <td>15.4</td>\n",
              "      <td>16</td>\n",
              "      <td>512GB SSD</td>\n",
              "      <td>AMD Radeon Pro 455</td>\n",
              "      <td>macOS</td>\n",
              "      <td>1.83</td>\n",
              "      <td>216312.53760</td>\n",
              "      <td>0</td>\n",
              "      <td>1</td>\n",
              "      <td>220.534624</td>\n",
              "      <td>Intel Core i7</td>\n",
              "    </tr>\n",
              "    <tr>\n",
              "      <th>4</th>\n",
              "      <td>Apple</td>\n",
              "      <td>Ultrabook</td>\n",
              "      <td>13.3</td>\n",
              "      <td>8</td>\n",
              "      <td>256GB SSD</td>\n",
              "      <td>Intel Iris Plus Graphics 650</td>\n",
              "      <td>macOS</td>\n",
              "      <td>1.37</td>\n",
              "      <td>153753.29280</td>\n",
              "      <td>0</td>\n",
              "      <td>1</td>\n",
              "      <td>226.983005</td>\n",
              "      <td>Intel Core i5</td>\n",
              "    </tr>\n",
              "  </tbody>\n",
              "</table>\n",
              "</div>\n",
              "      <button class=\"colab-df-convert\" onclick=\"convertToInteractive('df-66be6f30-d30d-4ffb-bbd5-420861833f5e')\"\n",
              "              title=\"Convert this dataframe to an interactive table.\"\n",
              "              style=\"display:none;\">\n",
              "        \n",
              "  <svg xmlns=\"http://www.w3.org/2000/svg\" height=\"24px\"viewBox=\"0 0 24 24\"\n",
              "       width=\"24px\">\n",
              "    <path d=\"M0 0h24v24H0V0z\" fill=\"none\"/>\n",
              "    <path d=\"M18.56 5.44l.94 2.06.94-2.06 2.06-.94-2.06-.94-.94-2.06-.94 2.06-2.06.94zm-11 1L8.5 8.5l.94-2.06 2.06-.94-2.06-.94L8.5 2.5l-.94 2.06-2.06.94zm10 10l.94 2.06.94-2.06 2.06-.94-2.06-.94-.94-2.06-.94 2.06-2.06.94z\"/><path d=\"M17.41 7.96l-1.37-1.37c-.4-.4-.92-.59-1.43-.59-.52 0-1.04.2-1.43.59L10.3 9.45l-7.72 7.72c-.78.78-.78 2.05 0 2.83L4 21.41c.39.39.9.59 1.41.59.51 0 1.02-.2 1.41-.59l7.78-7.78 2.81-2.81c.8-.78.8-2.07 0-2.86zM5.41 20L4 18.59l7.72-7.72 1.47 1.35L5.41 20z\"/>\n",
              "  </svg>\n",
              "      </button>\n",
              "      \n",
              "  <style>\n",
              "    .colab-df-container {\n",
              "      display:flex;\n",
              "      flex-wrap:wrap;\n",
              "      gap: 12px;\n",
              "    }\n",
              "\n",
              "    .colab-df-convert {\n",
              "      background-color: #E8F0FE;\n",
              "      border: none;\n",
              "      border-radius: 50%;\n",
              "      cursor: pointer;\n",
              "      display: none;\n",
              "      fill: #1967D2;\n",
              "      height: 32px;\n",
              "      padding: 0 0 0 0;\n",
              "      width: 32px;\n",
              "    }\n",
              "\n",
              "    .colab-df-convert:hover {\n",
              "      background-color: #E2EBFA;\n",
              "      box-shadow: 0px 1px 2px rgba(60, 64, 67, 0.3), 0px 1px 3px 1px rgba(60, 64, 67, 0.15);\n",
              "      fill: #174EA6;\n",
              "    }\n",
              "\n",
              "    [theme=dark] .colab-df-convert {\n",
              "      background-color: #3B4455;\n",
              "      fill: #D2E3FC;\n",
              "    }\n",
              "\n",
              "    [theme=dark] .colab-df-convert:hover {\n",
              "      background-color: #434B5C;\n",
              "      box-shadow: 0px 1px 3px 1px rgba(0, 0, 0, 0.15);\n",
              "      filter: drop-shadow(0px 1px 2px rgba(0, 0, 0, 0.3));\n",
              "      fill: #FFFFFF;\n",
              "    }\n",
              "  </style>\n",
              "\n",
              "      <script>\n",
              "        const buttonEl =\n",
              "          document.querySelector('#df-66be6f30-d30d-4ffb-bbd5-420861833f5e button.colab-df-convert');\n",
              "        buttonEl.style.display =\n",
              "          google.colab.kernel.accessAllowed ? 'block' : 'none';\n",
              "\n",
              "        async function convertToInteractive(key) {\n",
              "          const element = document.querySelector('#df-66be6f30-d30d-4ffb-bbd5-420861833f5e');\n",
              "          const dataTable =\n",
              "            await google.colab.kernel.invokeFunction('convertToInteractive',\n",
              "                                                     [key], {});\n",
              "          if (!dataTable) return;\n",
              "\n",
              "          const docLinkHtml = 'Like what you see? Visit the ' +\n",
              "            '<a target=\"_blank\" href=https://colab.research.google.com/notebooks/data_table.ipynb>data table notebook</a>'\n",
              "            + ' to learn more about interactive tables.';\n",
              "          element.innerHTML = '';\n",
              "          dataTable['output_type'] = 'display_data';\n",
              "          await google.colab.output.renderOutput(dataTable, element);\n",
              "          const docLink = document.createElement('div');\n",
              "          docLink.innerHTML = docLinkHtml;\n",
              "          element.appendChild(docLink);\n",
              "        }\n",
              "      </script>\n",
              "    </div>\n",
              "  </div>\n",
              "  "
            ]
          },
          "metadata": {},
          "execution_count": 46
        }
      ]
    },
    {
      "cell_type": "code",
      "source": [
        "sns.barplot(x= df['CPU Brand'], y= df['Price_NRS'])\n",
        "plt.xticks(rotation='vertical')\n",
        "plt.show()"
      ],
      "metadata": {
        "colab": {
          "base_uri": "https://localhost:8080/",
          "height": 374
        },
        "id": "rNREOddaKzy7",
        "outputId": "2ae5b7e1-5d24-4582-8ab5-f20066855f04"
      },
      "execution_count": 47,
      "outputs": [
        {
          "output_type": "display_data",
          "data": {
            "text/plain": [
              "<Figure size 432x288 with 1 Axes>"
            ],
            "image/png": "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\n"
          },
          "metadata": {
            "needs_background": "light"
          }
        }
      ]
    },
    {
      "cell_type": "code",
      "source": [
        "sns.barplot(x= df['Ram'], y= df['Price_NRS'])"
      ],
      "metadata": {
        "colab": {
          "base_uri": "https://localhost:8080/",
          "height": 296
        },
        "id": "R3pxp-f8Kj0T",
        "outputId": "e7b2f89f-67b8-4cd1-fe8b-0ff4108436f2"
      },
      "execution_count": 48,
      "outputs": [
        {
          "output_type": "execute_result",
          "data": {
            "text/plain": [
              "<matplotlib.axes._subplots.AxesSubplot at 0x7f672f76e940>"
            ]
          },
          "metadata": {},
          "execution_count": 48
        },
        {
          "output_type": "display_data",
          "data": {
            "text/plain": [
              "<Figure size 432x288 with 1 Axes>"
            ],
            "image/png": "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\n"
          },
          "metadata": {
            "needs_background": "light"
          }
        }
      ]
    },
    {
      "cell_type": "code",
      "source": [
        "df['Memory'].value_counts()"
      ],
      "metadata": {
        "id": "a0eRH2xQLwyj",
        "colab": {
          "base_uri": "https://localhost:8080/"
        },
        "outputId": "b82bac7d-c02f-445a-b7f8-df237240c8e3"
      },
      "execution_count": 49,
      "outputs": [
        {
          "output_type": "execute_result",
          "data": {
            "text/plain": [
              "256GB SSD                        412\n",
              "1TB HDD                          223\n",
              "500GB HDD                        132\n",
              "512GB SSD                        118\n",
              "128GB SSD +  1TB HDD              94\n",
              "128GB SSD                         76\n",
              "256GB SSD +  1TB HDD              73\n",
              "32GB Flash Storage                38\n",
              "2TB HDD                           16\n",
              "64GB Flash Storage                15\n",
              "512GB SSD +  1TB HDD              14\n",
              "1TB SSD                           14\n",
              "256GB SSD +  2TB HDD              10\n",
              "1.0TB Hybrid                       9\n",
              "256GB Flash Storage                8\n",
              "16GB Flash Storage                 7\n",
              "32GB SSD                           6\n",
              "180GB SSD                          5\n",
              "128GB Flash Storage                4\n",
              "512GB SSD +  2TB HDD               3\n",
              "16GB SSD                           3\n",
              "512GB Flash Storage                2\n",
              "1TB SSD +  1TB HDD                 2\n",
              "256GB SSD +  500GB HDD             2\n",
              "128GB SSD +  2TB HDD               2\n",
              "256GB SSD +  256GB SSD             2\n",
              "512GB SSD +  256GB SSD             1\n",
              "512GB SSD +  512GB SSD             1\n",
              "64GB Flash Storage +  1TB HDD      1\n",
              "1TB HDD +  1TB HDD                 1\n",
              "32GB HDD                           1\n",
              "64GB SSD                           1\n",
              "128GB HDD                          1\n",
              "240GB SSD                          1\n",
              "8GB SSD                            1\n",
              "508GB Hybrid                       1\n",
              "1.0TB HDD                          1\n",
              "512GB SSD +  1.0TB Hybrid          1\n",
              "256GB SSD +  1.0TB Hybrid          1\n",
              "Name: Memory, dtype: int64"
            ]
          },
          "metadata": {},
          "execution_count": 49
        }
      ]
    },
    {
      "cell_type": "code",
      "source": [
        "df['HDD'] = df['Memory'].apply(lambda x: 1 if 'HDD' in x else 0 )\n",
        "df['SSD'] = df['Memory'].apply(lambda x: 1 if 'SSD' in x else 0 )"
      ],
      "metadata": {
        "id": "oROGJ-Qn5xAA"
      },
      "execution_count": 50,
      "outputs": []
    },
    {
      "cell_type": "code",
      "source": [
        "df.sample(5)"
      ],
      "metadata": {
        "colab": {
          "base_uri": "https://localhost:8080/",
          "height": 513
        },
        "id": "Zmbo9tRW6rX4",
        "outputId": "11cd42bb-603f-4647-a36b-a4200c3a00fa"
      },
      "execution_count": 51,
      "outputs": [
        {
          "output_type": "execute_result",
          "data": {
            "text/plain": [
              "      Company            TypeName  Inches  Ram              Memory  \\\n",
              "259    Lenovo  2 in 1 Convertible    15.6    8           512GB SSD   \n",
              "187    Lenovo              Gaming    15.6    8           256GB SSD   \n",
              "556  Mediacom            Notebook    13.3    4  32GB Flash Storage   \n",
              "15      Apple           Ultrabook    13.3    8           256GB SSD   \n",
              "387      Dell         Workstation    15.6    8           500GB HDD   \n",
              "\n",
              "                              Gpu       OpSys  Weight    Price_NRS  \\\n",
              "259      Nvidia GeForce GTX 1050M  Windows 10    2.00  144836.3520   \n",
              "187       Nvidia GeForce GTX 1050       No OS    2.40   66408.1920   \n",
              "556             Intel HD Graphics  Windows 10    1.35   21738.2400   \n",
              "15   Intel Iris Plus Graphics 640       macOS    1.37  129453.3504   \n",
              "387            AMD FirePro W5130M  Windows 10    2.23  116704.5120   \n",
              "\n",
              "     TouchScreen  IPS         ppi              CPU Brand  HDD  SSD  \n",
              "259            1    1  141.211998          Intel Core i7    0    1  \n",
              "187            0    1  141.211998          Intel Core i5    0    1  \n",
              "556            0    1  165.632118  Other Intel Processor    0    0  \n",
              "15             0    1  226.983005          Intel Core i5    0    1  \n",
              "387            0    0  141.211998          Intel Core i5    1    0  "
            ],
            "text/html": [
              "\n",
              "  <div id=\"df-d2d90def-b3bd-4e8f-8198-6d7360035af0\">\n",
              "    <div class=\"colab-df-container\">\n",
              "      <div>\n",
              "<style scoped>\n",
              "    .dataframe tbody tr th:only-of-type {\n",
              "        vertical-align: middle;\n",
              "    }\n",
              "\n",
              "    .dataframe tbody tr th {\n",
              "        vertical-align: top;\n",
              "    }\n",
              "\n",
              "    .dataframe thead th {\n",
              "        text-align: right;\n",
              "    }\n",
              "</style>\n",
              "<table border=\"1\" class=\"dataframe\">\n",
              "  <thead>\n",
              "    <tr style=\"text-align: right;\">\n",
              "      <th></th>\n",
              "      <th>Company</th>\n",
              "      <th>TypeName</th>\n",
              "      <th>Inches</th>\n",
              "      <th>Ram</th>\n",
              "      <th>Memory</th>\n",
              "      <th>Gpu</th>\n",
              "      <th>OpSys</th>\n",
              "      <th>Weight</th>\n",
              "      <th>Price_NRS</th>\n",
              "      <th>TouchScreen</th>\n",
              "      <th>IPS</th>\n",
              "      <th>ppi</th>\n",
              "      <th>CPU Brand</th>\n",
              "      <th>HDD</th>\n",
              "      <th>SSD</th>\n",
              "    </tr>\n",
              "  </thead>\n",
              "  <tbody>\n",
              "    <tr>\n",
              "      <th>259</th>\n",
              "      <td>Lenovo</td>\n",
              "      <td>2 in 1 Convertible</td>\n",
              "      <td>15.6</td>\n",
              "      <td>8</td>\n",
              "      <td>512GB SSD</td>\n",
              "      <td>Nvidia GeForce GTX 1050M</td>\n",
              "      <td>Windows 10</td>\n",
              "      <td>2.00</td>\n",
              "      <td>144836.3520</td>\n",
              "      <td>1</td>\n",
              "      <td>1</td>\n",
              "      <td>141.211998</td>\n",
              "      <td>Intel Core i7</td>\n",
              "      <td>0</td>\n",
              "      <td>1</td>\n",
              "    </tr>\n",
              "    <tr>\n",
              "      <th>187</th>\n",
              "      <td>Lenovo</td>\n",
              "      <td>Gaming</td>\n",
              "      <td>15.6</td>\n",
              "      <td>8</td>\n",
              "      <td>256GB SSD</td>\n",
              "      <td>Nvidia GeForce GTX 1050</td>\n",
              "      <td>No OS</td>\n",
              "      <td>2.40</td>\n",
              "      <td>66408.1920</td>\n",
              "      <td>0</td>\n",
              "      <td>1</td>\n",
              "      <td>141.211998</td>\n",
              "      <td>Intel Core i5</td>\n",
              "      <td>0</td>\n",
              "      <td>1</td>\n",
              "    </tr>\n",
              "    <tr>\n",
              "      <th>556</th>\n",
              "      <td>Mediacom</td>\n",
              "      <td>Notebook</td>\n",
              "      <td>13.3</td>\n",
              "      <td>4</td>\n",
              "      <td>32GB Flash Storage</td>\n",
              "      <td>Intel HD Graphics</td>\n",
              "      <td>Windows 10</td>\n",
              "      <td>1.35</td>\n",
              "      <td>21738.2400</td>\n",
              "      <td>0</td>\n",
              "      <td>1</td>\n",
              "      <td>165.632118</td>\n",
              "      <td>Other Intel Processor</td>\n",
              "      <td>0</td>\n",
              "      <td>0</td>\n",
              "    </tr>\n",
              "    <tr>\n",
              "      <th>15</th>\n",
              "      <td>Apple</td>\n",
              "      <td>Ultrabook</td>\n",
              "      <td>13.3</td>\n",
              "      <td>8</td>\n",
              "      <td>256GB SSD</td>\n",
              "      <td>Intel Iris Plus Graphics 640</td>\n",
              "      <td>macOS</td>\n",
              "      <td>1.37</td>\n",
              "      <td>129453.3504</td>\n",
              "      <td>0</td>\n",
              "      <td>1</td>\n",
              "      <td>226.983005</td>\n",
              "      <td>Intel Core i5</td>\n",
              "      <td>0</td>\n",
              "      <td>1</td>\n",
              "    </tr>\n",
              "    <tr>\n",
              "      <th>387</th>\n",
              "      <td>Dell</td>\n",
              "      <td>Workstation</td>\n",
              "      <td>15.6</td>\n",
              "      <td>8</td>\n",
              "      <td>500GB HDD</td>\n",
              "      <td>AMD FirePro W5130M</td>\n",
              "      <td>Windows 10</td>\n",
              "      <td>2.23</td>\n",
              "      <td>116704.5120</td>\n",
              "      <td>0</td>\n",
              "      <td>0</td>\n",
              "      <td>141.211998</td>\n",
              "      <td>Intel Core i5</td>\n",
              "      <td>1</td>\n",
              "      <td>0</td>\n",
              "    </tr>\n",
              "  </tbody>\n",
              "</table>\n",
              "</div>\n",
              "      <button class=\"colab-df-convert\" onclick=\"convertToInteractive('df-d2d90def-b3bd-4e8f-8198-6d7360035af0')\"\n",
              "              title=\"Convert this dataframe to an interactive table.\"\n",
              "              style=\"display:none;\">\n",
              "        \n",
              "  <svg xmlns=\"http://www.w3.org/2000/svg\" height=\"24px\"viewBox=\"0 0 24 24\"\n",
              "       width=\"24px\">\n",
              "    <path d=\"M0 0h24v24H0V0z\" fill=\"none\"/>\n",
              "    <path d=\"M18.56 5.44l.94 2.06.94-2.06 2.06-.94-2.06-.94-.94-2.06-.94 2.06-2.06.94zm-11 1L8.5 8.5l.94-2.06 2.06-.94-2.06-.94L8.5 2.5l-.94 2.06-2.06.94zm10 10l.94 2.06.94-2.06 2.06-.94-2.06-.94-.94-2.06-.94 2.06-2.06.94z\"/><path d=\"M17.41 7.96l-1.37-1.37c-.4-.4-.92-.59-1.43-.59-.52 0-1.04.2-1.43.59L10.3 9.45l-7.72 7.72c-.78.78-.78 2.05 0 2.83L4 21.41c.39.39.9.59 1.41.59.51 0 1.02-.2 1.41-.59l7.78-7.78 2.81-2.81c.8-.78.8-2.07 0-2.86zM5.41 20L4 18.59l7.72-7.72 1.47 1.35L5.41 20z\"/>\n",
              "  </svg>\n",
              "      </button>\n",
              "      \n",
              "  <style>\n",
              "    .colab-df-container {\n",
              "      display:flex;\n",
              "      flex-wrap:wrap;\n",
              "      gap: 12px;\n",
              "    }\n",
              "\n",
              "    .colab-df-convert {\n",
              "      background-color: #E8F0FE;\n",
              "      border: none;\n",
              "      border-radius: 50%;\n",
              "      cursor: pointer;\n",
              "      display: none;\n",
              "      fill: #1967D2;\n",
              "      height: 32px;\n",
              "      padding: 0 0 0 0;\n",
              "      width: 32px;\n",
              "    }\n",
              "\n",
              "    .colab-df-convert:hover {\n",
              "      background-color: #E2EBFA;\n",
              "      box-shadow: 0px 1px 2px rgba(60, 64, 67, 0.3), 0px 1px 3px 1px rgba(60, 64, 67, 0.15);\n",
              "      fill: #174EA6;\n",
              "    }\n",
              "\n",
              "    [theme=dark] .colab-df-convert {\n",
              "      background-color: #3B4455;\n",
              "      fill: #D2E3FC;\n",
              "    }\n",
              "\n",
              "    [theme=dark] .colab-df-convert:hover {\n",
              "      background-color: #434B5C;\n",
              "      box-shadow: 0px 1px 3px 1px rgba(0, 0, 0, 0.15);\n",
              "      filter: drop-shadow(0px 1px 2px rgba(0, 0, 0, 0.3));\n",
              "      fill: #FFFFFF;\n",
              "    }\n",
              "  </style>\n",
              "\n",
              "      <script>\n",
              "        const buttonEl =\n",
              "          document.querySelector('#df-d2d90def-b3bd-4e8f-8198-6d7360035af0 button.colab-df-convert');\n",
              "        buttonEl.style.display =\n",
              "          google.colab.kernel.accessAllowed ? 'block' : 'none';\n",
              "\n",
              "        async function convertToInteractive(key) {\n",
              "          const element = document.querySelector('#df-d2d90def-b3bd-4e8f-8198-6d7360035af0');\n",
              "          const dataTable =\n",
              "            await google.colab.kernel.invokeFunction('convertToInteractive',\n",
              "                                                     [key], {});\n",
              "          if (!dataTable) return;\n",
              "\n",
              "          const docLinkHtml = 'Like what you see? Visit the ' +\n",
              "            '<a target=\"_blank\" href=https://colab.research.google.com/notebooks/data_table.ipynb>data table notebook</a>'\n",
              "            + ' to learn more about interactive tables.';\n",
              "          element.innerHTML = '';\n",
              "          dataTable['output_type'] = 'display_data';\n",
              "          await google.colab.output.renderOutput(dataTable, element);\n",
              "          const docLink = document.createElement('div');\n",
              "          docLink.innerHTML = docLinkHtml;\n",
              "          element.appendChild(docLink);\n",
              "        }\n",
              "      </script>\n",
              "    </div>\n",
              "  </div>\n",
              "  "
            ]
          },
          "metadata": {},
          "execution_count": 51
        }
      ]
    },
    {
      "cell_type": "code",
      "source": [
        "df['Gpu'].value_counts()"
      ],
      "metadata": {
        "colab": {
          "base_uri": "https://localhost:8080/"
        },
        "id": "0_G9eeRM6sqW",
        "outputId": "e0c25c82-c9f4-4baf-e176-0b19e9430da9"
      },
      "execution_count": 52,
      "outputs": [
        {
          "output_type": "execute_result",
          "data": {
            "text/plain": [
              "Intel HD Graphics 620      281\n",
              "Intel HD Graphics 520      185\n",
              "Intel UHD Graphics 620      68\n",
              "Nvidia GeForce GTX 1050     66\n",
              "Nvidia GeForce GTX 1060     48\n",
              "                          ... \n",
              "AMD Radeon R5 520            1\n",
              "AMD Radeon R7                1\n",
              "Intel HD Graphics 540        1\n",
              "AMD Radeon 540               1\n",
              "ARM Mali T860 MP4            1\n",
              "Name: Gpu, Length: 110, dtype: int64"
            ]
          },
          "metadata": {},
          "execution_count": 52
        }
      ]
    },
    {
      "cell_type": "code",
      "source": [
        "df['Gpu Brand'] = df['Gpu'].apply(lambda x : x.split(\" \")[0])"
      ],
      "metadata": {
        "id": "BZDT7Xa57rHH"
      },
      "execution_count": 53,
      "outputs": []
    },
    {
      "cell_type": "code",
      "source": [
        "df.head()"
      ],
      "metadata": {
        "colab": {
          "base_uri": "https://localhost:8080/",
          "height": 496
        },
        "id": "nLqR10IN7-sW",
        "outputId": "8ad41cfb-61eb-4d2b-e869-38985a862489"
      },
      "execution_count": 54,
      "outputs": [
        {
          "output_type": "execute_result",
          "data": {
            "text/plain": [
              "  Company   TypeName  Inches  Ram               Memory  \\\n",
              "0   Apple  Ultrabook    13.3    8            128GB SSD   \n",
              "1   Apple  Ultrabook    13.3    8  128GB Flash Storage   \n",
              "2      HP   Notebook    15.6    8            256GB SSD   \n",
              "3   Apple  Ultrabook    15.4   16            512GB SSD   \n",
              "4   Apple  Ultrabook    13.3    8            256GB SSD   \n",
              "\n",
              "                            Gpu  OpSys  Weight     Price_NRS  TouchScreen  \\\n",
              "0  Intel Iris Plus Graphics 640  macOS    1.37  114205.89312            0   \n",
              "1        Intel HD Graphics 6000  macOS    1.34   76632.83712            0   \n",
              "2         Intel HD Graphics 620  No OS    1.86   49017.60000            0   \n",
              "3            AMD Radeon Pro 455  macOS    1.83  216312.53760            0   \n",
              "4  Intel Iris Plus Graphics 650  macOS    1.37  153753.29280            0   \n",
              "\n",
              "   IPS         ppi      CPU Brand  HDD  SSD Gpu Brand  \n",
              "0    1  226.983005  Intel Core i5    0    1     Intel  \n",
              "1    0  127.677940  Intel Core i5    0    0     Intel  \n",
              "2    0  141.211998  Intel Core i5    0    1     Intel  \n",
              "3    1  220.534624  Intel Core i7    0    1       AMD  \n",
              "4    1  226.983005  Intel Core i5    0    1     Intel  "
            ],
            "text/html": [
              "\n",
              "  <div id=\"df-5705135c-735c-4fcb-b150-8e01c920188a\">\n",
              "    <div class=\"colab-df-container\">\n",
              "      <div>\n",
              "<style scoped>\n",
              "    .dataframe tbody tr th:only-of-type {\n",
              "        vertical-align: middle;\n",
              "    }\n",
              "\n",
              "    .dataframe tbody tr th {\n",
              "        vertical-align: top;\n",
              "    }\n",
              "\n",
              "    .dataframe thead th {\n",
              "        text-align: right;\n",
              "    }\n",
              "</style>\n",
              "<table border=\"1\" class=\"dataframe\">\n",
              "  <thead>\n",
              "    <tr style=\"text-align: right;\">\n",
              "      <th></th>\n",
              "      <th>Company</th>\n",
              "      <th>TypeName</th>\n",
              "      <th>Inches</th>\n",
              "      <th>Ram</th>\n",
              "      <th>Memory</th>\n",
              "      <th>Gpu</th>\n",
              "      <th>OpSys</th>\n",
              "      <th>Weight</th>\n",
              "      <th>Price_NRS</th>\n",
              "      <th>TouchScreen</th>\n",
              "      <th>IPS</th>\n",
              "      <th>ppi</th>\n",
              "      <th>CPU Brand</th>\n",
              "      <th>HDD</th>\n",
              "      <th>SSD</th>\n",
              "      <th>Gpu Brand</th>\n",
              "    </tr>\n",
              "  </thead>\n",
              "  <tbody>\n",
              "    <tr>\n",
              "      <th>0</th>\n",
              "      <td>Apple</td>\n",
              "      <td>Ultrabook</td>\n",
              "      <td>13.3</td>\n",
              "      <td>8</td>\n",
              "      <td>128GB SSD</td>\n",
              "      <td>Intel Iris Plus Graphics 640</td>\n",
              "      <td>macOS</td>\n",
              "      <td>1.37</td>\n",
              "      <td>114205.89312</td>\n",
              "      <td>0</td>\n",
              "      <td>1</td>\n",
              "      <td>226.983005</td>\n",
              "      <td>Intel Core i5</td>\n",
              "      <td>0</td>\n",
              "      <td>1</td>\n",
              "      <td>Intel</td>\n",
              "    </tr>\n",
              "    <tr>\n",
              "      <th>1</th>\n",
              "      <td>Apple</td>\n",
              "      <td>Ultrabook</td>\n",
              "      <td>13.3</td>\n",
              "      <td>8</td>\n",
              "      <td>128GB Flash Storage</td>\n",
              "      <td>Intel HD Graphics 6000</td>\n",
              "      <td>macOS</td>\n",
              "      <td>1.34</td>\n",
              "      <td>76632.83712</td>\n",
              "      <td>0</td>\n",
              "      <td>0</td>\n",
              "      <td>127.677940</td>\n",
              "      <td>Intel Core i5</td>\n",
              "      <td>0</td>\n",
              "      <td>0</td>\n",
              "      <td>Intel</td>\n",
              "    </tr>\n",
              "    <tr>\n",
              "      <th>2</th>\n",
              "      <td>HP</td>\n",
              "      <td>Notebook</td>\n",
              "      <td>15.6</td>\n",
              "      <td>8</td>\n",
              "      <td>256GB SSD</td>\n",
              "      <td>Intel HD Graphics 620</td>\n",
              "      <td>No OS</td>\n",
              "      <td>1.86</td>\n",
              "      <td>49017.60000</td>\n",
              "      <td>0</td>\n",
              "      <td>0</td>\n",
              "      <td>141.211998</td>\n",
              "      <td>Intel Core i5</td>\n",
              "      <td>0</td>\n",
              "      <td>1</td>\n",
              "      <td>Intel</td>\n",
              "    </tr>\n",
              "    <tr>\n",
              "      <th>3</th>\n",
              "      <td>Apple</td>\n",
              "      <td>Ultrabook</td>\n",
              "      <td>15.4</td>\n",
              "      <td>16</td>\n",
              "      <td>512GB SSD</td>\n",
              "      <td>AMD Radeon Pro 455</td>\n",
              "      <td>macOS</td>\n",
              "      <td>1.83</td>\n",
              "      <td>216312.53760</td>\n",
              "      <td>0</td>\n",
              "      <td>1</td>\n",
              "      <td>220.534624</td>\n",
              "      <td>Intel Core i7</td>\n",
              "      <td>0</td>\n",
              "      <td>1</td>\n",
              "      <td>AMD</td>\n",
              "    </tr>\n",
              "    <tr>\n",
              "      <th>4</th>\n",
              "      <td>Apple</td>\n",
              "      <td>Ultrabook</td>\n",
              "      <td>13.3</td>\n",
              "      <td>8</td>\n",
              "      <td>256GB SSD</td>\n",
              "      <td>Intel Iris Plus Graphics 650</td>\n",
              "      <td>macOS</td>\n",
              "      <td>1.37</td>\n",
              "      <td>153753.29280</td>\n",
              "      <td>0</td>\n",
              "      <td>1</td>\n",
              "      <td>226.983005</td>\n",
              "      <td>Intel Core i5</td>\n",
              "      <td>0</td>\n",
              "      <td>1</td>\n",
              "      <td>Intel</td>\n",
              "    </tr>\n",
              "  </tbody>\n",
              "</table>\n",
              "</div>\n",
              "      <button class=\"colab-df-convert\" onclick=\"convertToInteractive('df-5705135c-735c-4fcb-b150-8e01c920188a')\"\n",
              "              title=\"Convert this dataframe to an interactive table.\"\n",
              "              style=\"display:none;\">\n",
              "        \n",
              "  <svg xmlns=\"http://www.w3.org/2000/svg\" height=\"24px\"viewBox=\"0 0 24 24\"\n",
              "       width=\"24px\">\n",
              "    <path d=\"M0 0h24v24H0V0z\" fill=\"none\"/>\n",
              "    <path d=\"M18.56 5.44l.94 2.06.94-2.06 2.06-.94-2.06-.94-.94-2.06-.94 2.06-2.06.94zm-11 1L8.5 8.5l.94-2.06 2.06-.94-2.06-.94L8.5 2.5l-.94 2.06-2.06.94zm10 10l.94 2.06.94-2.06 2.06-.94-2.06-.94-.94-2.06-.94 2.06-2.06.94z\"/><path d=\"M17.41 7.96l-1.37-1.37c-.4-.4-.92-.59-1.43-.59-.52 0-1.04.2-1.43.59L10.3 9.45l-7.72 7.72c-.78.78-.78 2.05 0 2.83L4 21.41c.39.39.9.59 1.41.59.51 0 1.02-.2 1.41-.59l7.78-7.78 2.81-2.81c.8-.78.8-2.07 0-2.86zM5.41 20L4 18.59l7.72-7.72 1.47 1.35L5.41 20z\"/>\n",
              "  </svg>\n",
              "      </button>\n",
              "      \n",
              "  <style>\n",
              "    .colab-df-container {\n",
              "      display:flex;\n",
              "      flex-wrap:wrap;\n",
              "      gap: 12px;\n",
              "    }\n",
              "\n",
              "    .colab-df-convert {\n",
              "      background-color: #E8F0FE;\n",
              "      border: none;\n",
              "      border-radius: 50%;\n",
              "      cursor: pointer;\n",
              "      display: none;\n",
              "      fill: #1967D2;\n",
              "      height: 32px;\n",
              "      padding: 0 0 0 0;\n",
              "      width: 32px;\n",
              "    }\n",
              "\n",
              "    .colab-df-convert:hover {\n",
              "      background-color: #E2EBFA;\n",
              "      box-shadow: 0px 1px 2px rgba(60, 64, 67, 0.3), 0px 1px 3px 1px rgba(60, 64, 67, 0.15);\n",
              "      fill: #174EA6;\n",
              "    }\n",
              "\n",
              "    [theme=dark] .colab-df-convert {\n",
              "      background-color: #3B4455;\n",
              "      fill: #D2E3FC;\n",
              "    }\n",
              "\n",
              "    [theme=dark] .colab-df-convert:hover {\n",
              "      background-color: #434B5C;\n",
              "      box-shadow: 0px 1px 3px 1px rgba(0, 0, 0, 0.15);\n",
              "      filter: drop-shadow(0px 1px 2px rgba(0, 0, 0, 0.3));\n",
              "      fill: #FFFFFF;\n",
              "    }\n",
              "  </style>\n",
              "\n",
              "      <script>\n",
              "        const buttonEl =\n",
              "          document.querySelector('#df-5705135c-735c-4fcb-b150-8e01c920188a button.colab-df-convert');\n",
              "        buttonEl.style.display =\n",
              "          google.colab.kernel.accessAllowed ? 'block' : 'none';\n",
              "\n",
              "        async function convertToInteractive(key) {\n",
              "          const element = document.querySelector('#df-5705135c-735c-4fcb-b150-8e01c920188a');\n",
              "          const dataTable =\n",
              "            await google.colab.kernel.invokeFunction('convertToInteractive',\n",
              "                                                     [key], {});\n",
              "          if (!dataTable) return;\n",
              "\n",
              "          const docLinkHtml = 'Like what you see? Visit the ' +\n",
              "            '<a target=\"_blank\" href=https://colab.research.google.com/notebooks/data_table.ipynb>data table notebook</a>'\n",
              "            + ' to learn more about interactive tables.';\n",
              "          element.innerHTML = '';\n",
              "          dataTable['output_type'] = 'display_data';\n",
              "          await google.colab.output.renderOutput(dataTable, element);\n",
              "          const docLink = document.createElement('div');\n",
              "          docLink.innerHTML = docLinkHtml;\n",
              "          element.appendChild(docLink);\n",
              "        }\n",
              "      </script>\n",
              "    </div>\n",
              "  </div>\n",
              "  "
            ]
          },
          "metadata": {},
          "execution_count": 54
        }
      ]
    },
    {
      "cell_type": "code",
      "source": [
        "df['Gpu Brand'].value_counts()"
      ],
      "metadata": {
        "colab": {
          "base_uri": "https://localhost:8080/"
        },
        "id": "ZU14bKXO7_tn",
        "outputId": "93bc7fed-8021-496b-c0eb-7dddfd1285b7"
      },
      "execution_count": 55,
      "outputs": [
        {
          "output_type": "execute_result",
          "data": {
            "text/plain": [
              "Intel     722\n",
              "Nvidia    400\n",
              "AMD       180\n",
              "ARM         1\n",
              "Name: Gpu Brand, dtype: int64"
            ]
          },
          "metadata": {},
          "execution_count": 55
        }
      ]
    },
    {
      "cell_type": "code",
      "source": [
        "df.drop(columns = [\"Memory\", \"Gpu\"], inplace=True)"
      ],
      "metadata": {
        "id": "P-Ht_T2a8NBr"
      },
      "execution_count": 56,
      "outputs": []
    },
    {
      "cell_type": "code",
      "source": [
        "df.head()"
      ],
      "metadata": {
        "colab": {
          "base_uri": "https://localhost:8080/",
          "height": 206
        },
        "id": "s4XCf07u8Z5_",
        "outputId": "7252bc1c-529d-435d-ebc7-b8463c09f505"
      },
      "execution_count": 57,
      "outputs": [
        {
          "output_type": "execute_result",
          "data": {
            "text/plain": [
              "  Company   TypeName  Inches  Ram  OpSys  Weight     Price_NRS  TouchScreen  \\\n",
              "0   Apple  Ultrabook    13.3    8  macOS    1.37  114205.89312            0   \n",
              "1   Apple  Ultrabook    13.3    8  macOS    1.34   76632.83712            0   \n",
              "2      HP   Notebook    15.6    8  No OS    1.86   49017.60000            0   \n",
              "3   Apple  Ultrabook    15.4   16  macOS    1.83  216312.53760            0   \n",
              "4   Apple  Ultrabook    13.3    8  macOS    1.37  153753.29280            0   \n",
              "\n",
              "   IPS         ppi      CPU Brand  HDD  SSD Gpu Brand  \n",
              "0    1  226.983005  Intel Core i5    0    1     Intel  \n",
              "1    0  127.677940  Intel Core i5    0    0     Intel  \n",
              "2    0  141.211998  Intel Core i5    0    1     Intel  \n",
              "3    1  220.534624  Intel Core i7    0    1       AMD  \n",
              "4    1  226.983005  Intel Core i5    0    1     Intel  "
            ],
            "text/html": [
              "\n",
              "  <div id=\"df-ce104767-aa2e-4491-9438-f3260eda6e03\">\n",
              "    <div class=\"colab-df-container\">\n",
              "      <div>\n",
              "<style scoped>\n",
              "    .dataframe tbody tr th:only-of-type {\n",
              "        vertical-align: middle;\n",
              "    }\n",
              "\n",
              "    .dataframe tbody tr th {\n",
              "        vertical-align: top;\n",
              "    }\n",
              "\n",
              "    .dataframe thead th {\n",
              "        text-align: right;\n",
              "    }\n",
              "</style>\n",
              "<table border=\"1\" class=\"dataframe\">\n",
              "  <thead>\n",
              "    <tr style=\"text-align: right;\">\n",
              "      <th></th>\n",
              "      <th>Company</th>\n",
              "      <th>TypeName</th>\n",
              "      <th>Inches</th>\n",
              "      <th>Ram</th>\n",
              "      <th>OpSys</th>\n",
              "      <th>Weight</th>\n",
              "      <th>Price_NRS</th>\n",
              "      <th>TouchScreen</th>\n",
              "      <th>IPS</th>\n",
              "      <th>ppi</th>\n",
              "      <th>CPU Brand</th>\n",
              "      <th>HDD</th>\n",
              "      <th>SSD</th>\n",
              "      <th>Gpu Brand</th>\n",
              "    </tr>\n",
              "  </thead>\n",
              "  <tbody>\n",
              "    <tr>\n",
              "      <th>0</th>\n",
              "      <td>Apple</td>\n",
              "      <td>Ultrabook</td>\n",
              "      <td>13.3</td>\n",
              "      <td>8</td>\n",
              "      <td>macOS</td>\n",
              "      <td>1.37</td>\n",
              "      <td>114205.89312</td>\n",
              "      <td>0</td>\n",
              "      <td>1</td>\n",
              "      <td>226.983005</td>\n",
              "      <td>Intel Core i5</td>\n",
              "      <td>0</td>\n",
              "      <td>1</td>\n",
              "      <td>Intel</td>\n",
              "    </tr>\n",
              "    <tr>\n",
              "      <th>1</th>\n",
              "      <td>Apple</td>\n",
              "      <td>Ultrabook</td>\n",
              "      <td>13.3</td>\n",
              "      <td>8</td>\n",
              "      <td>macOS</td>\n",
              "      <td>1.34</td>\n",
              "      <td>76632.83712</td>\n",
              "      <td>0</td>\n",
              "      <td>0</td>\n",
              "      <td>127.677940</td>\n",
              "      <td>Intel Core i5</td>\n",
              "      <td>0</td>\n",
              "      <td>0</td>\n",
              "      <td>Intel</td>\n",
              "    </tr>\n",
              "    <tr>\n",
              "      <th>2</th>\n",
              "      <td>HP</td>\n",
              "      <td>Notebook</td>\n",
              "      <td>15.6</td>\n",
              "      <td>8</td>\n",
              "      <td>No OS</td>\n",
              "      <td>1.86</td>\n",
              "      <td>49017.60000</td>\n",
              "      <td>0</td>\n",
              "      <td>0</td>\n",
              "      <td>141.211998</td>\n",
              "      <td>Intel Core i5</td>\n",
              "      <td>0</td>\n",
              "      <td>1</td>\n",
              "      <td>Intel</td>\n",
              "    </tr>\n",
              "    <tr>\n",
              "      <th>3</th>\n",
              "      <td>Apple</td>\n",
              "      <td>Ultrabook</td>\n",
              "      <td>15.4</td>\n",
              "      <td>16</td>\n",
              "      <td>macOS</td>\n",
              "      <td>1.83</td>\n",
              "      <td>216312.53760</td>\n",
              "      <td>0</td>\n",
              "      <td>1</td>\n",
              "      <td>220.534624</td>\n",
              "      <td>Intel Core i7</td>\n",
              "      <td>0</td>\n",
              "      <td>1</td>\n",
              "      <td>AMD</td>\n",
              "    </tr>\n",
              "    <tr>\n",
              "      <th>4</th>\n",
              "      <td>Apple</td>\n",
              "      <td>Ultrabook</td>\n",
              "      <td>13.3</td>\n",
              "      <td>8</td>\n",
              "      <td>macOS</td>\n",
              "      <td>1.37</td>\n",
              "      <td>153753.29280</td>\n",
              "      <td>0</td>\n",
              "      <td>1</td>\n",
              "      <td>226.983005</td>\n",
              "      <td>Intel Core i5</td>\n",
              "      <td>0</td>\n",
              "      <td>1</td>\n",
              "      <td>Intel</td>\n",
              "    </tr>\n",
              "  </tbody>\n",
              "</table>\n",
              "</div>\n",
              "      <button class=\"colab-df-convert\" onclick=\"convertToInteractive('df-ce104767-aa2e-4491-9438-f3260eda6e03')\"\n",
              "              title=\"Convert this dataframe to an interactive table.\"\n",
              "              style=\"display:none;\">\n",
              "        \n",
              "  <svg xmlns=\"http://www.w3.org/2000/svg\" height=\"24px\"viewBox=\"0 0 24 24\"\n",
              "       width=\"24px\">\n",
              "    <path d=\"M0 0h24v24H0V0z\" fill=\"none\"/>\n",
              "    <path d=\"M18.56 5.44l.94 2.06.94-2.06 2.06-.94-2.06-.94-.94-2.06-.94 2.06-2.06.94zm-11 1L8.5 8.5l.94-2.06 2.06-.94-2.06-.94L8.5 2.5l-.94 2.06-2.06.94zm10 10l.94 2.06.94-2.06 2.06-.94-2.06-.94-.94-2.06-.94 2.06-2.06.94z\"/><path d=\"M17.41 7.96l-1.37-1.37c-.4-.4-.92-.59-1.43-.59-.52 0-1.04.2-1.43.59L10.3 9.45l-7.72 7.72c-.78.78-.78 2.05 0 2.83L4 21.41c.39.39.9.59 1.41.59.51 0 1.02-.2 1.41-.59l7.78-7.78 2.81-2.81c.8-.78.8-2.07 0-2.86zM5.41 20L4 18.59l7.72-7.72 1.47 1.35L5.41 20z\"/>\n",
              "  </svg>\n",
              "      </button>\n",
              "      \n",
              "  <style>\n",
              "    .colab-df-container {\n",
              "      display:flex;\n",
              "      flex-wrap:wrap;\n",
              "      gap: 12px;\n",
              "    }\n",
              "\n",
              "    .colab-df-convert {\n",
              "      background-color: #E8F0FE;\n",
              "      border: none;\n",
              "      border-radius: 50%;\n",
              "      cursor: pointer;\n",
              "      display: none;\n",
              "      fill: #1967D2;\n",
              "      height: 32px;\n",
              "      padding: 0 0 0 0;\n",
              "      width: 32px;\n",
              "    }\n",
              "\n",
              "    .colab-df-convert:hover {\n",
              "      background-color: #E2EBFA;\n",
              "      box-shadow: 0px 1px 2px rgba(60, 64, 67, 0.3), 0px 1px 3px 1px rgba(60, 64, 67, 0.15);\n",
              "      fill: #174EA6;\n",
              "    }\n",
              "\n",
              "    [theme=dark] .colab-df-convert {\n",
              "      background-color: #3B4455;\n",
              "      fill: #D2E3FC;\n",
              "    }\n",
              "\n",
              "    [theme=dark] .colab-df-convert:hover {\n",
              "      background-color: #434B5C;\n",
              "      box-shadow: 0px 1px 3px 1px rgba(0, 0, 0, 0.15);\n",
              "      filter: drop-shadow(0px 1px 2px rgba(0, 0, 0, 0.3));\n",
              "      fill: #FFFFFF;\n",
              "    }\n",
              "  </style>\n",
              "\n",
              "      <script>\n",
              "        const buttonEl =\n",
              "          document.querySelector('#df-ce104767-aa2e-4491-9438-f3260eda6e03 button.colab-df-convert');\n",
              "        buttonEl.style.display =\n",
              "          google.colab.kernel.accessAllowed ? 'block' : 'none';\n",
              "\n",
              "        async function convertToInteractive(key) {\n",
              "          const element = document.querySelector('#df-ce104767-aa2e-4491-9438-f3260eda6e03');\n",
              "          const dataTable =\n",
              "            await google.colab.kernel.invokeFunction('convertToInteractive',\n",
              "                                                     [key], {});\n",
              "          if (!dataTable) return;\n",
              "\n",
              "          const docLinkHtml = 'Like what you see? Visit the ' +\n",
              "            '<a target=\"_blank\" href=https://colab.research.google.com/notebooks/data_table.ipynb>data table notebook</a>'\n",
              "            + ' to learn more about interactive tables.';\n",
              "          element.innerHTML = '';\n",
              "          dataTable['output_type'] = 'display_data';\n",
              "          await google.colab.output.renderOutput(dataTable, element);\n",
              "          const docLink = document.createElement('div');\n",
              "          docLink.innerHTML = docLinkHtml;\n",
              "          element.appendChild(docLink);\n",
              "        }\n",
              "      </script>\n",
              "    </div>\n",
              "  </div>\n",
              "  "
            ]
          },
          "metadata": {},
          "execution_count": 57
        }
      ]
    },
    {
      "cell_type": "code",
      "source": [
        "def classify_os(x):\n",
        "  if \"Windows\" in x:\n",
        "    return \"Windows\"\n",
        "  elif \"mac\" in x:\n",
        "    return \"Mac\"\n",
        "  else:\n",
        "    return \"Other/None/Linux\""
      ],
      "metadata": {
        "id": "3CQ6Q34D8e_-"
      },
      "execution_count": 58,
      "outputs": []
    },
    {
      "cell_type": "code",
      "source": [
        "df['OS'] = df['OpSys'].apply(classify_os)"
      ],
      "metadata": {
        "id": "laxhhKZp9H8H"
      },
      "execution_count": 59,
      "outputs": []
    },
    {
      "cell_type": "code",
      "source": [
        "df.sample(5)"
      ],
      "metadata": {
        "colab": {
          "base_uri": "https://localhost:8080/",
          "height": 392
        },
        "id": "JqfwCpEC9SgO",
        "outputId": "814416d9-26f3-44c4-a8b2-2a6c7d3eb0e1"
      },
      "execution_count": 60,
      "outputs": [
        {
          "output_type": "execute_result",
          "data": {
            "text/plain": [
              "     Company            TypeName  Inches  Ram       OpSys  Weight  \\\n",
              "560     Acer  2 in 1 Convertible    11.6    4  Windows 10    1.25   \n",
              "201   Lenovo            Notebook    15.6    4  Windows 10    2.10   \n",
              "1009      HP            Notebook    14.0    4  Windows 10    1.64   \n",
              "1074  Lenovo           Ultrabook    12.5    8  Windows 10    1.30   \n",
              "129       HP            Notebook    17.3    8  Windows 10    2.50   \n",
              "\n",
              "         Price_NRS  TouchScreen  IPS         ppi              CPU Brand  HDD  \\\n",
              "560    29751.55200            1    1  189.905791  Other Intel Processor    0   \n",
              "201    42027.26400            0    0  100.454670          Intel Core i5    0   \n",
              "1009   58309.63200            0    0  111.935204          Intel Core i3    1   \n",
              "1074  146071.59552            1    1  176.232574          Intel Core i7    0   \n",
              "129    79110.14400            0    0  127.335675          Intel Core i5    0   \n",
              "\n",
              "      SSD Gpu Brand       OS  \n",
              "560     0     Intel  Windows  \n",
              "201     1     Intel  Windows  \n",
              "1009    0     Intel  Windows  \n",
              "1074    1     Intel  Windows  \n",
              "129     1     Intel  Windows  "
            ],
            "text/html": [
              "\n",
              "  <div id=\"df-9639f663-d198-4b15-bc19-9c6058b6dfa6\">\n",
              "    <div class=\"colab-df-container\">\n",
              "      <div>\n",
              "<style scoped>\n",
              "    .dataframe tbody tr th:only-of-type {\n",
              "        vertical-align: middle;\n",
              "    }\n",
              "\n",
              "    .dataframe tbody tr th {\n",
              "        vertical-align: top;\n",
              "    }\n",
              "\n",
              "    .dataframe thead th {\n",
              "        text-align: right;\n",
              "    }\n",
              "</style>\n",
              "<table border=\"1\" class=\"dataframe\">\n",
              "  <thead>\n",
              "    <tr style=\"text-align: right;\">\n",
              "      <th></th>\n",
              "      <th>Company</th>\n",
              "      <th>TypeName</th>\n",
              "      <th>Inches</th>\n",
              "      <th>Ram</th>\n",
              "      <th>OpSys</th>\n",
              "      <th>Weight</th>\n",
              "      <th>Price_NRS</th>\n",
              "      <th>TouchScreen</th>\n",
              "      <th>IPS</th>\n",
              "      <th>ppi</th>\n",
              "      <th>CPU Brand</th>\n",
              "      <th>HDD</th>\n",
              "      <th>SSD</th>\n",
              "      <th>Gpu Brand</th>\n",
              "      <th>OS</th>\n",
              "    </tr>\n",
              "  </thead>\n",
              "  <tbody>\n",
              "    <tr>\n",
              "      <th>560</th>\n",
              "      <td>Acer</td>\n",
              "      <td>2 in 1 Convertible</td>\n",
              "      <td>11.6</td>\n",
              "      <td>4</td>\n",
              "      <td>Windows 10</td>\n",
              "      <td>1.25</td>\n",
              "      <td>29751.55200</td>\n",
              "      <td>1</td>\n",
              "      <td>1</td>\n",
              "      <td>189.905791</td>\n",
              "      <td>Other Intel Processor</td>\n",
              "      <td>0</td>\n",
              "      <td>0</td>\n",
              "      <td>Intel</td>\n",
              "      <td>Windows</td>\n",
              "    </tr>\n",
              "    <tr>\n",
              "      <th>201</th>\n",
              "      <td>Lenovo</td>\n",
              "      <td>Notebook</td>\n",
              "      <td>15.6</td>\n",
              "      <td>4</td>\n",
              "      <td>Windows 10</td>\n",
              "      <td>2.10</td>\n",
              "      <td>42027.26400</td>\n",
              "      <td>0</td>\n",
              "      <td>0</td>\n",
              "      <td>100.454670</td>\n",
              "      <td>Intel Core i5</td>\n",
              "      <td>0</td>\n",
              "      <td>1</td>\n",
              "      <td>Intel</td>\n",
              "      <td>Windows</td>\n",
              "    </tr>\n",
              "    <tr>\n",
              "      <th>1009</th>\n",
              "      <td>HP</td>\n",
              "      <td>Notebook</td>\n",
              "      <td>14.0</td>\n",
              "      <td>4</td>\n",
              "      <td>Windows 10</td>\n",
              "      <td>1.64</td>\n",
              "      <td>58309.63200</td>\n",
              "      <td>0</td>\n",
              "      <td>0</td>\n",
              "      <td>111.935204</td>\n",
              "      <td>Intel Core i3</td>\n",
              "      <td>1</td>\n",
              "      <td>0</td>\n",
              "      <td>Intel</td>\n",
              "      <td>Windows</td>\n",
              "    </tr>\n",
              "    <tr>\n",
              "      <th>1074</th>\n",
              "      <td>Lenovo</td>\n",
              "      <td>Ultrabook</td>\n",
              "      <td>12.5</td>\n",
              "      <td>8</td>\n",
              "      <td>Windows 10</td>\n",
              "      <td>1.30</td>\n",
              "      <td>146071.59552</td>\n",
              "      <td>1</td>\n",
              "      <td>1</td>\n",
              "      <td>176.232574</td>\n",
              "      <td>Intel Core i7</td>\n",
              "      <td>0</td>\n",
              "      <td>1</td>\n",
              "      <td>Intel</td>\n",
              "      <td>Windows</td>\n",
              "    </tr>\n",
              "    <tr>\n",
              "      <th>129</th>\n",
              "      <td>HP</td>\n",
              "      <td>Notebook</td>\n",
              "      <td>17.3</td>\n",
              "      <td>8</td>\n",
              "      <td>Windows 10</td>\n",
              "      <td>2.50</td>\n",
              "      <td>79110.14400</td>\n",
              "      <td>0</td>\n",
              "      <td>0</td>\n",
              "      <td>127.335675</td>\n",
              "      <td>Intel Core i5</td>\n",
              "      <td>0</td>\n",
              "      <td>1</td>\n",
              "      <td>Intel</td>\n",
              "      <td>Windows</td>\n",
              "    </tr>\n",
              "  </tbody>\n",
              "</table>\n",
              "</div>\n",
              "      <button class=\"colab-df-convert\" onclick=\"convertToInteractive('df-9639f663-d198-4b15-bc19-9c6058b6dfa6')\"\n",
              "              title=\"Convert this dataframe to an interactive table.\"\n",
              "              style=\"display:none;\">\n",
              "        \n",
              "  <svg xmlns=\"http://www.w3.org/2000/svg\" height=\"24px\"viewBox=\"0 0 24 24\"\n",
              "       width=\"24px\">\n",
              "    <path d=\"M0 0h24v24H0V0z\" fill=\"none\"/>\n",
              "    <path d=\"M18.56 5.44l.94 2.06.94-2.06 2.06-.94-2.06-.94-.94-2.06-.94 2.06-2.06.94zm-11 1L8.5 8.5l.94-2.06 2.06-.94-2.06-.94L8.5 2.5l-.94 2.06-2.06.94zm10 10l.94 2.06.94-2.06 2.06-.94-2.06-.94-.94-2.06-.94 2.06-2.06.94z\"/><path d=\"M17.41 7.96l-1.37-1.37c-.4-.4-.92-.59-1.43-.59-.52 0-1.04.2-1.43.59L10.3 9.45l-7.72 7.72c-.78.78-.78 2.05 0 2.83L4 21.41c.39.39.9.59 1.41.59.51 0 1.02-.2 1.41-.59l7.78-7.78 2.81-2.81c.8-.78.8-2.07 0-2.86zM5.41 20L4 18.59l7.72-7.72 1.47 1.35L5.41 20z\"/>\n",
              "  </svg>\n",
              "      </button>\n",
              "      \n",
              "  <style>\n",
              "    .colab-df-container {\n",
              "      display:flex;\n",
              "      flex-wrap:wrap;\n",
              "      gap: 12px;\n",
              "    }\n",
              "\n",
              "    .colab-df-convert {\n",
              "      background-color: #E8F0FE;\n",
              "      border: none;\n",
              "      border-radius: 50%;\n",
              "      cursor: pointer;\n",
              "      display: none;\n",
              "      fill: #1967D2;\n",
              "      height: 32px;\n",
              "      padding: 0 0 0 0;\n",
              "      width: 32px;\n",
              "    }\n",
              "\n",
              "    .colab-df-convert:hover {\n",
              "      background-color: #E2EBFA;\n",
              "      box-shadow: 0px 1px 2px rgba(60, 64, 67, 0.3), 0px 1px 3px 1px rgba(60, 64, 67, 0.15);\n",
              "      fill: #174EA6;\n",
              "    }\n",
              "\n",
              "    [theme=dark] .colab-df-convert {\n",
              "      background-color: #3B4455;\n",
              "      fill: #D2E3FC;\n",
              "    }\n",
              "\n",
              "    [theme=dark] .colab-df-convert:hover {\n",
              "      background-color: #434B5C;\n",
              "      box-shadow: 0px 1px 3px 1px rgba(0, 0, 0, 0.15);\n",
              "      filter: drop-shadow(0px 1px 2px rgba(0, 0, 0, 0.3));\n",
              "      fill: #FFFFFF;\n",
              "    }\n",
              "  </style>\n",
              "\n",
              "      <script>\n",
              "        const buttonEl =\n",
              "          document.querySelector('#df-9639f663-d198-4b15-bc19-9c6058b6dfa6 button.colab-df-convert');\n",
              "        buttonEl.style.display =\n",
              "          google.colab.kernel.accessAllowed ? 'block' : 'none';\n",
              "\n",
              "        async function convertToInteractive(key) {\n",
              "          const element = document.querySelector('#df-9639f663-d198-4b15-bc19-9c6058b6dfa6');\n",
              "          const dataTable =\n",
              "            await google.colab.kernel.invokeFunction('convertToInteractive',\n",
              "                                                     [key], {});\n",
              "          if (!dataTable) return;\n",
              "\n",
              "          const docLinkHtml = 'Like what you see? Visit the ' +\n",
              "            '<a target=\"_blank\" href=https://colab.research.google.com/notebooks/data_table.ipynb>data table notebook</a>'\n",
              "            + ' to learn more about interactive tables.';\n",
              "          element.innerHTML = '';\n",
              "          dataTable['output_type'] = 'display_data';\n",
              "          await google.colab.output.renderOutput(dataTable, element);\n",
              "          const docLink = document.createElement('div');\n",
              "          docLink.innerHTML = docLinkHtml;\n",
              "          element.appendChild(docLink);\n",
              "        }\n",
              "      </script>\n",
              "    </div>\n",
              "  </div>\n",
              "  "
            ]
          },
          "metadata": {},
          "execution_count": 60
        }
      ]
    },
    {
      "cell_type": "code",
      "source": [
        "df.drop(columns = ['OpSys', 'Inches'], inplace=True)"
      ],
      "metadata": {
        "id": "tM6zjjJb9Tv-"
      },
      "execution_count": 61,
      "outputs": []
    },
    {
      "cell_type": "code",
      "source": [
        "df.head()"
      ],
      "metadata": {
        "colab": {
          "base_uri": "https://localhost:8080/",
          "height": 206
        },
        "id": "i1Gc7MAb9iFH",
        "outputId": "354d84a5-30de-4d71-db78-c1ab0cabb4f1"
      },
      "execution_count": 62,
      "outputs": [
        {
          "output_type": "execute_result",
          "data": {
            "text/plain": [
              "  Company   TypeName  Ram  Weight     Price_NRS  TouchScreen  IPS         ppi  \\\n",
              "0   Apple  Ultrabook    8    1.37  114205.89312            0    1  226.983005   \n",
              "1   Apple  Ultrabook    8    1.34   76632.83712            0    0  127.677940   \n",
              "2      HP   Notebook    8    1.86   49017.60000            0    0  141.211998   \n",
              "3   Apple  Ultrabook   16    1.83  216312.53760            0    1  220.534624   \n",
              "4   Apple  Ultrabook    8    1.37  153753.29280            0    1  226.983005   \n",
              "\n",
              "       CPU Brand  HDD  SSD Gpu Brand                OS  \n",
              "0  Intel Core i5    0    1     Intel               Mac  \n",
              "1  Intel Core i5    0    0     Intel               Mac  \n",
              "2  Intel Core i5    0    1     Intel  Other/None/Linux  \n",
              "3  Intel Core i7    0    1       AMD               Mac  \n",
              "4  Intel Core i5    0    1     Intel               Mac  "
            ],
            "text/html": [
              "\n",
              "  <div id=\"df-d74e08af-ea18-4195-9661-e33bf795c4ee\">\n",
              "    <div class=\"colab-df-container\">\n",
              "      <div>\n",
              "<style scoped>\n",
              "    .dataframe tbody tr th:only-of-type {\n",
              "        vertical-align: middle;\n",
              "    }\n",
              "\n",
              "    .dataframe tbody tr th {\n",
              "        vertical-align: top;\n",
              "    }\n",
              "\n",
              "    .dataframe thead th {\n",
              "        text-align: right;\n",
              "    }\n",
              "</style>\n",
              "<table border=\"1\" class=\"dataframe\">\n",
              "  <thead>\n",
              "    <tr style=\"text-align: right;\">\n",
              "      <th></th>\n",
              "      <th>Company</th>\n",
              "      <th>TypeName</th>\n",
              "      <th>Ram</th>\n",
              "      <th>Weight</th>\n",
              "      <th>Price_NRS</th>\n",
              "      <th>TouchScreen</th>\n",
              "      <th>IPS</th>\n",
              "      <th>ppi</th>\n",
              "      <th>CPU Brand</th>\n",
              "      <th>HDD</th>\n",
              "      <th>SSD</th>\n",
              "      <th>Gpu Brand</th>\n",
              "      <th>OS</th>\n",
              "    </tr>\n",
              "  </thead>\n",
              "  <tbody>\n",
              "    <tr>\n",
              "      <th>0</th>\n",
              "      <td>Apple</td>\n",
              "      <td>Ultrabook</td>\n",
              "      <td>8</td>\n",
              "      <td>1.37</td>\n",
              "      <td>114205.89312</td>\n",
              "      <td>0</td>\n",
              "      <td>1</td>\n",
              "      <td>226.983005</td>\n",
              "      <td>Intel Core i5</td>\n",
              "      <td>0</td>\n",
              "      <td>1</td>\n",
              "      <td>Intel</td>\n",
              "      <td>Mac</td>\n",
              "    </tr>\n",
              "    <tr>\n",
              "      <th>1</th>\n",
              "      <td>Apple</td>\n",
              "      <td>Ultrabook</td>\n",
              "      <td>8</td>\n",
              "      <td>1.34</td>\n",
              "      <td>76632.83712</td>\n",
              "      <td>0</td>\n",
              "      <td>0</td>\n",
              "      <td>127.677940</td>\n",
              "      <td>Intel Core i5</td>\n",
              "      <td>0</td>\n",
              "      <td>0</td>\n",
              "      <td>Intel</td>\n",
              "      <td>Mac</td>\n",
              "    </tr>\n",
              "    <tr>\n",
              "      <th>2</th>\n",
              "      <td>HP</td>\n",
              "      <td>Notebook</td>\n",
              "      <td>8</td>\n",
              "      <td>1.86</td>\n",
              "      <td>49017.60000</td>\n",
              "      <td>0</td>\n",
              "      <td>0</td>\n",
              "      <td>141.211998</td>\n",
              "      <td>Intel Core i5</td>\n",
              "      <td>0</td>\n",
              "      <td>1</td>\n",
              "      <td>Intel</td>\n",
              "      <td>Other/None/Linux</td>\n",
              "    </tr>\n",
              "    <tr>\n",
              "      <th>3</th>\n",
              "      <td>Apple</td>\n",
              "      <td>Ultrabook</td>\n",
              "      <td>16</td>\n",
              "      <td>1.83</td>\n",
              "      <td>216312.53760</td>\n",
              "      <td>0</td>\n",
              "      <td>1</td>\n",
              "      <td>220.534624</td>\n",
              "      <td>Intel Core i7</td>\n",
              "      <td>0</td>\n",
              "      <td>1</td>\n",
              "      <td>AMD</td>\n",
              "      <td>Mac</td>\n",
              "    </tr>\n",
              "    <tr>\n",
              "      <th>4</th>\n",
              "      <td>Apple</td>\n",
              "      <td>Ultrabook</td>\n",
              "      <td>8</td>\n",
              "      <td>1.37</td>\n",
              "      <td>153753.29280</td>\n",
              "      <td>0</td>\n",
              "      <td>1</td>\n",
              "      <td>226.983005</td>\n",
              "      <td>Intel Core i5</td>\n",
              "      <td>0</td>\n",
              "      <td>1</td>\n",
              "      <td>Intel</td>\n",
              "      <td>Mac</td>\n",
              "    </tr>\n",
              "  </tbody>\n",
              "</table>\n",
              "</div>\n",
              "      <button class=\"colab-df-convert\" onclick=\"convertToInteractive('df-d74e08af-ea18-4195-9661-e33bf795c4ee')\"\n",
              "              title=\"Convert this dataframe to an interactive table.\"\n",
              "              style=\"display:none;\">\n",
              "        \n",
              "  <svg xmlns=\"http://www.w3.org/2000/svg\" height=\"24px\"viewBox=\"0 0 24 24\"\n",
              "       width=\"24px\">\n",
              "    <path d=\"M0 0h24v24H0V0z\" fill=\"none\"/>\n",
              "    <path d=\"M18.56 5.44l.94 2.06.94-2.06 2.06-.94-2.06-.94-.94-2.06-.94 2.06-2.06.94zm-11 1L8.5 8.5l.94-2.06 2.06-.94-2.06-.94L8.5 2.5l-.94 2.06-2.06.94zm10 10l.94 2.06.94-2.06 2.06-.94-2.06-.94-.94-2.06-.94 2.06-2.06.94z\"/><path d=\"M17.41 7.96l-1.37-1.37c-.4-.4-.92-.59-1.43-.59-.52 0-1.04.2-1.43.59L10.3 9.45l-7.72 7.72c-.78.78-.78 2.05 0 2.83L4 21.41c.39.39.9.59 1.41.59.51 0 1.02-.2 1.41-.59l7.78-7.78 2.81-2.81c.8-.78.8-2.07 0-2.86zM5.41 20L4 18.59l7.72-7.72 1.47 1.35L5.41 20z\"/>\n",
              "  </svg>\n",
              "      </button>\n",
              "      \n",
              "  <style>\n",
              "    .colab-df-container {\n",
              "      display:flex;\n",
              "      flex-wrap:wrap;\n",
              "      gap: 12px;\n",
              "    }\n",
              "\n",
              "    .colab-df-convert {\n",
              "      background-color: #E8F0FE;\n",
              "      border: none;\n",
              "      border-radius: 50%;\n",
              "      cursor: pointer;\n",
              "      display: none;\n",
              "      fill: #1967D2;\n",
              "      height: 32px;\n",
              "      padding: 0 0 0 0;\n",
              "      width: 32px;\n",
              "    }\n",
              "\n",
              "    .colab-df-convert:hover {\n",
              "      background-color: #E2EBFA;\n",
              "      box-shadow: 0px 1px 2px rgba(60, 64, 67, 0.3), 0px 1px 3px 1px rgba(60, 64, 67, 0.15);\n",
              "      fill: #174EA6;\n",
              "    }\n",
              "\n",
              "    [theme=dark] .colab-df-convert {\n",
              "      background-color: #3B4455;\n",
              "      fill: #D2E3FC;\n",
              "    }\n",
              "\n",
              "    [theme=dark] .colab-df-convert:hover {\n",
              "      background-color: #434B5C;\n",
              "      box-shadow: 0px 1px 3px 1px rgba(0, 0, 0, 0.15);\n",
              "      filter: drop-shadow(0px 1px 2px rgba(0, 0, 0, 0.3));\n",
              "      fill: #FFFFFF;\n",
              "    }\n",
              "  </style>\n",
              "\n",
              "      <script>\n",
              "        const buttonEl =\n",
              "          document.querySelector('#df-d74e08af-ea18-4195-9661-e33bf795c4ee button.colab-df-convert');\n",
              "        buttonEl.style.display =\n",
              "          google.colab.kernel.accessAllowed ? 'block' : 'none';\n",
              "\n",
              "        async function convertToInteractive(key) {\n",
              "          const element = document.querySelector('#df-d74e08af-ea18-4195-9661-e33bf795c4ee');\n",
              "          const dataTable =\n",
              "            await google.colab.kernel.invokeFunction('convertToInteractive',\n",
              "                                                     [key], {});\n",
              "          if (!dataTable) return;\n",
              "\n",
              "          const docLinkHtml = 'Like what you see? Visit the ' +\n",
              "            '<a target=\"_blank\" href=https://colab.research.google.com/notebooks/data_table.ipynb>data table notebook</a>'\n",
              "            + ' to learn more about interactive tables.';\n",
              "          element.innerHTML = '';\n",
              "          dataTable['output_type'] = 'display_data';\n",
              "          await google.colab.output.renderOutput(dataTable, element);\n",
              "          const docLink = document.createElement('div');\n",
              "          docLink.innerHTML = docLinkHtml;\n",
              "          element.appendChild(docLink);\n",
              "        }\n",
              "      </script>\n",
              "    </div>\n",
              "  </div>\n",
              "  "
            ]
          },
          "metadata": {},
          "execution_count": 62
        }
      ]
    },
    {
      "cell_type": "code",
      "source": [
        "df.corr()['Price_NRS']"
      ],
      "metadata": {
        "colab": {
          "base_uri": "https://localhost:8080/"
        },
        "id": "whAhsBQm9jnm",
        "outputId": "0b7329da-6474-49d2-a402-9788475e9b26"
      },
      "execution_count": 63,
      "outputs": [
        {
          "output_type": "execute_result",
          "data": {
            "text/plain": [
              "Ram            0.743007\n",
              "Weight         0.210370\n",
              "Price_NRS      1.000000\n",
              "TouchScreen    0.191226\n",
              "IPS            0.252208\n",
              "ppi            0.473487\n",
              "HDD           -0.169901\n",
              "SSD            0.513609\n",
              "Name: Price_NRS, dtype: float64"
            ]
          },
          "metadata": {},
          "execution_count": 63
        }
      ]
    },
    {
      "cell_type": "code",
      "source": [
        "sns.heatmap(df.corr())"
      ],
      "metadata": {
        "colab": {
          "base_uri": "https://localhost:8080/",
          "height": 339
        },
        "id": "p3aLU7hR93xW",
        "outputId": "48a73c77-1abb-4dae-883c-a51e0816ba66"
      },
      "execution_count": 64,
      "outputs": [
        {
          "output_type": "execute_result",
          "data": {
            "text/plain": [
              "<matplotlib.axes._subplots.AxesSubplot at 0x7f672f6b52b0>"
            ]
          },
          "metadata": {},
          "execution_count": 64
        },
        {
          "output_type": "display_data",
          "data": {
            "text/plain": [
              "<Figure size 432x288 with 2 Axes>"
            ],
            "image/png": "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\n"
          },
          "metadata": {
            "needs_background": "light"
          }
        }
      ]
    },
    {
      "cell_type": "code",
      "source": [
        "sns.distplot(np.log(df['Price_NRS']))"
      ],
      "metadata": {
        "colab": {
          "base_uri": "https://localhost:8080/",
          "height": 352
        },
        "id": "aCqL6Uu997TG",
        "outputId": "1a6765c9-5e36-4553-b76b-7c2ba0bd4ad9"
      },
      "execution_count": 65,
      "outputs": [
        {
          "output_type": "stream",
          "name": "stderr",
          "text": [
            "/usr/local/lib/python3.8/dist-packages/seaborn/distributions.py:2619: FutureWarning: `distplot` is a deprecated function and will be removed in a future version. Please adapt your code to use either `displot` (a figure-level function with similar flexibility) or `histplot` (an axes-level function for histograms).\n",
            "  warnings.warn(msg, FutureWarning)\n"
          ]
        },
        {
          "output_type": "execute_result",
          "data": {
            "text/plain": [
              "<matplotlib.axes._subplots.AxesSubplot at 0x7f672cde7490>"
            ]
          },
          "metadata": {},
          "execution_count": 65
        },
        {
          "output_type": "display_data",
          "data": {
            "text/plain": [
              "<Figure size 432x288 with 1 Axes>"
            ],
            "image/png": "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\n"
          },
          "metadata": {
            "needs_background": "light"
          }
        }
      ]
    },
    {
      "cell_type": "code",
      "source": [
        "y = np.log(df['Price_NRS'])\n",
        "X = df.drop(columns = ['Price_NRS'])"
      ],
      "metadata": {
        "id": "mUFhh6jQ-Tgx"
      },
      "execution_count": 66,
      "outputs": []
    },
    {
      "cell_type": "code",
      "source": [
        "X.head()"
      ],
      "metadata": {
        "colab": {
          "base_uri": "https://localhost:8080/",
          "height": 206
        },
        "id": "IbnML5to-q6f",
        "outputId": "eb6f55ac-fb6d-4d60-f33d-0d2ef45a9250"
      },
      "execution_count": 67,
      "outputs": [
        {
          "output_type": "execute_result",
          "data": {
            "text/plain": [
              "  Company   TypeName  Ram  Weight  TouchScreen  IPS         ppi  \\\n",
              "0   Apple  Ultrabook    8    1.37            0    1  226.983005   \n",
              "1   Apple  Ultrabook    8    1.34            0    0  127.677940   \n",
              "2      HP   Notebook    8    1.86            0    0  141.211998   \n",
              "3   Apple  Ultrabook   16    1.83            0    1  220.534624   \n",
              "4   Apple  Ultrabook    8    1.37            0    1  226.983005   \n",
              "\n",
              "       CPU Brand  HDD  SSD Gpu Brand                OS  \n",
              "0  Intel Core i5    0    1     Intel               Mac  \n",
              "1  Intel Core i5    0    0     Intel               Mac  \n",
              "2  Intel Core i5    0    1     Intel  Other/None/Linux  \n",
              "3  Intel Core i7    0    1       AMD               Mac  \n",
              "4  Intel Core i5    0    1     Intel               Mac  "
            ],
            "text/html": [
              "\n",
              "  <div id=\"df-3851930f-8844-4447-b3e1-2f9551a347af\">\n",
              "    <div class=\"colab-df-container\">\n",
              "      <div>\n",
              "<style scoped>\n",
              "    .dataframe tbody tr th:only-of-type {\n",
              "        vertical-align: middle;\n",
              "    }\n",
              "\n",
              "    .dataframe tbody tr th {\n",
              "        vertical-align: top;\n",
              "    }\n",
              "\n",
              "    .dataframe thead th {\n",
              "        text-align: right;\n",
              "    }\n",
              "</style>\n",
              "<table border=\"1\" class=\"dataframe\">\n",
              "  <thead>\n",
              "    <tr style=\"text-align: right;\">\n",
              "      <th></th>\n",
              "      <th>Company</th>\n",
              "      <th>TypeName</th>\n",
              "      <th>Ram</th>\n",
              "      <th>Weight</th>\n",
              "      <th>TouchScreen</th>\n",
              "      <th>IPS</th>\n",
              "      <th>ppi</th>\n",
              "      <th>CPU Brand</th>\n",
              "      <th>HDD</th>\n",
              "      <th>SSD</th>\n",
              "      <th>Gpu Brand</th>\n",
              "      <th>OS</th>\n",
              "    </tr>\n",
              "  </thead>\n",
              "  <tbody>\n",
              "    <tr>\n",
              "      <th>0</th>\n",
              "      <td>Apple</td>\n",
              "      <td>Ultrabook</td>\n",
              "      <td>8</td>\n",
              "      <td>1.37</td>\n",
              "      <td>0</td>\n",
              "      <td>1</td>\n",
              "      <td>226.983005</td>\n",
              "      <td>Intel Core i5</td>\n",
              "      <td>0</td>\n",
              "      <td>1</td>\n",
              "      <td>Intel</td>\n",
              "      <td>Mac</td>\n",
              "    </tr>\n",
              "    <tr>\n",
              "      <th>1</th>\n",
              "      <td>Apple</td>\n",
              "      <td>Ultrabook</td>\n",
              "      <td>8</td>\n",
              "      <td>1.34</td>\n",
              "      <td>0</td>\n",
              "      <td>0</td>\n",
              "      <td>127.677940</td>\n",
              "      <td>Intel Core i5</td>\n",
              "      <td>0</td>\n",
              "      <td>0</td>\n",
              "      <td>Intel</td>\n",
              "      <td>Mac</td>\n",
              "    </tr>\n",
              "    <tr>\n",
              "      <th>2</th>\n",
              "      <td>HP</td>\n",
              "      <td>Notebook</td>\n",
              "      <td>8</td>\n",
              "      <td>1.86</td>\n",
              "      <td>0</td>\n",
              "      <td>0</td>\n",
              "      <td>141.211998</td>\n",
              "      <td>Intel Core i5</td>\n",
              "      <td>0</td>\n",
              "      <td>1</td>\n",
              "      <td>Intel</td>\n",
              "      <td>Other/None/Linux</td>\n",
              "    </tr>\n",
              "    <tr>\n",
              "      <th>3</th>\n",
              "      <td>Apple</td>\n",
              "      <td>Ultrabook</td>\n",
              "      <td>16</td>\n",
              "      <td>1.83</td>\n",
              "      <td>0</td>\n",
              "      <td>1</td>\n",
              "      <td>220.534624</td>\n",
              "      <td>Intel Core i7</td>\n",
              "      <td>0</td>\n",
              "      <td>1</td>\n",
              "      <td>AMD</td>\n",
              "      <td>Mac</td>\n",
              "    </tr>\n",
              "    <tr>\n",
              "      <th>4</th>\n",
              "      <td>Apple</td>\n",
              "      <td>Ultrabook</td>\n",
              "      <td>8</td>\n",
              "      <td>1.37</td>\n",
              "      <td>0</td>\n",
              "      <td>1</td>\n",
              "      <td>226.983005</td>\n",
              "      <td>Intel Core i5</td>\n",
              "      <td>0</td>\n",
              "      <td>1</td>\n",
              "      <td>Intel</td>\n",
              "      <td>Mac</td>\n",
              "    </tr>\n",
              "  </tbody>\n",
              "</table>\n",
              "</div>\n",
              "      <button class=\"colab-df-convert\" onclick=\"convertToInteractive('df-3851930f-8844-4447-b3e1-2f9551a347af')\"\n",
              "              title=\"Convert this dataframe to an interactive table.\"\n",
              "              style=\"display:none;\">\n",
              "        \n",
              "  <svg xmlns=\"http://www.w3.org/2000/svg\" height=\"24px\"viewBox=\"0 0 24 24\"\n",
              "       width=\"24px\">\n",
              "    <path d=\"M0 0h24v24H0V0z\" fill=\"none\"/>\n",
              "    <path d=\"M18.56 5.44l.94 2.06.94-2.06 2.06-.94-2.06-.94-.94-2.06-.94 2.06-2.06.94zm-11 1L8.5 8.5l.94-2.06 2.06-.94-2.06-.94L8.5 2.5l-.94 2.06-2.06.94zm10 10l.94 2.06.94-2.06 2.06-.94-2.06-.94-.94-2.06-.94 2.06-2.06.94z\"/><path d=\"M17.41 7.96l-1.37-1.37c-.4-.4-.92-.59-1.43-.59-.52 0-1.04.2-1.43.59L10.3 9.45l-7.72 7.72c-.78.78-.78 2.05 0 2.83L4 21.41c.39.39.9.59 1.41.59.51 0 1.02-.2 1.41-.59l7.78-7.78 2.81-2.81c.8-.78.8-2.07 0-2.86zM5.41 20L4 18.59l7.72-7.72 1.47 1.35L5.41 20z\"/>\n",
              "  </svg>\n",
              "      </button>\n",
              "      \n",
              "  <style>\n",
              "    .colab-df-container {\n",
              "      display:flex;\n",
              "      flex-wrap:wrap;\n",
              "      gap: 12px;\n",
              "    }\n",
              "\n",
              "    .colab-df-convert {\n",
              "      background-color: #E8F0FE;\n",
              "      border: none;\n",
              "      border-radius: 50%;\n",
              "      cursor: pointer;\n",
              "      display: none;\n",
              "      fill: #1967D2;\n",
              "      height: 32px;\n",
              "      padding: 0 0 0 0;\n",
              "      width: 32px;\n",
              "    }\n",
              "\n",
              "    .colab-df-convert:hover {\n",
              "      background-color: #E2EBFA;\n",
              "      box-shadow: 0px 1px 2px rgba(60, 64, 67, 0.3), 0px 1px 3px 1px rgba(60, 64, 67, 0.15);\n",
              "      fill: #174EA6;\n",
              "    }\n",
              "\n",
              "    [theme=dark] .colab-df-convert {\n",
              "      background-color: #3B4455;\n",
              "      fill: #D2E3FC;\n",
              "    }\n",
              "\n",
              "    [theme=dark] .colab-df-convert:hover {\n",
              "      background-color: #434B5C;\n",
              "      box-shadow: 0px 1px 3px 1px rgba(0, 0, 0, 0.15);\n",
              "      filter: drop-shadow(0px 1px 2px rgba(0, 0, 0, 0.3));\n",
              "      fill: #FFFFFF;\n",
              "    }\n",
              "  </style>\n",
              "\n",
              "      <script>\n",
              "        const buttonEl =\n",
              "          document.querySelector('#df-3851930f-8844-4447-b3e1-2f9551a347af button.colab-df-convert');\n",
              "        buttonEl.style.display =\n",
              "          google.colab.kernel.accessAllowed ? 'block' : 'none';\n",
              "\n",
              "        async function convertToInteractive(key) {\n",
              "          const element = document.querySelector('#df-3851930f-8844-4447-b3e1-2f9551a347af');\n",
              "          const dataTable =\n",
              "            await google.colab.kernel.invokeFunction('convertToInteractive',\n",
              "                                                     [key], {});\n",
              "          if (!dataTable) return;\n",
              "\n",
              "          const docLinkHtml = 'Like what you see? Visit the ' +\n",
              "            '<a target=\"_blank\" href=https://colab.research.google.com/notebooks/data_table.ipynb>data table notebook</a>'\n",
              "            + ' to learn more about interactive tables.';\n",
              "          element.innerHTML = '';\n",
              "          dataTable['output_type'] = 'display_data';\n",
              "          await google.colab.output.renderOutput(dataTable, element);\n",
              "          const docLink = document.createElement('div');\n",
              "          docLink.innerHTML = docLinkHtml;\n",
              "          element.appendChild(docLink);\n",
              "        }\n",
              "      </script>\n",
              "    </div>\n",
              "  </div>\n",
              "  "
            ]
          },
          "metadata": {},
          "execution_count": 67
        }
      ]
    },
    {
      "cell_type": "code",
      "source": [
        "y"
      ],
      "metadata": {
        "colab": {
          "base_uri": "https://localhost:8080/"
        },
        "id": "M_QOlEpQ-tVJ",
        "outputId": "49327ba8-346c-41d9-be41-242d29015652"
      },
      "execution_count": 68,
      "outputs": [
        {
          "output_type": "execute_result",
          "data": {
            "text/plain": [
              "0       11.645758\n",
              "1       11.246781\n",
              "2       10.799935\n",
              "3       12.284480\n",
              "4       11.943105\n",
              "          ...    \n",
              "1298    10.903903\n",
              "1299    11.758118\n",
              "1300     9.879287\n",
              "1301    11.084132\n",
              "1302    10.356361\n",
              "Name: Price_NRS, Length: 1303, dtype: float64"
            ]
          },
          "metadata": {},
          "execution_count": 68
        }
      ]
    },
    {
      "cell_type": "code",
      "source": [
        "from sklearn.model_selection import train_test_split\n",
        "X_train, X_test, y_train, y_test = train_test_split(X, y, test_size= 0.15, random_state=2)"
      ],
      "metadata": {
        "id": "l7C_W-0i_MLe"
      },
      "execution_count": 69,
      "outputs": []
    },
    {
      "cell_type": "code",
      "source": [
        "X_train"
      ],
      "metadata": {
        "colab": {
          "base_uri": "https://localhost:8080/",
          "height": 468
        },
        "id": "W_KyQH9J_oyq",
        "outputId": "644aff55-e729-46ee-e5e8-04a9937c1f31"
      },
      "execution_count": 70,
      "outputs": [
        {
          "output_type": "execute_result",
          "data": {
            "text/plain": [
              "      Company            TypeName  Ram  Weight  TouchScreen  IPS         ppi  \\\n",
              "183   Toshiba            Notebook    8    2.00            0    0  100.454670   \n",
              "699        HP            Notebook    4    2.10            0    1  141.211998   \n",
              "419    Lenovo           Ultrabook    8    1.75            0    1  157.350512   \n",
              "997      Acer            Notebook    4    2.40            0    0  100.454670   \n",
              "502    Lenovo  2 in 1 Convertible    8    1.40            1    1  158.482530   \n",
              "...       ...                 ...  ...     ...          ...  ...         ...   \n",
              "466      Acer            Notebook    4    2.20            0    0  100.454670   \n",
              "299      Asus           Ultrabook   16    1.63            0    0  141.211998   \n",
              "493      Acer            Notebook    8    2.20            0    0  100.454670   \n",
              "527    Lenovo            Notebook    8    2.20            0    0  100.454670   \n",
              "1192       HP            Notebook    4    1.86            0    0  100.454670   \n",
              "\n",
              "                  CPU Brand  HDD  SSD Gpu Brand                OS  \n",
              "183           Intel Core i5    0    1     Intel           Windows  \n",
              "699           Intel Core i7    1    0       AMD           Windows  \n",
              "419           Intel Core i7    0    1       AMD           Windows  \n",
              "997   Other Intel Processor    1    0     Intel           Windows  \n",
              "502           Intel Core i5    0    1     Intel           Windows  \n",
              "...                     ...  ...  ...       ...               ...  \n",
              "466           Intel Core i3    1    0    Nvidia           Windows  \n",
              "299           Intel Core i7    0    1    Nvidia           Windows  \n",
              "493           AMD Processor    1    0       AMD           Windows  \n",
              "527           Intel Core i3    1    0    Nvidia  Other/None/Linux  \n",
              "1192          Intel Core i5    1    0     Intel           Windows  \n",
              "\n",
              "[1107 rows x 12 columns]"
            ],
            "text/html": [
              "\n",
              "  <div id=\"df-dd5fcf8a-d1f3-4742-8430-9913013a0961\">\n",
              "    <div class=\"colab-df-container\">\n",
              "      <div>\n",
              "<style scoped>\n",
              "    .dataframe tbody tr th:only-of-type {\n",
              "        vertical-align: middle;\n",
              "    }\n",
              "\n",
              "    .dataframe tbody tr th {\n",
              "        vertical-align: top;\n",
              "    }\n",
              "\n",
              "    .dataframe thead th {\n",
              "        text-align: right;\n",
              "    }\n",
              "</style>\n",
              "<table border=\"1\" class=\"dataframe\">\n",
              "  <thead>\n",
              "    <tr style=\"text-align: right;\">\n",
              "      <th></th>\n",
              "      <th>Company</th>\n",
              "      <th>TypeName</th>\n",
              "      <th>Ram</th>\n",
              "      <th>Weight</th>\n",
              "      <th>TouchScreen</th>\n",
              "      <th>IPS</th>\n",
              "      <th>ppi</th>\n",
              "      <th>CPU Brand</th>\n",
              "      <th>HDD</th>\n",
              "      <th>SSD</th>\n",
              "      <th>Gpu Brand</th>\n",
              "      <th>OS</th>\n",
              "    </tr>\n",
              "  </thead>\n",
              "  <tbody>\n",
              "    <tr>\n",
              "      <th>183</th>\n",
              "      <td>Toshiba</td>\n",
              "      <td>Notebook</td>\n",
              "      <td>8</td>\n",
              "      <td>2.00</td>\n",
              "      <td>0</td>\n",
              "      <td>0</td>\n",
              "      <td>100.454670</td>\n",
              "      <td>Intel Core i5</td>\n",
              "      <td>0</td>\n",
              "      <td>1</td>\n",
              "      <td>Intel</td>\n",
              "      <td>Windows</td>\n",
              "    </tr>\n",
              "    <tr>\n",
              "      <th>699</th>\n",
              "      <td>HP</td>\n",
              "      <td>Notebook</td>\n",
              "      <td>4</td>\n",
              "      <td>2.10</td>\n",
              "      <td>0</td>\n",
              "      <td>1</td>\n",
              "      <td>141.211998</td>\n",
              "      <td>Intel Core i7</td>\n",
              "      <td>1</td>\n",
              "      <td>0</td>\n",
              "      <td>AMD</td>\n",
              "      <td>Windows</td>\n",
              "    </tr>\n",
              "    <tr>\n",
              "      <th>419</th>\n",
              "      <td>Lenovo</td>\n",
              "      <td>Ultrabook</td>\n",
              "      <td>8</td>\n",
              "      <td>1.75</td>\n",
              "      <td>0</td>\n",
              "      <td>1</td>\n",
              "      <td>157.350512</td>\n",
              "      <td>Intel Core i7</td>\n",
              "      <td>0</td>\n",
              "      <td>1</td>\n",
              "      <td>AMD</td>\n",
              "      <td>Windows</td>\n",
              "    </tr>\n",
              "    <tr>\n",
              "      <th>997</th>\n",
              "      <td>Acer</td>\n",
              "      <td>Notebook</td>\n",
              "      <td>4</td>\n",
              "      <td>2.40</td>\n",
              "      <td>0</td>\n",
              "      <td>0</td>\n",
              "      <td>100.454670</td>\n",
              "      <td>Other Intel Processor</td>\n",
              "      <td>1</td>\n",
              "      <td>0</td>\n",
              "      <td>Intel</td>\n",
              "      <td>Windows</td>\n",
              "    </tr>\n",
              "    <tr>\n",
              "      <th>502</th>\n",
              "      <td>Lenovo</td>\n",
              "      <td>2 in 1 Convertible</td>\n",
              "      <td>8</td>\n",
              "      <td>1.40</td>\n",
              "      <td>1</td>\n",
              "      <td>1</td>\n",
              "      <td>158.482530</td>\n",
              "      <td>Intel Core i5</td>\n",
              "      <td>0</td>\n",
              "      <td>1</td>\n",
              "      <td>Intel</td>\n",
              "      <td>Windows</td>\n",
              "    </tr>\n",
              "    <tr>\n",
              "      <th>...</th>\n",
              "      <td>...</td>\n",
              "      <td>...</td>\n",
              "      <td>...</td>\n",
              "      <td>...</td>\n",
              "      <td>...</td>\n",
              "      <td>...</td>\n",
              "      <td>...</td>\n",
              "      <td>...</td>\n",
              "      <td>...</td>\n",
              "      <td>...</td>\n",
              "      <td>...</td>\n",
              "      <td>...</td>\n",
              "    </tr>\n",
              "    <tr>\n",
              "      <th>466</th>\n",
              "      <td>Acer</td>\n",
              "      <td>Notebook</td>\n",
              "      <td>4</td>\n",
              "      <td>2.20</td>\n",
              "      <td>0</td>\n",
              "      <td>0</td>\n",
              "      <td>100.454670</td>\n",
              "      <td>Intel Core i3</td>\n",
              "      <td>1</td>\n",
              "      <td>0</td>\n",
              "      <td>Nvidia</td>\n",
              "      <td>Windows</td>\n",
              "    </tr>\n",
              "    <tr>\n",
              "      <th>299</th>\n",
              "      <td>Asus</td>\n",
              "      <td>Ultrabook</td>\n",
              "      <td>16</td>\n",
              "      <td>1.63</td>\n",
              "      <td>0</td>\n",
              "      <td>0</td>\n",
              "      <td>141.211998</td>\n",
              "      <td>Intel Core i7</td>\n",
              "      <td>0</td>\n",
              "      <td>1</td>\n",
              "      <td>Nvidia</td>\n",
              "      <td>Windows</td>\n",
              "    </tr>\n",
              "    <tr>\n",
              "      <th>493</th>\n",
              "      <td>Acer</td>\n",
              "      <td>Notebook</td>\n",
              "      <td>8</td>\n",
              "      <td>2.20</td>\n",
              "      <td>0</td>\n",
              "      <td>0</td>\n",
              "      <td>100.454670</td>\n",
              "      <td>AMD Processor</td>\n",
              "      <td>1</td>\n",
              "      <td>0</td>\n",
              "      <td>AMD</td>\n",
              "      <td>Windows</td>\n",
              "    </tr>\n",
              "    <tr>\n",
              "      <th>527</th>\n",
              "      <td>Lenovo</td>\n",
              "      <td>Notebook</td>\n",
              "      <td>8</td>\n",
              "      <td>2.20</td>\n",
              "      <td>0</td>\n",
              "      <td>0</td>\n",
              "      <td>100.454670</td>\n",
              "      <td>Intel Core i3</td>\n",
              "      <td>1</td>\n",
              "      <td>0</td>\n",
              "      <td>Nvidia</td>\n",
              "      <td>Other/None/Linux</td>\n",
              "    </tr>\n",
              "    <tr>\n",
              "      <th>1192</th>\n",
              "      <td>HP</td>\n",
              "      <td>Notebook</td>\n",
              "      <td>4</td>\n",
              "      <td>1.86</td>\n",
              "      <td>0</td>\n",
              "      <td>0</td>\n",
              "      <td>100.454670</td>\n",
              "      <td>Intel Core i5</td>\n",
              "      <td>1</td>\n",
              "      <td>0</td>\n",
              "      <td>Intel</td>\n",
              "      <td>Windows</td>\n",
              "    </tr>\n",
              "  </tbody>\n",
              "</table>\n",
              "<p>1107 rows × 12 columns</p>\n",
              "</div>\n",
              "      <button class=\"colab-df-convert\" onclick=\"convertToInteractive('df-dd5fcf8a-d1f3-4742-8430-9913013a0961')\"\n",
              "              title=\"Convert this dataframe to an interactive table.\"\n",
              "              style=\"display:none;\">\n",
              "        \n",
              "  <svg xmlns=\"http://www.w3.org/2000/svg\" height=\"24px\"viewBox=\"0 0 24 24\"\n",
              "       width=\"24px\">\n",
              "    <path d=\"M0 0h24v24H0V0z\" fill=\"none\"/>\n",
              "    <path d=\"M18.56 5.44l.94 2.06.94-2.06 2.06-.94-2.06-.94-.94-2.06-.94 2.06-2.06.94zm-11 1L8.5 8.5l.94-2.06 2.06-.94-2.06-.94L8.5 2.5l-.94 2.06-2.06.94zm10 10l.94 2.06.94-2.06 2.06-.94-2.06-.94-.94-2.06-.94 2.06-2.06.94z\"/><path d=\"M17.41 7.96l-1.37-1.37c-.4-.4-.92-.59-1.43-.59-.52 0-1.04.2-1.43.59L10.3 9.45l-7.72 7.72c-.78.78-.78 2.05 0 2.83L4 21.41c.39.39.9.59 1.41.59.51 0 1.02-.2 1.41-.59l7.78-7.78 2.81-2.81c.8-.78.8-2.07 0-2.86zM5.41 20L4 18.59l7.72-7.72 1.47 1.35L5.41 20z\"/>\n",
              "  </svg>\n",
              "      </button>\n",
              "      \n",
              "  <style>\n",
              "    .colab-df-container {\n",
              "      display:flex;\n",
              "      flex-wrap:wrap;\n",
              "      gap: 12px;\n",
              "    }\n",
              "\n",
              "    .colab-df-convert {\n",
              "      background-color: #E8F0FE;\n",
              "      border: none;\n",
              "      border-radius: 50%;\n",
              "      cursor: pointer;\n",
              "      display: none;\n",
              "      fill: #1967D2;\n",
              "      height: 32px;\n",
              "      padding: 0 0 0 0;\n",
              "      width: 32px;\n",
              "    }\n",
              "\n",
              "    .colab-df-convert:hover {\n",
              "      background-color: #E2EBFA;\n",
              "      box-shadow: 0px 1px 2px rgba(60, 64, 67, 0.3), 0px 1px 3px 1px rgba(60, 64, 67, 0.15);\n",
              "      fill: #174EA6;\n",
              "    }\n",
              "\n",
              "    [theme=dark] .colab-df-convert {\n",
              "      background-color: #3B4455;\n",
              "      fill: #D2E3FC;\n",
              "    }\n",
              "\n",
              "    [theme=dark] .colab-df-convert:hover {\n",
              "      background-color: #434B5C;\n",
              "      box-shadow: 0px 1px 3px 1px rgba(0, 0, 0, 0.15);\n",
              "      filter: drop-shadow(0px 1px 2px rgba(0, 0, 0, 0.3));\n",
              "      fill: #FFFFFF;\n",
              "    }\n",
              "  </style>\n",
              "\n",
              "      <script>\n",
              "        const buttonEl =\n",
              "          document.querySelector('#df-dd5fcf8a-d1f3-4742-8430-9913013a0961 button.colab-df-convert');\n",
              "        buttonEl.style.display =\n",
              "          google.colab.kernel.accessAllowed ? 'block' : 'none';\n",
              "\n",
              "        async function convertToInteractive(key) {\n",
              "          const element = document.querySelector('#df-dd5fcf8a-d1f3-4742-8430-9913013a0961');\n",
              "          const dataTable =\n",
              "            await google.colab.kernel.invokeFunction('convertToInteractive',\n",
              "                                                     [key], {});\n",
              "          if (!dataTable) return;\n",
              "\n",
              "          const docLinkHtml = 'Like what you see? Visit the ' +\n",
              "            '<a target=\"_blank\" href=https://colab.research.google.com/notebooks/data_table.ipynb>data table notebook</a>'\n",
              "            + ' to learn more about interactive tables.';\n",
              "          element.innerHTML = '';\n",
              "          dataTable['output_type'] = 'display_data';\n",
              "          await google.colab.output.renderOutput(dataTable, element);\n",
              "          const docLink = document.createElement('div');\n",
              "          docLink.innerHTML = docLinkHtml;\n",
              "          element.appendChild(docLink);\n",
              "        }\n",
              "      </script>\n",
              "    </div>\n",
              "  </div>\n",
              "  "
            ]
          },
          "metadata": {},
          "execution_count": 70
        }
      ]
    },
    {
      "cell_type": "code",
      "source": [
        "from sklearn.compose import ColumnTransformer\n",
        "from sklearn.pipeline import Pipeline\n",
        "from sklearn.preprocessing import OneHotEncoder\n",
        "from sklearn.metrics import r2_score,mean_absolute_error"
      ],
      "metadata": {
        "id": "qwynPhyY_r02"
      },
      "execution_count": 71,
      "outputs": []
    },
    {
      "cell_type": "code",
      "source": [
        "from sklearn.linear_model import LinearRegression,Ridge\n",
        "from sklearn.neighbors import KNeighborsRegressor\n",
        "from sklearn.tree import DecisionTreeRegressor\n",
        "from sklearn.ensemble import RandomForestRegressor,GradientBoostingRegressor,AdaBoostRegressor,ExtraTreesRegressor\n",
        "from xgboost import XGBRegressor"
      ],
      "metadata": {
        "id": "18IDRT3XuuoU"
      },
      "execution_count": 72,
      "outputs": []
    },
    {
      "cell_type": "markdown",
      "source": [
        "### **Linear Regression**"
      ],
      "metadata": {
        "id": "gQUR090KwNkw"
      }
    },
    {
      "cell_type": "code",
      "source": [
        "step1 = ColumnTransformer(transformers=[\n",
        "                                ('col_tnf', OneHotEncoder(sparse=False, drop='first'), [0, 1, 7, 10, 11])\n",
        "                                ], remainder= 'passthrough')\n",
        "\n",
        "step2 = LinearRegression()\n",
        "pipe = Pipeline([\n",
        "  ('step1', step1),\n",
        "  ('step2', step2)\n",
        "])\n",
        "\n",
        "pipe.fit(X_train, y_train)\n",
        "y_pred = pipe.predict(X_test)\n",
        "print('R2 Score', r2_score(y_test, y_pred))\n",
        "print('MAE Score', mean_absolute_error(y_test, y_pred))"
      ],
      "metadata": {
        "colab": {
          "base_uri": "https://localhost:8080/"
        },
        "id": "10JaSrVHrcHl",
        "outputId": "07be7f68-4061-4931-e7e9-7efce1e94625"
      },
      "execution_count": 73,
      "outputs": [
        {
          "output_type": "stream",
          "name": "stdout",
          "text": [
            "R2 Score 0.8204156623529568\n",
            "MAE Score 0.2120246186829873\n"
          ]
        }
      ]
    },
    {
      "cell_type": "markdown",
      "source": [
        "### **Ridge Regression**"
      ],
      "metadata": {
        "id": "V3BuwG-Iweek"
      }
    },
    {
      "cell_type": "code",
      "source": [
        "step1 = ColumnTransformer(transformers=[\n",
        "                                ('col_tnf', OneHotEncoder(sparse=False, drop='first'), [0, 1, 7, 10, 11])\n",
        "                                ], remainder= 'passthrough')\n",
        "\n",
        "step2 = Ridge(alpha=15)\n",
        "pipe = Pipeline([\n",
        "  ('step1', step1),\n",
        "  ('step2', step2)\n",
        "])\n",
        "\n",
        "pipe.fit(X_train, y_train)\n",
        "y_pred = pipe.predict(X_test)\n",
        "print('R2 Score', r2_score(y_test, y_pred))\n",
        "print('MAE Score', mean_absolute_error(y_test, y_pred))"
      ],
      "metadata": {
        "colab": {
          "base_uri": "https://localhost:8080/"
        },
        "id": "whdHyrlOwDDY",
        "outputId": "61c79d63-7a39-4960-8c92-8cd9b961fd80"
      },
      "execution_count": 74,
      "outputs": [
        {
          "output_type": "stream",
          "name": "stdout",
          "text": [
            "R2 Score 0.8133096564718667\n",
            "MAE Score 0.21661274766145788\n"
          ]
        }
      ]
    },
    {
      "cell_type": "code",
      "source": [
        "step1 = ColumnTransformer(transformers=[\n",
        "                                ('col_tnf', OneHotEncoder(sparse=False, drop='first'), [0, 1, 7, 10, 11])\n",
        "                                ], remainder= 'passthrough')\n",
        "\n",
        "step2 = KNeighborsRegressor(n_neighbors=4)\n",
        "pipe = Pipeline([\n",
        "  ('step1', step1),\n",
        "  ('step2', step2)\n",
        "])\n",
        "\n",
        "pipe.fit(X_train, y_train)\n",
        "y_pred = pipe.predict(X_test)\n",
        "print('R2 Score', r2_score(y_test, y_pred))\n",
        "print('MAE Score', mean_absolute_error(y_test, y_pred))"
      ],
      "metadata": {
        "colab": {
          "base_uri": "https://localhost:8080/"
        },
        "id": "D5AgVw-Rw0f0",
        "outputId": "bfb0c468-10ca-4e60-ca1d-49f6570e8c01"
      },
      "execution_count": 75,
      "outputs": [
        {
          "output_type": "stream",
          "name": "stdout",
          "text": [
            "R2 Score 0.8247155522223485\n",
            "MAE Score 0.19075419793572407\n"
          ]
        }
      ]
    },
    {
      "cell_type": "code",
      "source": [
        "step1 = ColumnTransformer(transformers=[\n",
        "                                ('col_tnf', OneHotEncoder(sparse=False, drop='first'), [0, 1, 7, 10, 11])\n",
        "                                ], remainder= 'passthrough')\n",
        "\n",
        "step2 = DecisionTreeRegressor(max_depth=15)\n",
        "pipe = Pipeline([\n",
        "  ('step1', step1),\n",
        "  ('step2', step2)\n",
        "])\n",
        "\n",
        "pipe.fit(X_train, y_train)\n",
        "y_pred = pipe.predict(X_test)\n",
        "print('R2 Score', r2_score(y_test, y_pred))\n",
        "print('MAE Score', mean_absolute_error(y_test, y_pred))"
      ],
      "metadata": {
        "colab": {
          "base_uri": "https://localhost:8080/"
        },
        "id": "oT7T6VdOxdv_",
        "outputId": "acfcc578-63cd-4728-8d89-3a6aa532356c"
      },
      "execution_count": 76,
      "outputs": [
        {
          "output_type": "stream",
          "name": "stdout",
          "text": [
            "R2 Score 0.8423148369765375\n",
            "MAE Score 0.18337740439768813\n"
          ]
        }
      ]
    },
    {
      "cell_type": "markdown",
      "source": [
        "### **Random Forest**"
      ],
      "metadata": {
        "id": "f4OgBga-GCan"
      }
    },
    {
      "cell_type": "code",
      "source": [
        "step1 = ColumnTransformer(transformers=[\n",
        "    ('col_tnf',OneHotEncoder(sparse=False,drop='first'),[0,1,7,10,11])\n",
        "],remainder='passthrough')\n",
        "\n",
        "step2 = RandomForestRegressor(n_estimators=100,\n",
        "                              random_state=3,\n",
        "                              max_samples=0.5,\n",
        "                              max_features=0.75,\n",
        "                              max_depth=16)\n",
        "\n",
        "pipe = Pipeline([\n",
        "    ('step1',step1),\n",
        "    ('step2',step2)\n",
        "])\n",
        "\n",
        "pipe.fit(X_train,y_train)\n",
        "\n",
        "y_pred = pipe.predict(X_test)\n",
        "\n",
        "print('R2 score',r2_score(y_test,y_pred))\n",
        "print('MAE',mean_absolute_error(y_test,y_pred))"
      ],
      "metadata": {
        "colab": {
          "base_uri": "https://localhost:8080/"
        },
        "id": "fl-zN3akF__M",
        "outputId": "7ae0f63d-3c11-4fdb-93cd-c6420a478ab8"
      },
      "execution_count": 88,
      "outputs": [
        {
          "output_type": "stream",
          "name": "stdout",
          "text": [
            "R2 score 0.8833637087988568\n",
            "MAE 0.16039529581571163\n"
          ]
        }
      ]
    },
    {
      "cell_type": "markdown",
      "source": [
        "### **Voting Regressor**"
      ],
      "metadata": {
        "id": "gb9a5f_ZHw_v"
      }
    },
    {
      "cell_type": "code",
      "source": [
        "from sklearn.ensemble import VotingRegressor,StackingRegressor\n",
        "step1 = ColumnTransformer(transformers=[\n",
        "                                ('col_tnf', OneHotEncoder(sparse=False, drop='first'), [0, 1, 7, 10, 11])\n",
        "                                ], remainder= 'passthrough')\n",
        "rf = RandomForestRegressor(n_estimators=350,random_state=3,max_samples=0.5,max_features=0.75,max_depth=15)\n",
        "gbdt = GradientBoostingRegressor(n_estimators=100,max_features=0.5)\n",
        "xgb = XGBRegressor(n_estimators=25,learning_rate=0.3,max_depth=5)\n",
        "et = ExtraTreesRegressor(n_estimators=100,random_state=3,max_features=0.75,max_depth=10)\n",
        "\n",
        "step2 = VotingRegressor([('rf', rf), ('gbdt', gbdt), ('xgb',xgb), ('et',et)],weights=[5,1,1,1])\n",
        "\n",
        "pipe = Pipeline([\n",
        "    ('step1',step1),\n",
        "    ('step2',step2)\n",
        "])\n",
        "\n",
        "pipe.fit(X_train,y_train)\n",
        "\n",
        "y_pred = pipe.predict(X_test)\n",
        "\n",
        "print('R2 score',r2_score(y_test,y_pred))\n",
        "print('MAE',mean_absolute_error(y_test,y_pred))"
      ],
      "metadata": {
        "colab": {
          "base_uri": "https://localhost:8080/"
        },
        "id": "J7XMySmExutE",
        "outputId": "089851ce-282d-4bff-92c0-e90aa04610ae"
      },
      "execution_count": 87,
      "outputs": [
        {
          "output_type": "stream",
          "name": "stdout",
          "text": [
            "[14:22:37] WARNING: /workspace/src/objective/regression_obj.cu:152: reg:linear is now deprecated in favor of reg:squarederror.\n",
            "R2 score 0.8842652309014275\n",
            "MAE 0.16147832032555992\n"
          ]
        }
      ]
    },
    {
      "cell_type": "code",
      "source": [
        "import pickle"
      ],
      "metadata": {
        "id": "coP_CDw-HYb0"
      },
      "execution_count": 89,
      "outputs": []
    },
    {
      "cell_type": "code",
      "source": [
        "pickle.dump(df,open('df.pkl', 'wb'))\n",
        "pickle.dump(pipe,open('pipe.pkl', 'wb'))"
      ],
      "metadata": {
        "id": "dAb1EKWgHbXj"
      },
      "execution_count": 90,
      "outputs": []
    }
  ]
}
=======
 "cells": [
  {
   "cell_type": "code",
   "execution_count": 92,
   "metadata": {
    "id": "D9YDDA7G73d0"
   },
   "outputs": [],
   "source": [
    "import numpy as np\n",
    "import pandas as pd"
   ]
  },
  {
   "cell_type": "code",
   "execution_count": 93,
   "metadata": {
    "id": "soJtYKXYLV_L"
   },
   "outputs": [],
   "source": [
    "import matplotlib.pyplot as plt"
   ]
  },
  {
   "cell_type": "code",
   "execution_count": 94,
   "metadata": {
    "id": "M3mjxvzh9joo"
   },
   "outputs": [],
   "source": [
    "df = pd.read_csv(\"laptop_data.csv\")"
   ]
  },
  {
   "cell_type": "code",
   "execution_count": 95,
   "metadata": {
    "colab": {
     "base_uri": "https://localhost:8080/",
     "height": 389
    },
    "id": "CJXAITLQ9wsU",
    "outputId": "1300bb77-9d52-4bc0-b5f5-6cef43782fd6"
   },
   "outputs": [
    {
     "data": {
      "text/html": [
       "<div>\n",
       "<style scoped>\n",
       "    .dataframe tbody tr th:only-of-type {\n",
       "        vertical-align: middle;\n",
       "    }\n",
       "\n",
       "    .dataframe tbody tr th {\n",
       "        vertical-align: top;\n",
       "    }\n",
       "\n",
       "    .dataframe thead th {\n",
       "        text-align: right;\n",
       "    }\n",
       "</style>\n",
       "<table border=\"1\" class=\"dataframe\">\n",
       "  <thead>\n",
       "    <tr style=\"text-align: right;\">\n",
       "      <th></th>\n",
       "      <th>Unnamed: 0</th>\n",
       "      <th>Company</th>\n",
       "      <th>TypeName</th>\n",
       "      <th>Inches</th>\n",
       "      <th>ScreenResolution</th>\n",
       "      <th>Cpu</th>\n",
       "      <th>Ram</th>\n",
       "      <th>Memory</th>\n",
       "      <th>Gpu</th>\n",
       "      <th>OpSys</th>\n",
       "      <th>Weight</th>\n",
       "      <th>Price</th>\n",
       "    </tr>\n",
       "  </thead>\n",
       "  <tbody>\n",
       "    <tr>\n",
       "      <th>0</th>\n",
       "      <td>0</td>\n",
       "      <td>Apple</td>\n",
       "      <td>Ultrabook</td>\n",
       "      <td>13.3</td>\n",
       "      <td>IPS Panel Retina Display 2560x1600</td>\n",
       "      <td>Intel Core i5 2.3GHz</td>\n",
       "      <td>8GB</td>\n",
       "      <td>128GB SSD</td>\n",
       "      <td>Intel Iris Plus Graphics 640</td>\n",
       "      <td>macOS</td>\n",
       "      <td>1.37kg</td>\n",
       "      <td>71378.6832</td>\n",
       "    </tr>\n",
       "    <tr>\n",
       "      <th>1</th>\n",
       "      <td>1</td>\n",
       "      <td>Apple</td>\n",
       "      <td>Ultrabook</td>\n",
       "      <td>13.3</td>\n",
       "      <td>1440x900</td>\n",
       "      <td>Intel Core i5 1.8GHz</td>\n",
       "      <td>8GB</td>\n",
       "      <td>128GB Flash Storage</td>\n",
       "      <td>Intel HD Graphics 6000</td>\n",
       "      <td>macOS</td>\n",
       "      <td>1.34kg</td>\n",
       "      <td>47895.5232</td>\n",
       "    </tr>\n",
       "    <tr>\n",
       "      <th>2</th>\n",
       "      <td>2</td>\n",
       "      <td>HP</td>\n",
       "      <td>Notebook</td>\n",
       "      <td>15.6</td>\n",
       "      <td>Full HD 1920x1080</td>\n",
       "      <td>Intel Core i5 7200U 2.5GHz</td>\n",
       "      <td>8GB</td>\n",
       "      <td>256GB SSD</td>\n",
       "      <td>Intel HD Graphics 620</td>\n",
       "      <td>No OS</td>\n",
       "      <td>1.86kg</td>\n",
       "      <td>30636.0000</td>\n",
       "    </tr>\n",
       "    <tr>\n",
       "      <th>3</th>\n",
       "      <td>3</td>\n",
       "      <td>Apple</td>\n",
       "      <td>Ultrabook</td>\n",
       "      <td>15.4</td>\n",
       "      <td>IPS Panel Retina Display 2880x1800</td>\n",
       "      <td>Intel Core i7 2.7GHz</td>\n",
       "      <td>16GB</td>\n",
       "      <td>512GB SSD</td>\n",
       "      <td>AMD Radeon Pro 455</td>\n",
       "      <td>macOS</td>\n",
       "      <td>1.83kg</td>\n",
       "      <td>135195.3360</td>\n",
       "    </tr>\n",
       "    <tr>\n",
       "      <th>4</th>\n",
       "      <td>4</td>\n",
       "      <td>Apple</td>\n",
       "      <td>Ultrabook</td>\n",
       "      <td>13.3</td>\n",
       "      <td>IPS Panel Retina Display 2560x1600</td>\n",
       "      <td>Intel Core i5 3.1GHz</td>\n",
       "      <td>8GB</td>\n",
       "      <td>256GB SSD</td>\n",
       "      <td>Intel Iris Plus Graphics 650</td>\n",
       "      <td>macOS</td>\n",
       "      <td>1.37kg</td>\n",
       "      <td>96095.8080</td>\n",
       "    </tr>\n",
       "  </tbody>\n",
       "</table>\n",
       "</div>"
      ],
      "text/plain": [
       "   Unnamed: 0 Company   TypeName  Inches                    ScreenResolution  \\\n",
       "0           0   Apple  Ultrabook    13.3  IPS Panel Retina Display 2560x1600   \n",
       "1           1   Apple  Ultrabook    13.3                            1440x900   \n",
       "2           2      HP   Notebook    15.6                   Full HD 1920x1080   \n",
       "3           3   Apple  Ultrabook    15.4  IPS Panel Retina Display 2880x1800   \n",
       "4           4   Apple  Ultrabook    13.3  IPS Panel Retina Display 2560x1600   \n",
       "\n",
       "                          Cpu   Ram               Memory  \\\n",
       "0        Intel Core i5 2.3GHz   8GB            128GB SSD   \n",
       "1        Intel Core i5 1.8GHz   8GB  128GB Flash Storage   \n",
       "2  Intel Core i5 7200U 2.5GHz   8GB            256GB SSD   \n",
       "3        Intel Core i7 2.7GHz  16GB            512GB SSD   \n",
       "4        Intel Core i5 3.1GHz   8GB            256GB SSD   \n",
       "\n",
       "                            Gpu  OpSys  Weight        Price  \n",
       "0  Intel Iris Plus Graphics 640  macOS  1.37kg   71378.6832  \n",
       "1        Intel HD Graphics 6000  macOS  1.34kg   47895.5232  \n",
       "2         Intel HD Graphics 620  No OS  1.86kg   30636.0000  \n",
       "3            AMD Radeon Pro 455  macOS  1.83kg  135195.3360  \n",
       "4  Intel Iris Plus Graphics 650  macOS  1.37kg   96095.8080  "
      ]
     },
     "execution_count": 95,
     "metadata": {},
     "output_type": "execute_result"
    }
   ],
   "source": [
    "df.head()"
   ]
  },
  {
   "cell_type": "code",
   "execution_count": 96,
   "metadata": {
    "id": "FQqfUsXr9xvY"
   },
   "outputs": [],
   "source": [
    "df['Price'] = df['Price'] * 1.6\n"
   ]
  },
  {
   "cell_type": "code",
   "execution_count": 97,
   "metadata": {
    "colab": {
     "base_uri": "https://localhost:8080/",
     "height": 406
    },
    "id": "jtGairK6N04-",
    "outputId": "ee0b30d2-de28-4583-e032-70db3f810908"
   },
   "outputs": [
    {
     "data": {
      "text/html": [
       "<div>\n",
       "<style scoped>\n",
       "    .dataframe tbody tr th:only-of-type {\n",
       "        vertical-align: middle;\n",
       "    }\n",
       "\n",
       "    .dataframe tbody tr th {\n",
       "        vertical-align: top;\n",
       "    }\n",
       "\n",
       "    .dataframe thead th {\n",
       "        text-align: right;\n",
       "    }\n",
       "</style>\n",
       "<table border=\"1\" class=\"dataframe\">\n",
       "  <thead>\n",
       "    <tr style=\"text-align: right;\">\n",
       "      <th></th>\n",
       "      <th>Unnamed: 0</th>\n",
       "      <th>Company</th>\n",
       "      <th>TypeName</th>\n",
       "      <th>Inches</th>\n",
       "      <th>ScreenResolution</th>\n",
       "      <th>Cpu</th>\n",
       "      <th>Ram</th>\n",
       "      <th>Memory</th>\n",
       "      <th>Gpu</th>\n",
       "      <th>OpSys</th>\n",
       "      <th>Weight</th>\n",
       "      <th>Price</th>\n",
       "    </tr>\n",
       "  </thead>\n",
       "  <tbody>\n",
       "    <tr>\n",
       "      <th>0</th>\n",
       "      <td>0</td>\n",
       "      <td>Apple</td>\n",
       "      <td>Ultrabook</td>\n",
       "      <td>13.3</td>\n",
       "      <td>IPS Panel Retina Display 2560x1600</td>\n",
       "      <td>Intel Core i5 2.3GHz</td>\n",
       "      <td>8GB</td>\n",
       "      <td>128GB SSD</td>\n",
       "      <td>Intel Iris Plus Graphics 640</td>\n",
       "      <td>macOS</td>\n",
       "      <td>1.37kg</td>\n",
       "      <td>114205.89312</td>\n",
       "    </tr>\n",
       "    <tr>\n",
       "      <th>1</th>\n",
       "      <td>1</td>\n",
       "      <td>Apple</td>\n",
       "      <td>Ultrabook</td>\n",
       "      <td>13.3</td>\n",
       "      <td>1440x900</td>\n",
       "      <td>Intel Core i5 1.8GHz</td>\n",
       "      <td>8GB</td>\n",
       "      <td>128GB Flash Storage</td>\n",
       "      <td>Intel HD Graphics 6000</td>\n",
       "      <td>macOS</td>\n",
       "      <td>1.34kg</td>\n",
       "      <td>76632.83712</td>\n",
       "    </tr>\n",
       "    <tr>\n",
       "      <th>2</th>\n",
       "      <td>2</td>\n",
       "      <td>HP</td>\n",
       "      <td>Notebook</td>\n",
       "      <td>15.6</td>\n",
       "      <td>Full HD 1920x1080</td>\n",
       "      <td>Intel Core i5 7200U 2.5GHz</td>\n",
       "      <td>8GB</td>\n",
       "      <td>256GB SSD</td>\n",
       "      <td>Intel HD Graphics 620</td>\n",
       "      <td>No OS</td>\n",
       "      <td>1.86kg</td>\n",
       "      <td>49017.60000</td>\n",
       "    </tr>\n",
       "    <tr>\n",
       "      <th>3</th>\n",
       "      <td>3</td>\n",
       "      <td>Apple</td>\n",
       "      <td>Ultrabook</td>\n",
       "      <td>15.4</td>\n",
       "      <td>IPS Panel Retina Display 2880x1800</td>\n",
       "      <td>Intel Core i7 2.7GHz</td>\n",
       "      <td>16GB</td>\n",
       "      <td>512GB SSD</td>\n",
       "      <td>AMD Radeon Pro 455</td>\n",
       "      <td>macOS</td>\n",
       "      <td>1.83kg</td>\n",
       "      <td>216312.53760</td>\n",
       "    </tr>\n",
       "    <tr>\n",
       "      <th>4</th>\n",
       "      <td>4</td>\n",
       "      <td>Apple</td>\n",
       "      <td>Ultrabook</td>\n",
       "      <td>13.3</td>\n",
       "      <td>IPS Panel Retina Display 2560x1600</td>\n",
       "      <td>Intel Core i5 3.1GHz</td>\n",
       "      <td>8GB</td>\n",
       "      <td>256GB SSD</td>\n",
       "      <td>Intel Iris Plus Graphics 650</td>\n",
       "      <td>macOS</td>\n",
       "      <td>1.37kg</td>\n",
       "      <td>153753.29280</td>\n",
       "    </tr>\n",
       "  </tbody>\n",
       "</table>\n",
       "</div>"
      ],
      "text/plain": [
       "   Unnamed: 0 Company   TypeName  Inches                    ScreenResolution  \\\n",
       "0           0   Apple  Ultrabook    13.3  IPS Panel Retina Display 2560x1600   \n",
       "1           1   Apple  Ultrabook    13.3                            1440x900   \n",
       "2           2      HP   Notebook    15.6                   Full HD 1920x1080   \n",
       "3           3   Apple  Ultrabook    15.4  IPS Panel Retina Display 2880x1800   \n",
       "4           4   Apple  Ultrabook    13.3  IPS Panel Retina Display 2560x1600   \n",
       "\n",
       "                          Cpu   Ram               Memory  \\\n",
       "0        Intel Core i5 2.3GHz   8GB            128GB SSD   \n",
       "1        Intel Core i5 1.8GHz   8GB  128GB Flash Storage   \n",
       "2  Intel Core i5 7200U 2.5GHz   8GB            256GB SSD   \n",
       "3        Intel Core i7 2.7GHz  16GB            512GB SSD   \n",
       "4        Intel Core i5 3.1GHz   8GB            256GB SSD   \n",
       "\n",
       "                            Gpu  OpSys  Weight         Price  \n",
       "0  Intel Iris Plus Graphics 640  macOS  1.37kg  114205.89312  \n",
       "1        Intel HD Graphics 6000  macOS  1.34kg   76632.83712  \n",
       "2         Intel HD Graphics 620  No OS  1.86kg   49017.60000  \n",
       "3            AMD Radeon Pro 455  macOS  1.83kg  216312.53760  \n",
       "4  Intel Iris Plus Graphics 650  macOS  1.37kg  153753.29280  "
      ]
     },
     "execution_count": 97,
     "metadata": {},
     "output_type": "execute_result"
    }
   ],
   "source": [
    "df.head()"
   ]
  },
  {
   "cell_type": "code",
   "execution_count": 98,
   "metadata": {
    "id": "SBYSIw5CN2c1"
   },
   "outputs": [],
   "source": [
    "df.rename(columns = {'Price' : 'Price_NRS'}, inplace = True)"
   ]
  },
  {
   "cell_type": "code",
   "execution_count": 99,
   "metadata": {
    "colab": {
     "base_uri": "https://localhost:8080/"
    },
    "id": "RFaruW5iO4zO",
    "outputId": "cf3b871c-85d7-4523-8637-118dec14bf54"
   },
   "outputs": [
    {
     "name": "stdout",
     "output_type": "stream",
     "text": [
      "<class 'pandas.core.frame.DataFrame'>\n",
      "RangeIndex: 1303 entries, 0 to 1302\n",
      "Data columns (total 12 columns):\n",
      " #   Column            Non-Null Count  Dtype  \n",
      "---  ------            --------------  -----  \n",
      " 0   Unnamed: 0        1303 non-null   int64  \n",
      " 1   Company           1303 non-null   object \n",
      " 2   TypeName          1303 non-null   object \n",
      " 3   Inches            1303 non-null   float64\n",
      " 4   ScreenResolution  1303 non-null   object \n",
      " 5   Cpu               1303 non-null   object \n",
      " 6   Ram               1303 non-null   object \n",
      " 7   Memory            1303 non-null   object \n",
      " 8   Gpu               1303 non-null   object \n",
      " 9   OpSys             1303 non-null   object \n",
      " 10  Weight            1303 non-null   object \n",
      " 11  Price_NRS         1303 non-null   float64\n",
      "dtypes: float64(2), int64(1), object(9)\n",
      "memory usage: 122.3+ KB\n"
     ]
    }
   ],
   "source": [
    "df.info()"
   ]
  },
  {
   "cell_type": "code",
   "execution_count": 100,
   "metadata": {
    "colab": {
     "base_uri": "https://localhost:8080/"
    },
    "id": "cHRCG_k7PBZl",
    "outputId": "57b54321-ce03-483a-9230-3529b72d1a74"
   },
   "outputs": [
    {
     "data": {
      "text/plain": [
       "0"
      ]
     },
     "execution_count": 100,
     "metadata": {},
     "output_type": "execute_result"
    }
   ],
   "source": [
    "df.duplicated().sum()"
   ]
  },
  {
   "cell_type": "code",
   "execution_count": 101,
   "metadata": {
    "colab": {
     "base_uri": "https://localhost:8080/"
    },
    "id": "VlDgcV-1Pt6N",
    "outputId": "853d90c3-ea18-4bd9-c67d-b7691fb8e10c"
   },
   "outputs": [
    {
     "data": {
      "text/plain": [
       "Unnamed: 0          0\n",
       "Company             0\n",
       "TypeName            0\n",
       "Inches              0\n",
       "ScreenResolution    0\n",
       "Cpu                 0\n",
       "Ram                 0\n",
       "Memory              0\n",
       "Gpu                 0\n",
       "OpSys               0\n",
       "Weight              0\n",
       "Price_NRS           0\n",
       "dtype: int64"
      ]
     },
     "execution_count": 101,
     "metadata": {},
     "output_type": "execute_result"
    }
   ],
   "source": [
    "df.isnull().sum()"
   ]
  },
  {
   "cell_type": "code",
   "execution_count": 102,
   "metadata": {
    "id": "1sxbXAj3PzTF"
   },
   "outputs": [],
   "source": [
    "df['Ram'] = df['Ram'].str.replace('GB', '')"
   ]
  },
  {
   "cell_type": "code",
   "execution_count": 103,
   "metadata": {
    "id": "shG-a5m2Q9ak"
   },
   "outputs": [],
   "source": [
    "df['Weight'] = df['Weight'].str.replace('kg', '')"
   ]
  },
  {
   "cell_type": "code",
   "execution_count": 104,
   "metadata": {
    "colab": {
     "base_uri": "https://localhost:8080/",
     "height": 389
    },
    "id": "y83RX9B8RH3F",
    "outputId": "998152db-d57b-49e0-e739-aa23019bbbf6"
   },
   "outputs": [
    {
     "data": {
      "text/html": [
       "<div>\n",
       "<style scoped>\n",
       "    .dataframe tbody tr th:only-of-type {\n",
       "        vertical-align: middle;\n",
       "    }\n",
       "\n",
       "    .dataframe tbody tr th {\n",
       "        vertical-align: top;\n",
       "    }\n",
       "\n",
       "    .dataframe thead th {\n",
       "        text-align: right;\n",
       "    }\n",
       "</style>\n",
       "<table border=\"1\" class=\"dataframe\">\n",
       "  <thead>\n",
       "    <tr style=\"text-align: right;\">\n",
       "      <th></th>\n",
       "      <th>Unnamed: 0</th>\n",
       "      <th>Company</th>\n",
       "      <th>TypeName</th>\n",
       "      <th>Inches</th>\n",
       "      <th>ScreenResolution</th>\n",
       "      <th>Cpu</th>\n",
       "      <th>Ram</th>\n",
       "      <th>Memory</th>\n",
       "      <th>Gpu</th>\n",
       "      <th>OpSys</th>\n",
       "      <th>Weight</th>\n",
       "      <th>Price_NRS</th>\n",
       "    </tr>\n",
       "  </thead>\n",
       "  <tbody>\n",
       "    <tr>\n",
       "      <th>0</th>\n",
       "      <td>0</td>\n",
       "      <td>Apple</td>\n",
       "      <td>Ultrabook</td>\n",
       "      <td>13.3</td>\n",
       "      <td>IPS Panel Retina Display 2560x1600</td>\n",
       "      <td>Intel Core i5 2.3GHz</td>\n",
       "      <td>8</td>\n",
       "      <td>128GB SSD</td>\n",
       "      <td>Intel Iris Plus Graphics 640</td>\n",
       "      <td>macOS</td>\n",
       "      <td>1.37</td>\n",
       "      <td>114205.89312</td>\n",
       "    </tr>\n",
       "    <tr>\n",
       "      <th>1</th>\n",
       "      <td>1</td>\n",
       "      <td>Apple</td>\n",
       "      <td>Ultrabook</td>\n",
       "      <td>13.3</td>\n",
       "      <td>1440x900</td>\n",
       "      <td>Intel Core i5 1.8GHz</td>\n",
       "      <td>8</td>\n",
       "      <td>128GB Flash Storage</td>\n",
       "      <td>Intel HD Graphics 6000</td>\n",
       "      <td>macOS</td>\n",
       "      <td>1.34</td>\n",
       "      <td>76632.83712</td>\n",
       "    </tr>\n",
       "    <tr>\n",
       "      <th>2</th>\n",
       "      <td>2</td>\n",
       "      <td>HP</td>\n",
       "      <td>Notebook</td>\n",
       "      <td>15.6</td>\n",
       "      <td>Full HD 1920x1080</td>\n",
       "      <td>Intel Core i5 7200U 2.5GHz</td>\n",
       "      <td>8</td>\n",
       "      <td>256GB SSD</td>\n",
       "      <td>Intel HD Graphics 620</td>\n",
       "      <td>No OS</td>\n",
       "      <td>1.86</td>\n",
       "      <td>49017.60000</td>\n",
       "    </tr>\n",
       "    <tr>\n",
       "      <th>3</th>\n",
       "      <td>3</td>\n",
       "      <td>Apple</td>\n",
       "      <td>Ultrabook</td>\n",
       "      <td>15.4</td>\n",
       "      <td>IPS Panel Retina Display 2880x1800</td>\n",
       "      <td>Intel Core i7 2.7GHz</td>\n",
       "      <td>16</td>\n",
       "      <td>512GB SSD</td>\n",
       "      <td>AMD Radeon Pro 455</td>\n",
       "      <td>macOS</td>\n",
       "      <td>1.83</td>\n",
       "      <td>216312.53760</td>\n",
       "    </tr>\n",
       "    <tr>\n",
       "      <th>4</th>\n",
       "      <td>4</td>\n",
       "      <td>Apple</td>\n",
       "      <td>Ultrabook</td>\n",
       "      <td>13.3</td>\n",
       "      <td>IPS Panel Retina Display 2560x1600</td>\n",
       "      <td>Intel Core i5 3.1GHz</td>\n",
       "      <td>8</td>\n",
       "      <td>256GB SSD</td>\n",
       "      <td>Intel Iris Plus Graphics 650</td>\n",
       "      <td>macOS</td>\n",
       "      <td>1.37</td>\n",
       "      <td>153753.29280</td>\n",
       "    </tr>\n",
       "  </tbody>\n",
       "</table>\n",
       "</div>"
      ],
      "text/plain": [
       "   Unnamed: 0 Company   TypeName  Inches                    ScreenResolution  \\\n",
       "0           0   Apple  Ultrabook    13.3  IPS Panel Retina Display 2560x1600   \n",
       "1           1   Apple  Ultrabook    13.3                            1440x900   \n",
       "2           2      HP   Notebook    15.6                   Full HD 1920x1080   \n",
       "3           3   Apple  Ultrabook    15.4  IPS Panel Retina Display 2880x1800   \n",
       "4           4   Apple  Ultrabook    13.3  IPS Panel Retina Display 2560x1600   \n",
       "\n",
       "                          Cpu Ram               Memory  \\\n",
       "0        Intel Core i5 2.3GHz   8            128GB SSD   \n",
       "1        Intel Core i5 1.8GHz   8  128GB Flash Storage   \n",
       "2  Intel Core i5 7200U 2.5GHz   8            256GB SSD   \n",
       "3        Intel Core i7 2.7GHz  16            512GB SSD   \n",
       "4        Intel Core i5 3.1GHz   8            256GB SSD   \n",
       "\n",
       "                            Gpu  OpSys Weight     Price_NRS  \n",
       "0  Intel Iris Plus Graphics 640  macOS   1.37  114205.89312  \n",
       "1        Intel HD Graphics 6000  macOS   1.34   76632.83712  \n",
       "2         Intel HD Graphics 620  No OS   1.86   49017.60000  \n",
       "3            AMD Radeon Pro 455  macOS   1.83  216312.53760  \n",
       "4  Intel Iris Plus Graphics 650  macOS   1.37  153753.29280  "
      ]
     },
     "execution_count": 104,
     "metadata": {},
     "output_type": "execute_result"
    }
   ],
   "source": [
    "df.head()"
   ]
  },
  {
   "cell_type": "code",
   "execution_count": 105,
   "metadata": {
    "id": "MAXVHq15RJu8"
   },
   "outputs": [],
   "source": [
    "df['Ram'] = df['Ram'].astype('int32')\n",
    "df['Weight'] = df['Weight'].astype('float32')"
   ]
  },
  {
   "cell_type": "code",
   "execution_count": 106,
   "metadata": {
    "colab": {
     "base_uri": "https://localhost:8080/"
    },
    "id": "eQ-C3usPRWyN",
    "outputId": "8519cade-de4a-4661-b6d0-1bb4aa935aaf"
   },
   "outputs": [
    {
     "name": "stdout",
     "output_type": "stream",
     "text": [
      "<class 'pandas.core.frame.DataFrame'>\n",
      "RangeIndex: 1303 entries, 0 to 1302\n",
      "Data columns (total 12 columns):\n",
      " #   Column            Non-Null Count  Dtype  \n",
      "---  ------            --------------  -----  \n",
      " 0   Unnamed: 0        1303 non-null   int64  \n",
      " 1   Company           1303 non-null   object \n",
      " 2   TypeName          1303 non-null   object \n",
      " 3   Inches            1303 non-null   float64\n",
      " 4   ScreenResolution  1303 non-null   object \n",
      " 5   Cpu               1303 non-null   object \n",
      " 6   Ram               1303 non-null   int32  \n",
      " 7   Memory            1303 non-null   object \n",
      " 8   Gpu               1303 non-null   object \n",
      " 9   OpSys             1303 non-null   object \n",
      " 10  Weight            1303 non-null   float32\n",
      " 11  Price_NRS         1303 non-null   float64\n",
      "dtypes: float32(1), float64(2), int32(1), int64(1), object(7)\n",
      "memory usage: 112.1+ KB\n"
     ]
    }
   ],
   "source": [
    "df.info()"
   ]
  },
  {
   "cell_type": "code",
   "execution_count": 107,
   "metadata": {},
   "outputs": [
    {
     "name": "stdout",
     "output_type": "stream",
     "text": [
      "Defaulting to user installation because normal site-packages is not writeable\n",
      "Requirement already satisfied: seaborn in /home/karx/.local/lib/python3.11/site-packages (0.12.2)\n",
      "Requirement already satisfied: numpy!=1.24.0,>=1.17 in /home/karx/.local/lib/python3.11/site-packages (from seaborn) (1.23.5)\n",
      "Requirement already satisfied: pandas>=0.25 in /usr/lib64/python3.11/site-packages (from seaborn) (1.5.2)\n",
      "Requirement already satisfied: matplotlib!=3.6.1,>=3.1 in /usr/lib64/python3.11/site-packages (from seaborn) (3.6.2)\n",
      "Requirement already satisfied: contourpy>=1.0.1 in /usr/lib64/python3.11/site-packages (from matplotlib!=3.6.1,>=3.1->seaborn) (1.0.6)\n",
      "Requirement already satisfied: cycler>=0.10 in /usr/lib/python3.11/site-packages (from matplotlib!=3.6.1,>=3.1->seaborn) (0.11.0)\n",
      "Requirement already satisfied: fonttools>=4.22.0 in /usr/lib64/python3.11/site-packages (from matplotlib!=3.6.1,>=3.1->seaborn) (4.37.2)\n",
      "Requirement already satisfied: kiwisolver>=1.0.1 in /usr/lib64/python3.11/site-packages (from matplotlib!=3.6.1,>=3.1->seaborn) (1.4.4)\n",
      "Requirement already satisfied: packaging>=20.0 in /usr/lib/python3.11/site-packages (from matplotlib!=3.6.1,>=3.1->seaborn) (21.3)\n",
      "Requirement already satisfied: pillow>=6.2.0 in /usr/lib64/python3.11/site-packages (from matplotlib!=3.6.1,>=3.1->seaborn) (9.2.0)\n",
      "Requirement already satisfied: pyparsing>=2.2.1 in /usr/lib/python3.11/site-packages (from matplotlib!=3.6.1,>=3.1->seaborn) (3.0.9)\n",
      "Requirement already satisfied: python-dateutil>=2.7 in /usr/lib/python3.11/site-packages (from matplotlib!=3.6.1,>=3.1->seaborn) (2.8.2)\n",
      "Requirement already satisfied: pytz>=2020.1 in /usr/lib/python3.11/site-packages (from pandas>=0.25->seaborn) (2022.7)\n",
      "Requirement already satisfied: six>=1.5 in /usr/lib/python3.11/site-packages (from python-dateutil>=2.7->matplotlib!=3.6.1,>=3.1->seaborn) (1.16.0)\n"
     ]
    }
   ],
   "source": [
    "!pip install seaborn\n"
   ]
  },
  {
   "cell_type": "code",
   "execution_count": 108,
   "metadata": {
    "id": "LX3N2wGgRb-w"
   },
   "outputs": [],
   "source": [
    "import seaborn as sns"
   ]
  },
  {
   "cell_type": "code",
   "execution_count": 109,
   "metadata": {
    "colab": {
     "base_uri": "https://localhost:8080/",
     "height": 363
    },
    "id": "tkRx6IVJRg0I",
    "outputId": "4ac254a2-4e7b-4fbb-9f8e-a8cd3123d0a6"
   },
   "outputs": [
    {
     "name": "stderr",
     "output_type": "stream",
     "text": [
      "/tmp/ipykernel_37647/4183240213.py:1: UserWarning: \n",
      "\n",
      "`distplot` is a deprecated function and will be removed in seaborn v0.14.0.\n",
      "\n",
      "Please adapt your code to use either `displot` (a figure-level function with\n",
      "similar flexibility) or `histplot` (an axes-level function for histograms).\n",
      "\n",
      "For a guide to updating your code to use the new functions, please see\n",
      "https://gist.github.com/mwaskom/de44147ed2974457ad6372750bbe5751\n",
      "\n",
      "  sns.distplot(df['Price_NRS'])\n"
     ]
    },
    {
     "data": {
      "text/plain": [
       "<AxesSubplot: xlabel='Price_NRS', ylabel='Density'>"
      ]
     },
     "execution_count": 109,
     "metadata": {},
     "output_type": "execute_result"
    },
    {
     "data": {
      "image/png": "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\n",
      "text/plain": [
       "<Figure size 432x288 with 1 Axes>"
      ]
     },
     "metadata": {
      "needs_background": "light"
     },
     "output_type": "display_data"
    }
   ],
   "source": [
    "sns.distplot(df['Price_NRS'])"
   ]
  },
  {
   "cell_type": "code",
   "execution_count": 110,
   "metadata": {
    "colab": {
     "base_uri": "https://localhost:8080/",
     "height": 324
    },
    "id": "KsIxlqyCRqWG",
    "outputId": "64e498cf-0d70-4719-f59b-62b4c8c6c682"
   },
   "outputs": [
    {
     "data": {
      "text/plain": [
       "<AxesSubplot: >"
      ]
     },
     "execution_count": 110,
     "metadata": {},
     "output_type": "execute_result"
    },
    {
     "data": {
      "image/png": "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\n",
      "text/plain": [
       "<Figure size 432x288 with 1 Axes>"
      ]
     },
     "metadata": {
      "needs_background": "light"
     },
     "output_type": "display_data"
    }
   ],
   "source": [
    "df['Company'].value_counts().plot(kind='bar')"
   ]
  },
  {
   "cell_type": "code",
   "execution_count": 111,
   "metadata": {
    "colab": {
     "base_uri": "https://localhost:8080/"
    },
    "id": "69byBA-TRxRW",
    "outputId": "3be1679c-89c4-4e07-ac93-75672f39eb51"
   },
   "outputs": [
    {
     "data": {
      "text/plain": [
       "Company\n",
       "Acer          53431.385550\n",
       "Apple        133344.799817\n",
       "Asus          94128.230206\n",
       "Chuwi         26793.162240\n",
       "Dell         101110.009251\n",
       "Fujitsu       62145.792000\n",
       "Google       143017.728000\n",
       "HP            91025.670755\n",
       "Huawei       121393.152000\n",
       "LG           178935.552000\n",
       "Lenovo        92612.101120\n",
       "MSI          147385.961813\n",
       "Mediacom      25148.160000\n",
       "Microsoft    137446.060800\n",
       "Razer        285251.986286\n",
       "Samsung      120493.312000\n",
       "Toshiba      108078.480000\n",
       "Vero          18535.046400\n",
       "Xiaomi        96625.411200\n",
       "Name: Price_NRS, dtype: float64"
      ]
     },
     "execution_count": 111,
     "metadata": {},
     "output_type": "execute_result"
    }
   ],
   "source": [
    "df.groupby('Company')['Price_NRS'].mean()"
   ]
  },
  {
   "cell_type": "code",
   "execution_count": 112,
   "metadata": {
    "colab": {
     "base_uri": "https://localhost:8080/",
     "height": 338
    },
    "id": "z-pb5CQOSl4M",
    "outputId": "2afeac52-988d-43f7-9383-247074ea25fc"
   },
   "outputs": [
    {
     "data": {
      "text/plain": [
       "<AxesSubplot: xlabel='Company'>"
      ]
     },
     "execution_count": 112,
     "metadata": {},
     "output_type": "execute_result"
    },
    {
     "data": {
      "image/png": "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\n",
      "text/plain": [
       "<Figure size 432x288 with 1 Axes>"
      ]
     },
     "metadata": {
      "needs_background": "light"
     },
     "output_type": "display_data"
    }
   ],
   "source": [
    "df.groupby('Company')['Price_NRS'].mean().plot(kind=\"bar\")"
   ]
  },
  {
   "cell_type": "code",
   "execution_count": 113,
   "metadata": {
    "colab": {
     "base_uri": "https://localhost:8080/",
     "height": 361
    },
    "id": "hJtxnFlzS3xt",
    "outputId": "5e79f03d-a3bc-40a8-b1db-ff70f01226f1"
   },
   "outputs": [
    {
     "data": {
      "text/plain": [
       "<AxesSubplot: >"
      ]
     },
     "execution_count": 113,
     "metadata": {},
     "output_type": "execute_result"
    },
    {
     "data": {
      "image/png": "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\n",
      "text/plain": [
       "<Figure size 432x288 with 1 Axes>"
      ]
     },
     "metadata": {
      "needs_background": "light"
     },
     "output_type": "display_data"
    }
   ],
   "source": [
    "df['TypeName'].value_counts().plot(kind='bar')"
   ]
  },
  {
   "cell_type": "code",
   "execution_count": 114,
   "metadata": {
    "colab": {
     "base_uri": "https://localhost:8080/",
     "height": 375
    },
    "id": "X17cN-RwUsjU",
    "outputId": "63adfc5e-d2f5-420d-c04d-57793d9e7caf"
   },
   "outputs": [
    {
     "data": {
      "text/plain": [
       "<AxesSubplot: xlabel='TypeName'>"
      ]
     },
     "execution_count": 114,
     "metadata": {},
     "output_type": "execute_result"
    },
    {
     "data": {
      "image/png": "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\n",
      "text/plain": [
       "<Figure size 432x288 with 1 Axes>"
      ]
     },
     "metadata": {
      "needs_background": "light"
     },
     "output_type": "display_data"
    }
   ],
   "source": [
    "df.groupby('TypeName')['Price_NRS'].mean().plot(kind=\"bar\")"
   ]
  },
  {
   "cell_type": "code",
   "execution_count": 115,
   "metadata": {
    "colab": {
     "base_uri": "https://localhost:8080/",
     "height": 351
    },
    "id": "_vj9Npf_VBv1",
    "outputId": "134d700c-0be4-46db-aaaa-785cab97d26b"
   },
   "outputs": [
    {
     "name": "stderr",
     "output_type": "stream",
     "text": [
      "/tmp/ipykernel_37647/1439577752.py:1: UserWarning: \n",
      "\n",
      "`distplot` is a deprecated function and will be removed in seaborn v0.14.0.\n",
      "\n",
      "Please adapt your code to use either `displot` (a figure-level function with\n",
      "similar flexibility) or `histplot` (an axes-level function for histograms).\n",
      "\n",
      "For a guide to updating your code to use the new functions, please see\n",
      "https://gist.github.com/mwaskom/de44147ed2974457ad6372750bbe5751\n",
      "\n",
      "  sns.distplot(df['Inches'])\n"
     ]
    },
    {
     "data": {
      "text/plain": [
       "<AxesSubplot: xlabel='Inches', ylabel='Density'>"
      ]
     },
     "execution_count": 115,
     "metadata": {},
     "output_type": "execute_result"
    },
    {
     "data": {
      "image/png": "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\n",
      "text/plain": [
       "<Figure size 432x288 with 1 Axes>"
      ]
     },
     "metadata": {
      "needs_background": "light"
     },
     "output_type": "display_data"
    }
   ],
   "source": [
    "sns.distplot(df['Inches'])"
   ]
  },
  {
   "cell_type": "code",
   "execution_count": 116,
   "metadata": {
    "colab": {
     "base_uri": "https://localhost:8080/",
     "height": 296
    },
    "id": "yEeCAPx4w3I2",
    "outputId": "e756e280-b17a-47f2-a482-7449befd71bc"
   },
   "outputs": [
    {
     "data": {
      "text/plain": [
       "<AxesSubplot: xlabel='Inches', ylabel='Price_NRS'>"
      ]
     },
     "execution_count": 116,
     "metadata": {},
     "output_type": "execute_result"
    },
    {
     "data": {
      "image/png": "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\n",
      "text/plain": [
       "<Figure size 432x288 with 1 Axes>"
      ]
     },
     "metadata": {
      "needs_background": "light"
     },
     "output_type": "display_data"
    }
   ],
   "source": [
    "sns.scatterplot(x = df['Inches'], y= df['Price_NRS'])"
   ]
  },
  {
   "cell_type": "code",
   "execution_count": 117,
   "metadata": {
    "colab": {
     "base_uri": "https://localhost:8080/"
    },
    "id": "WPa08_PI8PVi",
    "outputId": "fdf831ef-c064-43d7-fcad-d6e1de9e9a04"
   },
   "outputs": [
    {
     "data": {
      "text/plain": [
       "Full HD 1920x1080                                507\n",
       "1366x768                                         281\n",
       "IPS Panel Full HD 1920x1080                      230\n",
       "IPS Panel Full HD / Touchscreen 1920x1080         53\n",
       "Full HD / Touchscreen 1920x1080                   47\n",
       "1600x900                                          23\n",
       "Touchscreen 1366x768                              16\n",
       "Quad HD+ / Touchscreen 3200x1800                  15\n",
       "IPS Panel 4K Ultra HD 3840x2160                   12\n",
       "IPS Panel 4K Ultra HD / Touchscreen 3840x2160     11\n",
       "4K Ultra HD / Touchscreen 3840x2160               10\n",
       "4K Ultra HD 3840x2160                              7\n",
       "Touchscreen 2560x1440                              7\n",
       "IPS Panel 1366x768                                 7\n",
       "IPS Panel Quad HD+ / Touchscreen 3200x1800         6\n",
       "IPS Panel Retina Display 2560x1600                 6\n",
       "IPS Panel Retina Display 2304x1440                 6\n",
       "Touchscreen 2256x1504                              6\n",
       "IPS Panel Touchscreen 2560x1440                    5\n",
       "IPS Panel Retina Display 2880x1800                 4\n",
       "IPS Panel Touchscreen 1920x1200                    4\n",
       "1440x900                                           4\n",
       "IPS Panel 2560x1440                                4\n",
       "IPS Panel Quad HD+ 2560x1440                       3\n",
       "Quad HD+ 3200x1800                                 3\n",
       "1920x1080                                          3\n",
       "Touchscreen 2400x1600                              3\n",
       "2560x1440                                          3\n",
       "IPS Panel Touchscreen 1366x768                     3\n",
       "IPS Panel Touchscreen / 4K Ultra HD 3840x2160      2\n",
       "IPS Panel Full HD 2160x1440                        2\n",
       "IPS Panel Quad HD+ 3200x1800                       2\n",
       "IPS Panel Retina Display 2736x1824                 1\n",
       "IPS Panel Full HD 1920x1200                        1\n",
       "IPS Panel Full HD 2560x1440                        1\n",
       "IPS Panel Full HD 1366x768                         1\n",
       "Touchscreen / Full HD 1920x1080                    1\n",
       "Touchscreen / Quad HD+ 3200x1800                   1\n",
       "Touchscreen / 4K Ultra HD 3840x2160                1\n",
       "IPS Panel Touchscreen 2400x1600                    1\n",
       "Name: ScreenResolution, dtype: int64"
      ]
     },
     "execution_count": 117,
     "metadata": {},
     "output_type": "execute_result"
    }
   ],
   "source": [
    "df['ScreenResolution'].value_counts()"
   ]
  },
  {
   "cell_type": "code",
   "execution_count": 118,
   "metadata": {
    "id": "Pt3arJxh8fIJ"
   },
   "outputs": [],
   "source": [
    "df['TouchScreen'] = df['ScreenResolution'].apply(lambda x: 1 if 'Touchscreen' in x else 0)\n",
    "df['IPS'] = df['ScreenResolution'].apply(lambda x: 1 if 'IPS' in x else 0)"
   ]
  },
  {
   "cell_type": "code",
   "execution_count": 119,
   "metadata": {
    "colab": {
     "base_uri": "https://localhost:8080/",
     "height": 617
    },
    "id": "YGkwUicj8-S-",
    "outputId": "59abf700-c851-46a7-cd0a-ea1baf09f97b"
   },
   "outputs": [
    {
     "data": {
      "text/html": [
       "<div>\n",
       "<style scoped>\n",
       "    .dataframe tbody tr th:only-of-type {\n",
       "        vertical-align: middle;\n",
       "    }\n",
       "\n",
       "    .dataframe tbody tr th {\n",
       "        vertical-align: top;\n",
       "    }\n",
       "\n",
       "    .dataframe thead th {\n",
       "        text-align: right;\n",
       "    }\n",
       "</style>\n",
       "<table border=\"1\" class=\"dataframe\">\n",
       "  <thead>\n",
       "    <tr style=\"text-align: right;\">\n",
       "      <th></th>\n",
       "      <th>Unnamed: 0</th>\n",
       "      <th>Company</th>\n",
       "      <th>TypeName</th>\n",
       "      <th>Inches</th>\n",
       "      <th>ScreenResolution</th>\n",
       "      <th>Cpu</th>\n",
       "      <th>Ram</th>\n",
       "      <th>Memory</th>\n",
       "      <th>Gpu</th>\n",
       "      <th>OpSys</th>\n",
       "      <th>Weight</th>\n",
       "      <th>Price_NRS</th>\n",
       "      <th>TouchScreen</th>\n",
       "      <th>IPS</th>\n",
       "    </tr>\n",
       "  </thead>\n",
       "  <tbody>\n",
       "    <tr>\n",
       "      <th>1298</th>\n",
       "      <td>1298</td>\n",
       "      <td>Lenovo</td>\n",
       "      <td>2 in 1 Convertible</td>\n",
       "      <td>14.0</td>\n",
       "      <td>IPS Panel Full HD / Touchscreen 1920x1080</td>\n",
       "      <td>Intel Core i7 6500U 2.5GHz</td>\n",
       "      <td>4</td>\n",
       "      <td>128GB SSD</td>\n",
       "      <td>Intel HD Graphics 520</td>\n",
       "      <td>Windows 10</td>\n",
       "      <td>1.80</td>\n",
       "      <td>54388.224</td>\n",
       "      <td>1</td>\n",
       "      <td>1</td>\n",
       "    </tr>\n",
       "    <tr>\n",
       "      <th>1299</th>\n",
       "      <td>1299</td>\n",
       "      <td>Lenovo</td>\n",
       "      <td>2 in 1 Convertible</td>\n",
       "      <td>13.3</td>\n",
       "      <td>IPS Panel Quad HD+ / Touchscreen 3200x1800</td>\n",
       "      <td>Intel Core i7 6500U 2.5GHz</td>\n",
       "      <td>16</td>\n",
       "      <td>512GB SSD</td>\n",
       "      <td>Intel HD Graphics 520</td>\n",
       "      <td>Windows 10</td>\n",
       "      <td>1.30</td>\n",
       "      <td>127786.752</td>\n",
       "      <td>1</td>\n",
       "      <td>1</td>\n",
       "    </tr>\n",
       "    <tr>\n",
       "      <th>1300</th>\n",
       "      <td>1300</td>\n",
       "      <td>Lenovo</td>\n",
       "      <td>Notebook</td>\n",
       "      <td>14.0</td>\n",
       "      <td>1366x768</td>\n",
       "      <td>Intel Celeron Dual Core N3050 1.6GHz</td>\n",
       "      <td>2</td>\n",
       "      <td>64GB Flash Storage</td>\n",
       "      <td>Intel HD Graphics</td>\n",
       "      <td>Windows 10</td>\n",
       "      <td>1.50</td>\n",
       "      <td>19521.792</td>\n",
       "      <td>0</td>\n",
       "      <td>0</td>\n",
       "    </tr>\n",
       "    <tr>\n",
       "      <th>1301</th>\n",
       "      <td>1301</td>\n",
       "      <td>HP</td>\n",
       "      <td>Notebook</td>\n",
       "      <td>15.6</td>\n",
       "      <td>1366x768</td>\n",
       "      <td>Intel Core i7 6500U 2.5GHz</td>\n",
       "      <td>6</td>\n",
       "      <td>1TB HDD</td>\n",
       "      <td>AMD Radeon R5 M330</td>\n",
       "      <td>Windows 10</td>\n",
       "      <td>2.19</td>\n",
       "      <td>65129.472</td>\n",
       "      <td>0</td>\n",
       "      <td>0</td>\n",
       "    </tr>\n",
       "    <tr>\n",
       "      <th>1302</th>\n",
       "      <td>1302</td>\n",
       "      <td>Asus</td>\n",
       "      <td>Notebook</td>\n",
       "      <td>15.6</td>\n",
       "      <td>1366x768</td>\n",
       "      <td>Intel Celeron Dual Core N3050 1.6GHz</td>\n",
       "      <td>4</td>\n",
       "      <td>500GB HDD</td>\n",
       "      <td>Intel HD Graphics</td>\n",
       "      <td>Windows 10</td>\n",
       "      <td>2.20</td>\n",
       "      <td>31456.512</td>\n",
       "      <td>0</td>\n",
       "      <td>0</td>\n",
       "    </tr>\n",
       "  </tbody>\n",
       "</table>\n",
       "</div>"
      ],
      "text/plain": [
       "      Unnamed: 0 Company            TypeName  Inches  \\\n",
       "1298        1298  Lenovo  2 in 1 Convertible    14.0   \n",
       "1299        1299  Lenovo  2 in 1 Convertible    13.3   \n",
       "1300        1300  Lenovo            Notebook    14.0   \n",
       "1301        1301      HP            Notebook    15.6   \n",
       "1302        1302    Asus            Notebook    15.6   \n",
       "\n",
       "                                ScreenResolution  \\\n",
       "1298   IPS Panel Full HD / Touchscreen 1920x1080   \n",
       "1299  IPS Panel Quad HD+ / Touchscreen 3200x1800   \n",
       "1300                                    1366x768   \n",
       "1301                                    1366x768   \n",
       "1302                                    1366x768   \n",
       "\n",
       "                                       Cpu  Ram              Memory  \\\n",
       "1298            Intel Core i7 6500U 2.5GHz    4           128GB SSD   \n",
       "1299            Intel Core i7 6500U 2.5GHz   16           512GB SSD   \n",
       "1300  Intel Celeron Dual Core N3050 1.6GHz    2  64GB Flash Storage   \n",
       "1301            Intel Core i7 6500U 2.5GHz    6             1TB HDD   \n",
       "1302  Intel Celeron Dual Core N3050 1.6GHz    4           500GB HDD   \n",
       "\n",
       "                        Gpu       OpSys  Weight   Price_NRS  TouchScreen  IPS  \n",
       "1298  Intel HD Graphics 520  Windows 10    1.80   54388.224            1    1  \n",
       "1299  Intel HD Graphics 520  Windows 10    1.30  127786.752            1    1  \n",
       "1300      Intel HD Graphics  Windows 10    1.50   19521.792            0    0  \n",
       "1301     AMD Radeon R5 M330  Windows 10    2.19   65129.472            0    0  \n",
       "1302      Intel HD Graphics  Windows 10    2.20   31456.512            0    0  "
      ]
     },
     "execution_count": 119,
     "metadata": {},
     "output_type": "execute_result"
    }
   ],
   "source": [
    "df.tail()"
   ]
  },
  {
   "cell_type": "code",
   "execution_count": 120,
   "metadata": {
    "colab": {
     "base_uri": "https://localhost:8080/",
     "height": 279
    },
    "id": "dSDDntAY8_S9",
    "outputId": "8409eb86-8a6e-40ce-c64f-8254fd1e671d"
   },
   "outputs": [
    {
     "data": {
      "text/plain": [
       "<AxesSubplot: >"
      ]
     },
     "execution_count": 120,
     "metadata": {},
     "output_type": "execute_result"
    },
    {
     "data": {
      "image/png": "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\n",
      "text/plain": [
       "<Figure size 432x288 with 1 Axes>"
      ]
     },
     "metadata": {
      "needs_background": "light"
     },
     "output_type": "display_data"
    }
   ],
   "source": [
    "df['TouchScreen'].value_counts().plot(kind='bar')"
   ]
  },
  {
   "cell_type": "code",
   "execution_count": 121,
   "metadata": {
    "colab": {
     "base_uri": "https://localhost:8080/",
     "height": 293
    },
    "id": "_ayUugZF9Hgu",
    "outputId": "fe91ae66-e4ae-4a72-d41b-fd8fbfbd945b"
   },
   "outputs": [
    {
     "data": {
      "text/plain": [
       "<AxesSubplot: xlabel='TouchScreen'>"
      ]
     },
     "execution_count": 121,
     "metadata": {},
     "output_type": "execute_result"
    },
    {
     "data": {
      "image/png": "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\n",
      "text/plain": [
       "<Figure size 432x288 with 1 Axes>"
      ]
     },
     "metadata": {
      "needs_background": "light"
     },
     "output_type": "display_data"
    }
   ],
   "source": [
    "df.groupby('TouchScreen')['Price_NRS'].mean().plot(kind = 'bar')"
   ]
  },
  {
   "cell_type": "code",
   "execution_count": 122,
   "metadata": {
    "colab": {
     "base_uri": "https://localhost:8080/",
     "height": 296
    },
    "id": "ZPRqoEiH9aNl",
    "outputId": "0d294883-f83f-45ac-8a65-55c98ebb69dd"
   },
   "outputs": [
    {
     "data": {
      "text/plain": [
       "<AxesSubplot: xlabel='TouchScreen', ylabel='Price_NRS'>"
      ]
     },
     "execution_count": 122,
     "metadata": {},
     "output_type": "execute_result"
    },
    {
     "data": {
      "image/png": "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\n",
      "text/plain": [
       "<Figure size 432x288 with 1 Axes>"
      ]
     },
     "metadata": {
      "needs_background": "light"
     },
     "output_type": "display_data"
    }
   ],
   "source": [
    "sns.barplot(x= df['TouchScreen'], y= df['Price_NRS'])"
   ]
  },
  {
   "cell_type": "code",
   "execution_count": 123,
   "metadata": {
    "colab": {
     "base_uri": "https://localhost:8080/"
    },
    "id": "6fs_pzoI9m4_",
    "outputId": "4c1896f0-c8bd-4d8f-97a5-497cbe747579"
   },
   "outputs": [
    {
     "name": "stdout",
     "output_type": "stream",
     "text": [
      "<class 'pandas.core.frame.DataFrame'>\n",
      "RangeIndex: 1303 entries, 0 to 1302\n",
      "Data columns (total 14 columns):\n",
      " #   Column            Non-Null Count  Dtype  \n",
      "---  ------            --------------  -----  \n",
      " 0   Unnamed: 0        1303 non-null   int64  \n",
      " 1   Company           1303 non-null   object \n",
      " 2   TypeName          1303 non-null   object \n",
      " 3   Inches            1303 non-null   float64\n",
      " 4   ScreenResolution  1303 non-null   object \n",
      " 5   Cpu               1303 non-null   object \n",
      " 6   Ram               1303 non-null   int32  \n",
      " 7   Memory            1303 non-null   object \n",
      " 8   Gpu               1303 non-null   object \n",
      " 9   OpSys             1303 non-null   object \n",
      " 10  Weight            1303 non-null   float32\n",
      " 11  Price_NRS         1303 non-null   float64\n",
      " 12  TouchScreen       1303 non-null   int64  \n",
      " 13  IPS               1303 non-null   int64  \n",
      "dtypes: float32(1), float64(2), int32(1), int64(3), object(7)\n",
      "memory usage: 132.5+ KB\n"
     ]
    }
   ],
   "source": [
    "df.info()"
   ]
  },
  {
   "cell_type": "code",
   "execution_count": 124,
   "metadata": {
    "id": "Fx5XpGiYAGSu"
   },
   "outputs": [],
   "source": [
    "def ppi(vec):\n",
    "  res = vec[0]\n",
    "  inches = vec[1]\n",
    "  y = (res.split(\" \")[-1]).split('x')[-1]\n",
    "  x = (res.split(\" \")[-1]).split('x')[-2]\n",
    "  return ((float(x)**2 + float(y)**2)**0.5) / (inches)\n"
   ]
  },
  {
   "cell_type": "code",
   "execution_count": 125,
   "metadata": {
    "id": "UOu60z_TDSAJ"
   },
   "outputs": [],
   "source": [
    "df['ppi'] = df[['ScreenResolution', 'Inches']].apply(ppi, axis = 1)"
   ]
  },
  {
   "cell_type": "code",
   "execution_count": 126,
   "metadata": {
    "colab": {
     "base_uri": "https://localhost:8080/",
     "height": 513
    },
    "id": "QnwyQuIlEo1y",
    "outputId": "e0dfacf8-666c-4294-e80e-79f63db0cd9a"
   },
   "outputs": [
    {
     "data": {
      "text/html": [
       "<div>\n",
       "<style scoped>\n",
       "    .dataframe tbody tr th:only-of-type {\n",
       "        vertical-align: middle;\n",
       "    }\n",
       "\n",
       "    .dataframe tbody tr th {\n",
       "        vertical-align: top;\n",
       "    }\n",
       "\n",
       "    .dataframe thead th {\n",
       "        text-align: right;\n",
       "    }\n",
       "</style>\n",
       "<table border=\"1\" class=\"dataframe\">\n",
       "  <thead>\n",
       "    <tr style=\"text-align: right;\">\n",
       "      <th></th>\n",
       "      <th>Unnamed: 0</th>\n",
       "      <th>Company</th>\n",
       "      <th>TypeName</th>\n",
       "      <th>Inches</th>\n",
       "      <th>ScreenResolution</th>\n",
       "      <th>Cpu</th>\n",
       "      <th>Ram</th>\n",
       "      <th>Memory</th>\n",
       "      <th>Gpu</th>\n",
       "      <th>OpSys</th>\n",
       "      <th>Weight</th>\n",
       "      <th>Price_NRS</th>\n",
       "      <th>TouchScreen</th>\n",
       "      <th>IPS</th>\n",
       "      <th>ppi</th>\n",
       "    </tr>\n",
       "  </thead>\n",
       "  <tbody>\n",
       "    <tr>\n",
       "      <th>0</th>\n",
       "      <td>0</td>\n",
       "      <td>Apple</td>\n",
       "      <td>Ultrabook</td>\n",
       "      <td>13.3</td>\n",
       "      <td>IPS Panel Retina Display 2560x1600</td>\n",
       "      <td>Intel Core i5 2.3GHz</td>\n",
       "      <td>8</td>\n",
       "      <td>128GB SSD</td>\n",
       "      <td>Intel Iris Plus Graphics 640</td>\n",
       "      <td>macOS</td>\n",
       "      <td>1.37</td>\n",
       "      <td>114205.89312</td>\n",
       "      <td>0</td>\n",
       "      <td>1</td>\n",
       "      <td>226.983005</td>\n",
       "    </tr>\n",
       "    <tr>\n",
       "      <th>1</th>\n",
       "      <td>1</td>\n",
       "      <td>Apple</td>\n",
       "      <td>Ultrabook</td>\n",
       "      <td>13.3</td>\n",
       "      <td>1440x900</td>\n",
       "      <td>Intel Core i5 1.8GHz</td>\n",
       "      <td>8</td>\n",
       "      <td>128GB Flash Storage</td>\n",
       "      <td>Intel HD Graphics 6000</td>\n",
       "      <td>macOS</td>\n",
       "      <td>1.34</td>\n",
       "      <td>76632.83712</td>\n",
       "      <td>0</td>\n",
       "      <td>0</td>\n",
       "      <td>127.677940</td>\n",
       "    </tr>\n",
       "    <tr>\n",
       "      <th>2</th>\n",
       "      <td>2</td>\n",
       "      <td>HP</td>\n",
       "      <td>Notebook</td>\n",
       "      <td>15.6</td>\n",
       "      <td>Full HD 1920x1080</td>\n",
       "      <td>Intel Core i5 7200U 2.5GHz</td>\n",
       "      <td>8</td>\n",
       "      <td>256GB SSD</td>\n",
       "      <td>Intel HD Graphics 620</td>\n",
       "      <td>No OS</td>\n",
       "      <td>1.86</td>\n",
       "      <td>49017.60000</td>\n",
       "      <td>0</td>\n",
       "      <td>0</td>\n",
       "      <td>141.211998</td>\n",
       "    </tr>\n",
       "    <tr>\n",
       "      <th>3</th>\n",
       "      <td>3</td>\n",
       "      <td>Apple</td>\n",
       "      <td>Ultrabook</td>\n",
       "      <td>15.4</td>\n",
       "      <td>IPS Panel Retina Display 2880x1800</td>\n",
       "      <td>Intel Core i7 2.7GHz</td>\n",
       "      <td>16</td>\n",
       "      <td>512GB SSD</td>\n",
       "      <td>AMD Radeon Pro 455</td>\n",
       "      <td>macOS</td>\n",
       "      <td>1.83</td>\n",
       "      <td>216312.53760</td>\n",
       "      <td>0</td>\n",
       "      <td>1</td>\n",
       "      <td>220.534624</td>\n",
       "    </tr>\n",
       "    <tr>\n",
       "      <th>4</th>\n",
       "      <td>4</td>\n",
       "      <td>Apple</td>\n",
       "      <td>Ultrabook</td>\n",
       "      <td>13.3</td>\n",
       "      <td>IPS Panel Retina Display 2560x1600</td>\n",
       "      <td>Intel Core i5 3.1GHz</td>\n",
       "      <td>8</td>\n",
       "      <td>256GB SSD</td>\n",
       "      <td>Intel Iris Plus Graphics 650</td>\n",
       "      <td>macOS</td>\n",
       "      <td>1.37</td>\n",
       "      <td>153753.29280</td>\n",
       "      <td>0</td>\n",
       "      <td>1</td>\n",
       "      <td>226.983005</td>\n",
       "    </tr>\n",
       "  </tbody>\n",
       "</table>\n",
       "</div>"
      ],
      "text/plain": [
       "   Unnamed: 0 Company   TypeName  Inches                    ScreenResolution  \\\n",
       "0           0   Apple  Ultrabook    13.3  IPS Panel Retina Display 2560x1600   \n",
       "1           1   Apple  Ultrabook    13.3                            1440x900   \n",
       "2           2      HP   Notebook    15.6                   Full HD 1920x1080   \n",
       "3           3   Apple  Ultrabook    15.4  IPS Panel Retina Display 2880x1800   \n",
       "4           4   Apple  Ultrabook    13.3  IPS Panel Retina Display 2560x1600   \n",
       "\n",
       "                          Cpu  Ram               Memory  \\\n",
       "0        Intel Core i5 2.3GHz    8            128GB SSD   \n",
       "1        Intel Core i5 1.8GHz    8  128GB Flash Storage   \n",
       "2  Intel Core i5 7200U 2.5GHz    8            256GB SSD   \n",
       "3        Intel Core i7 2.7GHz   16            512GB SSD   \n",
       "4        Intel Core i5 3.1GHz    8            256GB SSD   \n",
       "\n",
       "                            Gpu  OpSys  Weight     Price_NRS  TouchScreen  \\\n",
       "0  Intel Iris Plus Graphics 640  macOS    1.37  114205.89312            0   \n",
       "1        Intel HD Graphics 6000  macOS    1.34   76632.83712            0   \n",
       "2         Intel HD Graphics 620  No OS    1.86   49017.60000            0   \n",
       "3            AMD Radeon Pro 455  macOS    1.83  216312.53760            0   \n",
       "4  Intel Iris Plus Graphics 650  macOS    1.37  153753.29280            0   \n",
       "\n",
       "   IPS         ppi  \n",
       "0    1  226.983005  \n",
       "1    0  127.677940  \n",
       "2    0  141.211998  \n",
       "3    1  220.534624  \n",
       "4    1  226.983005  "
      ]
     },
     "execution_count": 126,
     "metadata": {},
     "output_type": "execute_result"
    }
   ],
   "source": [
    "df.head()"
   ]
  },
  {
   "cell_type": "markdown",
   "metadata": {
    "id": "FhA8fQcRPdBD"
   },
   "source": []
  },
  {
   "cell_type": "code",
   "execution_count": 127,
   "metadata": {
    "id": "Fk4oJ2RJGQjx"
   },
   "outputs": [],
   "source": [
    "df.drop(columns = [\"ScreenResolution\"], inplace=True)\n"
   ]
  },
  {
   "cell_type": "code",
   "execution_count": 128,
   "metadata": {
    "colab": {
     "base_uri": "https://localhost:8080/",
     "height": 476
    },
    "id": "zYRrtgOvGYMB",
    "outputId": "dd310fdb-f5e9-48f2-87d5-972db2f47f59"
   },
   "outputs": [
    {
     "data": {
      "text/html": [
       "<div>\n",
       "<style scoped>\n",
       "    .dataframe tbody tr th:only-of-type {\n",
       "        vertical-align: middle;\n",
       "    }\n",
       "\n",
       "    .dataframe tbody tr th {\n",
       "        vertical-align: top;\n",
       "    }\n",
       "\n",
       "    .dataframe thead th {\n",
       "        text-align: right;\n",
       "    }\n",
       "</style>\n",
       "<table border=\"1\" class=\"dataframe\">\n",
       "  <thead>\n",
       "    <tr style=\"text-align: right;\">\n",
       "      <th></th>\n",
       "      <th>Unnamed: 0</th>\n",
       "      <th>Company</th>\n",
       "      <th>TypeName</th>\n",
       "      <th>Inches</th>\n",
       "      <th>Cpu</th>\n",
       "      <th>Ram</th>\n",
       "      <th>Memory</th>\n",
       "      <th>Gpu</th>\n",
       "      <th>OpSys</th>\n",
       "      <th>Weight</th>\n",
       "      <th>Price_NRS</th>\n",
       "      <th>TouchScreen</th>\n",
       "      <th>IPS</th>\n",
       "      <th>ppi</th>\n",
       "    </tr>\n",
       "  </thead>\n",
       "  <tbody>\n",
       "    <tr>\n",
       "      <th>0</th>\n",
       "      <td>0</td>\n",
       "      <td>Apple</td>\n",
       "      <td>Ultrabook</td>\n",
       "      <td>13.3</td>\n",
       "      <td>Intel Core i5 2.3GHz</td>\n",
       "      <td>8</td>\n",
       "      <td>128GB SSD</td>\n",
       "      <td>Intel Iris Plus Graphics 640</td>\n",
       "      <td>macOS</td>\n",
       "      <td>1.37</td>\n",
       "      <td>114205.89312</td>\n",
       "      <td>0</td>\n",
       "      <td>1</td>\n",
       "      <td>226.983005</td>\n",
       "    </tr>\n",
       "    <tr>\n",
       "      <th>1</th>\n",
       "      <td>1</td>\n",
       "      <td>Apple</td>\n",
       "      <td>Ultrabook</td>\n",
       "      <td>13.3</td>\n",
       "      <td>Intel Core i5 1.8GHz</td>\n",
       "      <td>8</td>\n",
       "      <td>128GB Flash Storage</td>\n",
       "      <td>Intel HD Graphics 6000</td>\n",
       "      <td>macOS</td>\n",
       "      <td>1.34</td>\n",
       "      <td>76632.83712</td>\n",
       "      <td>0</td>\n",
       "      <td>0</td>\n",
       "      <td>127.677940</td>\n",
       "    </tr>\n",
       "    <tr>\n",
       "      <th>2</th>\n",
       "      <td>2</td>\n",
       "      <td>HP</td>\n",
       "      <td>Notebook</td>\n",
       "      <td>15.6</td>\n",
       "      <td>Intel Core i5 7200U 2.5GHz</td>\n",
       "      <td>8</td>\n",
       "      <td>256GB SSD</td>\n",
       "      <td>Intel HD Graphics 620</td>\n",
       "      <td>No OS</td>\n",
       "      <td>1.86</td>\n",
       "      <td>49017.60000</td>\n",
       "      <td>0</td>\n",
       "      <td>0</td>\n",
       "      <td>141.211998</td>\n",
       "    </tr>\n",
       "    <tr>\n",
       "      <th>3</th>\n",
       "      <td>3</td>\n",
       "      <td>Apple</td>\n",
       "      <td>Ultrabook</td>\n",
       "      <td>15.4</td>\n",
       "      <td>Intel Core i7 2.7GHz</td>\n",
       "      <td>16</td>\n",
       "      <td>512GB SSD</td>\n",
       "      <td>AMD Radeon Pro 455</td>\n",
       "      <td>macOS</td>\n",
       "      <td>1.83</td>\n",
       "      <td>216312.53760</td>\n",
       "      <td>0</td>\n",
       "      <td>1</td>\n",
       "      <td>220.534624</td>\n",
       "    </tr>\n",
       "    <tr>\n",
       "      <th>4</th>\n",
       "      <td>4</td>\n",
       "      <td>Apple</td>\n",
       "      <td>Ultrabook</td>\n",
       "      <td>13.3</td>\n",
       "      <td>Intel Core i5 3.1GHz</td>\n",
       "      <td>8</td>\n",
       "      <td>256GB SSD</td>\n",
       "      <td>Intel Iris Plus Graphics 650</td>\n",
       "      <td>macOS</td>\n",
       "      <td>1.37</td>\n",
       "      <td>153753.29280</td>\n",
       "      <td>0</td>\n",
       "      <td>1</td>\n",
       "      <td>226.983005</td>\n",
       "    </tr>\n",
       "  </tbody>\n",
       "</table>\n",
       "</div>"
      ],
      "text/plain": [
       "   Unnamed: 0 Company   TypeName  Inches                         Cpu  Ram  \\\n",
       "0           0   Apple  Ultrabook    13.3        Intel Core i5 2.3GHz    8   \n",
       "1           1   Apple  Ultrabook    13.3        Intel Core i5 1.8GHz    8   \n",
       "2           2      HP   Notebook    15.6  Intel Core i5 7200U 2.5GHz    8   \n",
       "3           3   Apple  Ultrabook    15.4        Intel Core i7 2.7GHz   16   \n",
       "4           4   Apple  Ultrabook    13.3        Intel Core i5 3.1GHz    8   \n",
       "\n",
       "                Memory                           Gpu  OpSys  Weight  \\\n",
       "0            128GB SSD  Intel Iris Plus Graphics 640  macOS    1.37   \n",
       "1  128GB Flash Storage        Intel HD Graphics 6000  macOS    1.34   \n",
       "2            256GB SSD         Intel HD Graphics 620  No OS    1.86   \n",
       "3            512GB SSD            AMD Radeon Pro 455  macOS    1.83   \n",
       "4            256GB SSD  Intel Iris Plus Graphics 650  macOS    1.37   \n",
       "\n",
       "      Price_NRS  TouchScreen  IPS         ppi  \n",
       "0  114205.89312            0    1  226.983005  \n",
       "1   76632.83712            0    0  127.677940  \n",
       "2   49017.60000            0    0  141.211998  \n",
       "3  216312.53760            0    1  220.534624  \n",
       "4  153753.29280            0    1  226.983005  "
      ]
     },
     "execution_count": 128,
     "metadata": {},
     "output_type": "execute_result"
    }
   ],
   "source": [
    "df.head()"
   ]
  },
  {
   "cell_type": "code",
   "execution_count": 129,
   "metadata": {
    "id": "fV90x0wEGjLJ"
   },
   "outputs": [],
   "source": [
    "df.drop(columns = [\"Unnamed: 0\"], inplace=True)"
   ]
  },
  {
   "cell_type": "code",
   "execution_count": 130,
   "metadata": {
    "colab": {
     "base_uri": "https://localhost:8080/",
     "height": 372
    },
    "id": "EoZhzLSUGrbo",
    "outputId": "95b1a357-c1f3-4d2b-9e95-109944066168"
   },
   "outputs": [
    {
     "data": {
      "text/html": [
       "<div>\n",
       "<style scoped>\n",
       "    .dataframe tbody tr th:only-of-type {\n",
       "        vertical-align: middle;\n",
       "    }\n",
       "\n",
       "    .dataframe tbody tr th {\n",
       "        vertical-align: top;\n",
       "    }\n",
       "\n",
       "    .dataframe thead th {\n",
       "        text-align: right;\n",
       "    }\n",
       "</style>\n",
       "<table border=\"1\" class=\"dataframe\">\n",
       "  <thead>\n",
       "    <tr style=\"text-align: right;\">\n",
       "      <th></th>\n",
       "      <th>Company</th>\n",
       "      <th>TypeName</th>\n",
       "      <th>Inches</th>\n",
       "      <th>Cpu</th>\n",
       "      <th>Ram</th>\n",
       "      <th>Memory</th>\n",
       "      <th>Gpu</th>\n",
       "      <th>OpSys</th>\n",
       "      <th>Weight</th>\n",
       "      <th>Price_NRS</th>\n",
       "      <th>TouchScreen</th>\n",
       "      <th>IPS</th>\n",
       "      <th>ppi</th>\n",
       "    </tr>\n",
       "  </thead>\n",
       "  <tbody>\n",
       "    <tr>\n",
       "      <th>0</th>\n",
       "      <td>Apple</td>\n",
       "      <td>Ultrabook</td>\n",
       "      <td>13.3</td>\n",
       "      <td>Intel Core i5 2.3GHz</td>\n",
       "      <td>8</td>\n",
       "      <td>128GB SSD</td>\n",
       "      <td>Intel Iris Plus Graphics 640</td>\n",
       "      <td>macOS</td>\n",
       "      <td>1.37</td>\n",
       "      <td>114205.89312</td>\n",
       "      <td>0</td>\n",
       "      <td>1</td>\n",
       "      <td>226.983005</td>\n",
       "    </tr>\n",
       "    <tr>\n",
       "      <th>1</th>\n",
       "      <td>Apple</td>\n",
       "      <td>Ultrabook</td>\n",
       "      <td>13.3</td>\n",
       "      <td>Intel Core i5 1.8GHz</td>\n",
       "      <td>8</td>\n",
       "      <td>128GB Flash Storage</td>\n",
       "      <td>Intel HD Graphics 6000</td>\n",
       "      <td>macOS</td>\n",
       "      <td>1.34</td>\n",
       "      <td>76632.83712</td>\n",
       "      <td>0</td>\n",
       "      <td>0</td>\n",
       "      <td>127.677940</td>\n",
       "    </tr>\n",
       "    <tr>\n",
       "      <th>2</th>\n",
       "      <td>HP</td>\n",
       "      <td>Notebook</td>\n",
       "      <td>15.6</td>\n",
       "      <td>Intel Core i5 7200U 2.5GHz</td>\n",
       "      <td>8</td>\n",
       "      <td>256GB SSD</td>\n",
       "      <td>Intel HD Graphics 620</td>\n",
       "      <td>No OS</td>\n",
       "      <td>1.86</td>\n",
       "      <td>49017.60000</td>\n",
       "      <td>0</td>\n",
       "      <td>0</td>\n",
       "      <td>141.211998</td>\n",
       "    </tr>\n",
       "    <tr>\n",
       "      <th>3</th>\n",
       "      <td>Apple</td>\n",
       "      <td>Ultrabook</td>\n",
       "      <td>15.4</td>\n",
       "      <td>Intel Core i7 2.7GHz</td>\n",
       "      <td>16</td>\n",
       "      <td>512GB SSD</td>\n",
       "      <td>AMD Radeon Pro 455</td>\n",
       "      <td>macOS</td>\n",
       "      <td>1.83</td>\n",
       "      <td>216312.53760</td>\n",
       "      <td>0</td>\n",
       "      <td>1</td>\n",
       "      <td>220.534624</td>\n",
       "    </tr>\n",
       "    <tr>\n",
       "      <th>4</th>\n",
       "      <td>Apple</td>\n",
       "      <td>Ultrabook</td>\n",
       "      <td>13.3</td>\n",
       "      <td>Intel Core i5 3.1GHz</td>\n",
       "      <td>8</td>\n",
       "      <td>256GB SSD</td>\n",
       "      <td>Intel Iris Plus Graphics 650</td>\n",
       "      <td>macOS</td>\n",
       "      <td>1.37</td>\n",
       "      <td>153753.29280</td>\n",
       "      <td>0</td>\n",
       "      <td>1</td>\n",
       "      <td>226.983005</td>\n",
       "    </tr>\n",
       "  </tbody>\n",
       "</table>\n",
       "</div>"
      ],
      "text/plain": [
       "  Company   TypeName  Inches                         Cpu  Ram  \\\n",
       "0   Apple  Ultrabook    13.3        Intel Core i5 2.3GHz    8   \n",
       "1   Apple  Ultrabook    13.3        Intel Core i5 1.8GHz    8   \n",
       "2      HP   Notebook    15.6  Intel Core i5 7200U 2.5GHz    8   \n",
       "3   Apple  Ultrabook    15.4        Intel Core i7 2.7GHz   16   \n",
       "4   Apple  Ultrabook    13.3        Intel Core i5 3.1GHz    8   \n",
       "\n",
       "                Memory                           Gpu  OpSys  Weight  \\\n",
       "0            128GB SSD  Intel Iris Plus Graphics 640  macOS    1.37   \n",
       "1  128GB Flash Storage        Intel HD Graphics 6000  macOS    1.34   \n",
       "2            256GB SSD         Intel HD Graphics 620  No OS    1.86   \n",
       "3            512GB SSD            AMD Radeon Pro 455  macOS    1.83   \n",
       "4            256GB SSD  Intel Iris Plus Graphics 650  macOS    1.37   \n",
       "\n",
       "      Price_NRS  TouchScreen  IPS         ppi  \n",
       "0  114205.89312            0    1  226.983005  \n",
       "1   76632.83712            0    0  127.677940  \n",
       "2   49017.60000            0    0  141.211998  \n",
       "3  216312.53760            0    1  220.534624  \n",
       "4  153753.29280            0    1  226.983005  "
      ]
     },
     "execution_count": 130,
     "metadata": {},
     "output_type": "execute_result"
    }
   ],
   "source": [
    "df.head()"
   ]
  },
  {
   "cell_type": "code",
   "execution_count": 131,
   "metadata": {
    "colab": {
     "base_uri": "https://localhost:8080/"
    },
    "id": "vVVuP_1hGs-p",
    "outputId": "56446b40-8448-4ab6-c05e-a4c522624555"
   },
   "outputs": [
    {
     "name": "stderr",
     "output_type": "stream",
     "text": [
      "/tmp/ipykernel_37647/1177896973.py:1: FutureWarning: The default value of numeric_only in DataFrame.corr is deprecated. In a future version, it will default to False. Select only valid columns or specify the value of numeric_only to silence this warning.\n",
      "  df.corr()['Price_NRS']\n"
     ]
    },
    {
     "data": {
      "text/plain": [
       "Inches         0.068197\n",
       "Ram            0.743007\n",
       "Weight         0.210370\n",
       "Price_NRS      1.000000\n",
       "TouchScreen    0.191226\n",
       "IPS            0.252208\n",
       "ppi            0.473487\n",
       "Name: Price_NRS, dtype: float64"
      ]
     },
     "execution_count": 131,
     "metadata": {},
     "output_type": "execute_result"
    }
   ],
   "source": [
    "df.corr()['Price_NRS']"
   ]
  },
  {
   "cell_type": "code",
   "execution_count": 132,
   "metadata": {
    "colab": {
     "base_uri": "https://localhost:8080/"
    },
    "id": "HZ2tIlNJSWwv",
    "outputId": "05016975-928e-4de1-9261-b4ed504f77ad"
   },
   "outputs": [
    {
     "data": {
      "text/plain": [
       "Intel Core i5 7200U 2.5GHz       190\n",
       "Intel Core i7 7700HQ 2.8GHz      146\n",
       "Intel Core i7 7500U 2.7GHz       134\n",
       "Intel Core i7 8550U 1.8GHz        73\n",
       "Intel Core i5 8250U 1.6GHz        72\n",
       "                                ... \n",
       "Intel Core M M3-6Y30 0.9GHz        1\n",
       "AMD A9-Series 9420 2.9GHz          1\n",
       "Intel Core i3 6006U 2.2GHz         1\n",
       "AMD A6-Series 7310 2GHz            1\n",
       "Intel Xeon E3-1535M v6 3.1GHz      1\n",
       "Name: Cpu, Length: 118, dtype: int64"
      ]
     },
     "execution_count": 132,
     "metadata": {},
     "output_type": "execute_result"
    }
   ],
   "source": [
    "df[\"Cpu\"].value_counts()"
   ]
  },
  {
   "cell_type": "code",
   "execution_count": 133,
   "metadata": {
    "colab": {
     "base_uri": "https://localhost:8080/",
     "height": 35
    },
    "id": "t1IpW8hEJjG8",
    "outputId": "2cc5c10d-e36f-4a42-8f9e-d5d83980f975"
   },
   "outputs": [
    {
     "data": {
      "text/plain": [
       "'Intel Core i5'"
      ]
     },
     "execution_count": 133,
     "metadata": {},
     "output_type": "execute_result"
    }
   ],
   "source": [
    "info = \"Intel Core i5 7200U 2.5GHz\"\n",
    "info = \" \".join(info.split(\" \")[0:3])\n",
    "info"
   ]
  },
  {
   "cell_type": "code",
   "execution_count": 134,
   "metadata": {
    "id": "OnyenhMnYrxh"
   },
   "outputs": [],
   "source": [
    "def classify_cpu(info):\n",
    "  info = \" \".join(info.split(\" \")[0:3])\n",
    "  if info == 'Intel Core i5' or info == 'Intel Core i7' or info == 'Intel Core i3':\n",
    "    return info\n",
    "  elif 'Intel' in info:\n",
    "    return \"Other Intel Processor\"\n",
    "  else:\n",
    "    return \"AMD Processor\""
   ]
  },
  {
   "cell_type": "code",
   "execution_count": 135,
   "metadata": {
    "id": "qvt9tUvAKMqt"
   },
   "outputs": [],
   "source": [
    "df['CPU Brand'] = df['Cpu'].apply(classify_cpu)"
   ]
  },
  {
   "cell_type": "code",
   "execution_count": 136,
   "metadata": {
    "colab": {
     "base_uri": "https://localhost:8080/",
     "height": 476
    },
    "id": "rclWFH0UKUKb",
    "outputId": "83b92a13-2922-4506-e8c0-32c96d3abc87"
   },
   "outputs": [
    {
     "data": {
      "text/html": [
       "<div>\n",
       "<style scoped>\n",
       "    .dataframe tbody tr th:only-of-type {\n",
       "        vertical-align: middle;\n",
       "    }\n",
       "\n",
       "    .dataframe tbody tr th {\n",
       "        vertical-align: top;\n",
       "    }\n",
       "\n",
       "    .dataframe thead th {\n",
       "        text-align: right;\n",
       "    }\n",
       "</style>\n",
       "<table border=\"1\" class=\"dataframe\">\n",
       "  <thead>\n",
       "    <tr style=\"text-align: right;\">\n",
       "      <th></th>\n",
       "      <th>Company</th>\n",
       "      <th>TypeName</th>\n",
       "      <th>Inches</th>\n",
       "      <th>Cpu</th>\n",
       "      <th>Ram</th>\n",
       "      <th>Memory</th>\n",
       "      <th>Gpu</th>\n",
       "      <th>OpSys</th>\n",
       "      <th>Weight</th>\n",
       "      <th>Price_NRS</th>\n",
       "      <th>TouchScreen</th>\n",
       "      <th>IPS</th>\n",
       "      <th>ppi</th>\n",
       "      <th>CPU Brand</th>\n",
       "    </tr>\n",
       "  </thead>\n",
       "  <tbody>\n",
       "    <tr>\n",
       "      <th>0</th>\n",
       "      <td>Apple</td>\n",
       "      <td>Ultrabook</td>\n",
       "      <td>13.3</td>\n",
       "      <td>Intel Core i5 2.3GHz</td>\n",
       "      <td>8</td>\n",
       "      <td>128GB SSD</td>\n",
       "      <td>Intel Iris Plus Graphics 640</td>\n",
       "      <td>macOS</td>\n",
       "      <td>1.37</td>\n",
       "      <td>114205.89312</td>\n",
       "      <td>0</td>\n",
       "      <td>1</td>\n",
       "      <td>226.983005</td>\n",
       "      <td>Intel Core i5</td>\n",
       "    </tr>\n",
       "    <tr>\n",
       "      <th>1</th>\n",
       "      <td>Apple</td>\n",
       "      <td>Ultrabook</td>\n",
       "      <td>13.3</td>\n",
       "      <td>Intel Core i5 1.8GHz</td>\n",
       "      <td>8</td>\n",
       "      <td>128GB Flash Storage</td>\n",
       "      <td>Intel HD Graphics 6000</td>\n",
       "      <td>macOS</td>\n",
       "      <td>1.34</td>\n",
       "      <td>76632.83712</td>\n",
       "      <td>0</td>\n",
       "      <td>0</td>\n",
       "      <td>127.677940</td>\n",
       "      <td>Intel Core i5</td>\n",
       "    </tr>\n",
       "    <tr>\n",
       "      <th>2</th>\n",
       "      <td>HP</td>\n",
       "      <td>Notebook</td>\n",
       "      <td>15.6</td>\n",
       "      <td>Intel Core i5 7200U 2.5GHz</td>\n",
       "      <td>8</td>\n",
       "      <td>256GB SSD</td>\n",
       "      <td>Intel HD Graphics 620</td>\n",
       "      <td>No OS</td>\n",
       "      <td>1.86</td>\n",
       "      <td>49017.60000</td>\n",
       "      <td>0</td>\n",
       "      <td>0</td>\n",
       "      <td>141.211998</td>\n",
       "      <td>Intel Core i5</td>\n",
       "    </tr>\n",
       "    <tr>\n",
       "      <th>3</th>\n",
       "      <td>Apple</td>\n",
       "      <td>Ultrabook</td>\n",
       "      <td>15.4</td>\n",
       "      <td>Intel Core i7 2.7GHz</td>\n",
       "      <td>16</td>\n",
       "      <td>512GB SSD</td>\n",
       "      <td>AMD Radeon Pro 455</td>\n",
       "      <td>macOS</td>\n",
       "      <td>1.83</td>\n",
       "      <td>216312.53760</td>\n",
       "      <td>0</td>\n",
       "      <td>1</td>\n",
       "      <td>220.534624</td>\n",
       "      <td>Intel Core i7</td>\n",
       "    </tr>\n",
       "    <tr>\n",
       "      <th>4</th>\n",
       "      <td>Apple</td>\n",
       "      <td>Ultrabook</td>\n",
       "      <td>13.3</td>\n",
       "      <td>Intel Core i5 3.1GHz</td>\n",
       "      <td>8</td>\n",
       "      <td>256GB SSD</td>\n",
       "      <td>Intel Iris Plus Graphics 650</td>\n",
       "      <td>macOS</td>\n",
       "      <td>1.37</td>\n",
       "      <td>153753.29280</td>\n",
       "      <td>0</td>\n",
       "      <td>1</td>\n",
       "      <td>226.983005</td>\n",
       "      <td>Intel Core i5</td>\n",
       "    </tr>\n",
       "  </tbody>\n",
       "</table>\n",
       "</div>"
      ],
      "text/plain": [
       "  Company   TypeName  Inches                         Cpu  Ram  \\\n",
       "0   Apple  Ultrabook    13.3        Intel Core i5 2.3GHz    8   \n",
       "1   Apple  Ultrabook    13.3        Intel Core i5 1.8GHz    8   \n",
       "2      HP   Notebook    15.6  Intel Core i5 7200U 2.5GHz    8   \n",
       "3   Apple  Ultrabook    15.4        Intel Core i7 2.7GHz   16   \n",
       "4   Apple  Ultrabook    13.3        Intel Core i5 3.1GHz    8   \n",
       "\n",
       "                Memory                           Gpu  OpSys  Weight  \\\n",
       "0            128GB SSD  Intel Iris Plus Graphics 640  macOS    1.37   \n",
       "1  128GB Flash Storage        Intel HD Graphics 6000  macOS    1.34   \n",
       "2            256GB SSD         Intel HD Graphics 620  No OS    1.86   \n",
       "3            512GB SSD            AMD Radeon Pro 455  macOS    1.83   \n",
       "4            256GB SSD  Intel Iris Plus Graphics 650  macOS    1.37   \n",
       "\n",
       "      Price_NRS  TouchScreen  IPS         ppi      CPU Brand  \n",
       "0  114205.89312            0    1  226.983005  Intel Core i5  \n",
       "1   76632.83712            0    0  127.677940  Intel Core i5  \n",
       "2   49017.60000            0    0  141.211998  Intel Core i5  \n",
       "3  216312.53760            0    1  220.534624  Intel Core i7  \n",
       "4  153753.29280            0    1  226.983005  Intel Core i5  "
      ]
     },
     "execution_count": 136,
     "metadata": {},
     "output_type": "execute_result"
    }
   ],
   "source": [
    "df.head()"
   ]
  },
  {
   "cell_type": "code",
   "execution_count": 137,
   "metadata": {
    "id": "dfKTpvRWKVXb"
   },
   "outputs": [],
   "source": [
    "df.drop(columns = ['Cpu'], inplace = True)"
   ]
  },
  {
   "cell_type": "code",
   "execution_count": 138,
   "metadata": {
    "colab": {
     "base_uri": "https://localhost:8080/",
     "height": 354
    },
    "id": "WDaJovYuKcz7",
    "outputId": "9d2e495c-3bdf-400c-805e-38424ca3853c"
   },
   "outputs": [
    {
     "data": {
      "text/html": [
       "<div>\n",
       "<style scoped>\n",
       "    .dataframe tbody tr th:only-of-type {\n",
       "        vertical-align: middle;\n",
       "    }\n",
       "\n",
       "    .dataframe tbody tr th {\n",
       "        vertical-align: top;\n",
       "    }\n",
       "\n",
       "    .dataframe thead th {\n",
       "        text-align: right;\n",
       "    }\n",
       "</style>\n",
       "<table border=\"1\" class=\"dataframe\">\n",
       "  <thead>\n",
       "    <tr style=\"text-align: right;\">\n",
       "      <th></th>\n",
       "      <th>Company</th>\n",
       "      <th>TypeName</th>\n",
       "      <th>Inches</th>\n",
       "      <th>Ram</th>\n",
       "      <th>Memory</th>\n",
       "      <th>Gpu</th>\n",
       "      <th>OpSys</th>\n",
       "      <th>Weight</th>\n",
       "      <th>Price_NRS</th>\n",
       "      <th>TouchScreen</th>\n",
       "      <th>IPS</th>\n",
       "      <th>ppi</th>\n",
       "      <th>CPU Brand</th>\n",
       "    </tr>\n",
       "  </thead>\n",
       "  <tbody>\n",
       "    <tr>\n",
       "      <th>0</th>\n",
       "      <td>Apple</td>\n",
       "      <td>Ultrabook</td>\n",
       "      <td>13.3</td>\n",
       "      <td>8</td>\n",
       "      <td>128GB SSD</td>\n",
       "      <td>Intel Iris Plus Graphics 640</td>\n",
       "      <td>macOS</td>\n",
       "      <td>1.37</td>\n",
       "      <td>114205.89312</td>\n",
       "      <td>0</td>\n",
       "      <td>1</td>\n",
       "      <td>226.983005</td>\n",
       "      <td>Intel Core i5</td>\n",
       "    </tr>\n",
       "    <tr>\n",
       "      <th>1</th>\n",
       "      <td>Apple</td>\n",
       "      <td>Ultrabook</td>\n",
       "      <td>13.3</td>\n",
       "      <td>8</td>\n",
       "      <td>128GB Flash Storage</td>\n",
       "      <td>Intel HD Graphics 6000</td>\n",
       "      <td>macOS</td>\n",
       "      <td>1.34</td>\n",
       "      <td>76632.83712</td>\n",
       "      <td>0</td>\n",
       "      <td>0</td>\n",
       "      <td>127.677940</td>\n",
       "      <td>Intel Core i5</td>\n",
       "    </tr>\n",
       "    <tr>\n",
       "      <th>2</th>\n",
       "      <td>HP</td>\n",
       "      <td>Notebook</td>\n",
       "      <td>15.6</td>\n",
       "      <td>8</td>\n",
       "      <td>256GB SSD</td>\n",
       "      <td>Intel HD Graphics 620</td>\n",
       "      <td>No OS</td>\n",
       "      <td>1.86</td>\n",
       "      <td>49017.60000</td>\n",
       "      <td>0</td>\n",
       "      <td>0</td>\n",
       "      <td>141.211998</td>\n",
       "      <td>Intel Core i5</td>\n",
       "    </tr>\n",
       "    <tr>\n",
       "      <th>3</th>\n",
       "      <td>Apple</td>\n",
       "      <td>Ultrabook</td>\n",
       "      <td>15.4</td>\n",
       "      <td>16</td>\n",
       "      <td>512GB SSD</td>\n",
       "      <td>AMD Radeon Pro 455</td>\n",
       "      <td>macOS</td>\n",
       "      <td>1.83</td>\n",
       "      <td>216312.53760</td>\n",
       "      <td>0</td>\n",
       "      <td>1</td>\n",
       "      <td>220.534624</td>\n",
       "      <td>Intel Core i7</td>\n",
       "    </tr>\n",
       "    <tr>\n",
       "      <th>4</th>\n",
       "      <td>Apple</td>\n",
       "      <td>Ultrabook</td>\n",
       "      <td>13.3</td>\n",
       "      <td>8</td>\n",
       "      <td>256GB SSD</td>\n",
       "      <td>Intel Iris Plus Graphics 650</td>\n",
       "      <td>macOS</td>\n",
       "      <td>1.37</td>\n",
       "      <td>153753.29280</td>\n",
       "      <td>0</td>\n",
       "      <td>1</td>\n",
       "      <td>226.983005</td>\n",
       "      <td>Intel Core i5</td>\n",
       "    </tr>\n",
       "  </tbody>\n",
       "</table>\n",
       "</div>"
      ],
      "text/plain": [
       "  Company   TypeName  Inches  Ram               Memory  \\\n",
       "0   Apple  Ultrabook    13.3    8            128GB SSD   \n",
       "1   Apple  Ultrabook    13.3    8  128GB Flash Storage   \n",
       "2      HP   Notebook    15.6    8            256GB SSD   \n",
       "3   Apple  Ultrabook    15.4   16            512GB SSD   \n",
       "4   Apple  Ultrabook    13.3    8            256GB SSD   \n",
       "\n",
       "                            Gpu  OpSys  Weight     Price_NRS  TouchScreen  \\\n",
       "0  Intel Iris Plus Graphics 640  macOS    1.37  114205.89312            0   \n",
       "1        Intel HD Graphics 6000  macOS    1.34   76632.83712            0   \n",
       "2         Intel HD Graphics 620  No OS    1.86   49017.60000            0   \n",
       "3            AMD Radeon Pro 455  macOS    1.83  216312.53760            0   \n",
       "4  Intel Iris Plus Graphics 650  macOS    1.37  153753.29280            0   \n",
       "\n",
       "   IPS         ppi      CPU Brand  \n",
       "0    1  226.983005  Intel Core i5  \n",
       "1    0  127.677940  Intel Core i5  \n",
       "2    0  141.211998  Intel Core i5  \n",
       "3    1  220.534624  Intel Core i7  \n",
       "4    1  226.983005  Intel Core i5  "
      ]
     },
     "execution_count": 138,
     "metadata": {},
     "output_type": "execute_result"
    }
   ],
   "source": [
    "\n",
    "df.head()"
   ]
  },
  {
   "cell_type": "code",
   "execution_count": 139,
   "metadata": {
    "colab": {
     "base_uri": "https://localhost:8080/",
     "height": 374
    },
    "id": "rNREOddaKzy7",
    "outputId": "2ae5b7e1-5d24-4582-8ab5-f20066855f04"
   },
   "outputs": [
    {
     "data": {
      "image/png": "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\n",
      "text/plain": [
       "<Figure size 432x288 with 1 Axes>"
      ]
     },
     "metadata": {
      "needs_background": "light"
     },
     "output_type": "display_data"
    }
   ],
   "source": [
    "sns.barplot(x= df['CPU Brand'], y= df['Price_NRS'])\n",
    "plt.xticks(rotation='vertical')\n",
    "plt.show()"
   ]
  },
  {
   "cell_type": "code",
   "execution_count": 140,
   "metadata": {
    "colab": {
     "base_uri": "https://localhost:8080/",
     "height": 296
    },
    "id": "R3pxp-f8Kj0T",
    "outputId": "e7b2f89f-67b8-4cd1-fe8b-0ff4108436f2"
   },
   "outputs": [
    {
     "data": {
      "text/plain": [
       "<AxesSubplot: xlabel='Ram', ylabel='Price_NRS'>"
      ]
     },
     "execution_count": 140,
     "metadata": {},
     "output_type": "execute_result"
    },
    {
     "data": {
      "image/png": "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\n",
      "text/plain": [
       "<Figure size 432x288 with 1 Axes>"
      ]
     },
     "metadata": {
      "needs_background": "light"
     },
     "output_type": "display_data"
    }
   ],
   "source": [
    "sns.barplot(x= df['Ram'], y= df['Price_NRS'])"
   ]
  },
  {
   "cell_type": "code",
   "execution_count": 141,
   "metadata": {
    "colab": {
     "base_uri": "https://localhost:8080/"
    },
    "id": "a0eRH2xQLwyj",
    "outputId": "b82bac7d-c02f-445a-b7f8-df237240c8e3"
   },
   "outputs": [
    {
     "data": {
      "text/plain": [
       "256GB SSD                        412\n",
       "1TB HDD                          223\n",
       "500GB HDD                        132\n",
       "512GB SSD                        118\n",
       "128GB SSD +  1TB HDD              94\n",
       "128GB SSD                         76\n",
       "256GB SSD +  1TB HDD              73\n",
       "32GB Flash Storage                38\n",
       "2TB HDD                           16\n",
       "64GB Flash Storage                15\n",
       "512GB SSD +  1TB HDD              14\n",
       "1TB SSD                           14\n",
       "256GB SSD +  2TB HDD              10\n",
       "1.0TB Hybrid                       9\n",
       "256GB Flash Storage                8\n",
       "16GB Flash Storage                 7\n",
       "32GB SSD                           6\n",
       "180GB SSD                          5\n",
       "128GB Flash Storage                4\n",
       "512GB SSD +  2TB HDD               3\n",
       "16GB SSD                           3\n",
       "512GB Flash Storage                2\n",
       "1TB SSD +  1TB HDD                 2\n",
       "256GB SSD +  500GB HDD             2\n",
       "128GB SSD +  2TB HDD               2\n",
       "256GB SSD +  256GB SSD             2\n",
       "512GB SSD +  256GB SSD             1\n",
       "512GB SSD +  512GB SSD             1\n",
       "64GB Flash Storage +  1TB HDD      1\n",
       "1TB HDD +  1TB HDD                 1\n",
       "32GB HDD                           1\n",
       "64GB SSD                           1\n",
       "128GB HDD                          1\n",
       "240GB SSD                          1\n",
       "8GB SSD                            1\n",
       "508GB Hybrid                       1\n",
       "1.0TB HDD                          1\n",
       "512GB SSD +  1.0TB Hybrid          1\n",
       "256GB SSD +  1.0TB Hybrid          1\n",
       "Name: Memory, dtype: int64"
      ]
     },
     "execution_count": 141,
     "metadata": {},
     "output_type": "execute_result"
    }
   ],
   "source": [
    "df['Memory'].value_counts()"
   ]
  },
  {
   "cell_type": "code",
   "execution_count": 142,
   "metadata": {
    "id": "oROGJ-Qn5xAA"
   },
   "outputs": [],
   "source": [
    "df['HDD'] = df['Memory'].apply(lambda x: 1 if 'HDD' in x else 0 )\n",
    "df['SSD'] = df['Memory'].apply(lambda x: 1 if 'SSD' in x else 0 )"
   ]
  },
  {
   "cell_type": "code",
   "execution_count": 143,
   "metadata": {
    "colab": {
     "base_uri": "https://localhost:8080/",
     "height": 513
    },
    "id": "Zmbo9tRW6rX4",
    "outputId": "11cd42bb-603f-4647-a36b-a4200c3a00fa"
   },
   "outputs": [
    {
     "data": {
      "text/html": [
       "<div>\n",
       "<style scoped>\n",
       "    .dataframe tbody tr th:only-of-type {\n",
       "        vertical-align: middle;\n",
       "    }\n",
       "\n",
       "    .dataframe tbody tr th {\n",
       "        vertical-align: top;\n",
       "    }\n",
       "\n",
       "    .dataframe thead th {\n",
       "        text-align: right;\n",
       "    }\n",
       "</style>\n",
       "<table border=\"1\" class=\"dataframe\">\n",
       "  <thead>\n",
       "    <tr style=\"text-align: right;\">\n",
       "      <th></th>\n",
       "      <th>Company</th>\n",
       "      <th>TypeName</th>\n",
       "      <th>Inches</th>\n",
       "      <th>Ram</th>\n",
       "      <th>Memory</th>\n",
       "      <th>Gpu</th>\n",
       "      <th>OpSys</th>\n",
       "      <th>Weight</th>\n",
       "      <th>Price_NRS</th>\n",
       "      <th>TouchScreen</th>\n",
       "      <th>IPS</th>\n",
       "      <th>ppi</th>\n",
       "      <th>CPU Brand</th>\n",
       "      <th>HDD</th>\n",
       "      <th>SSD</th>\n",
       "    </tr>\n",
       "  </thead>\n",
       "  <tbody>\n",
       "    <tr>\n",
       "      <th>1240</th>\n",
       "      <td>Lenovo</td>\n",
       "      <td>Notebook</td>\n",
       "      <td>15.6</td>\n",
       "      <td>6</td>\n",
       "      <td>256GB SSD</td>\n",
       "      <td>AMD Radeon 530</td>\n",
       "      <td>Windows 10</td>\n",
       "      <td>2.2</td>\n",
       "      <td>50941.64736</td>\n",
       "      <td>0</td>\n",
       "      <td>0</td>\n",
       "      <td>141.211998</td>\n",
       "      <td>AMD Processor</td>\n",
       "      <td>0</td>\n",
       "      <td>1</td>\n",
       "    </tr>\n",
       "    <tr>\n",
       "      <th>1293</th>\n",
       "      <td>Lenovo</td>\n",
       "      <td>Notebook</td>\n",
       "      <td>15.6</td>\n",
       "      <td>8</td>\n",
       "      <td>1TB HDD</td>\n",
       "      <td>Nvidia GeForce GTX 960M</td>\n",
       "      <td>Windows 10</td>\n",
       "      <td>2.6</td>\n",
       "      <td>76637.95200</td>\n",
       "      <td>0</td>\n",
       "      <td>1</td>\n",
       "      <td>141.211998</td>\n",
       "      <td>Intel Core i7</td>\n",
       "      <td>1</td>\n",
       "      <td>0</td>\n",
       "    </tr>\n",
       "    <tr>\n",
       "      <th>239</th>\n",
       "      <td>Acer</td>\n",
       "      <td>Gaming</td>\n",
       "      <td>15.6</td>\n",
       "      <td>8</td>\n",
       "      <td>256GB SSD</td>\n",
       "      <td>Nvidia GeForce GTX 1050</td>\n",
       "      <td>Windows 10</td>\n",
       "      <td>2.5</td>\n",
       "      <td>72119.80800</td>\n",
       "      <td>0</td>\n",
       "      <td>1</td>\n",
       "      <td>141.211998</td>\n",
       "      <td>Intel Core i5</td>\n",
       "      <td>0</td>\n",
       "      <td>1</td>\n",
       "    </tr>\n",
       "    <tr>\n",
       "      <th>1150</th>\n",
       "      <td>Lenovo</td>\n",
       "      <td>Notebook</td>\n",
       "      <td>15.6</td>\n",
       "      <td>4</td>\n",
       "      <td>1TB HDD</td>\n",
       "      <td>Intel HD Graphics 520</td>\n",
       "      <td>No OS</td>\n",
       "      <td>1.9</td>\n",
       "      <td>28899.07200</td>\n",
       "      <td>0</td>\n",
       "      <td>0</td>\n",
       "      <td>100.454670</td>\n",
       "      <td>Intel Core i3</td>\n",
       "      <td>1</td>\n",
       "      <td>0</td>\n",
       "    </tr>\n",
       "    <tr>\n",
       "      <th>713</th>\n",
       "      <td>Asus</td>\n",
       "      <td>Notebook</td>\n",
       "      <td>14.0</td>\n",
       "      <td>4</td>\n",
       "      <td>32GB Flash Storage</td>\n",
       "      <td>Intel HD Graphics 500</td>\n",
       "      <td>Windows 10</td>\n",
       "      <td>1.5</td>\n",
       "      <td>25403.90400</td>\n",
       "      <td>0</td>\n",
       "      <td>0</td>\n",
       "      <td>157.350512</td>\n",
       "      <td>Other Intel Processor</td>\n",
       "      <td>0</td>\n",
       "      <td>0</td>\n",
       "    </tr>\n",
       "  </tbody>\n",
       "</table>\n",
       "</div>"
      ],
      "text/plain": [
       "     Company  TypeName  Inches  Ram              Memory  \\\n",
       "1240  Lenovo  Notebook    15.6    6           256GB SSD   \n",
       "1293  Lenovo  Notebook    15.6    8             1TB HDD   \n",
       "239     Acer    Gaming    15.6    8           256GB SSD   \n",
       "1150  Lenovo  Notebook    15.6    4             1TB HDD   \n",
       "713     Asus  Notebook    14.0    4  32GB Flash Storage   \n",
       "\n",
       "                          Gpu       OpSys  Weight    Price_NRS  TouchScreen  \\\n",
       "1240           AMD Radeon 530  Windows 10     2.2  50941.64736            0   \n",
       "1293  Nvidia GeForce GTX 960M  Windows 10     2.6  76637.95200            0   \n",
       "239   Nvidia GeForce GTX 1050  Windows 10     2.5  72119.80800            0   \n",
       "1150    Intel HD Graphics 520       No OS     1.9  28899.07200            0   \n",
       "713     Intel HD Graphics 500  Windows 10     1.5  25403.90400            0   \n",
       "\n",
       "      IPS         ppi              CPU Brand  HDD  SSD  \n",
       "1240    0  141.211998          AMD Processor    0    1  \n",
       "1293    1  141.211998          Intel Core i7    1    0  \n",
       "239     1  141.211998          Intel Core i5    0    1  \n",
       "1150    0  100.454670          Intel Core i3    1    0  \n",
       "713     0  157.350512  Other Intel Processor    0    0  "
      ]
     },
     "execution_count": 143,
     "metadata": {},
     "output_type": "execute_result"
    }
   ],
   "source": [
    "df.sample(5)"
   ]
  },
  {
   "cell_type": "code",
   "execution_count": 144,
   "metadata": {
    "colab": {
     "base_uri": "https://localhost:8080/"
    },
    "id": "0_G9eeRM6sqW",
    "outputId": "e0c25c82-c9f4-4baf-e176-0b19e9430da9"
   },
   "outputs": [
    {
     "data": {
      "text/plain": [
       "Intel HD Graphics 620      281\n",
       "Intel HD Graphics 520      185\n",
       "Intel UHD Graphics 620      68\n",
       "Nvidia GeForce GTX 1050     66\n",
       "Nvidia GeForce GTX 1060     48\n",
       "                          ... \n",
       "AMD Radeon R5 520            1\n",
       "AMD Radeon R7                1\n",
       "Intel HD Graphics 540        1\n",
       "AMD Radeon 540               1\n",
       "ARM Mali T860 MP4            1\n",
       "Name: Gpu, Length: 110, dtype: int64"
      ]
     },
     "execution_count": 144,
     "metadata": {},
     "output_type": "execute_result"
    }
   ],
   "source": [
    "df['Gpu'].value_counts()"
   ]
  },
  {
   "cell_type": "code",
   "execution_count": 145,
   "metadata": {
    "id": "BZDT7Xa57rHH"
   },
   "outputs": [],
   "source": [
    "df['Gpu Brand'] = df['Gpu'].apply(lambda x : x.split(\" \")[0])"
   ]
  },
  {
   "cell_type": "code",
   "execution_count": 146,
   "metadata": {
    "colab": {
     "base_uri": "https://localhost:8080/",
     "height": 496
    },
    "id": "nLqR10IN7-sW",
    "outputId": "8ad41cfb-61eb-4d2b-e869-38985a862489"
   },
   "outputs": [
    {
     "data": {
      "text/html": [
       "<div>\n",
       "<style scoped>\n",
       "    .dataframe tbody tr th:only-of-type {\n",
       "        vertical-align: middle;\n",
       "    }\n",
       "\n",
       "    .dataframe tbody tr th {\n",
       "        vertical-align: top;\n",
       "    }\n",
       "\n",
       "    .dataframe thead th {\n",
       "        text-align: right;\n",
       "    }\n",
       "</style>\n",
       "<table border=\"1\" class=\"dataframe\">\n",
       "  <thead>\n",
       "    <tr style=\"text-align: right;\">\n",
       "      <th></th>\n",
       "      <th>Company</th>\n",
       "      <th>TypeName</th>\n",
       "      <th>Inches</th>\n",
       "      <th>Ram</th>\n",
       "      <th>Memory</th>\n",
       "      <th>Gpu</th>\n",
       "      <th>OpSys</th>\n",
       "      <th>Weight</th>\n",
       "      <th>Price_NRS</th>\n",
       "      <th>TouchScreen</th>\n",
       "      <th>IPS</th>\n",
       "      <th>ppi</th>\n",
       "      <th>CPU Brand</th>\n",
       "      <th>HDD</th>\n",
       "      <th>SSD</th>\n",
       "      <th>Gpu Brand</th>\n",
       "    </tr>\n",
       "  </thead>\n",
       "  <tbody>\n",
       "    <tr>\n",
       "      <th>0</th>\n",
       "      <td>Apple</td>\n",
       "      <td>Ultrabook</td>\n",
       "      <td>13.3</td>\n",
       "      <td>8</td>\n",
       "      <td>128GB SSD</td>\n",
       "      <td>Intel Iris Plus Graphics 640</td>\n",
       "      <td>macOS</td>\n",
       "      <td>1.37</td>\n",
       "      <td>114205.89312</td>\n",
       "      <td>0</td>\n",
       "      <td>1</td>\n",
       "      <td>226.983005</td>\n",
       "      <td>Intel Core i5</td>\n",
       "      <td>0</td>\n",
       "      <td>1</td>\n",
       "      <td>Intel</td>\n",
       "    </tr>\n",
       "    <tr>\n",
       "      <th>1</th>\n",
       "      <td>Apple</td>\n",
       "      <td>Ultrabook</td>\n",
       "      <td>13.3</td>\n",
       "      <td>8</td>\n",
       "      <td>128GB Flash Storage</td>\n",
       "      <td>Intel HD Graphics 6000</td>\n",
       "      <td>macOS</td>\n",
       "      <td>1.34</td>\n",
       "      <td>76632.83712</td>\n",
       "      <td>0</td>\n",
       "      <td>0</td>\n",
       "      <td>127.677940</td>\n",
       "      <td>Intel Core i5</td>\n",
       "      <td>0</td>\n",
       "      <td>0</td>\n",
       "      <td>Intel</td>\n",
       "    </tr>\n",
       "    <tr>\n",
       "      <th>2</th>\n",
       "      <td>HP</td>\n",
       "      <td>Notebook</td>\n",
       "      <td>15.6</td>\n",
       "      <td>8</td>\n",
       "      <td>256GB SSD</td>\n",
       "      <td>Intel HD Graphics 620</td>\n",
       "      <td>No OS</td>\n",
       "      <td>1.86</td>\n",
       "      <td>49017.60000</td>\n",
       "      <td>0</td>\n",
       "      <td>0</td>\n",
       "      <td>141.211998</td>\n",
       "      <td>Intel Core i5</td>\n",
       "      <td>0</td>\n",
       "      <td>1</td>\n",
       "      <td>Intel</td>\n",
       "    </tr>\n",
       "    <tr>\n",
       "      <th>3</th>\n",
       "      <td>Apple</td>\n",
       "      <td>Ultrabook</td>\n",
       "      <td>15.4</td>\n",
       "      <td>16</td>\n",
       "      <td>512GB SSD</td>\n",
       "      <td>AMD Radeon Pro 455</td>\n",
       "      <td>macOS</td>\n",
       "      <td>1.83</td>\n",
       "      <td>216312.53760</td>\n",
       "      <td>0</td>\n",
       "      <td>1</td>\n",
       "      <td>220.534624</td>\n",
       "      <td>Intel Core i7</td>\n",
       "      <td>0</td>\n",
       "      <td>1</td>\n",
       "      <td>AMD</td>\n",
       "    </tr>\n",
       "    <tr>\n",
       "      <th>4</th>\n",
       "      <td>Apple</td>\n",
       "      <td>Ultrabook</td>\n",
       "      <td>13.3</td>\n",
       "      <td>8</td>\n",
       "      <td>256GB SSD</td>\n",
       "      <td>Intel Iris Plus Graphics 650</td>\n",
       "      <td>macOS</td>\n",
       "      <td>1.37</td>\n",
       "      <td>153753.29280</td>\n",
       "      <td>0</td>\n",
       "      <td>1</td>\n",
       "      <td>226.983005</td>\n",
       "      <td>Intel Core i5</td>\n",
       "      <td>0</td>\n",
       "      <td>1</td>\n",
       "      <td>Intel</td>\n",
       "    </tr>\n",
       "  </tbody>\n",
       "</table>\n",
       "</div>"
      ],
      "text/plain": [
       "  Company   TypeName  Inches  Ram               Memory  \\\n",
       "0   Apple  Ultrabook    13.3    8            128GB SSD   \n",
       "1   Apple  Ultrabook    13.3    8  128GB Flash Storage   \n",
       "2      HP   Notebook    15.6    8            256GB SSD   \n",
       "3   Apple  Ultrabook    15.4   16            512GB SSD   \n",
       "4   Apple  Ultrabook    13.3    8            256GB SSD   \n",
       "\n",
       "                            Gpu  OpSys  Weight     Price_NRS  TouchScreen  \\\n",
       "0  Intel Iris Plus Graphics 640  macOS    1.37  114205.89312            0   \n",
       "1        Intel HD Graphics 6000  macOS    1.34   76632.83712            0   \n",
       "2         Intel HD Graphics 620  No OS    1.86   49017.60000            0   \n",
       "3            AMD Radeon Pro 455  macOS    1.83  216312.53760            0   \n",
       "4  Intel Iris Plus Graphics 650  macOS    1.37  153753.29280            0   \n",
       "\n",
       "   IPS         ppi      CPU Brand  HDD  SSD Gpu Brand  \n",
       "0    1  226.983005  Intel Core i5    0    1     Intel  \n",
       "1    0  127.677940  Intel Core i5    0    0     Intel  \n",
       "2    0  141.211998  Intel Core i5    0    1     Intel  \n",
       "3    1  220.534624  Intel Core i7    0    1       AMD  \n",
       "4    1  226.983005  Intel Core i5    0    1     Intel  "
      ]
     },
     "execution_count": 146,
     "metadata": {},
     "output_type": "execute_result"
    }
   ],
   "source": [
    "df.head()"
   ]
  },
  {
   "cell_type": "code",
   "execution_count": 147,
   "metadata": {
    "colab": {
     "base_uri": "https://localhost:8080/"
    },
    "id": "ZU14bKXO7_tn",
    "outputId": "93bc7fed-8021-496b-c0eb-7dddfd1285b7"
   },
   "outputs": [
    {
     "data": {
      "text/plain": [
       "Intel     722\n",
       "Nvidia    400\n",
       "AMD       180\n",
       "ARM         1\n",
       "Name: Gpu Brand, dtype: int64"
      ]
     },
     "execution_count": 147,
     "metadata": {},
     "output_type": "execute_result"
    }
   ],
   "source": [
    "df['Gpu Brand'].value_counts()"
   ]
  },
  {
   "cell_type": "code",
   "execution_count": 148,
   "metadata": {
    "id": "P-Ht_T2a8NBr"
   },
   "outputs": [],
   "source": [
    "df.drop(columns = [\"Memory\", \"Gpu\"], inplace=True)"
   ]
  },
  {
   "cell_type": "code",
   "execution_count": 149,
   "metadata": {
    "colab": {
     "base_uri": "https://localhost:8080/",
     "height": 206
    },
    "id": "s4XCf07u8Z5_",
    "outputId": "7252bc1c-529d-435d-ebc7-b8463c09f505"
   },
   "outputs": [
    {
     "data": {
      "text/html": [
       "<div>\n",
       "<style scoped>\n",
       "    .dataframe tbody tr th:only-of-type {\n",
       "        vertical-align: middle;\n",
       "    }\n",
       "\n",
       "    .dataframe tbody tr th {\n",
       "        vertical-align: top;\n",
       "    }\n",
       "\n",
       "    .dataframe thead th {\n",
       "        text-align: right;\n",
       "    }\n",
       "</style>\n",
       "<table border=\"1\" class=\"dataframe\">\n",
       "  <thead>\n",
       "    <tr style=\"text-align: right;\">\n",
       "      <th></th>\n",
       "      <th>Company</th>\n",
       "      <th>TypeName</th>\n",
       "      <th>Inches</th>\n",
       "      <th>Ram</th>\n",
       "      <th>OpSys</th>\n",
       "      <th>Weight</th>\n",
       "      <th>Price_NRS</th>\n",
       "      <th>TouchScreen</th>\n",
       "      <th>IPS</th>\n",
       "      <th>ppi</th>\n",
       "      <th>CPU Brand</th>\n",
       "      <th>HDD</th>\n",
       "      <th>SSD</th>\n",
       "      <th>Gpu Brand</th>\n",
       "    </tr>\n",
       "  </thead>\n",
       "  <tbody>\n",
       "    <tr>\n",
       "      <th>0</th>\n",
       "      <td>Apple</td>\n",
       "      <td>Ultrabook</td>\n",
       "      <td>13.3</td>\n",
       "      <td>8</td>\n",
       "      <td>macOS</td>\n",
       "      <td>1.37</td>\n",
       "      <td>114205.89312</td>\n",
       "      <td>0</td>\n",
       "      <td>1</td>\n",
       "      <td>226.983005</td>\n",
       "      <td>Intel Core i5</td>\n",
       "      <td>0</td>\n",
       "      <td>1</td>\n",
       "      <td>Intel</td>\n",
       "    </tr>\n",
       "    <tr>\n",
       "      <th>1</th>\n",
       "      <td>Apple</td>\n",
       "      <td>Ultrabook</td>\n",
       "      <td>13.3</td>\n",
       "      <td>8</td>\n",
       "      <td>macOS</td>\n",
       "      <td>1.34</td>\n",
       "      <td>76632.83712</td>\n",
       "      <td>0</td>\n",
       "      <td>0</td>\n",
       "      <td>127.677940</td>\n",
       "      <td>Intel Core i5</td>\n",
       "      <td>0</td>\n",
       "      <td>0</td>\n",
       "      <td>Intel</td>\n",
       "    </tr>\n",
       "    <tr>\n",
       "      <th>2</th>\n",
       "      <td>HP</td>\n",
       "      <td>Notebook</td>\n",
       "      <td>15.6</td>\n",
       "      <td>8</td>\n",
       "      <td>No OS</td>\n",
       "      <td>1.86</td>\n",
       "      <td>49017.60000</td>\n",
       "      <td>0</td>\n",
       "      <td>0</td>\n",
       "      <td>141.211998</td>\n",
       "      <td>Intel Core i5</td>\n",
       "      <td>0</td>\n",
       "      <td>1</td>\n",
       "      <td>Intel</td>\n",
       "    </tr>\n",
       "    <tr>\n",
       "      <th>3</th>\n",
       "      <td>Apple</td>\n",
       "      <td>Ultrabook</td>\n",
       "      <td>15.4</td>\n",
       "      <td>16</td>\n",
       "      <td>macOS</td>\n",
       "      <td>1.83</td>\n",
       "      <td>216312.53760</td>\n",
       "      <td>0</td>\n",
       "      <td>1</td>\n",
       "      <td>220.534624</td>\n",
       "      <td>Intel Core i7</td>\n",
       "      <td>0</td>\n",
       "      <td>1</td>\n",
       "      <td>AMD</td>\n",
       "    </tr>\n",
       "    <tr>\n",
       "      <th>4</th>\n",
       "      <td>Apple</td>\n",
       "      <td>Ultrabook</td>\n",
       "      <td>13.3</td>\n",
       "      <td>8</td>\n",
       "      <td>macOS</td>\n",
       "      <td>1.37</td>\n",
       "      <td>153753.29280</td>\n",
       "      <td>0</td>\n",
       "      <td>1</td>\n",
       "      <td>226.983005</td>\n",
       "      <td>Intel Core i5</td>\n",
       "      <td>0</td>\n",
       "      <td>1</td>\n",
       "      <td>Intel</td>\n",
       "    </tr>\n",
       "  </tbody>\n",
       "</table>\n",
       "</div>"
      ],
      "text/plain": [
       "  Company   TypeName  Inches  Ram  OpSys  Weight     Price_NRS  TouchScreen  \\\n",
       "0   Apple  Ultrabook    13.3    8  macOS    1.37  114205.89312            0   \n",
       "1   Apple  Ultrabook    13.3    8  macOS    1.34   76632.83712            0   \n",
       "2      HP   Notebook    15.6    8  No OS    1.86   49017.60000            0   \n",
       "3   Apple  Ultrabook    15.4   16  macOS    1.83  216312.53760            0   \n",
       "4   Apple  Ultrabook    13.3    8  macOS    1.37  153753.29280            0   \n",
       "\n",
       "   IPS         ppi      CPU Brand  HDD  SSD Gpu Brand  \n",
       "0    1  226.983005  Intel Core i5    0    1     Intel  \n",
       "1    0  127.677940  Intel Core i5    0    0     Intel  \n",
       "2    0  141.211998  Intel Core i5    0    1     Intel  \n",
       "3    1  220.534624  Intel Core i7    0    1       AMD  \n",
       "4    1  226.983005  Intel Core i5    0    1     Intel  "
      ]
     },
     "execution_count": 149,
     "metadata": {},
     "output_type": "execute_result"
    }
   ],
   "source": [
    "df.head()"
   ]
  },
  {
   "cell_type": "code",
   "execution_count": 150,
   "metadata": {
    "id": "3CQ6Q34D8e_-"
   },
   "outputs": [],
   "source": [
    "def classify_os(x):\n",
    "  if \"Windows\" in x:\n",
    "    return \"Windows\"\n",
    "  elif \"mac\" in x:\n",
    "    return \"Mac\"\n",
    "  else:\n",
    "    return \"Other/None/Linux\""
   ]
  },
  {
   "cell_type": "code",
   "execution_count": 151,
   "metadata": {
    "id": "laxhhKZp9H8H"
   },
   "outputs": [],
   "source": [
    "df['OS'] = df['OpSys'].apply(classify_os)"
   ]
  },
  {
   "cell_type": "code",
   "execution_count": 152,
   "metadata": {
    "colab": {
     "base_uri": "https://localhost:8080/",
     "height": 392
    },
    "id": "JqfwCpEC9SgO",
    "outputId": "814416d9-26f3-44c4-a8b2-2a6c7d3eb0e1"
   },
   "outputs": [
    {
     "data": {
      "text/html": [
       "<div>\n",
       "<style scoped>\n",
       "    .dataframe tbody tr th:only-of-type {\n",
       "        vertical-align: middle;\n",
       "    }\n",
       "\n",
       "    .dataframe tbody tr th {\n",
       "        vertical-align: top;\n",
       "    }\n",
       "\n",
       "    .dataframe thead th {\n",
       "        text-align: right;\n",
       "    }\n",
       "</style>\n",
       "<table border=\"1\" class=\"dataframe\">\n",
       "  <thead>\n",
       "    <tr style=\"text-align: right;\">\n",
       "      <th></th>\n",
       "      <th>Company</th>\n",
       "      <th>TypeName</th>\n",
       "      <th>Inches</th>\n",
       "      <th>Ram</th>\n",
       "      <th>OpSys</th>\n",
       "      <th>Weight</th>\n",
       "      <th>Price_NRS</th>\n",
       "      <th>TouchScreen</th>\n",
       "      <th>IPS</th>\n",
       "      <th>ppi</th>\n",
       "      <th>CPU Brand</th>\n",
       "      <th>HDD</th>\n",
       "      <th>SSD</th>\n",
       "      <th>Gpu Brand</th>\n",
       "      <th>OS</th>\n",
       "    </tr>\n",
       "  </thead>\n",
       "  <tbody>\n",
       "    <tr>\n",
       "      <th>1025</th>\n",
       "      <td>HP</td>\n",
       "      <td>Ultrabook</td>\n",
       "      <td>12.5</td>\n",
       "      <td>4</td>\n",
       "      <td>Windows 10</td>\n",
       "      <td>1.26</td>\n",
       "      <td>132901.632</td>\n",
       "      <td>0</td>\n",
       "      <td>0</td>\n",
       "      <td>125.367428</td>\n",
       "      <td>Intel Core i5</td>\n",
       "      <td>0</td>\n",
       "      <td>1</td>\n",
       "      <td>Intel</td>\n",
       "      <td>Windows</td>\n",
       "    </tr>\n",
       "    <tr>\n",
       "      <th>269</th>\n",
       "      <td>Lenovo</td>\n",
       "      <td>Notebook</td>\n",
       "      <td>15.6</td>\n",
       "      <td>8</td>\n",
       "      <td>Windows 10</td>\n",
       "      <td>2.05</td>\n",
       "      <td>75018.240</td>\n",
       "      <td>0</td>\n",
       "      <td>0</td>\n",
       "      <td>141.211998</td>\n",
       "      <td>Intel Core i7</td>\n",
       "      <td>0</td>\n",
       "      <td>1</td>\n",
       "      <td>Intel</td>\n",
       "      <td>Windows</td>\n",
       "    </tr>\n",
       "    <tr>\n",
       "      <th>360</th>\n",
       "      <td>HP</td>\n",
       "      <td>Notebook</td>\n",
       "      <td>15.6</td>\n",
       "      <td>4</td>\n",
       "      <td>Windows 10</td>\n",
       "      <td>1.86</td>\n",
       "      <td>37423.872</td>\n",
       "      <td>0</td>\n",
       "      <td>0</td>\n",
       "      <td>100.454670</td>\n",
       "      <td>Intel Core i3</td>\n",
       "      <td>1</td>\n",
       "      <td>0</td>\n",
       "      <td>Intel</td>\n",
       "      <td>Windows</td>\n",
       "    </tr>\n",
       "    <tr>\n",
       "      <th>193</th>\n",
       "      <td>Lenovo</td>\n",
       "      <td>Notebook</td>\n",
       "      <td>17.3</td>\n",
       "      <td>8</td>\n",
       "      <td>No OS</td>\n",
       "      <td>2.80</td>\n",
       "      <td>59503.104</td>\n",
       "      <td>0</td>\n",
       "      <td>0</td>\n",
       "      <td>106.113062</td>\n",
       "      <td>Intel Core i5</td>\n",
       "      <td>0</td>\n",
       "      <td>1</td>\n",
       "      <td>Nvidia</td>\n",
       "      <td>Other/None/Linux</td>\n",
       "    </tr>\n",
       "    <tr>\n",
       "      <th>909</th>\n",
       "      <td>LG</td>\n",
       "      <td>Ultrabook</td>\n",
       "      <td>14.0</td>\n",
       "      <td>8</td>\n",
       "      <td>Windows 10</td>\n",
       "      <td>0.98</td>\n",
       "      <td>161885.952</td>\n",
       "      <td>1</td>\n",
       "      <td>1</td>\n",
       "      <td>157.350512</td>\n",
       "      <td>Intel Core i7</td>\n",
       "      <td>0</td>\n",
       "      <td>1</td>\n",
       "      <td>Intel</td>\n",
       "      <td>Windows</td>\n",
       "    </tr>\n",
       "  </tbody>\n",
       "</table>\n",
       "</div>"
      ],
      "text/plain": [
       "     Company   TypeName  Inches  Ram       OpSys  Weight   Price_NRS  \\\n",
       "1025      HP  Ultrabook    12.5    4  Windows 10    1.26  132901.632   \n",
       "269   Lenovo   Notebook    15.6    8  Windows 10    2.05   75018.240   \n",
       "360       HP   Notebook    15.6    4  Windows 10    1.86   37423.872   \n",
       "193   Lenovo   Notebook    17.3    8       No OS    2.80   59503.104   \n",
       "909       LG  Ultrabook    14.0    8  Windows 10    0.98  161885.952   \n",
       "\n",
       "      TouchScreen  IPS         ppi      CPU Brand  HDD  SSD Gpu Brand  \\\n",
       "1025            0    0  125.367428  Intel Core i5    0    1     Intel   \n",
       "269             0    0  141.211998  Intel Core i7    0    1     Intel   \n",
       "360             0    0  100.454670  Intel Core i3    1    0     Intel   \n",
       "193             0    0  106.113062  Intel Core i5    0    1    Nvidia   \n",
       "909             1    1  157.350512  Intel Core i7    0    1     Intel   \n",
       "\n",
       "                    OS  \n",
       "1025           Windows  \n",
       "269            Windows  \n",
       "360            Windows  \n",
       "193   Other/None/Linux  \n",
       "909            Windows  "
      ]
     },
     "execution_count": 152,
     "metadata": {},
     "output_type": "execute_result"
    }
   ],
   "source": [
    "df.sample(5)"
   ]
  },
  {
   "cell_type": "code",
   "execution_count": 153,
   "metadata": {
    "id": "tM6zjjJb9Tv-"
   },
   "outputs": [],
   "source": [
    "df.drop(columns = ['OpSys', 'Inches'], inplace=True)"
   ]
  },
  {
   "cell_type": "code",
   "execution_count": 154,
   "metadata": {
    "colab": {
     "base_uri": "https://localhost:8080/",
     "height": 206
    },
    "id": "i1Gc7MAb9iFH",
    "outputId": "354d84a5-30de-4d71-db78-c1ab0cabb4f1"
   },
   "outputs": [
    {
     "data": {
      "text/html": [
       "<div>\n",
       "<style scoped>\n",
       "    .dataframe tbody tr th:only-of-type {\n",
       "        vertical-align: middle;\n",
       "    }\n",
       "\n",
       "    .dataframe tbody tr th {\n",
       "        vertical-align: top;\n",
       "    }\n",
       "\n",
       "    .dataframe thead th {\n",
       "        text-align: right;\n",
       "    }\n",
       "</style>\n",
       "<table border=\"1\" class=\"dataframe\">\n",
       "  <thead>\n",
       "    <tr style=\"text-align: right;\">\n",
       "      <th></th>\n",
       "      <th>Company</th>\n",
       "      <th>TypeName</th>\n",
       "      <th>Ram</th>\n",
       "      <th>Weight</th>\n",
       "      <th>Price_NRS</th>\n",
       "      <th>TouchScreen</th>\n",
       "      <th>IPS</th>\n",
       "      <th>ppi</th>\n",
       "      <th>CPU Brand</th>\n",
       "      <th>HDD</th>\n",
       "      <th>SSD</th>\n",
       "      <th>Gpu Brand</th>\n",
       "      <th>OS</th>\n",
       "    </tr>\n",
       "  </thead>\n",
       "  <tbody>\n",
       "    <tr>\n",
       "      <th>0</th>\n",
       "      <td>Apple</td>\n",
       "      <td>Ultrabook</td>\n",
       "      <td>8</td>\n",
       "      <td>1.37</td>\n",
       "      <td>114205.89312</td>\n",
       "      <td>0</td>\n",
       "      <td>1</td>\n",
       "      <td>226.983005</td>\n",
       "      <td>Intel Core i5</td>\n",
       "      <td>0</td>\n",
       "      <td>1</td>\n",
       "      <td>Intel</td>\n",
       "      <td>Mac</td>\n",
       "    </tr>\n",
       "    <tr>\n",
       "      <th>1</th>\n",
       "      <td>Apple</td>\n",
       "      <td>Ultrabook</td>\n",
       "      <td>8</td>\n",
       "      <td>1.34</td>\n",
       "      <td>76632.83712</td>\n",
       "      <td>0</td>\n",
       "      <td>0</td>\n",
       "      <td>127.677940</td>\n",
       "      <td>Intel Core i5</td>\n",
       "      <td>0</td>\n",
       "      <td>0</td>\n",
       "      <td>Intel</td>\n",
       "      <td>Mac</td>\n",
       "    </tr>\n",
       "    <tr>\n",
       "      <th>2</th>\n",
       "      <td>HP</td>\n",
       "      <td>Notebook</td>\n",
       "      <td>8</td>\n",
       "      <td>1.86</td>\n",
       "      <td>49017.60000</td>\n",
       "      <td>0</td>\n",
       "      <td>0</td>\n",
       "      <td>141.211998</td>\n",
       "      <td>Intel Core i5</td>\n",
       "      <td>0</td>\n",
       "      <td>1</td>\n",
       "      <td>Intel</td>\n",
       "      <td>Other/None/Linux</td>\n",
       "    </tr>\n",
       "    <tr>\n",
       "      <th>3</th>\n",
       "      <td>Apple</td>\n",
       "      <td>Ultrabook</td>\n",
       "      <td>16</td>\n",
       "      <td>1.83</td>\n",
       "      <td>216312.53760</td>\n",
       "      <td>0</td>\n",
       "      <td>1</td>\n",
       "      <td>220.534624</td>\n",
       "      <td>Intel Core i7</td>\n",
       "      <td>0</td>\n",
       "      <td>1</td>\n",
       "      <td>AMD</td>\n",
       "      <td>Mac</td>\n",
       "    </tr>\n",
       "    <tr>\n",
       "      <th>4</th>\n",
       "      <td>Apple</td>\n",
       "      <td>Ultrabook</td>\n",
       "      <td>8</td>\n",
       "      <td>1.37</td>\n",
       "      <td>153753.29280</td>\n",
       "      <td>0</td>\n",
       "      <td>1</td>\n",
       "      <td>226.983005</td>\n",
       "      <td>Intel Core i5</td>\n",
       "      <td>0</td>\n",
       "      <td>1</td>\n",
       "      <td>Intel</td>\n",
       "      <td>Mac</td>\n",
       "    </tr>\n",
       "  </tbody>\n",
       "</table>\n",
       "</div>"
      ],
      "text/plain": [
       "  Company   TypeName  Ram  Weight     Price_NRS  TouchScreen  IPS         ppi  \\\n",
       "0   Apple  Ultrabook    8    1.37  114205.89312            0    1  226.983005   \n",
       "1   Apple  Ultrabook    8    1.34   76632.83712            0    0  127.677940   \n",
       "2      HP   Notebook    8    1.86   49017.60000            0    0  141.211998   \n",
       "3   Apple  Ultrabook   16    1.83  216312.53760            0    1  220.534624   \n",
       "4   Apple  Ultrabook    8    1.37  153753.29280            0    1  226.983005   \n",
       "\n",
       "       CPU Brand  HDD  SSD Gpu Brand                OS  \n",
       "0  Intel Core i5    0    1     Intel               Mac  \n",
       "1  Intel Core i5    0    0     Intel               Mac  \n",
       "2  Intel Core i5    0    1     Intel  Other/None/Linux  \n",
       "3  Intel Core i7    0    1       AMD               Mac  \n",
       "4  Intel Core i5    0    1     Intel               Mac  "
      ]
     },
     "execution_count": 154,
     "metadata": {},
     "output_type": "execute_result"
    }
   ],
   "source": [
    "df.head()"
   ]
  },
  {
   "cell_type": "code",
   "execution_count": 155,
   "metadata": {
    "colab": {
     "base_uri": "https://localhost:8080/"
    },
    "id": "whAhsBQm9jnm",
    "outputId": "0b7329da-6474-49d2-a402-9788475e9b26"
   },
   "outputs": [
    {
     "name": "stderr",
     "output_type": "stream",
     "text": [
      "/tmp/ipykernel_37647/1177896973.py:1: FutureWarning: The default value of numeric_only in DataFrame.corr is deprecated. In a future version, it will default to False. Select only valid columns or specify the value of numeric_only to silence this warning.\n",
      "  df.corr()['Price_NRS']\n"
     ]
    },
    {
     "data": {
      "text/plain": [
       "Ram            0.743007\n",
       "Weight         0.210370\n",
       "Price_NRS      1.000000\n",
       "TouchScreen    0.191226\n",
       "IPS            0.252208\n",
       "ppi            0.473487\n",
       "HDD           -0.169901\n",
       "SSD            0.513609\n",
       "Name: Price_NRS, dtype: float64"
      ]
     },
     "execution_count": 155,
     "metadata": {},
     "output_type": "execute_result"
    }
   ],
   "source": [
    "df.corr()['Price_NRS']"
   ]
  },
  {
   "cell_type": "code",
   "execution_count": 156,
   "metadata": {
    "colab": {
     "base_uri": "https://localhost:8080/",
     "height": 339
    },
    "id": "p3aLU7hR93xW",
    "outputId": "48a73c77-1abb-4dae-883c-a51e0816ba66"
   },
   "outputs": [
    {
     "name": "stderr",
     "output_type": "stream",
     "text": [
      "/tmp/ipykernel_37647/58359773.py:1: FutureWarning: The default value of numeric_only in DataFrame.corr is deprecated. In a future version, it will default to False. Select only valid columns or specify the value of numeric_only to silence this warning.\n",
      "  sns.heatmap(df.corr())\n"
     ]
    },
    {
     "data": {
      "text/plain": [
       "<AxesSubplot: >"
      ]
     },
     "execution_count": 156,
     "metadata": {},
     "output_type": "execute_result"
    },
    {
     "data": {
      "image/png": "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\n",
      "text/plain": [
       "<Figure size 432x288 with 2 Axes>"
      ]
     },
     "metadata": {
      "needs_background": "light"
     },
     "output_type": "display_data"
    }
   ],
   "source": [
    "sns.heatmap(df.corr())"
   ]
  },
  {
   "cell_type": "code",
   "execution_count": 157,
   "metadata": {
    "colab": {
     "base_uri": "https://localhost:8080/",
     "height": 352
    },
    "id": "aCqL6Uu997TG",
    "outputId": "1a6765c9-5e36-4553-b76b-7c2ba0bd4ad9"
   },
   "outputs": [
    {
     "name": "stderr",
     "output_type": "stream",
     "text": [
      "/tmp/ipykernel_37647/1918259760.py:1: UserWarning: \n",
      "\n",
      "`distplot` is a deprecated function and will be removed in seaborn v0.14.0.\n",
      "\n",
      "Please adapt your code to use either `displot` (a figure-level function with\n",
      "similar flexibility) or `histplot` (an axes-level function for histograms).\n",
      "\n",
      "For a guide to updating your code to use the new functions, please see\n",
      "https://gist.github.com/mwaskom/de44147ed2974457ad6372750bbe5751\n",
      "\n",
      "  sns.distplot(np.log(df['Price_NRS']))\n"
     ]
    },
    {
     "data": {
      "text/plain": [
       "<AxesSubplot: xlabel='Price_NRS', ylabel='Density'>"
      ]
     },
     "execution_count": 157,
     "metadata": {},
     "output_type": "execute_result"
    },
    {
     "data": {
      "image/png": "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\n",
      "text/plain": [
       "<Figure size 432x288 with 1 Axes>"
      ]
     },
     "metadata": {
      "needs_background": "light"
     },
     "output_type": "display_data"
    }
   ],
   "source": [
    "sns.distplot(np.log(df['Price_NRS']))"
   ]
  },
  {
   "cell_type": "code",
   "execution_count": 158,
   "metadata": {
    "id": "mUFhh6jQ-Tgx"
   },
   "outputs": [],
   "source": [
    "y = np.log(df['Price_NRS'])\n",
    "X = df.drop(columns = ['Price_NRS'])"
   ]
  },
  {
   "cell_type": "code",
   "execution_count": 159,
   "metadata": {
    "colab": {
     "base_uri": "https://localhost:8080/",
     "height": 206
    },
    "id": "IbnML5to-q6f",
    "outputId": "eb6f55ac-fb6d-4d60-f33d-0d2ef45a9250"
   },
   "outputs": [
    {
     "data": {
      "text/html": [
       "<div>\n",
       "<style scoped>\n",
       "    .dataframe tbody tr th:only-of-type {\n",
       "        vertical-align: middle;\n",
       "    }\n",
       "\n",
       "    .dataframe tbody tr th {\n",
       "        vertical-align: top;\n",
       "    }\n",
       "\n",
       "    .dataframe thead th {\n",
       "        text-align: right;\n",
       "    }\n",
       "</style>\n",
       "<table border=\"1\" class=\"dataframe\">\n",
       "  <thead>\n",
       "    <tr style=\"text-align: right;\">\n",
       "      <th></th>\n",
       "      <th>Company</th>\n",
       "      <th>TypeName</th>\n",
       "      <th>Ram</th>\n",
       "      <th>Weight</th>\n",
       "      <th>TouchScreen</th>\n",
       "      <th>IPS</th>\n",
       "      <th>ppi</th>\n",
       "      <th>CPU Brand</th>\n",
       "      <th>HDD</th>\n",
       "      <th>SSD</th>\n",
       "      <th>Gpu Brand</th>\n",
       "      <th>OS</th>\n",
       "    </tr>\n",
       "  </thead>\n",
       "  <tbody>\n",
       "    <tr>\n",
       "      <th>0</th>\n",
       "      <td>Apple</td>\n",
       "      <td>Ultrabook</td>\n",
       "      <td>8</td>\n",
       "      <td>1.37</td>\n",
       "      <td>0</td>\n",
       "      <td>1</td>\n",
       "      <td>226.983005</td>\n",
       "      <td>Intel Core i5</td>\n",
       "      <td>0</td>\n",
       "      <td>1</td>\n",
       "      <td>Intel</td>\n",
       "      <td>Mac</td>\n",
       "    </tr>\n",
       "    <tr>\n",
       "      <th>1</th>\n",
       "      <td>Apple</td>\n",
       "      <td>Ultrabook</td>\n",
       "      <td>8</td>\n",
       "      <td>1.34</td>\n",
       "      <td>0</td>\n",
       "      <td>0</td>\n",
       "      <td>127.677940</td>\n",
       "      <td>Intel Core i5</td>\n",
       "      <td>0</td>\n",
       "      <td>0</td>\n",
       "      <td>Intel</td>\n",
       "      <td>Mac</td>\n",
       "    </tr>\n",
       "    <tr>\n",
       "      <th>2</th>\n",
       "      <td>HP</td>\n",
       "      <td>Notebook</td>\n",
       "      <td>8</td>\n",
       "      <td>1.86</td>\n",
       "      <td>0</td>\n",
       "      <td>0</td>\n",
       "      <td>141.211998</td>\n",
       "      <td>Intel Core i5</td>\n",
       "      <td>0</td>\n",
       "      <td>1</td>\n",
       "      <td>Intel</td>\n",
       "      <td>Other/None/Linux</td>\n",
       "    </tr>\n",
       "    <tr>\n",
       "      <th>3</th>\n",
       "      <td>Apple</td>\n",
       "      <td>Ultrabook</td>\n",
       "      <td>16</td>\n",
       "      <td>1.83</td>\n",
       "      <td>0</td>\n",
       "      <td>1</td>\n",
       "      <td>220.534624</td>\n",
       "      <td>Intel Core i7</td>\n",
       "      <td>0</td>\n",
       "      <td>1</td>\n",
       "      <td>AMD</td>\n",
       "      <td>Mac</td>\n",
       "    </tr>\n",
       "    <tr>\n",
       "      <th>4</th>\n",
       "      <td>Apple</td>\n",
       "      <td>Ultrabook</td>\n",
       "      <td>8</td>\n",
       "      <td>1.37</td>\n",
       "      <td>0</td>\n",
       "      <td>1</td>\n",
       "      <td>226.983005</td>\n",
       "      <td>Intel Core i5</td>\n",
       "      <td>0</td>\n",
       "      <td>1</td>\n",
       "      <td>Intel</td>\n",
       "      <td>Mac</td>\n",
       "    </tr>\n",
       "  </tbody>\n",
       "</table>\n",
       "</div>"
      ],
      "text/plain": [
       "  Company   TypeName  Ram  Weight  TouchScreen  IPS         ppi  \\\n",
       "0   Apple  Ultrabook    8    1.37            0    1  226.983005   \n",
       "1   Apple  Ultrabook    8    1.34            0    0  127.677940   \n",
       "2      HP   Notebook    8    1.86            0    0  141.211998   \n",
       "3   Apple  Ultrabook   16    1.83            0    1  220.534624   \n",
       "4   Apple  Ultrabook    8    1.37            0    1  226.983005   \n",
       "\n",
       "       CPU Brand  HDD  SSD Gpu Brand                OS  \n",
       "0  Intel Core i5    0    1     Intel               Mac  \n",
       "1  Intel Core i5    0    0     Intel               Mac  \n",
       "2  Intel Core i5    0    1     Intel  Other/None/Linux  \n",
       "3  Intel Core i7    0    1       AMD               Mac  \n",
       "4  Intel Core i5    0    1     Intel               Mac  "
      ]
     },
     "execution_count": 159,
     "metadata": {},
     "output_type": "execute_result"
    }
   ],
   "source": [
    "X.head()"
   ]
  },
  {
   "cell_type": "code",
   "execution_count": 160,
   "metadata": {
    "colab": {
     "base_uri": "https://localhost:8080/"
    },
    "id": "M_QOlEpQ-tVJ",
    "outputId": "49327ba8-346c-41d9-be41-242d29015652"
   },
   "outputs": [
    {
     "data": {
      "text/plain": [
       "0       11.645758\n",
       "1       11.246781\n",
       "2       10.799935\n",
       "3       12.284480\n",
       "4       11.943105\n",
       "          ...    \n",
       "1298    10.903903\n",
       "1299    11.758118\n",
       "1300     9.879287\n",
       "1301    11.084132\n",
       "1302    10.356361\n",
       "Name: Price_NRS, Length: 1303, dtype: float64"
      ]
     },
     "execution_count": 160,
     "metadata": {},
     "output_type": "execute_result"
    }
   ],
   "source": [
    "y"
   ]
  },
  {
   "cell_type": "code",
   "execution_count": 163,
   "metadata": {},
   "outputs": [
    {
     "name": "stdout",
     "output_type": "stream",
     "text": [
      "Defaulting to user installation because normal site-packages is not writeable\n",
      "Collecting scikit-learn\n",
      "  Using cached scikit_learn-1.2.0-cp311-cp311-manylinux_2_17_x86_64.manylinux2014_x86_64.whl (9.5 MB)\n",
      "Requirement already satisfied: numpy>=1.17.3 in /home/karx/.local/lib/python3.11/site-packages (from scikit-learn) (1.23.5)\n",
      "Requirement already satisfied: scipy>=1.3.2 in /usr/lib64/python3.11/site-packages (from scikit-learn) (1.8.1)\n",
      "Collecting joblib>=1.1.1\n",
      "  Using cached joblib-1.2.0-py3-none-any.whl (297 kB)\n",
      "Collecting threadpoolctl>=2.0.0\n",
      "  Using cached threadpoolctl-3.1.0-py3-none-any.whl (14 kB)\n",
      "Installing collected packages: threadpoolctl, joblib, scikit-learn\n",
      "Successfully installed joblib-1.2.0 scikit-learn-1.2.0 threadpoolctl-3.1.0\n"
     ]
    }
   ],
   "source": [
    "!pip install scikit-learn"
   ]
  },
  {
   "cell_type": "code",
   "execution_count": 164,
   "metadata": {
    "id": "l7C_W-0i_MLe"
   },
   "outputs": [],
   "source": [
    "from sklearn.model_selection import train_test_split\n",
    "X_train, X_test, y_train, y_test = train_test_split(X, y, test_size= 0.15, random_state=2)"
   ]
  },
  {
   "cell_type": "code",
   "execution_count": 165,
   "metadata": {
    "colab": {
     "base_uri": "https://localhost:8080/",
     "height": 468
    },
    "id": "W_KyQH9J_oyq",
    "outputId": "644aff55-e729-46ee-e5e8-04a9937c1f31",
    "scrolled": true
   },
   "outputs": [
    {
     "data": {
      "text/html": [
       "<div>\n",
       "<style scoped>\n",
       "    .dataframe tbody tr th:only-of-type {\n",
       "        vertical-align: middle;\n",
       "    }\n",
       "\n",
       "    .dataframe tbody tr th {\n",
       "        vertical-align: top;\n",
       "    }\n",
       "\n",
       "    .dataframe thead th {\n",
       "        text-align: right;\n",
       "    }\n",
       "</style>\n",
       "<table border=\"1\" class=\"dataframe\">\n",
       "  <thead>\n",
       "    <tr style=\"text-align: right;\">\n",
       "      <th></th>\n",
       "      <th>Company</th>\n",
       "      <th>TypeName</th>\n",
       "      <th>Ram</th>\n",
       "      <th>Weight</th>\n",
       "      <th>TouchScreen</th>\n",
       "      <th>IPS</th>\n",
       "      <th>ppi</th>\n",
       "      <th>CPU Brand</th>\n",
       "      <th>HDD</th>\n",
       "      <th>SSD</th>\n",
       "      <th>Gpu Brand</th>\n",
       "      <th>OS</th>\n",
       "    </tr>\n",
       "  </thead>\n",
       "  <tbody>\n",
       "    <tr>\n",
       "      <th>183</th>\n",
       "      <td>Toshiba</td>\n",
       "      <td>Notebook</td>\n",
       "      <td>8</td>\n",
       "      <td>2.00</td>\n",
       "      <td>0</td>\n",
       "      <td>0</td>\n",
       "      <td>100.454670</td>\n",
       "      <td>Intel Core i5</td>\n",
       "      <td>0</td>\n",
       "      <td>1</td>\n",
       "      <td>Intel</td>\n",
       "      <td>Windows</td>\n",
       "    </tr>\n",
       "    <tr>\n",
       "      <th>699</th>\n",
       "      <td>HP</td>\n",
       "      <td>Notebook</td>\n",
       "      <td>4</td>\n",
       "      <td>2.10</td>\n",
       "      <td>0</td>\n",
       "      <td>1</td>\n",
       "      <td>141.211998</td>\n",
       "      <td>Intel Core i7</td>\n",
       "      <td>1</td>\n",
       "      <td>0</td>\n",
       "      <td>AMD</td>\n",
       "      <td>Windows</td>\n",
       "    </tr>\n",
       "    <tr>\n",
       "      <th>419</th>\n",
       "      <td>Lenovo</td>\n",
       "      <td>Ultrabook</td>\n",
       "      <td>8</td>\n",
       "      <td>1.75</td>\n",
       "      <td>0</td>\n",
       "      <td>1</td>\n",
       "      <td>157.350512</td>\n",
       "      <td>Intel Core i7</td>\n",
       "      <td>0</td>\n",
       "      <td>1</td>\n",
       "      <td>AMD</td>\n",
       "      <td>Windows</td>\n",
       "    </tr>\n",
       "    <tr>\n",
       "      <th>997</th>\n",
       "      <td>Acer</td>\n",
       "      <td>Notebook</td>\n",
       "      <td>4</td>\n",
       "      <td>2.40</td>\n",
       "      <td>0</td>\n",
       "      <td>0</td>\n",
       "      <td>100.454670</td>\n",
       "      <td>Other Intel Processor</td>\n",
       "      <td>1</td>\n",
       "      <td>0</td>\n",
       "      <td>Intel</td>\n",
       "      <td>Windows</td>\n",
       "    </tr>\n",
       "    <tr>\n",
       "      <th>502</th>\n",
       "      <td>Lenovo</td>\n",
       "      <td>2 in 1 Convertible</td>\n",
       "      <td>8</td>\n",
       "      <td>1.40</td>\n",
       "      <td>1</td>\n",
       "      <td>1</td>\n",
       "      <td>158.482530</td>\n",
       "      <td>Intel Core i5</td>\n",
       "      <td>0</td>\n",
       "      <td>1</td>\n",
       "      <td>Intel</td>\n",
       "      <td>Windows</td>\n",
       "    </tr>\n",
       "    <tr>\n",
       "      <th>...</th>\n",
       "      <td>...</td>\n",
       "      <td>...</td>\n",
       "      <td>...</td>\n",
       "      <td>...</td>\n",
       "      <td>...</td>\n",
       "      <td>...</td>\n",
       "      <td>...</td>\n",
       "      <td>...</td>\n",
       "      <td>...</td>\n",
       "      <td>...</td>\n",
       "      <td>...</td>\n",
       "      <td>...</td>\n",
       "    </tr>\n",
       "    <tr>\n",
       "      <th>466</th>\n",
       "      <td>Acer</td>\n",
       "      <td>Notebook</td>\n",
       "      <td>4</td>\n",
       "      <td>2.20</td>\n",
       "      <td>0</td>\n",
       "      <td>0</td>\n",
       "      <td>100.454670</td>\n",
       "      <td>Intel Core i3</td>\n",
       "      <td>1</td>\n",
       "      <td>0</td>\n",
       "      <td>Nvidia</td>\n",
       "      <td>Windows</td>\n",
       "    </tr>\n",
       "    <tr>\n",
       "      <th>299</th>\n",
       "      <td>Asus</td>\n",
       "      <td>Ultrabook</td>\n",
       "      <td>16</td>\n",
       "      <td>1.63</td>\n",
       "      <td>0</td>\n",
       "      <td>0</td>\n",
       "      <td>141.211998</td>\n",
       "      <td>Intel Core i7</td>\n",
       "      <td>0</td>\n",
       "      <td>1</td>\n",
       "      <td>Nvidia</td>\n",
       "      <td>Windows</td>\n",
       "    </tr>\n",
       "    <tr>\n",
       "      <th>493</th>\n",
       "      <td>Acer</td>\n",
       "      <td>Notebook</td>\n",
       "      <td>8</td>\n",
       "      <td>2.20</td>\n",
       "      <td>0</td>\n",
       "      <td>0</td>\n",
       "      <td>100.454670</td>\n",
       "      <td>AMD Processor</td>\n",
       "      <td>1</td>\n",
       "      <td>0</td>\n",
       "      <td>AMD</td>\n",
       "      <td>Windows</td>\n",
       "    </tr>\n",
       "    <tr>\n",
       "      <th>527</th>\n",
       "      <td>Lenovo</td>\n",
       "      <td>Notebook</td>\n",
       "      <td>8</td>\n",
       "      <td>2.20</td>\n",
       "      <td>0</td>\n",
       "      <td>0</td>\n",
       "      <td>100.454670</td>\n",
       "      <td>Intel Core i3</td>\n",
       "      <td>1</td>\n",
       "      <td>0</td>\n",
       "      <td>Nvidia</td>\n",
       "      <td>Other/None/Linux</td>\n",
       "    </tr>\n",
       "    <tr>\n",
       "      <th>1192</th>\n",
       "      <td>HP</td>\n",
       "      <td>Notebook</td>\n",
       "      <td>4</td>\n",
       "      <td>1.86</td>\n",
       "      <td>0</td>\n",
       "      <td>0</td>\n",
       "      <td>100.454670</td>\n",
       "      <td>Intel Core i5</td>\n",
       "      <td>1</td>\n",
       "      <td>0</td>\n",
       "      <td>Intel</td>\n",
       "      <td>Windows</td>\n",
       "    </tr>\n",
       "  </tbody>\n",
       "</table>\n",
       "<p>1107 rows × 12 columns</p>\n",
       "</div>"
      ],
      "text/plain": [
       "      Company            TypeName  Ram  Weight  TouchScreen  IPS         ppi  \\\n",
       "183   Toshiba            Notebook    8    2.00            0    0  100.454670   \n",
       "699        HP            Notebook    4    2.10            0    1  141.211998   \n",
       "419    Lenovo           Ultrabook    8    1.75            0    1  157.350512   \n",
       "997      Acer            Notebook    4    2.40            0    0  100.454670   \n",
       "502    Lenovo  2 in 1 Convertible    8    1.40            1    1  158.482530   \n",
       "...       ...                 ...  ...     ...          ...  ...         ...   \n",
       "466      Acer            Notebook    4    2.20            0    0  100.454670   \n",
       "299      Asus           Ultrabook   16    1.63            0    0  141.211998   \n",
       "493      Acer            Notebook    8    2.20            0    0  100.454670   \n",
       "527    Lenovo            Notebook    8    2.20            0    0  100.454670   \n",
       "1192       HP            Notebook    4    1.86            0    0  100.454670   \n",
       "\n",
       "                  CPU Brand  HDD  SSD Gpu Brand                OS  \n",
       "183           Intel Core i5    0    1     Intel           Windows  \n",
       "699           Intel Core i7    1    0       AMD           Windows  \n",
       "419           Intel Core i7    0    1       AMD           Windows  \n",
       "997   Other Intel Processor    1    0     Intel           Windows  \n",
       "502           Intel Core i5    0    1     Intel           Windows  \n",
       "...                     ...  ...  ...       ...               ...  \n",
       "466           Intel Core i3    1    0    Nvidia           Windows  \n",
       "299           Intel Core i7    0    1    Nvidia           Windows  \n",
       "493           AMD Processor    1    0       AMD           Windows  \n",
       "527           Intel Core i3    1    0    Nvidia  Other/None/Linux  \n",
       "1192          Intel Core i5    1    0     Intel           Windows  \n",
       "\n",
       "[1107 rows x 12 columns]"
      ]
     },
     "execution_count": 165,
     "metadata": {},
     "output_type": "execute_result"
    }
   ],
   "source": [
    "X_train"
   ]
  },
  {
   "cell_type": "code",
   "execution_count": 166,
   "metadata": {
    "id": "qwynPhyY_r02"
   },
   "outputs": [],
   "source": [
    "from sklearn.compose import ColumnTransformer\n",
    "from sklearn.pipeline import Pipeline\n",
    "from sklearn.preprocessing import OneHotEncoder\n",
    "from sklearn.metrics import r2_score,mean_absolute_error"
   ]
  },
  {
   "cell_type": "code",
   "execution_count": 171,
   "metadata": {},
   "outputs": [
    {
     "name": "stdout",
     "output_type": "stream",
     "text": [
      "Defaulting to user installation because normal site-packages is not writeable\n",
      "Collecting xgboost\n",
      "  Downloading xgboost-1.7.2-py3-none-manylinux2014_x86_64.whl (193.6 MB)\n",
      "\u001b[2K     \u001b[38;2;114;156;31m━━━━━━━━━━━━━━━━━━━━━━━━━━━━━━━━━━━━━━━\u001b[0m \u001b[32m193.6/193.6 MB\u001b[0m \u001b[31m1.2 MB/s\u001b[0m eta \u001b[36m0:00:00\u001b[0mm eta \u001b[36m0:00:01\u001b[0m[36m0:00:01\u001b[0m\n",
      "\u001b[?25hRequirement already satisfied: numpy in /home/karx/.local/lib/python3.11/site-packages (from xgboost) (1.23.5)\n",
      "Requirement already satisfied: scipy in /usr/lib64/python3.11/site-packages (from xgboost) (1.8.1)\n",
      "Installing collected packages: xgboost\n",
      "Successfully installed xgboost-1.7.2\n"
     ]
    }
   ],
   "source": [
    "\n",
    "!pip install xgboost"
   ]
  },
  {
   "cell_type": "code",
   "execution_count": 173,
   "metadata": {
    "id": "18IDRT3XuuoU",
    "scrolled": true
   },
   "outputs": [],
   "source": [
    "from sklearn.linear_model import LinearRegression,Ridge\n",
    "from sklearn.neighbors import KNeighborsRegressor\n",
    "from sklearn.tree import DecisionTreeRegressor\n",
    "from sklearn.ensemble import RandomForestRegressor,GradientBoostingRegressor,AdaBoostRegressor,ExtraTreesRegressor\n",
    "from xgboost import XGBRegressor"
   ]
  },
  {
   "cell_type": "markdown",
   "metadata": {
    "id": "gQUR090KwNkw"
   },
   "source": [
    "### **Linear Regression**"
   ]
  },
  {
   "cell_type": "code",
   "execution_count": 174,
   "metadata": {
    "colab": {
     "base_uri": "https://localhost:8080/"
    },
    "id": "10JaSrVHrcHl",
    "outputId": "07be7f68-4061-4931-e7e9-7efce1e94625"
   },
   "outputs": [
    {
     "name": "stdout",
     "output_type": "stream",
     "text": [
      "R2 Score 0.8204156623529568\n",
      "MAE Score 0.2120246186829874\n"
     ]
    }
   ],
   "source": [
    "step1 = ColumnTransformer(transformers=[\n",
    "                                ('col_tnf', OneHotEncoder(sparse_output=False, drop='first'), [0, 1, 7, 10, 11])\n",
    "                                ], remainder= 'passthrough')\n",
    "\n",
    "step2 = LinearRegression()\n",
    "pipe = Pipeline([\n",
    "  ('step1', step1),\n",
    "  ('step2', step2)\n",
    "])\n",
    "\n",
    "pipe.fit(X_train, y_train)\n",
    "y_pred = pipe.predict(X_test)\n",
    "print('R2 Score', r2_score(y_test, y_pred))\n",
    "print('MAE Score', mean_absolute_error(y_test, y_pred))"
   ]
  },
  {
   "cell_type": "markdown",
   "metadata": {
    "id": "V3BuwG-Iweek"
   },
   "source": [
    "### **Ridge Regression**"
   ]
  },
  {
   "cell_type": "code",
   "execution_count": 175,
   "metadata": {
    "colab": {
     "base_uri": "https://localhost:8080/"
    },
    "id": "whdHyrlOwDDY",
    "outputId": "61c79d63-7a39-4960-8c92-8cd9b961fd80"
   },
   "outputs": [
    {
     "name": "stdout",
     "output_type": "stream",
     "text": [
      "R2 Score 0.8133096564718668\n",
      "MAE Score 0.2166127476614578\n"
     ]
    }
   ],
   "source": [
    "step1 = ColumnTransformer(transformers=[\n",
    "                                ('col_tnf', OneHotEncoder(sparse_output=False, drop='first'), [0, 1, 7, 10, 11])\n",
    "                                ], remainder= 'passthrough')\n",
    "\n",
    "step2 = Ridge(alpha=15)\n",
    "pipe = Pipeline([\n",
    "  ('step1', step1),\n",
    "  ('step2', step2)\n",
    "])\n",
    "\n",
    "pipe.fit(X_train, y_train)\n",
    "y_pred = pipe.predict(X_test)\n",
    "print('R2 Score', r2_score(y_test, y_pred))\n",
    "print('MAE Score', mean_absolute_error(y_test, y_pred))"
   ]
  },
  {
   "cell_type": "code",
   "execution_count": 176,
   "metadata": {
    "colab": {
     "base_uri": "https://localhost:8080/"
    },
    "id": "D5AgVw-Rw0f0",
    "outputId": "bfb0c468-10ca-4e60-ca1d-49f6570e8c01"
   },
   "outputs": [
    {
     "name": "stdout",
     "output_type": "stream",
     "text": [
      "R2 Score 0.8244564660436664\n",
      "MAE Score 0.19129519037809173\n"
     ]
    }
   ],
   "source": [
    "\n",
    "step1 = ColumnTransformer(transformers=[\n",
    "                                ('col_tnf', OneHotEncoder(sparse_output=False, drop='first'), [0, 1, 7, 10, 11])\n",
    "                                ], remainder= 'passthrough')\n",
    "\n",
    "step2 = KNeighborsRegressor(n_neighbors=4)\n",
    "pipe = Pipeline([\n",
    "  ('step1', step1),\n",
    "  ('step2', step2)\n",
    "])\n",
    "\n",
    "pipe.fit(X_train, y_train)\n",
    "y_pred = pipe.predict(X_test)\n",
    "print('R2 Score', r2_score(y_test, y_pred))\n",
    "print('MAE Score', mean_absolute_error(y_test, y_pred))"
   ]
  },
  {
   "cell_type": "code",
   "execution_count": 177,
   "metadata": {
    "colab": {
     "base_uri": "https://localhost:8080/"
    },
    "id": "oT7T6VdOxdv_",
    "outputId": "acfcc578-63cd-4728-8d89-3a6aa532356c"
   },
   "outputs": [
    {
     "name": "stdout",
     "output_type": "stream",
     "text": [
      "R2 Score 0.8348115472957194\n",
      "MAE Score 0.1884344708377924\n"
     ]
    }
   ],
   "source": [
    "step1 = ColumnTransformer(transformers=[\n",
    "                                ('col_tnf', OneHotEncoder(sparse_output=False, drop='first'), [0, 1, 7, 10, 11])\n",
    "                                ], remainder= 'passthrough')\n",
    "\n",
    "step2 = DecisionTreeRegressor(max_depth=15)\n",
    "pipe = Pipeline([\n",
    "  ('step1', step1),\n",
    "  ('step2', step2)\n",
    "])\n",
    "\n",
    "pipe.fit(X_train, y_train)\n",
    "y_pred = pipe.predict(X_test)\n",
    "print('R2 Score', r2_score(y_test, y_pred))\n",
    "print('MAE Score', mean_absolute_error(y_test, y_pred))"
   ]
  },
  {
   "cell_type": "markdown",
   "metadata": {
    "id": "f4OgBga-GCan"
   },
   "source": [
    "### **Random Forest**"
   ]
  },
  {
   "cell_type": "code",
   "execution_count": 185,
   "metadata": {
    "colab": {
     "base_uri": "https://localhost:8080/"
    },
    "id": "fl-zN3akF__M",
    "outputId": "7ae0f63d-3c11-4fdb-93cd-c6420a478ab8"
   },
   "outputs": [
    {
     "name": "stdout",
     "output_type": "stream",
     "text": [
      "R2 score 0.8833637087988568\n",
      "MAE 0.16039529581571163\n"
     ]
    }
   ],
   "source": [
    "step1 = ColumnTransformer(transformers=[\n",
    "    ('col_tnf',OneHotEncoder(sparse_output=False,drop='first'),[0,1,7,10,11])\n",
    "],remainder='passthrough')\n",
    "\n",
    "step2 = RandomForestRegressor(n_estimators=100,\n",
    "                              random_state=3,\n",
    "                              max_samples=0.5,\n",
    "                              max_features=0.75,\n",
    "                              max_depth=16)\n",
    "\n",
    "pipe = Pipeline([\n",
    "    ('step1',step1),\n",
    "    ('step2',step2)\n",
    "])\n",
    "\n",
    "pipe.fit(X_train,y_train)\n",
    "\n",
    "y_pred = pipe.predict(X_test)\n",
    "\n",
    "print('R2 score',r2_score(y_test,y_pred))\n",
    "print('MAE',mean_absolute_error(y_test,y_pred))"
   ]
  },
  {
   "cell_type": "markdown",
   "metadata": {
    "id": "gb9a5f_ZHw_v"
   },
   "source": [
    "### **Voting Regressor**"
   ]
  },
  {
   "cell_type": "code",
   "execution_count": 182,
   "metadata": {
    "colab": {
     "base_uri": "https://localhost:8080/"
    },
    "id": "J7XMySmExutE",
    "outputId": "089851ce-282d-4bff-92c0-e90aa04610ae"
   },
   "outputs": [
    {
     "name": "stdout",
     "output_type": "stream",
     "text": [
      "R2 score 0.884677090278224\n",
      "MAE 0.16141225318203042\n"
     ]
    }
   ],
   "source": [
    "from sklearn.ensemble import VotingRegressor,StackingRegressor\n",
    "step1 = ColumnTransformer(transformers=[\n",
    "                                ('col_tnf', OneHotEncoder(sparse_output=False, drop='first'), [0, 1, 7, 10, 11])\n",
    "                                ], remainder= 'passthrough')\n",
    "rf = RandomForestRegressor(n_estimators=350,random_state=3,max_samples=0.5,max_features=0.75,max_depth=15)\n",
    "gbdt = GradientBoostingRegressor(n_estimators=100,max_features=0.5)\n",
    "xgb = XGBRegressor(n_estimators=25,learning_rate=0.3,max_depth=5)\n",
    "et = ExtraTreesRegressor(n_estimators=100,random_state=3,max_features=0.75,max_depth=10)\n",
    "\n",
    "step2 = VotingRegressor([('rf', rf), ('gbdt', gbdt), ('xgb',xgb), ('et',et)],weights=[5,1,1,1])\n",
    "\n",
    "pipe = Pipeline([\n",
    "    ('step1',step1),\n",
    "    ('step2',step2)\n",
    "])\n",
    "\n",
    "pipe.fit(X_train,y_train)\n",
    "\n",
    "y_pred = pipe.predict(X_test)\n",
    "\n",
    "print('R2 score',r2_score(y_test,y_pred))\n",
    "print('MAE',mean_absolute_error(y_test,y_pred))"
   ]
  },
  {
   "cell_type": "code",
   "execution_count": 186,
   "metadata": {
    "id": "coP_CDw-HYb0"
   },
   "outputs": [],
   "source": [
    "import pickle"
   ]
  },
  {
   "cell_type": "code",
   "execution_count": 187,
   "metadata": {
    "id": "dAb1EKWgHbXj"
   },
   "outputs": [],
   "source": [
    "pickle.dump(df,open('df.pkl', 'wb'))\n",
    "pickle.dump(pipe,open('pipe.pkl', 'wb'))"
   ]
  },
  {
   "cell_type": "code",
   "execution_count": null,
   "metadata": {},
   "outputs": [],
   "source": []
  }
 ],
 "metadata": {
  "colab": {
   "provenance": []
  },
  "kernelspec": {
   "display_name": "Python 3 (ipykernel)",
   "language": "python",
   "name": "python3"
  },
  "language_info": {
   "codemirror_mode": {
    "name": "ipython",
    "version": 3
   },
   "file_extension": ".py",
   "mimetype": "text/x-python",
   "name": "python",
   "nbconvert_exporter": "python",
   "pygments_lexer": "ipython3",
   "version": "3.11.1"
  }
 },
 "nbformat": 4,
 "nbformat_minor": 1
}
>>>>>>> master
